{
  "nbformat": 4,
  "nbformat_minor": 0,
  "metadata": {
    "colab": {
      "provenance": [],
      "gpuType": "T4",
      "authorship_tag": "ABX9TyNCiPvFTGNmyjkyQehCl1q8",
      "include_colab_link": true
    },
    "kernelspec": {
      "name": "python3",
      "display_name": "Python 3"
    },
    "language_info": {
      "name": "python"
    },
    "accelerator": "GPU"
  },
  "cells": [
    {
      "cell_type": "markdown",
      "metadata": {
        "id": "view-in-github",
        "colab_type": "text"
      },
      "source": [
        "<a href=\"https://colab.research.google.com/github/Asilbek1420/RestaurantTest/blob/main/ReastaurantTest.ipynb\" target=\"_parent\"><img src=\"https://colab.research.google.com/assets/colab-badge.svg\" alt=\"Open In Colab\"/></a>"
      ]
    },
    {
      "cell_type": "code",
      "execution_count": 4,
      "metadata": {
        "colab": {
          "base_uri": "https://localhost:8080/"
        },
        "id": "iIr59hRZ90ce",
        "outputId": "e346e1e8-81d4-42c6-fe9d-6f1a6fdbe7f2"
      },
      "outputs": [
        {
          "output_type": "stream",
          "name": "stdout",
          "text": [
            "Requirement already satisfied: ultralytics in /usr/local/lib/python3.11/dist-packages (8.3.168)\n",
            "Requirement already satisfied: numpy>=1.23.0 in /usr/local/lib/python3.11/dist-packages (from ultralytics) (2.0.2)\n",
            "Requirement already satisfied: matplotlib>=3.3.0 in /usr/local/lib/python3.11/dist-packages (from ultralytics) (3.10.0)\n",
            "Requirement already satisfied: opencv-python>=4.6.0 in /usr/local/lib/python3.11/dist-packages (from ultralytics) (4.11.0.86)\n",
            "Requirement already satisfied: pillow>=7.1.2 in /usr/local/lib/python3.11/dist-packages (from ultralytics) (11.2.1)\n",
            "Requirement already satisfied: pyyaml>=5.3.1 in /usr/local/lib/python3.11/dist-packages (from ultralytics) (6.0.2)\n",
            "Requirement already satisfied: requests>=2.23.0 in /usr/local/lib/python3.11/dist-packages (from ultralytics) (2.32.3)\n",
            "Requirement already satisfied: scipy>=1.4.1 in /usr/local/lib/python3.11/dist-packages (from ultralytics) (1.15.3)\n",
            "Requirement already satisfied: torch>=1.8.0 in /usr/local/lib/python3.11/dist-packages (from ultralytics) (2.6.0+cu124)\n",
            "Requirement already satisfied: torchvision>=0.9.0 in /usr/local/lib/python3.11/dist-packages (from ultralytics) (0.21.0+cu124)\n",
            "Requirement already satisfied: tqdm>=4.64.0 in /usr/local/lib/python3.11/dist-packages (from ultralytics) (4.67.1)\n",
            "Requirement already satisfied: psutil in /usr/local/lib/python3.11/dist-packages (from ultralytics) (5.9.5)\n",
            "Requirement already satisfied: py-cpuinfo in /usr/local/lib/python3.11/dist-packages (from ultralytics) (9.0.0)\n",
            "Requirement already satisfied: pandas>=1.1.4 in /usr/local/lib/python3.11/dist-packages (from ultralytics) (2.2.2)\n",
            "Requirement already satisfied: ultralytics-thop>=2.0.0 in /usr/local/lib/python3.11/dist-packages (from ultralytics) (2.0.14)\n",
            "Requirement already satisfied: contourpy>=1.0.1 in /usr/local/lib/python3.11/dist-packages (from matplotlib>=3.3.0->ultralytics) (1.3.2)\n",
            "Requirement already satisfied: cycler>=0.10 in /usr/local/lib/python3.11/dist-packages (from matplotlib>=3.3.0->ultralytics) (0.12.1)\n",
            "Requirement already satisfied: fonttools>=4.22.0 in /usr/local/lib/python3.11/dist-packages (from matplotlib>=3.3.0->ultralytics) (4.58.5)\n",
            "Requirement already satisfied: kiwisolver>=1.3.1 in /usr/local/lib/python3.11/dist-packages (from matplotlib>=3.3.0->ultralytics) (1.4.8)\n",
            "Requirement already satisfied: packaging>=20.0 in /usr/local/lib/python3.11/dist-packages (from matplotlib>=3.3.0->ultralytics) (25.0)\n",
            "Requirement already satisfied: pyparsing>=2.3.1 in /usr/local/lib/python3.11/dist-packages (from matplotlib>=3.3.0->ultralytics) (3.2.3)\n",
            "Requirement already satisfied: python-dateutil>=2.7 in /usr/local/lib/python3.11/dist-packages (from matplotlib>=3.3.0->ultralytics) (2.9.0.post0)\n",
            "Requirement already satisfied: pytz>=2020.1 in /usr/local/lib/python3.11/dist-packages (from pandas>=1.1.4->ultralytics) (2025.2)\n",
            "Requirement already satisfied: tzdata>=2022.7 in /usr/local/lib/python3.11/dist-packages (from pandas>=1.1.4->ultralytics) (2025.2)\n",
            "Requirement already satisfied: charset-normalizer<4,>=2 in /usr/local/lib/python3.11/dist-packages (from requests>=2.23.0->ultralytics) (3.4.2)\n",
            "Requirement already satisfied: idna<4,>=2.5 in /usr/local/lib/python3.11/dist-packages (from requests>=2.23.0->ultralytics) (3.7)\n",
            "Requirement already satisfied: urllib3<3,>=1.21.1 in /usr/local/lib/python3.11/dist-packages (from requests>=2.23.0->ultralytics) (2.4.0)\n",
            "Requirement already satisfied: certifi>=2017.4.17 in /usr/local/lib/python3.11/dist-packages (from requests>=2.23.0->ultralytics) (2025.7.14)\n",
            "Requirement already satisfied: filelock in /usr/local/lib/python3.11/dist-packages (from torch>=1.8.0->ultralytics) (3.18.0)\n",
            "Requirement already satisfied: typing-extensions>=4.10.0 in /usr/local/lib/python3.11/dist-packages (from torch>=1.8.0->ultralytics) (4.14.1)\n",
            "Requirement already satisfied: networkx in /usr/local/lib/python3.11/dist-packages (from torch>=1.8.0->ultralytics) (3.5)\n",
            "Requirement already satisfied: jinja2 in /usr/local/lib/python3.11/dist-packages (from torch>=1.8.0->ultralytics) (3.1.6)\n",
            "Requirement already satisfied: fsspec in /usr/local/lib/python3.11/dist-packages (from torch>=1.8.0->ultralytics) (2025.3.2)\n",
            "Requirement already satisfied: nvidia-cuda-nvrtc-cu12==12.4.127 in /usr/local/lib/python3.11/dist-packages (from torch>=1.8.0->ultralytics) (12.4.127)\n",
            "Requirement already satisfied: nvidia-cuda-runtime-cu12==12.4.127 in /usr/local/lib/python3.11/dist-packages (from torch>=1.8.0->ultralytics) (12.4.127)\n",
            "Requirement already satisfied: nvidia-cuda-cupti-cu12==12.4.127 in /usr/local/lib/python3.11/dist-packages (from torch>=1.8.0->ultralytics) (12.4.127)\n",
            "Requirement already satisfied: nvidia-cudnn-cu12==9.1.0.70 in /usr/local/lib/python3.11/dist-packages (from torch>=1.8.0->ultralytics) (9.1.0.70)\n",
            "Requirement already satisfied: nvidia-cublas-cu12==12.4.5.8 in /usr/local/lib/python3.11/dist-packages (from torch>=1.8.0->ultralytics) (12.4.5.8)\n",
            "Requirement already satisfied: nvidia-cufft-cu12==11.2.1.3 in /usr/local/lib/python3.11/dist-packages (from torch>=1.8.0->ultralytics) (11.2.1.3)\n",
            "Requirement already satisfied: nvidia-curand-cu12==10.3.5.147 in /usr/local/lib/python3.11/dist-packages (from torch>=1.8.0->ultralytics) (10.3.5.147)\n",
            "Requirement already satisfied: nvidia-cusolver-cu12==11.6.1.9 in /usr/local/lib/python3.11/dist-packages (from torch>=1.8.0->ultralytics) (11.6.1.9)\n",
            "Requirement already satisfied: nvidia-cusparse-cu12==12.3.1.170 in /usr/local/lib/python3.11/dist-packages (from torch>=1.8.0->ultralytics) (12.3.1.170)\n",
            "Requirement already satisfied: nvidia-cusparselt-cu12==0.6.2 in /usr/local/lib/python3.11/dist-packages (from torch>=1.8.0->ultralytics) (0.6.2)\n",
            "Requirement already satisfied: nvidia-nccl-cu12==2.21.5 in /usr/local/lib/python3.11/dist-packages (from torch>=1.8.0->ultralytics) (2.21.5)\n",
            "Requirement already satisfied: nvidia-nvtx-cu12==12.4.127 in /usr/local/lib/python3.11/dist-packages (from torch>=1.8.0->ultralytics) (12.4.127)\n",
            "Requirement already satisfied: nvidia-nvjitlink-cu12==12.4.127 in /usr/local/lib/python3.11/dist-packages (from torch>=1.8.0->ultralytics) (12.4.127)\n",
            "Requirement already satisfied: triton==3.2.0 in /usr/local/lib/python3.11/dist-packages (from torch>=1.8.0->ultralytics) (3.2.0)\n",
            "Requirement already satisfied: sympy==1.13.1 in /usr/local/lib/python3.11/dist-packages (from torch>=1.8.0->ultralytics) (1.13.1)\n",
            "Requirement already satisfied: mpmath<1.4,>=1.1.0 in /usr/local/lib/python3.11/dist-packages (from sympy==1.13.1->torch>=1.8.0->ultralytics) (1.3.0)\n",
            "Requirement already satisfied: six>=1.5 in /usr/local/lib/python3.11/dist-packages (from python-dateutil>=2.7->matplotlib>=3.3.0->ultralytics) (1.17.0)\n",
            "Requirement already satisfied: MarkupSafe>=2.0 in /usr/local/lib/python3.11/dist-packages (from jinja2->torch>=1.8.0->ultralytics) (3.0.2)\n",
            "Requirement already satisfied: roboflow in /usr/local/lib/python3.11/dist-packages (1.2.1)\n",
            "Requirement already satisfied: certifi in /usr/local/lib/python3.11/dist-packages (from roboflow) (2025.7.14)\n",
            "Requirement already satisfied: idna==3.7 in /usr/local/lib/python3.11/dist-packages (from roboflow) (3.7)\n",
            "Requirement already satisfied: cycler in /usr/local/lib/python3.11/dist-packages (from roboflow) (0.12.1)\n",
            "Requirement already satisfied: kiwisolver>=1.3.1 in /usr/local/lib/python3.11/dist-packages (from roboflow) (1.4.8)\n",
            "Requirement already satisfied: matplotlib in /usr/local/lib/python3.11/dist-packages (from roboflow) (3.10.0)\n",
            "Requirement already satisfied: numpy>=1.18.5 in /usr/local/lib/python3.11/dist-packages (from roboflow) (2.0.2)\n",
            "Requirement already satisfied: opencv-python-headless==4.10.0.84 in /usr/local/lib/python3.11/dist-packages (from roboflow) (4.10.0.84)\n",
            "Requirement already satisfied: Pillow>=7.1.2 in /usr/local/lib/python3.11/dist-packages (from roboflow) (11.2.1)\n",
            "Requirement already satisfied: pillow-heif<2 in /usr/local/lib/python3.11/dist-packages (from roboflow) (1.0.0)\n",
            "Requirement already satisfied: pillow-avif-plugin<2 in /usr/local/lib/python3.11/dist-packages (from roboflow) (1.5.2)\n",
            "Requirement already satisfied: python-dateutil in /usr/local/lib/python3.11/dist-packages (from roboflow) (2.9.0.post0)\n",
            "Requirement already satisfied: python-dotenv in /usr/local/lib/python3.11/dist-packages (from roboflow) (1.1.1)\n",
            "Requirement already satisfied: requests in /usr/local/lib/python3.11/dist-packages (from roboflow) (2.32.3)\n",
            "Requirement already satisfied: six in /usr/local/lib/python3.11/dist-packages (from roboflow) (1.17.0)\n",
            "Requirement already satisfied: urllib3>=1.26.6 in /usr/local/lib/python3.11/dist-packages (from roboflow) (2.4.0)\n",
            "Requirement already satisfied: tqdm>=4.41.0 in /usr/local/lib/python3.11/dist-packages (from roboflow) (4.67.1)\n",
            "Requirement already satisfied: PyYAML>=5.3.1 in /usr/local/lib/python3.11/dist-packages (from roboflow) (6.0.2)\n",
            "Requirement already satisfied: requests-toolbelt in /usr/local/lib/python3.11/dist-packages (from roboflow) (1.0.0)\n",
            "Requirement already satisfied: filetype in /usr/local/lib/python3.11/dist-packages (from roboflow) (1.2.0)\n",
            "Requirement already satisfied: contourpy>=1.0.1 in /usr/local/lib/python3.11/dist-packages (from matplotlib->roboflow) (1.3.2)\n",
            "Requirement already satisfied: fonttools>=4.22.0 in /usr/local/lib/python3.11/dist-packages (from matplotlib->roboflow) (4.58.5)\n",
            "Requirement already satisfied: packaging>=20.0 in /usr/local/lib/python3.11/dist-packages (from matplotlib->roboflow) (25.0)\n",
            "Requirement already satisfied: pyparsing>=2.3.1 in /usr/local/lib/python3.11/dist-packages (from matplotlib->roboflow) (3.2.3)\n",
            "Requirement already satisfied: charset-normalizer<4,>=2 in /usr/local/lib/python3.11/dist-packages (from requests->roboflow) (3.4.2)\n",
            "loading Roboflow workspace...\n",
            "loading Roboflow project...\n"
          ]
        },
        {
          "output_type": "stream",
          "name": "stderr",
          "text": [
            "Downloading Dataset Version Zip in RestaurantTest-1 to yolov8:: 100%|██████████| 3171/3171 [00:00<00:00, 9268.26it/s]"
          ]
        },
        {
          "output_type": "stream",
          "name": "stdout",
          "text": [
            "\n"
          ]
        },
        {
          "output_type": "stream",
          "name": "stderr",
          "text": [
            "\n",
            "Extracting Dataset Version Zip to RestaurantTest-1 in yolov8:: 100%|██████████| 102/102 [00:00<00:00, 6649.45it/s]\n"
          ]
        },
        {
          "output_type": "stream",
          "name": "stdout",
          "text": [
            "Creating new Ultralytics Settings v0.0.6 file ✅ \n",
            "View Ultralytics Settings with 'yolo settings' or at '/root/.config/Ultralytics/settings.json'\n",
            "Update Settings with 'yolo settings key=value', i.e. 'yolo settings runs_dir=path/to/dir'. For help see https://docs.ultralytics.com/quickstart/#ultralytics-settings.\n",
            "Downloading https://github.com/ultralytics/assets/releases/download/v8.3.0/yolov8n.pt to 'yolov8n.pt'...\n"
          ]
        },
        {
          "output_type": "stream",
          "name": "stderr",
          "text": [
            "100%|██████████| 6.25M/6.25M [00:00<00:00, 88.5MB/s]\n"
          ]
        },
        {
          "output_type": "stream",
          "name": "stdout",
          "text": [
            "Ultralytics 8.3.168 🚀 Python-3.11.13 torch-2.6.0+cu124 CUDA:0 (Tesla T4, 15095MiB)\n",
            "\u001b[34m\u001b[1mengine/trainer: \u001b[0magnostic_nms=False, amp=True, augment=False, auto_augment=randaugment, batch=16, bgr=0.0, box=7.5, cache=False, cfg=None, classes=None, close_mosaic=10, cls=0.5, conf=None, copy_paste=0.0, copy_paste_mode=flip, cos_lr=False, cutmix=0.0, data=/content/RestaurantTest-1/data.yaml, degrees=0.0, deterministic=True, device=None, dfl=1.5, dnn=False, dropout=0.0, dynamic=False, embed=None, epochs=50, erasing=0.4, exist_ok=False, fliplr=0.5, flipud=0.0, format=torchscript, fraction=1.0, freeze=None, half=False, hsv_h=0.015, hsv_s=0.7, hsv_v=0.4, imgsz=640, int8=False, iou=0.7, keras=False, kobj=1.0, line_width=None, lr0=0.01, lrf=0.01, mask_ratio=4, max_det=300, mixup=0.0, mode=train, model=yolov8n.pt, momentum=0.937, mosaic=1.0, multi_scale=False, name=rf_yolov8_customer_table_chair, nbs=64, nms=False, opset=None, optimize=False, optimizer=auto, overlap_mask=True, patience=100, perspective=0.0, plots=True, pose=12.0, pretrained=True, profile=False, project=None, rect=False, resume=False, retina_masks=False, save=True, save_conf=False, save_crop=False, save_dir=runs/detect/rf_yolov8_customer_table_chair, save_frames=False, save_json=False, save_period=-1, save_txt=False, scale=0.5, seed=0, shear=0.0, show=False, show_boxes=True, show_conf=True, show_labels=True, simplify=True, single_cls=False, source=None, split=val, stream_buffer=False, task=detect, time=None, tracker=botsort.yaml, translate=0.1, val=True, verbose=True, vid_stride=1, visualize=False, warmup_bias_lr=0.1, warmup_epochs=3.0, warmup_momentum=0.8, weight_decay=0.0005, workers=8, workspace=None\n",
            "Downloading https://ultralytics.com/assets/Arial.ttf to '/root/.config/Ultralytics/Arial.ttf'...\n"
          ]
        },
        {
          "output_type": "stream",
          "name": "stderr",
          "text": [
            "100%|██████████| 755k/755k [00:00<00:00, 22.8MB/s]"
          ]
        },
        {
          "output_type": "stream",
          "name": "stdout",
          "text": [
            "Overriding model.yaml nc=80 with nc=3\n",
            "\n",
            "                   from  n    params  module                                       arguments                     \n",
            "  0                  -1  1       464  ultralytics.nn.modules.conv.Conv             [3, 16, 3, 2]                 \n",
            "  1                  -1  1      4672  ultralytics.nn.modules.conv.Conv             [16, 32, 3, 2]                \n",
            "  2                  -1  1      7360  ultralytics.nn.modules.block.C2f             [32, 32, 1, True]             \n",
            "  3                  -1  1     18560  ultralytics.nn.modules.conv.Conv             [32, 64, 3, 2]                \n",
            "  4                  -1  2     49664  ultralytics.nn.modules.block.C2f             [64, 64, 2, True]             \n",
            "  5                  -1  1     73984  ultralytics.nn.modules.conv.Conv             [64, 128, 3, 2]               \n",
            "  6                  -1  2    197632  ultralytics.nn.modules.block.C2f             [128, 128, 2, True]           \n",
            "  7                  -1  1    295424  ultralytics.nn.modules.conv.Conv             [128, 256, 3, 2]              \n",
            "  8                  -1  1    460288  ultralytics.nn.modules.block.C2f             [256, 256, 1, True]           \n",
            "  9                  -1  1    164608  ultralytics.nn.modules.block.SPPF            [256, 256, 5]                 \n",
            " 10                  -1  1         0  torch.nn.modules.upsampling.Upsample         [None, 2, 'nearest']          \n",
            " 11             [-1, 6]  1         0  ultralytics.nn.modules.conv.Concat           [1]                           \n",
            " 12                  -1  1    148224  ultralytics.nn.modules.block.C2f             [384, 128, 1]                 \n",
            " 13                  -1  1         0  torch.nn.modules.upsampling.Upsample         [None, 2, 'nearest']          \n",
            " 14             [-1, 4]  1         0  ultralytics.nn.modules.conv.Concat           [1]                           \n",
            " 15                  -1  1     37248  ultralytics.nn.modules.block.C2f             [192, 64, 1]                  \n",
            " 16                  -1  1     36992  ultralytics.nn.modules.conv.Conv             [64, 64, 3, 2]                \n",
            " 17            [-1, 12]  1         0  ultralytics.nn.modules.conv.Concat           [1]                           \n",
            " 18                  -1  1    123648  ultralytics.nn.modules.block.C2f             [192, 128, 1]                 \n",
            " 19                  -1  1    147712  ultralytics.nn.modules.conv.Conv             [128, 128, 3, 2]              \n",
            " 20             [-1, 9]  1         0  ultralytics.nn.modules.conv.Concat           [1]                           \n",
            " 21                  -1  1    493056  ultralytics.nn.modules.block.C2f             [384, 256, 1]                 \n",
            " 22        [15, 18, 21]  1    751897  ultralytics.nn.modules.head.Detect           [3, [64, 128, 256]]           \n"
          ]
        },
        {
          "output_type": "stream",
          "name": "stderr",
          "text": [
            "\n"
          ]
        },
        {
          "output_type": "stream",
          "name": "stdout",
          "text": [
            "Model summary: 129 layers, 3,011,433 parameters, 3,011,417 gradients, 8.2 GFLOPs\n",
            "\n",
            "Transferred 319/355 items from pretrained weights\n",
            "Freezing layer 'model.22.dfl.conv.weight'\n",
            "\u001b[34m\u001b[1mAMP: \u001b[0mrunning Automatic Mixed Precision (AMP) checks...\n",
            "Downloading https://github.com/ultralytics/assets/releases/download/v8.3.0/yolo11n.pt to 'yolo11n.pt'...\n"
          ]
        },
        {
          "output_type": "stream",
          "name": "stderr",
          "text": [
            "100%|██████████| 5.35M/5.35M [00:00<00:00, 98.1MB/s]\n"
          ]
        },
        {
          "output_type": "stream",
          "name": "stdout",
          "text": [
            "\u001b[34m\u001b[1mAMP: \u001b[0mchecks passed ✅\n",
            "\u001b[34m\u001b[1mtrain: \u001b[0mFast image access ✅ (ping: 0.0±0.0 ms, read: 1101.6±599.8 MB/s, size: 70.1 KB)\n"
          ]
        },
        {
          "output_type": "stream",
          "name": "stderr",
          "text": [
            "\u001b[34m\u001b[1mtrain: \u001b[0mScanning /content/RestaurantTest-1/train/labels... 31 images, 0 backgrounds, 0 corrupt: 100%|██████████| 31/31 [00:00<00:00, 2214.60it/s]"
          ]
        },
        {
          "output_type": "stream",
          "name": "stdout",
          "text": [
            "\u001b[34m\u001b[1mtrain: \u001b[0mNew cache created: /content/RestaurantTest-1/train/labels.cache\n"
          ]
        },
        {
          "output_type": "stream",
          "name": "stderr",
          "text": [
            "\n"
          ]
        },
        {
          "output_type": "stream",
          "name": "stdout",
          "text": [
            "\u001b[34m\u001b[1malbumentations: \u001b[0mBlur(p=0.01, blur_limit=(3, 7)), MedianBlur(p=0.01, blur_limit=(3, 7)), ToGray(p=0.01, method='weighted_average', num_output_channels=3), CLAHE(p=0.01, clip_limit=(1.0, 4.0), tile_grid_size=(8, 8))\n",
            "\u001b[34m\u001b[1mval: \u001b[0mFast image access ✅ (ping: 0.0±0.0 ms, read: 1127.5±726.3 MB/s, size: 70.4 KB)\n"
          ]
        },
        {
          "output_type": "stream",
          "name": "stderr",
          "text": [
            "\u001b[34m\u001b[1mval: \u001b[0mScanning /content/RestaurantTest-1/valid/labels... 9 images, 0 backgrounds, 0 corrupt: 100%|██████████| 9/9 [00:00<00:00, 5264.82it/s]"
          ]
        },
        {
          "output_type": "stream",
          "name": "stdout",
          "text": [
            "\u001b[34m\u001b[1mval: \u001b[0mNew cache created: /content/RestaurantTest-1/valid/labels.cache\n"
          ]
        },
        {
          "output_type": "stream",
          "name": "stderr",
          "text": [
            "\n"
          ]
        },
        {
          "output_type": "stream",
          "name": "stdout",
          "text": [
            "Plotting labels to runs/detect/rf_yolov8_customer_table_chair/labels.jpg... \n",
            "\u001b[34m\u001b[1moptimizer:\u001b[0m 'optimizer=auto' found, ignoring 'lr0=0.01' and 'momentum=0.937' and determining best 'optimizer', 'lr0' and 'momentum' automatically... \n",
            "\u001b[34m\u001b[1moptimizer:\u001b[0m AdamW(lr=0.001429, momentum=0.9) with parameter groups 57 weight(decay=0.0), 64 weight(decay=0.0005), 63 bias(decay=0.0)\n",
            "Image sizes 640 train, 640 val\n",
            "Using 2 dataloader workers\n",
            "Logging results to \u001b[1mruns/detect/rf_yolov8_customer_table_chair\u001b[0m\n",
            "Starting training for 50 epochs...\n",
            "\n",
            "      Epoch    GPU_mem   box_loss   cls_loss   dfl_loss  Instances       Size\n"
          ]
        },
        {
          "output_type": "stream",
          "name": "stderr",
          "text": [
            "       1/50      2.18G      1.684      3.877       1.47        614        640: 100%|██████████| 2/2 [00:01<00:00,  1.10it/s]\n",
            "                 Class     Images  Instances      Box(P          R      mAP50  mAP50-95): 100%|██████████| 1/1 [00:01<00:00,  1.44s/it]"
          ]
        },
        {
          "output_type": "stream",
          "name": "stdout",
          "text": [
            "                   all          9        211     0.0158      0.178      0.015    0.00552\n",
            "\n",
            "      Epoch    GPU_mem   box_loss   cls_loss   dfl_loss  Instances       Size\n"
          ]
        },
        {
          "output_type": "stream",
          "name": "stderr",
          "text": [
            "\n",
            "       2/50      2.54G      1.721        3.9      1.479        757        640: 100%|██████████| 2/2 [00:00<00:00,  3.72it/s]\n",
            "                 Class     Images  Instances      Box(P          R      mAP50  mAP50-95): 100%|██████████| 1/1 [00:00<00:00,  3.62it/s]"
          ]
        },
        {
          "output_type": "stream",
          "name": "stdout",
          "text": [
            "                   all          9        211     0.0143      0.163     0.0131    0.00519\n"
          ]
        },
        {
          "output_type": "stream",
          "name": "stderr",
          "text": [
            "\n"
          ]
        },
        {
          "output_type": "stream",
          "name": "stdout",
          "text": [
            "\n",
            "      Epoch    GPU_mem   box_loss   cls_loss   dfl_loss  Instances       Size\n"
          ]
        },
        {
          "output_type": "stream",
          "name": "stderr",
          "text": [
            "       3/50      2.56G      1.695      3.864      1.446        736        640: 100%|██████████| 2/2 [00:00<00:00,  4.05it/s]\n",
            "                 Class     Images  Instances      Box(P          R      mAP50  mAP50-95): 100%|██████████| 1/1 [00:00<00:00,  7.75it/s]"
          ]
        },
        {
          "output_type": "stream",
          "name": "stdout",
          "text": [
            "                   all          9        211     0.0202      0.223     0.0289     0.0105\n"
          ]
        },
        {
          "output_type": "stream",
          "name": "stderr",
          "text": [
            "\n"
          ]
        },
        {
          "output_type": "stream",
          "name": "stdout",
          "text": [
            "\n",
            "      Epoch    GPU_mem   box_loss   cls_loss   dfl_loss  Instances       Size\n"
          ]
        },
        {
          "output_type": "stream",
          "name": "stderr",
          "text": [
            "       4/50      2.58G      1.488        3.7      1.311        749        640: 100%|██████████| 2/2 [00:00<00:00,  4.53it/s]\n",
            "                 Class     Images  Instances      Box(P          R      mAP50  mAP50-95): 100%|██████████| 1/1 [00:00<00:00,  8.47it/s]"
          ]
        },
        {
          "output_type": "stream",
          "name": "stdout",
          "text": [
            "                   all          9        211     0.0286      0.315     0.0488     0.0213\n"
          ]
        },
        {
          "output_type": "stream",
          "name": "stderr",
          "text": [
            "\n"
          ]
        },
        {
          "output_type": "stream",
          "name": "stdout",
          "text": [
            "\n",
            "      Epoch    GPU_mem   box_loss   cls_loss   dfl_loss  Instances       Size\n"
          ]
        },
        {
          "output_type": "stream",
          "name": "stderr",
          "text": [
            "       5/50       2.6G      1.353      3.478      1.219        731        640: 100%|██████████| 2/2 [00:00<00:00,  4.52it/s]\n",
            "                 Class     Images  Instances      Box(P          R      mAP50  mAP50-95): 100%|██████████| 1/1 [00:00<00:00,  8.30it/s]"
          ]
        },
        {
          "output_type": "stream",
          "name": "stdout",
          "text": [
            "                   all          9        211     0.0351      0.388     0.0925     0.0417\n"
          ]
        },
        {
          "output_type": "stream",
          "name": "stderr",
          "text": [
            "\n"
          ]
        },
        {
          "output_type": "stream",
          "name": "stdout",
          "text": [
            "\n",
            "      Epoch    GPU_mem   box_loss   cls_loss   dfl_loss  Instances       Size\n"
          ]
        },
        {
          "output_type": "stream",
          "name": "stderr",
          "text": [
            "       6/50      2.62G      1.317      3.154      1.179        620        640: 100%|██████████| 2/2 [00:00<00:00,  5.01it/s]\n",
            "                 Class     Images  Instances      Box(P          R      mAP50  mAP50-95): 100%|██████████| 1/1 [00:00<00:00,  5.94it/s]\n"
          ]
        },
        {
          "output_type": "stream",
          "name": "stdout",
          "text": [
            "                   all          9        211     0.0372      0.412      0.123     0.0657\n",
            "\n",
            "      Epoch    GPU_mem   box_loss   cls_loss   dfl_loss  Instances       Size\n"
          ]
        },
        {
          "output_type": "stream",
          "name": "stderr",
          "text": [
            "       7/50      2.63G      1.196      2.777      1.126        547        640: 100%|██████████| 2/2 [00:00<00:00,  5.03it/s]\n",
            "                 Class     Images  Instances      Box(P          R      mAP50  mAP50-95): 100%|██████████| 1/1 [00:00<00:00,  7.57it/s]"
          ]
        },
        {
          "output_type": "stream",
          "name": "stdout",
          "text": [
            "                   all          9        211     0.0418      0.472      0.172     0.0995\n"
          ]
        },
        {
          "output_type": "stream",
          "name": "stderr",
          "text": [
            "\n"
          ]
        },
        {
          "output_type": "stream",
          "name": "stdout",
          "text": [
            "\n",
            "      Epoch    GPU_mem   box_loss   cls_loss   dfl_loss  Instances       Size\n"
          ]
        },
        {
          "output_type": "stream",
          "name": "stderr",
          "text": [
            "       8/50      2.65G      1.309      2.689      1.126        882        640: 100%|██████████| 2/2 [00:00<00:00,  3.96it/s]\n",
            "                 Class     Images  Instances      Box(P          R      mAP50  mAP50-95): 100%|██████████| 1/1 [00:00<00:00,  5.69it/s]"
          ]
        },
        {
          "output_type": "stream",
          "name": "stdout",
          "text": [
            "                   all          9        211     0.0509      0.635      0.195      0.118\n"
          ]
        },
        {
          "output_type": "stream",
          "name": "stderr",
          "text": [
            "\n"
          ]
        },
        {
          "output_type": "stream",
          "name": "stdout",
          "text": [
            "\n",
            "      Epoch    GPU_mem   box_loss   cls_loss   dfl_loss  Instances       Size\n"
          ]
        },
        {
          "output_type": "stream",
          "name": "stderr",
          "text": [
            "       9/50      2.67G      1.221      2.302      1.094        567        640: 100%|██████████| 2/2 [00:00<00:00,  3.50it/s]\n",
            "                 Class     Images  Instances      Box(P          R      mAP50  mAP50-95): 100%|██████████| 1/1 [00:00<00:00,  4.27it/s]"
          ]
        },
        {
          "output_type": "stream",
          "name": "stdout",
          "text": [
            "                   all          9        211     0.0507      0.632      0.196      0.118\n"
          ]
        },
        {
          "output_type": "stream",
          "name": "stderr",
          "text": [
            "\n"
          ]
        },
        {
          "output_type": "stream",
          "name": "stdout",
          "text": [
            "\n",
            "      Epoch    GPU_mem   box_loss   cls_loss   dfl_loss  Instances       Size\n"
          ]
        },
        {
          "output_type": "stream",
          "name": "stderr",
          "text": [
            "      10/50      2.93G      1.239      2.248      1.099        672        640: 100%|██████████| 2/2 [00:00<00:00,  3.63it/s]\n",
            "                 Class     Images  Instances      Box(P          R      mAP50  mAP50-95): 100%|██████████| 1/1 [00:00<00:00,  6.26it/s]"
          ]
        },
        {
          "output_type": "stream",
          "name": "stdout",
          "text": [
            "                   all          9        211     0.0554      0.702       0.21      0.139\n"
          ]
        },
        {
          "output_type": "stream",
          "name": "stderr",
          "text": [
            "\n"
          ]
        },
        {
          "output_type": "stream",
          "name": "stdout",
          "text": [
            "\n",
            "      Epoch    GPU_mem   box_loss   cls_loss   dfl_loss  Instances       Size\n"
          ]
        },
        {
          "output_type": "stream",
          "name": "stderr",
          "text": [
            "      11/50      2.95G      1.167      2.041      1.075        733        640: 100%|██████████| 2/2 [00:00<00:00,  4.71it/s]\n",
            "                 Class     Images  Instances      Box(P          R      mAP50  mAP50-95): 100%|██████████| 1/1 [00:00<00:00,  8.75it/s]"
          ]
        },
        {
          "output_type": "stream",
          "name": "stdout",
          "text": [
            "                   all          9        211     0.0567      0.725      0.216      0.155\n"
          ]
        },
        {
          "output_type": "stream",
          "name": "stderr",
          "text": [
            "\n"
          ]
        },
        {
          "output_type": "stream",
          "name": "stdout",
          "text": [
            "\n",
            "      Epoch    GPU_mem   box_loss   cls_loss   dfl_loss  Instances       Size\n"
          ]
        },
        {
          "output_type": "stream",
          "name": "stderr",
          "text": [
            "      12/50      2.97G      1.179       1.95      1.063        682        640: 100%|██████████| 2/2 [00:00<00:00,  4.64it/s]\n",
            "                 Class     Images  Instances      Box(P          R      mAP50  mAP50-95): 100%|██████████| 1/1 [00:00<00:00,  7.84it/s]"
          ]
        },
        {
          "output_type": "stream",
          "name": "stdout",
          "text": [
            "                   all          9        211     0.0588      0.755      0.238      0.167\n"
          ]
        },
        {
          "output_type": "stream",
          "name": "stderr",
          "text": [
            "\n"
          ]
        },
        {
          "output_type": "stream",
          "name": "stdout",
          "text": [
            "\n",
            "      Epoch    GPU_mem   box_loss   cls_loss   dfl_loss  Instances       Size\n"
          ]
        },
        {
          "output_type": "stream",
          "name": "stderr",
          "text": [
            "      13/50      2.98G      1.159      1.828      1.072        710        640: 100%|██████████| 2/2 [00:00<00:00,  4.66it/s]\n",
            "                 Class     Images  Instances      Box(P          R      mAP50  mAP50-95): 100%|██████████| 1/1 [00:00<00:00, 10.51it/s]"
          ]
        },
        {
          "output_type": "stream",
          "name": "stdout",
          "text": [
            "                   all          9        211     0.0575      0.755      0.245      0.168\n"
          ]
        },
        {
          "output_type": "stream",
          "name": "stderr",
          "text": [
            "\n"
          ]
        },
        {
          "output_type": "stream",
          "name": "stdout",
          "text": [
            "\n",
            "      Epoch    GPU_mem   box_loss   cls_loss   dfl_loss  Instances       Size\n"
          ]
        },
        {
          "output_type": "stream",
          "name": "stderr",
          "text": [
            "      14/50         3G      1.157      1.734      1.054        796        640: 100%|██████████| 2/2 [00:00<00:00,  4.30it/s]\n",
            "                 Class     Images  Instances      Box(P          R      mAP50  mAP50-95): 100%|██████████| 1/1 [00:00<00:00,  5.27it/s]"
          ]
        },
        {
          "output_type": "stream",
          "name": "stdout",
          "text": [
            "                   all          9        211     0.0589      0.775      0.264      0.182\n"
          ]
        },
        {
          "output_type": "stream",
          "name": "stderr",
          "text": [
            "\n"
          ]
        },
        {
          "output_type": "stream",
          "name": "stdout",
          "text": [
            "\n",
            "      Epoch    GPU_mem   box_loss   cls_loss   dfl_loss  Instances       Size\n"
          ]
        },
        {
          "output_type": "stream",
          "name": "stderr",
          "text": [
            "      15/50      3.02G      1.163      1.635      1.084        649        640: 100%|██████████| 2/2 [00:00<00:00,  5.24it/s]\n",
            "                 Class     Images  Instances      Box(P          R      mAP50  mAP50-95): 100%|██████████| 1/1 [00:00<00:00,  9.52it/s]"
          ]
        },
        {
          "output_type": "stream",
          "name": "stdout",
          "text": [
            "                   all          9        211     0.0557      0.744       0.28      0.196\n"
          ]
        },
        {
          "output_type": "stream",
          "name": "stderr",
          "text": [
            "\n"
          ]
        },
        {
          "output_type": "stream",
          "name": "stdout",
          "text": [
            "\n",
            "      Epoch    GPU_mem   box_loss   cls_loss   dfl_loss  Instances       Size\n"
          ]
        },
        {
          "output_type": "stream",
          "name": "stderr",
          "text": [
            "      16/50      3.04G      1.095      1.549      1.064        763        640: 100%|██████████| 2/2 [00:00<00:00,  5.28it/s]\n",
            "                 Class     Images  Instances      Box(P          R      mAP50  mAP50-95): 100%|██████████| 1/1 [00:00<00:00, 12.43it/s]"
          ]
        },
        {
          "output_type": "stream",
          "name": "stdout",
          "text": [
            "                   all          9        211     0.0566      0.752      0.312      0.222\n"
          ]
        },
        {
          "output_type": "stream",
          "name": "stderr",
          "text": [
            "\n"
          ]
        },
        {
          "output_type": "stream",
          "name": "stdout",
          "text": [
            "\n",
            "      Epoch    GPU_mem   box_loss   cls_loss   dfl_loss  Instances       Size\n"
          ]
        },
        {
          "output_type": "stream",
          "name": "stderr",
          "text": [
            "      17/50      3.05G      1.119      1.419      1.053        668        640: 100%|██████████| 2/2 [00:00<00:00,  4.85it/s]\n",
            "                 Class     Images  Instances      Box(P          R      mAP50  mAP50-95): 100%|██████████| 1/1 [00:00<00:00,  8.46it/s]"
          ]
        },
        {
          "output_type": "stream",
          "name": "stdout",
          "text": [
            "                   all          9        211     0.0558      0.749      0.325      0.228\n"
          ]
        },
        {
          "output_type": "stream",
          "name": "stderr",
          "text": [
            "\n"
          ]
        },
        {
          "output_type": "stream",
          "name": "stdout",
          "text": [
            "\n",
            "      Epoch    GPU_mem   box_loss   cls_loss   dfl_loss  Instances       Size\n"
          ]
        },
        {
          "output_type": "stream",
          "name": "stderr",
          "text": [
            "      18/50      3.07G      1.106      1.371      1.049        709        640: 100%|██████████| 2/2 [00:00<00:00,  4.95it/s]\n",
            "                 Class     Images  Instances      Box(P          R      mAP50  mAP50-95): 100%|██████████| 1/1 [00:00<00:00,  8.09it/s]"
          ]
        },
        {
          "output_type": "stream",
          "name": "stdout",
          "text": [
            "                   all          9        211     0.0561      0.764      0.329      0.239\n"
          ]
        },
        {
          "output_type": "stream",
          "name": "stderr",
          "text": [
            "\n"
          ]
        },
        {
          "output_type": "stream",
          "name": "stdout",
          "text": [
            "\n",
            "      Epoch    GPU_mem   box_loss   cls_loss   dfl_loss  Instances       Size\n"
          ]
        },
        {
          "output_type": "stream",
          "name": "stderr",
          "text": [
            "      19/50      3.09G      1.087      1.314       1.06        653        640: 100%|██████████| 2/2 [00:00<00:00,  4.82it/s]\n",
            "                 Class     Images  Instances      Box(P          R      mAP50  mAP50-95): 100%|██████████| 1/1 [00:00<00:00,  7.36it/s]"
          ]
        },
        {
          "output_type": "stream",
          "name": "stdout",
          "text": [
            "                   all          9        211     0.0575      0.778      0.326      0.237\n"
          ]
        },
        {
          "output_type": "stream",
          "name": "stderr",
          "text": [
            "\n"
          ]
        },
        {
          "output_type": "stream",
          "name": "stdout",
          "text": [
            "\n",
            "      Epoch    GPU_mem   box_loss   cls_loss   dfl_loss  Instances       Size\n"
          ]
        },
        {
          "output_type": "stream",
          "name": "stderr",
          "text": [
            "      20/50       3.1G      1.084      1.311      1.049        796        640: 100%|██████████| 2/2 [00:00<00:00,  5.15it/s]\n",
            "                 Class     Images  Instances      Box(P          R      mAP50  mAP50-95): 100%|██████████| 1/1 [00:00<00:00,  6.95it/s]"
          ]
        },
        {
          "output_type": "stream",
          "name": "stdout",
          "text": [
            "                   all          9        211     0.0575      0.778      0.319      0.228\n"
          ]
        },
        {
          "output_type": "stream",
          "name": "stderr",
          "text": [
            "\n"
          ]
        },
        {
          "output_type": "stream",
          "name": "stdout",
          "text": [
            "\n",
            "      Epoch    GPU_mem   box_loss   cls_loss   dfl_loss  Instances       Size\n"
          ]
        },
        {
          "output_type": "stream",
          "name": "stderr",
          "text": [
            "      21/50      3.12G      1.031      1.197      1.045        708        640: 100%|██████████| 2/2 [00:00<00:00,  5.18it/s]\n",
            "                 Class     Images  Instances      Box(P          R      mAP50  mAP50-95): 100%|██████████| 1/1 [00:00<00:00, 12.39it/s]"
          ]
        },
        {
          "output_type": "stream",
          "name": "stdout",
          "text": [
            "                   all          9        211     0.0559      0.722       0.28      0.204\n"
          ]
        },
        {
          "output_type": "stream",
          "name": "stderr",
          "text": [
            "\n"
          ]
        },
        {
          "output_type": "stream",
          "name": "stdout",
          "text": [
            "\n",
            "      Epoch    GPU_mem   box_loss   cls_loss   dfl_loss  Instances       Size\n"
          ]
        },
        {
          "output_type": "stream",
          "name": "stderr",
          "text": [
            "      22/50      3.14G      1.014      1.154      1.025        860        640: 100%|██████████| 2/2 [00:00<00:00,  4.88it/s]\n",
            "                 Class     Images  Instances      Box(P          R      mAP50  mAP50-95): 100%|██████████| 1/1 [00:00<00:00,  4.87it/s]"
          ]
        },
        {
          "output_type": "stream",
          "name": "stdout",
          "text": [
            "                   all          9        211      0.055      0.629      0.242      0.171\n"
          ]
        },
        {
          "output_type": "stream",
          "name": "stderr",
          "text": [
            "\n"
          ]
        },
        {
          "output_type": "stream",
          "name": "stdout",
          "text": [
            "\n",
            "      Epoch    GPU_mem   box_loss   cls_loss   dfl_loss  Instances       Size\n"
          ]
        },
        {
          "output_type": "stream",
          "name": "stderr",
          "text": [
            "      23/50      3.15G      1.042      1.137      1.051        660        640: 100%|██████████| 2/2 [00:00<00:00,  3.63it/s]\n",
            "                 Class     Images  Instances      Box(P          R      mAP50  mAP50-95): 100%|██████████| 1/1 [00:00<00:00,  4.38it/s]"
          ]
        },
        {
          "output_type": "stream",
          "name": "stdout",
          "text": [
            "                   all          9        211     0.0535      0.616      0.229       0.17\n"
          ]
        },
        {
          "output_type": "stream",
          "name": "stderr",
          "text": [
            "\n"
          ]
        },
        {
          "output_type": "stream",
          "name": "stdout",
          "text": [
            "\n",
            "      Epoch    GPU_mem   box_loss   cls_loss   dfl_loss  Instances       Size\n"
          ]
        },
        {
          "output_type": "stream",
          "name": "stderr",
          "text": [
            "      24/50      3.17G      1.017      1.104      1.043        607        640: 100%|██████████| 2/2 [00:00<00:00,  3.84it/s]\n",
            "                 Class     Images  Instances      Box(P          R      mAP50  mAP50-95): 100%|██████████| 1/1 [00:00<00:00,  5.05it/s]"
          ]
        },
        {
          "output_type": "stream",
          "name": "stdout",
          "text": [
            "                   all          9        211      0.466      0.213      0.248      0.195\n"
          ]
        },
        {
          "output_type": "stream",
          "name": "stderr",
          "text": [
            "\n"
          ]
        },
        {
          "output_type": "stream",
          "name": "stdout",
          "text": [
            "\n",
            "      Epoch    GPU_mem   box_loss   cls_loss   dfl_loss  Instances       Size\n"
          ]
        },
        {
          "output_type": "stream",
          "name": "stderr",
          "text": [
            "      25/50      3.19G     0.9601      1.045      1.002        780        640: 100%|██████████| 2/2 [00:00<00:00,  5.11it/s]\n",
            "                 Class     Images  Instances      Box(P          R      mAP50  mAP50-95): 100%|██████████| 1/1 [00:00<00:00,  8.25it/s]"
          ]
        },
        {
          "output_type": "stream",
          "name": "stdout",
          "text": [
            "                   all          9        211          1      0.111      0.275      0.214\n"
          ]
        },
        {
          "output_type": "stream",
          "name": "stderr",
          "text": [
            "\n"
          ]
        },
        {
          "output_type": "stream",
          "name": "stdout",
          "text": [
            "\n",
            "      Epoch    GPU_mem   box_loss   cls_loss   dfl_loss  Instances       Size\n"
          ]
        },
        {
          "output_type": "stream",
          "name": "stderr",
          "text": [
            "      26/50      3.21G      1.022      1.082      1.028        763        640: 100%|██████████| 2/2 [00:00<00:00,  5.12it/s]\n",
            "                 Class     Images  Instances      Box(P          R      mAP50  mAP50-95): 100%|██████████| 1/1 [00:00<00:00,  8.44it/s]"
          ]
        },
        {
          "output_type": "stream",
          "name": "stdout",
          "text": [
            "                   all          9        211          1     0.0903      0.305      0.238\n"
          ]
        },
        {
          "output_type": "stream",
          "name": "stderr",
          "text": [
            "\n"
          ]
        },
        {
          "output_type": "stream",
          "name": "stdout",
          "text": [
            "\n",
            "      Epoch    GPU_mem   box_loss   cls_loss   dfl_loss  Instances       Size\n"
          ]
        },
        {
          "output_type": "stream",
          "name": "stderr",
          "text": [
            "      27/50      3.22G     0.9433      1.048      1.018        840        640: 100%|██████████| 2/2 [00:00<00:00,  5.14it/s]\n",
            "                 Class     Images  Instances      Box(P          R      mAP50  mAP50-95): 100%|██████████| 1/1 [00:00<00:00,  7.10it/s]"
          ]
        },
        {
          "output_type": "stream",
          "name": "stdout",
          "text": [
            "                   all          9        211      0.971      0.108      0.352      0.268\n"
          ]
        },
        {
          "output_type": "stream",
          "name": "stderr",
          "text": [
            "\n"
          ]
        },
        {
          "output_type": "stream",
          "name": "stdout",
          "text": [
            "\n",
            "      Epoch    GPU_mem   box_loss   cls_loss   dfl_loss  Instances       Size\n"
          ]
        },
        {
          "output_type": "stream",
          "name": "stderr",
          "text": [
            "      28/50      3.24G     0.9189     0.9907      1.006        718        640: 100%|██████████| 2/2 [00:00<00:00,  5.85it/s]\n",
            "                 Class     Images  Instances      Box(P          R      mAP50  mAP50-95): 100%|██████████| 1/1 [00:00<00:00,  6.47it/s]\n"
          ]
        },
        {
          "output_type": "stream",
          "name": "stdout",
          "text": [
            "                   all          9        211      0.971      0.108      0.352      0.268\n",
            "\n",
            "      Epoch    GPU_mem   box_loss   cls_loss   dfl_loss  Instances       Size\n"
          ]
        },
        {
          "output_type": "stream",
          "name": "stderr",
          "text": [
            "      29/50      3.26G     0.9237      1.006     0.9987        856        640: 100%|██████████| 2/2 [00:00<00:00,  4.95it/s]\n",
            "                 Class     Images  Instances      Box(P          R      mAP50  mAP50-95): 100%|██████████| 1/1 [00:00<00:00,  7.27it/s]"
          ]
        },
        {
          "output_type": "stream",
          "name": "stdout",
          "text": [
            "                   all          9        211      0.986      0.138      0.415      0.318\n"
          ]
        },
        {
          "output_type": "stream",
          "name": "stderr",
          "text": [
            "\n"
          ]
        },
        {
          "output_type": "stream",
          "name": "stdout",
          "text": [
            "\n",
            "      Epoch    GPU_mem   box_loss   cls_loss   dfl_loss  Instances       Size\n"
          ]
        },
        {
          "output_type": "stream",
          "name": "stderr",
          "text": [
            "      30/50      3.28G     0.9782      1.009      1.012        743        640: 100%|██████████| 2/2 [00:00<00:00,  5.20it/s]\n",
            "                 Class     Images  Instances      Box(P          R      mAP50  mAP50-95): 100%|██████████| 1/1 [00:00<00:00,  5.89it/s]"
          ]
        },
        {
          "output_type": "stream",
          "name": "stdout",
          "text": [
            "                   all          9        211      0.877      0.203      0.473      0.357\n"
          ]
        },
        {
          "output_type": "stream",
          "name": "stderr",
          "text": [
            "\n"
          ]
        },
        {
          "output_type": "stream",
          "name": "stdout",
          "text": [
            "\n",
            "      Epoch    GPU_mem   box_loss   cls_loss   dfl_loss  Instances       Size\n"
          ]
        },
        {
          "output_type": "stream",
          "name": "stderr",
          "text": [
            "      31/50      3.29G     0.9545     0.9963     0.9956        791        640: 100%|██████████| 2/2 [00:00<00:00,  5.51it/s]\n",
            "                 Class     Images  Instances      Box(P          R      mAP50  mAP50-95): 100%|██████████| 1/1 [00:00<00:00,  6.26it/s]\n"
          ]
        },
        {
          "output_type": "stream",
          "name": "stdout",
          "text": [
            "                   all          9        211      0.877      0.203      0.473      0.357\n",
            "\n",
            "      Epoch    GPU_mem   box_loss   cls_loss   dfl_loss  Instances       Size\n"
          ]
        },
        {
          "output_type": "stream",
          "name": "stderr",
          "text": [
            "      32/50      3.31G     0.9285      1.021     0.9986        690        640: 100%|██████████| 2/2 [00:00<00:00,  5.17it/s]\n",
            "                 Class     Images  Instances      Box(P          R      mAP50  mAP50-95): 100%|██████████| 1/1 [00:00<00:00, 13.49it/s]"
          ]
        },
        {
          "output_type": "stream",
          "name": "stdout",
          "text": [
            "                   all          9        211      0.814      0.326      0.544      0.413\n"
          ]
        },
        {
          "output_type": "stream",
          "name": "stderr",
          "text": [
            "\n"
          ]
        },
        {
          "output_type": "stream",
          "name": "stdout",
          "text": [
            "\n",
            "      Epoch    GPU_mem   box_loss   cls_loss   dfl_loss  Instances       Size\n"
          ]
        },
        {
          "output_type": "stream",
          "name": "stderr",
          "text": [
            "      33/50      3.33G     0.9093     0.9931      1.003        688        640: 100%|██████████| 2/2 [00:00<00:00,  5.10it/s]\n",
            "                 Class     Images  Instances      Box(P          R      mAP50  mAP50-95): 100%|██████████| 1/1 [00:00<00:00,  5.92it/s]\n"
          ]
        },
        {
          "output_type": "stream",
          "name": "stdout",
          "text": [
            "                   all          9        211      0.812      0.383      0.629      0.482\n",
            "\n",
            "      Epoch    GPU_mem   box_loss   cls_loss   dfl_loss  Instances       Size\n"
          ]
        },
        {
          "output_type": "stream",
          "name": "stderr",
          "text": [
            "      34/50      3.34G     0.9396     0.9578     0.9974        755        640: 100%|██████████| 2/2 [00:00<00:00,  5.51it/s]\n",
            "                 Class     Images  Instances      Box(P          R      mAP50  mAP50-95): 100%|██████████| 1/1 [00:00<00:00,  6.54it/s]"
          ]
        },
        {
          "output_type": "stream",
          "name": "stdout",
          "text": [
            "                   all          9        211      0.812      0.383      0.629      0.482\n"
          ]
        },
        {
          "output_type": "stream",
          "name": "stderr",
          "text": [
            "\n"
          ]
        },
        {
          "output_type": "stream",
          "name": "stdout",
          "text": [
            "\n",
            "      Epoch    GPU_mem   box_loss   cls_loss   dfl_loss  Instances       Size\n"
          ]
        },
        {
          "output_type": "stream",
          "name": "stderr",
          "text": [
            "      35/50      3.36G     0.8755     0.9433     0.9908        501        640: 100%|██████████| 2/2 [00:00<00:00,  5.20it/s]\n",
            "                 Class     Images  Instances      Box(P          R      mAP50  mAP50-95): 100%|██████████| 1/1 [00:00<00:00,  6.80it/s]"
          ]
        },
        {
          "output_type": "stream",
          "name": "stdout",
          "text": [
            "                   all          9        211      0.808       0.42      0.708      0.527\n"
          ]
        },
        {
          "output_type": "stream",
          "name": "stderr",
          "text": [
            "\n"
          ]
        },
        {
          "output_type": "stream",
          "name": "stdout",
          "text": [
            "\n",
            "      Epoch    GPU_mem   box_loss   cls_loss   dfl_loss  Instances       Size\n"
          ]
        },
        {
          "output_type": "stream",
          "name": "stderr",
          "text": [
            "      36/50      3.62G     0.8892     0.9672     0.9908        787        640: 100%|██████████| 2/2 [00:00<00:00,  4.63it/s]\n",
            "                 Class     Images  Instances      Box(P          R      mAP50  mAP50-95): 100%|██████████| 1/1 [00:00<00:00,  8.33it/s]"
          ]
        },
        {
          "output_type": "stream",
          "name": "stdout",
          "text": [
            "                   all          9        211      0.831      0.474      0.728      0.547\n"
          ]
        },
        {
          "output_type": "stream",
          "name": "stderr",
          "text": [
            "\n"
          ]
        },
        {
          "output_type": "stream",
          "name": "stdout",
          "text": [
            "\n",
            "      Epoch    GPU_mem   box_loss   cls_loss   dfl_loss  Instances       Size\n"
          ]
        },
        {
          "output_type": "stream",
          "name": "stderr",
          "text": [
            "      37/50      3.64G      0.912     0.9691     0.9982        718        640: 100%|██████████| 2/2 [00:00<00:00,  4.47it/s]\n",
            "                 Class     Images  Instances      Box(P          R      mAP50  mAP50-95): 100%|██████████| 1/1 [00:00<00:00,  3.99it/s]"
          ]
        },
        {
          "output_type": "stream",
          "name": "stdout",
          "text": [
            "                   all          9        211      0.831      0.474      0.728      0.547\n"
          ]
        },
        {
          "output_type": "stream",
          "name": "stderr",
          "text": [
            "\n"
          ]
        },
        {
          "output_type": "stream",
          "name": "stdout",
          "text": [
            "\n",
            "      Epoch    GPU_mem   box_loss   cls_loss   dfl_loss  Instances       Size\n"
          ]
        },
        {
          "output_type": "stream",
          "name": "stderr",
          "text": [
            "      38/50      3.65G     0.8743     0.9264     0.9953        640        640: 100%|██████████| 2/2 [00:00<00:00,  4.00it/s]\n",
            "                 Class     Images  Instances      Box(P          R      mAP50  mAP50-95): 100%|██████████| 1/1 [00:00<00:00,  4.69it/s]"
          ]
        },
        {
          "output_type": "stream",
          "name": "stdout",
          "text": [
            "                   all          9        211       0.85      0.542      0.752      0.572\n"
          ]
        },
        {
          "output_type": "stream",
          "name": "stderr",
          "text": [
            "\n"
          ]
        },
        {
          "output_type": "stream",
          "name": "stdout",
          "text": [
            "\n",
            "      Epoch    GPU_mem   box_loss   cls_loss   dfl_loss  Instances       Size\n"
          ]
        },
        {
          "output_type": "stream",
          "name": "stderr",
          "text": [
            "      39/50      3.67G     0.8963       0.93     0.9763        786        640: 100%|██████████| 2/2 [00:00<00:00,  3.63it/s]\n",
            "                 Class     Images  Instances      Box(P          R      mAP50  mAP50-95): 100%|██████████| 1/1 [00:00<00:00,  7.86it/s]"
          ]
        },
        {
          "output_type": "stream",
          "name": "stdout",
          "text": [
            "                   all          9        211      0.852      0.606      0.773       0.59\n"
          ]
        },
        {
          "output_type": "stream",
          "name": "stderr",
          "text": [
            "\n"
          ]
        },
        {
          "output_type": "stream",
          "name": "stdout",
          "text": [
            "\n",
            "      Epoch    GPU_mem   box_loss   cls_loss   dfl_loss  Instances       Size\n"
          ]
        },
        {
          "output_type": "stream",
          "name": "stderr",
          "text": [
            "      40/50      3.69G      0.856     0.9236     0.9834        716        640: 100%|██████████| 2/2 [00:00<00:00,  5.63it/s]\n",
            "                 Class     Images  Instances      Box(P          R      mAP50  mAP50-95): 100%|██████████| 1/1 [00:00<00:00,  7.33it/s]"
          ]
        },
        {
          "output_type": "stream",
          "name": "stdout",
          "text": [
            "                   all          9        211      0.852      0.606      0.773       0.59\n"
          ]
        },
        {
          "output_type": "stream",
          "name": "stderr",
          "text": [
            "\n"
          ]
        },
        {
          "output_type": "stream",
          "name": "stdout",
          "text": [
            "Closing dataloader mosaic\n",
            "\u001b[34m\u001b[1malbumentations: \u001b[0mBlur(p=0.01, blur_limit=(3, 7)), MedianBlur(p=0.01, blur_limit=(3, 7)), ToGray(p=0.01, method='weighted_average', num_output_channels=3), CLAHE(p=0.01, clip_limit=(1.0, 4.0), tile_grid_size=(8, 8))\n",
            "\n",
            "      Epoch    GPU_mem   box_loss   cls_loss   dfl_loss  Instances       Size\n"
          ]
        },
        {
          "output_type": "stream",
          "name": "stderr",
          "text": [
            "      41/50       3.7G     0.7921     0.9955     0.9515        372        640: 100%|██████████| 2/2 [00:01<00:00,  1.76it/s]\n",
            "                 Class     Images  Instances      Box(P          R      mAP50  mAP50-95): 100%|██████████| 1/1 [00:00<00:00,  3.20it/s]"
          ]
        },
        {
          "output_type": "stream",
          "name": "stdout",
          "text": [
            "                   all          9        211      0.844      0.684      0.786      0.606\n"
          ]
        },
        {
          "output_type": "stream",
          "name": "stderr",
          "text": [
            "\n"
          ]
        },
        {
          "output_type": "stream",
          "name": "stdout",
          "text": [
            "\n",
            "      Epoch    GPU_mem   box_loss   cls_loss   dfl_loss  Instances       Size\n"
          ]
        },
        {
          "output_type": "stream",
          "name": "stderr",
          "text": [
            "      42/50      3.72G     0.7749     0.9736     0.9517        371        640: 100%|██████████| 2/2 [00:00<00:00,  4.06it/s]\n",
            "                 Class     Images  Instances      Box(P          R      mAP50  mAP50-95): 100%|██████████| 1/1 [00:00<00:00,  3.76it/s]"
          ]
        },
        {
          "output_type": "stream",
          "name": "stdout",
          "text": [
            "                   all          9        211      0.834      0.704      0.788       0.61\n"
          ]
        },
        {
          "output_type": "stream",
          "name": "stderr",
          "text": [
            "\n"
          ]
        },
        {
          "output_type": "stream",
          "name": "stdout",
          "text": [
            "\n",
            "      Epoch    GPU_mem   box_loss   cls_loss   dfl_loss  Instances       Size\n"
          ]
        },
        {
          "output_type": "stream",
          "name": "stderr",
          "text": [
            "      43/50      3.74G     0.7724     0.9896     0.9433        376        640: 100%|██████████| 2/2 [00:00<00:00,  5.34it/s]\n",
            "                 Class     Images  Instances      Box(P          R      mAP50  mAP50-95): 100%|██████████| 1/1 [00:00<00:00,  7.89it/s]"
          ]
        },
        {
          "output_type": "stream",
          "name": "stdout",
          "text": [
            "                   all          9        211      0.834      0.704      0.788       0.61\n"
          ]
        },
        {
          "output_type": "stream",
          "name": "stderr",
          "text": [
            "\n"
          ]
        },
        {
          "output_type": "stream",
          "name": "stdout",
          "text": [
            "\n",
            "      Epoch    GPU_mem   box_loss   cls_loss   dfl_loss  Instances       Size\n"
          ]
        },
        {
          "output_type": "stream",
          "name": "stderr",
          "text": [
            "      44/50      3.75G     0.7901     0.9775     0.9445        389        640: 100%|██████████| 2/2 [00:00<00:00,  5.13it/s]\n",
            "                 Class     Images  Instances      Box(P          R      mAP50  mAP50-95): 100%|██████████| 1/1 [00:00<00:00,  6.70it/s]"
          ]
        },
        {
          "output_type": "stream",
          "name": "stdout",
          "text": [
            "                   all          9        211      0.835      0.731      0.797       0.62\n"
          ]
        },
        {
          "output_type": "stream",
          "name": "stderr",
          "text": [
            "\n"
          ]
        },
        {
          "output_type": "stream",
          "name": "stdout",
          "text": [
            "\n",
            "      Epoch    GPU_mem   box_loss   cls_loss   dfl_loss  Instances       Size\n"
          ]
        },
        {
          "output_type": "stream",
          "name": "stderr",
          "text": [
            "      45/50      3.77G     0.7247     0.8762     0.9401        391        640: 100%|██████████| 2/2 [00:00<00:00,  6.55it/s]\n",
            "                 Class     Images  Instances      Box(P          R      mAP50  mAP50-95): 100%|██████████| 1/1 [00:00<00:00, 10.95it/s]"
          ]
        },
        {
          "output_type": "stream",
          "name": "stdout",
          "text": [
            "                   all          9        211      0.835      0.731      0.797       0.62\n"
          ]
        },
        {
          "output_type": "stream",
          "name": "stderr",
          "text": [
            "\n"
          ]
        },
        {
          "output_type": "stream",
          "name": "stdout",
          "text": [
            "\n",
            "      Epoch    GPU_mem   box_loss   cls_loss   dfl_loss  Instances       Size\n"
          ]
        },
        {
          "output_type": "stream",
          "name": "stderr",
          "text": [
            "      46/50      3.79G     0.7482      0.899     0.9222        383        640: 100%|██████████| 2/2 [00:00<00:00,  5.02it/s]\n",
            "                 Class     Images  Instances      Box(P          R      mAP50  mAP50-95): 100%|██████████| 1/1 [00:00<00:00,  7.97it/s]"
          ]
        },
        {
          "output_type": "stream",
          "name": "stdout",
          "text": [
            "                   all          9        211      0.838      0.739      0.804      0.627\n"
          ]
        },
        {
          "output_type": "stream",
          "name": "stderr",
          "text": [
            "\n"
          ]
        },
        {
          "output_type": "stream",
          "name": "stdout",
          "text": [
            "\n",
            "      Epoch    GPU_mem   box_loss   cls_loss   dfl_loss  Instances       Size\n"
          ]
        },
        {
          "output_type": "stream",
          "name": "stderr",
          "text": [
            "      47/50      3.81G     0.7659      0.851     0.9326        389        640: 100%|██████████| 2/2 [00:00<00:00,  4.42it/s]\n",
            "                 Class     Images  Instances      Box(P          R      mAP50  mAP50-95): 100%|██████████| 1/1 [00:00<00:00, 11.19it/s]"
          ]
        },
        {
          "output_type": "stream",
          "name": "stdout",
          "text": [
            "                   all          9        211      0.838      0.739      0.804      0.627\n"
          ]
        },
        {
          "output_type": "stream",
          "name": "stderr",
          "text": [
            "\n"
          ]
        },
        {
          "output_type": "stream",
          "name": "stdout",
          "text": [
            "\n",
            "      Epoch    GPU_mem   box_loss   cls_loss   dfl_loss  Instances       Size\n"
          ]
        },
        {
          "output_type": "stream",
          "name": "stderr",
          "text": [
            "      48/50      3.82G      0.734     0.8559     0.9236        374        640: 100%|██████████| 2/2 [00:00<00:00,  5.24it/s]\n",
            "                 Class     Images  Instances      Box(P          R      mAP50  mAP50-95): 100%|██████████| 1/1 [00:00<00:00,  8.82it/s]"
          ]
        },
        {
          "output_type": "stream",
          "name": "stdout",
          "text": [
            "                   all          9        211      0.849      0.729      0.812      0.636\n"
          ]
        },
        {
          "output_type": "stream",
          "name": "stderr",
          "text": [
            "\n"
          ]
        },
        {
          "output_type": "stream",
          "name": "stdout",
          "text": [
            "\n",
            "      Epoch    GPU_mem   box_loss   cls_loss   dfl_loss  Instances       Size\n"
          ]
        },
        {
          "output_type": "stream",
          "name": "stderr",
          "text": [
            "      49/50      3.84G     0.7542      0.863     0.9339        376        640: 100%|██████████| 2/2 [00:00<00:00,  5.03it/s]\n",
            "                 Class     Images  Instances      Box(P          R      mAP50  mAP50-95): 100%|██████████| 1/1 [00:00<00:00,  4.99it/s]"
          ]
        },
        {
          "output_type": "stream",
          "name": "stdout",
          "text": [
            "                   all          9        211      0.849      0.729      0.812      0.636\n"
          ]
        },
        {
          "output_type": "stream",
          "name": "stderr",
          "text": [
            "\n"
          ]
        },
        {
          "output_type": "stream",
          "name": "stdout",
          "text": [
            "\n",
            "      Epoch    GPU_mem   box_loss   cls_loss   dfl_loss  Instances       Size\n"
          ]
        },
        {
          "output_type": "stream",
          "name": "stderr",
          "text": [
            "      50/50      3.86G     0.7531     0.8689     0.9389        395        640: 100%|██████████| 2/2 [00:00<00:00,  3.55it/s]\n",
            "                 Class     Images  Instances      Box(P          R      mAP50  mAP50-95): 100%|██████████| 1/1 [00:00<00:00,  3.62it/s]"
          ]
        },
        {
          "output_type": "stream",
          "name": "stdout",
          "text": [
            "                   all          9        211      0.851      0.741      0.821      0.642\n"
          ]
        },
        {
          "output_type": "stream",
          "name": "stderr",
          "text": [
            "\n"
          ]
        },
        {
          "output_type": "stream",
          "name": "stdout",
          "text": [
            "\n",
            "50 epochs completed in 0.014 hours.\n",
            "Optimizer stripped from runs/detect/rf_yolov8_customer_table_chair/weights/last.pt, 6.2MB\n",
            "Optimizer stripped from runs/detect/rf_yolov8_customer_table_chair/weights/best.pt, 6.2MB\n",
            "\n",
            "Validating runs/detect/rf_yolov8_customer_table_chair/weights/best.pt...\n",
            "Ultralytics 8.3.168 🚀 Python-3.11.13 torch-2.6.0+cu124 CUDA:0 (Tesla T4, 15095MiB)\n",
            "Model summary (fused): 72 layers, 3,006,233 parameters, 0 gradients, 8.1 GFLOPs\n"
          ]
        },
        {
          "output_type": "stream",
          "name": "stderr",
          "text": [
            "                 Class     Images  Instances      Box(P          R      mAP50  mAP50-95): 100%|██████████| 1/1 [00:00<00:00, 12.03it/s]\n"
          ]
        },
        {
          "output_type": "stream",
          "name": "stdout",
          "text": [
            "                   all          9        211      0.851      0.741       0.82      0.643\n",
            "                 chair          9         30      0.743      0.833      0.811      0.629\n",
            "              customer          9        100      0.897      0.609      0.773      0.584\n",
            "                 table          9         81      0.913      0.782      0.877      0.716\n",
            "Speed: 0.3ms preprocess, 1.9ms inference, 0.0ms loss, 1.6ms postprocess per image\n",
            "Results saved to \u001b[1mruns/detect/rf_yolov8_customer_table_chair\u001b[0m\n"
          ]
        },
        {
          "output_type": "execute_result",
          "data": {
            "text/plain": [
              "ultralytics.utils.metrics.DetMetrics object with attributes:\n",
              "\n",
              "ap_class_index: array([0, 1, 2])\n",
              "box: ultralytics.utils.metrics.Metric object\n",
              "confusion_matrix: <ultralytics.utils.metrics.ConfusionMatrix object at 0x7a79101609d0>\n",
              "curves: ['Precision-Recall(B)', 'F1-Confidence(B)', 'Precision-Confidence(B)', 'Recall-Confidence(B)']\n",
              "curves_results: [[array([          0,    0.001001,    0.002002,    0.003003,    0.004004,    0.005005,    0.006006,    0.007007,    0.008008,    0.009009,     0.01001,    0.011011,    0.012012,    0.013013,    0.014014,    0.015015,    0.016016,    0.017017,    0.018018,    0.019019,     0.02002,    0.021021,    0.022022,    0.023023,\n",
              "          0.024024,    0.025025,    0.026026,    0.027027,    0.028028,    0.029029,     0.03003,    0.031031,    0.032032,    0.033033,    0.034034,    0.035035,    0.036036,    0.037037,    0.038038,    0.039039,     0.04004,    0.041041,    0.042042,    0.043043,    0.044044,    0.045045,    0.046046,    0.047047,\n",
              "          0.048048,    0.049049,     0.05005,    0.051051,    0.052052,    0.053053,    0.054054,    0.055055,    0.056056,    0.057057,    0.058058,    0.059059,     0.06006,    0.061061,    0.062062,    0.063063,    0.064064,    0.065065,    0.066066,    0.067067,    0.068068,    0.069069,     0.07007,    0.071071,\n",
              "          0.072072,    0.073073,    0.074074,    0.075075,    0.076076,    0.077077,    0.078078,    0.079079,     0.08008,    0.081081,    0.082082,    0.083083,    0.084084,    0.085085,    0.086086,    0.087087,    0.088088,    0.089089,     0.09009,    0.091091,    0.092092,    0.093093,    0.094094,    0.095095,\n",
              "          0.096096,    0.097097,    0.098098,    0.099099,      0.1001,      0.1011,      0.1021,      0.1031,      0.1041,     0.10511,     0.10611,     0.10711,     0.10811,     0.10911,     0.11011,     0.11111,     0.11211,     0.11311,     0.11411,     0.11512,     0.11612,     0.11712,     0.11812,     0.11912,\n",
              "           0.12012,     0.12112,     0.12212,     0.12312,     0.12412,     0.12513,     0.12613,     0.12713,     0.12813,     0.12913,     0.13013,     0.13113,     0.13213,     0.13313,     0.13413,     0.13514,     0.13614,     0.13714,     0.13814,     0.13914,     0.14014,     0.14114,     0.14214,     0.14314,\n",
              "           0.14414,     0.14515,     0.14615,     0.14715,     0.14815,     0.14915,     0.15015,     0.15115,     0.15215,     0.15315,     0.15415,     0.15516,     0.15616,     0.15716,     0.15816,     0.15916,     0.16016,     0.16116,     0.16216,     0.16316,     0.16416,     0.16517,     0.16617,     0.16717,\n",
              "           0.16817,     0.16917,     0.17017,     0.17117,     0.17217,     0.17317,     0.17417,     0.17518,     0.17618,     0.17718,     0.17818,     0.17918,     0.18018,     0.18118,     0.18218,     0.18318,     0.18418,     0.18519,     0.18619,     0.18719,     0.18819,     0.18919,     0.19019,     0.19119,\n",
              "           0.19219,     0.19319,     0.19419,      0.1952,      0.1962,      0.1972,      0.1982,      0.1992,      0.2002,      0.2012,      0.2022,      0.2032,      0.2042,     0.20521,     0.20621,     0.20721,     0.20821,     0.20921,     0.21021,     0.21121,     0.21221,     0.21321,     0.21421,     0.21522,\n",
              "           0.21622,     0.21722,     0.21822,     0.21922,     0.22022,     0.22122,     0.22222,     0.22322,     0.22422,     0.22523,     0.22623,     0.22723,     0.22823,     0.22923,     0.23023,     0.23123,     0.23223,     0.23323,     0.23423,     0.23524,     0.23624,     0.23724,     0.23824,     0.23924,\n",
              "           0.24024,     0.24124,     0.24224,     0.24324,     0.24424,     0.24525,     0.24625,     0.24725,     0.24825,     0.24925,     0.25025,     0.25125,     0.25225,     0.25325,     0.25425,     0.25526,     0.25626,     0.25726,     0.25826,     0.25926,     0.26026,     0.26126,     0.26226,     0.26326,\n",
              "           0.26426,     0.26527,     0.26627,     0.26727,     0.26827,     0.26927,     0.27027,     0.27127,     0.27227,     0.27327,     0.27427,     0.27528,     0.27628,     0.27728,     0.27828,     0.27928,     0.28028,     0.28128,     0.28228,     0.28328,     0.28428,     0.28529,     0.28629,     0.28729,\n",
              "           0.28829,     0.28929,     0.29029,     0.29129,     0.29229,     0.29329,     0.29429,      0.2953,      0.2963,      0.2973,      0.2983,      0.2993,      0.3003,      0.3013,      0.3023,      0.3033,      0.3043,     0.30531,     0.30631,     0.30731,     0.30831,     0.30931,     0.31031,     0.31131,\n",
              "           0.31231,     0.31331,     0.31431,     0.31532,     0.31632,     0.31732,     0.31832,     0.31932,     0.32032,     0.32132,     0.32232,     0.32332,     0.32432,     0.32533,     0.32633,     0.32733,     0.32833,     0.32933,     0.33033,     0.33133,     0.33233,     0.33333,     0.33433,     0.33534,\n",
              "           0.33634,     0.33734,     0.33834,     0.33934,     0.34034,     0.34134,     0.34234,     0.34334,     0.34434,     0.34535,     0.34635,     0.34735,     0.34835,     0.34935,     0.35035,     0.35135,     0.35235,     0.35335,     0.35435,     0.35536,     0.35636,     0.35736,     0.35836,     0.35936,\n",
              "           0.36036,     0.36136,     0.36236,     0.36336,     0.36436,     0.36537,     0.36637,     0.36737,     0.36837,     0.36937,     0.37037,     0.37137,     0.37237,     0.37337,     0.37437,     0.37538,     0.37638,     0.37738,     0.37838,     0.37938,     0.38038,     0.38138,     0.38238,     0.38338,\n",
              "           0.38438,     0.38539,     0.38639,     0.38739,     0.38839,     0.38939,     0.39039,     0.39139,     0.39239,     0.39339,     0.39439,      0.3954,      0.3964,      0.3974,      0.3984,      0.3994,      0.4004,      0.4014,      0.4024,      0.4034,      0.4044,     0.40541,     0.40641,     0.40741,\n",
              "           0.40841,     0.40941,     0.41041,     0.41141,     0.41241,     0.41341,     0.41441,     0.41542,     0.41642,     0.41742,     0.41842,     0.41942,     0.42042,     0.42142,     0.42242,     0.42342,     0.42442,     0.42543,     0.42643,     0.42743,     0.42843,     0.42943,     0.43043,     0.43143,\n",
              "           0.43243,     0.43343,     0.43443,     0.43544,     0.43644,     0.43744,     0.43844,     0.43944,     0.44044,     0.44144,     0.44244,     0.44344,     0.44444,     0.44545,     0.44645,     0.44745,     0.44845,     0.44945,     0.45045,     0.45145,     0.45245,     0.45345,     0.45445,     0.45546,\n",
              "           0.45646,     0.45746,     0.45846,     0.45946,     0.46046,     0.46146,     0.46246,     0.46346,     0.46446,     0.46547,     0.46647,     0.46747,     0.46847,     0.46947,     0.47047,     0.47147,     0.47247,     0.47347,     0.47447,     0.47548,     0.47648,     0.47748,     0.47848,     0.47948,\n",
              "           0.48048,     0.48148,     0.48248,     0.48348,     0.48448,     0.48549,     0.48649,     0.48749,     0.48849,     0.48949,     0.49049,     0.49149,     0.49249,     0.49349,     0.49449,      0.4955,      0.4965,      0.4975,      0.4985,      0.4995,      0.5005,      0.5015,      0.5025,      0.5035,\n",
              "            0.5045,     0.50551,     0.50651,     0.50751,     0.50851,     0.50951,     0.51051,     0.51151,     0.51251,     0.51351,     0.51451,     0.51552,     0.51652,     0.51752,     0.51852,     0.51952,     0.52052,     0.52152,     0.52252,     0.52352,     0.52452,     0.52553,     0.52653,     0.52753,\n",
              "           0.52853,     0.52953,     0.53053,     0.53153,     0.53253,     0.53353,     0.53453,     0.53554,     0.53654,     0.53754,     0.53854,     0.53954,     0.54054,     0.54154,     0.54254,     0.54354,     0.54454,     0.54555,     0.54655,     0.54755,     0.54855,     0.54955,     0.55055,     0.55155,\n",
              "           0.55255,     0.55355,     0.55455,     0.55556,     0.55656,     0.55756,     0.55856,     0.55956,     0.56056,     0.56156,     0.56256,     0.56356,     0.56456,     0.56557,     0.56657,     0.56757,     0.56857,     0.56957,     0.57057,     0.57157,     0.57257,     0.57357,     0.57457,     0.57558,\n",
              "           0.57658,     0.57758,     0.57858,     0.57958,     0.58058,     0.58158,     0.58258,     0.58358,     0.58458,     0.58559,     0.58659,     0.58759,     0.58859,     0.58959,     0.59059,     0.59159,     0.59259,     0.59359,     0.59459,      0.5956,      0.5966,      0.5976,      0.5986,      0.5996,\n",
              "            0.6006,      0.6016,      0.6026,      0.6036,      0.6046,     0.60561,     0.60661,     0.60761,     0.60861,     0.60961,     0.61061,     0.61161,     0.61261,     0.61361,     0.61461,     0.61562,     0.61662,     0.61762,     0.61862,     0.61962,     0.62062,     0.62162,     0.62262,     0.62362,\n",
              "           0.62462,     0.62563,     0.62663,     0.62763,     0.62863,     0.62963,     0.63063,     0.63163,     0.63263,     0.63363,     0.63463,     0.63564,     0.63664,     0.63764,     0.63864,     0.63964,     0.64064,     0.64164,     0.64264,     0.64364,     0.64464,     0.64565,     0.64665,     0.64765,\n",
              "           0.64865,     0.64965,     0.65065,     0.65165,     0.65265,     0.65365,     0.65465,     0.65566,     0.65666,     0.65766,     0.65866,     0.65966,     0.66066,     0.66166,     0.66266,     0.66366,     0.66466,     0.66567,     0.66667,     0.66767,     0.66867,     0.66967,     0.67067,     0.67167,\n",
              "           0.67267,     0.67367,     0.67467,     0.67568,     0.67668,     0.67768,     0.67868,     0.67968,     0.68068,     0.68168,     0.68268,     0.68368,     0.68468,     0.68569,     0.68669,     0.68769,     0.68869,     0.68969,     0.69069,     0.69169,     0.69269,     0.69369,     0.69469,      0.6957,\n",
              "            0.6967,      0.6977,      0.6987,      0.6997,      0.7007,      0.7017,      0.7027,      0.7037,      0.7047,     0.70571,     0.70671,     0.70771,     0.70871,     0.70971,     0.71071,     0.71171,     0.71271,     0.71371,     0.71471,     0.71572,     0.71672,     0.71772,     0.71872,     0.71972,\n",
              "           0.72072,     0.72172,     0.72272,     0.72372,     0.72472,     0.72573,     0.72673,     0.72773,     0.72873,     0.72973,     0.73073,     0.73173,     0.73273,     0.73373,     0.73473,     0.73574,     0.73674,     0.73774,     0.73874,     0.73974,     0.74074,     0.74174,     0.74274,     0.74374,\n",
              "           0.74474,     0.74575,     0.74675,     0.74775,     0.74875,     0.74975,     0.75075,     0.75175,     0.75275,     0.75375,     0.75475,     0.75576,     0.75676,     0.75776,     0.75876,     0.75976,     0.76076,     0.76176,     0.76276,     0.76376,     0.76476,     0.76577,     0.76677,     0.76777,\n",
              "           0.76877,     0.76977,     0.77077,     0.77177,     0.77277,     0.77377,     0.77477,     0.77578,     0.77678,     0.77778,     0.77878,     0.77978,     0.78078,     0.78178,     0.78278,     0.78378,     0.78478,     0.78579,     0.78679,     0.78779,     0.78879,     0.78979,     0.79079,     0.79179,\n",
              "           0.79279,     0.79379,     0.79479,      0.7958,      0.7968,      0.7978,      0.7988,      0.7998,      0.8008,      0.8018,      0.8028,      0.8038,      0.8048,     0.80581,     0.80681,     0.80781,     0.80881,     0.80981,     0.81081,     0.81181,     0.81281,     0.81381,     0.81481,     0.81582,\n",
              "           0.81682,     0.81782,     0.81882,     0.81982,     0.82082,     0.82182,     0.82282,     0.82382,     0.82482,     0.82583,     0.82683,     0.82783,     0.82883,     0.82983,     0.83083,     0.83183,     0.83283,     0.83383,     0.83483,     0.83584,     0.83684,     0.83784,     0.83884,     0.83984,\n",
              "           0.84084,     0.84184,     0.84284,     0.84384,     0.84484,     0.84585,     0.84685,     0.84785,     0.84885,     0.84985,     0.85085,     0.85185,     0.85285,     0.85385,     0.85485,     0.85586,     0.85686,     0.85786,     0.85886,     0.85986,     0.86086,     0.86186,     0.86286,     0.86386,\n",
              "           0.86486,     0.86587,     0.86687,     0.86787,     0.86887,     0.86987,     0.87087,     0.87187,     0.87287,     0.87387,     0.87487,     0.87588,     0.87688,     0.87788,     0.87888,     0.87988,     0.88088,     0.88188,     0.88288,     0.88388,     0.88488,     0.88589,     0.88689,     0.88789,\n",
              "           0.88889,     0.88989,     0.89089,     0.89189,     0.89289,     0.89389,     0.89489,      0.8959,      0.8969,      0.8979,      0.8989,      0.8999,      0.9009,      0.9019,      0.9029,      0.9039,      0.9049,     0.90591,     0.90691,     0.90791,     0.90891,     0.90991,     0.91091,     0.91191,\n",
              "           0.91291,     0.91391,     0.91491,     0.91592,     0.91692,     0.91792,     0.91892,     0.91992,     0.92092,     0.92192,     0.92292,     0.92392,     0.92492,     0.92593,     0.92693,     0.92793,     0.92893,     0.92993,     0.93093,     0.93193,     0.93293,     0.93393,     0.93493,     0.93594,\n",
              "           0.93694,     0.93794,     0.93894,     0.93994,     0.94094,     0.94194,     0.94294,     0.94394,     0.94494,     0.94595,     0.94695,     0.94795,     0.94895,     0.94995,     0.95095,     0.95195,     0.95295,     0.95395,     0.95495,     0.95596,     0.95696,     0.95796,     0.95896,     0.95996,\n",
              "           0.96096,     0.96196,     0.96296,     0.96396,     0.96496,     0.96597,     0.96697,     0.96797,     0.96897,     0.96997,     0.97097,     0.97197,     0.97297,     0.97397,     0.97497,     0.97598,     0.97698,     0.97798,     0.97898,     0.97998,     0.98098,     0.98198,     0.98298,     0.98398,\n",
              "           0.98498,     0.98599,     0.98699,     0.98799,     0.98899,     0.98999,     0.99099,     0.99199,     0.99299,     0.99399,     0.99499,       0.996,       0.997,       0.998,       0.999,           1]), array([[          1,           1,           1, ...,   0.0021371,   0.0010686,           0],\n",
              "       [          1,           1,           1, ...,   0.0091818,   0.0045909,           0],\n",
              "       [          1,           1,           1, ...,   0.0026454,   0.0013227,           0]]), 'Recall', 'Precision'], [array([          0,    0.001001,    0.002002,    0.003003,    0.004004,    0.005005,    0.006006,    0.007007,    0.008008,    0.009009,     0.01001,    0.011011,    0.012012,    0.013013,    0.014014,    0.015015,    0.016016,    0.017017,    0.018018,    0.019019,     0.02002,    0.021021,    0.022022,    0.023023,\n",
              "          0.024024,    0.025025,    0.026026,    0.027027,    0.028028,    0.029029,     0.03003,    0.031031,    0.032032,    0.033033,    0.034034,    0.035035,    0.036036,    0.037037,    0.038038,    0.039039,     0.04004,    0.041041,    0.042042,    0.043043,    0.044044,    0.045045,    0.046046,    0.047047,\n",
              "          0.048048,    0.049049,     0.05005,    0.051051,    0.052052,    0.053053,    0.054054,    0.055055,    0.056056,    0.057057,    0.058058,    0.059059,     0.06006,    0.061061,    0.062062,    0.063063,    0.064064,    0.065065,    0.066066,    0.067067,    0.068068,    0.069069,     0.07007,    0.071071,\n",
              "          0.072072,    0.073073,    0.074074,    0.075075,    0.076076,    0.077077,    0.078078,    0.079079,     0.08008,    0.081081,    0.082082,    0.083083,    0.084084,    0.085085,    0.086086,    0.087087,    0.088088,    0.089089,     0.09009,    0.091091,    0.092092,    0.093093,    0.094094,    0.095095,\n",
              "          0.096096,    0.097097,    0.098098,    0.099099,      0.1001,      0.1011,      0.1021,      0.1031,      0.1041,     0.10511,     0.10611,     0.10711,     0.10811,     0.10911,     0.11011,     0.11111,     0.11211,     0.11311,     0.11411,     0.11512,     0.11612,     0.11712,     0.11812,     0.11912,\n",
              "           0.12012,     0.12112,     0.12212,     0.12312,     0.12412,     0.12513,     0.12613,     0.12713,     0.12813,     0.12913,     0.13013,     0.13113,     0.13213,     0.13313,     0.13413,     0.13514,     0.13614,     0.13714,     0.13814,     0.13914,     0.14014,     0.14114,     0.14214,     0.14314,\n",
              "           0.14414,     0.14515,     0.14615,     0.14715,     0.14815,     0.14915,     0.15015,     0.15115,     0.15215,     0.15315,     0.15415,     0.15516,     0.15616,     0.15716,     0.15816,     0.15916,     0.16016,     0.16116,     0.16216,     0.16316,     0.16416,     0.16517,     0.16617,     0.16717,\n",
              "           0.16817,     0.16917,     0.17017,     0.17117,     0.17217,     0.17317,     0.17417,     0.17518,     0.17618,     0.17718,     0.17818,     0.17918,     0.18018,     0.18118,     0.18218,     0.18318,     0.18418,     0.18519,     0.18619,     0.18719,     0.18819,     0.18919,     0.19019,     0.19119,\n",
              "           0.19219,     0.19319,     0.19419,      0.1952,      0.1962,      0.1972,      0.1982,      0.1992,      0.2002,      0.2012,      0.2022,      0.2032,      0.2042,     0.20521,     0.20621,     0.20721,     0.20821,     0.20921,     0.21021,     0.21121,     0.21221,     0.21321,     0.21421,     0.21522,\n",
              "           0.21622,     0.21722,     0.21822,     0.21922,     0.22022,     0.22122,     0.22222,     0.22322,     0.22422,     0.22523,     0.22623,     0.22723,     0.22823,     0.22923,     0.23023,     0.23123,     0.23223,     0.23323,     0.23423,     0.23524,     0.23624,     0.23724,     0.23824,     0.23924,\n",
              "           0.24024,     0.24124,     0.24224,     0.24324,     0.24424,     0.24525,     0.24625,     0.24725,     0.24825,     0.24925,     0.25025,     0.25125,     0.25225,     0.25325,     0.25425,     0.25526,     0.25626,     0.25726,     0.25826,     0.25926,     0.26026,     0.26126,     0.26226,     0.26326,\n",
              "           0.26426,     0.26527,     0.26627,     0.26727,     0.26827,     0.26927,     0.27027,     0.27127,     0.27227,     0.27327,     0.27427,     0.27528,     0.27628,     0.27728,     0.27828,     0.27928,     0.28028,     0.28128,     0.28228,     0.28328,     0.28428,     0.28529,     0.28629,     0.28729,\n",
              "           0.28829,     0.28929,     0.29029,     0.29129,     0.29229,     0.29329,     0.29429,      0.2953,      0.2963,      0.2973,      0.2983,      0.2993,      0.3003,      0.3013,      0.3023,      0.3033,      0.3043,     0.30531,     0.30631,     0.30731,     0.30831,     0.30931,     0.31031,     0.31131,\n",
              "           0.31231,     0.31331,     0.31431,     0.31532,     0.31632,     0.31732,     0.31832,     0.31932,     0.32032,     0.32132,     0.32232,     0.32332,     0.32432,     0.32533,     0.32633,     0.32733,     0.32833,     0.32933,     0.33033,     0.33133,     0.33233,     0.33333,     0.33433,     0.33534,\n",
              "           0.33634,     0.33734,     0.33834,     0.33934,     0.34034,     0.34134,     0.34234,     0.34334,     0.34434,     0.34535,     0.34635,     0.34735,     0.34835,     0.34935,     0.35035,     0.35135,     0.35235,     0.35335,     0.35435,     0.35536,     0.35636,     0.35736,     0.35836,     0.35936,\n",
              "           0.36036,     0.36136,     0.36236,     0.36336,     0.36436,     0.36537,     0.36637,     0.36737,     0.36837,     0.36937,     0.37037,     0.37137,     0.37237,     0.37337,     0.37437,     0.37538,     0.37638,     0.37738,     0.37838,     0.37938,     0.38038,     0.38138,     0.38238,     0.38338,\n",
              "           0.38438,     0.38539,     0.38639,     0.38739,     0.38839,     0.38939,     0.39039,     0.39139,     0.39239,     0.39339,     0.39439,      0.3954,      0.3964,      0.3974,      0.3984,      0.3994,      0.4004,      0.4014,      0.4024,      0.4034,      0.4044,     0.40541,     0.40641,     0.40741,\n",
              "           0.40841,     0.40941,     0.41041,     0.41141,     0.41241,     0.41341,     0.41441,     0.41542,     0.41642,     0.41742,     0.41842,     0.41942,     0.42042,     0.42142,     0.42242,     0.42342,     0.42442,     0.42543,     0.42643,     0.42743,     0.42843,     0.42943,     0.43043,     0.43143,\n",
              "           0.43243,     0.43343,     0.43443,     0.43544,     0.43644,     0.43744,     0.43844,     0.43944,     0.44044,     0.44144,     0.44244,     0.44344,     0.44444,     0.44545,     0.44645,     0.44745,     0.44845,     0.44945,     0.45045,     0.45145,     0.45245,     0.45345,     0.45445,     0.45546,\n",
              "           0.45646,     0.45746,     0.45846,     0.45946,     0.46046,     0.46146,     0.46246,     0.46346,     0.46446,     0.46547,     0.46647,     0.46747,     0.46847,     0.46947,     0.47047,     0.47147,     0.47247,     0.47347,     0.47447,     0.47548,     0.47648,     0.47748,     0.47848,     0.47948,\n",
              "           0.48048,     0.48148,     0.48248,     0.48348,     0.48448,     0.48549,     0.48649,     0.48749,     0.48849,     0.48949,     0.49049,     0.49149,     0.49249,     0.49349,     0.49449,      0.4955,      0.4965,      0.4975,      0.4985,      0.4995,      0.5005,      0.5015,      0.5025,      0.5035,\n",
              "            0.5045,     0.50551,     0.50651,     0.50751,     0.50851,     0.50951,     0.51051,     0.51151,     0.51251,     0.51351,     0.51451,     0.51552,     0.51652,     0.51752,     0.51852,     0.51952,     0.52052,     0.52152,     0.52252,     0.52352,     0.52452,     0.52553,     0.52653,     0.52753,\n",
              "           0.52853,     0.52953,     0.53053,     0.53153,     0.53253,     0.53353,     0.53453,     0.53554,     0.53654,     0.53754,     0.53854,     0.53954,     0.54054,     0.54154,     0.54254,     0.54354,     0.54454,     0.54555,     0.54655,     0.54755,     0.54855,     0.54955,     0.55055,     0.55155,\n",
              "           0.55255,     0.55355,     0.55455,     0.55556,     0.55656,     0.55756,     0.55856,     0.55956,     0.56056,     0.56156,     0.56256,     0.56356,     0.56456,     0.56557,     0.56657,     0.56757,     0.56857,     0.56957,     0.57057,     0.57157,     0.57257,     0.57357,     0.57457,     0.57558,\n",
              "           0.57658,     0.57758,     0.57858,     0.57958,     0.58058,     0.58158,     0.58258,     0.58358,     0.58458,     0.58559,     0.58659,     0.58759,     0.58859,     0.58959,     0.59059,     0.59159,     0.59259,     0.59359,     0.59459,      0.5956,      0.5966,      0.5976,      0.5986,      0.5996,\n",
              "            0.6006,      0.6016,      0.6026,      0.6036,      0.6046,     0.60561,     0.60661,     0.60761,     0.60861,     0.60961,     0.61061,     0.61161,     0.61261,     0.61361,     0.61461,     0.61562,     0.61662,     0.61762,     0.61862,     0.61962,     0.62062,     0.62162,     0.62262,     0.62362,\n",
              "           0.62462,     0.62563,     0.62663,     0.62763,     0.62863,     0.62963,     0.63063,     0.63163,     0.63263,     0.63363,     0.63463,     0.63564,     0.63664,     0.63764,     0.63864,     0.63964,     0.64064,     0.64164,     0.64264,     0.64364,     0.64464,     0.64565,     0.64665,     0.64765,\n",
              "           0.64865,     0.64965,     0.65065,     0.65165,     0.65265,     0.65365,     0.65465,     0.65566,     0.65666,     0.65766,     0.65866,     0.65966,     0.66066,     0.66166,     0.66266,     0.66366,     0.66466,     0.66567,     0.66667,     0.66767,     0.66867,     0.66967,     0.67067,     0.67167,\n",
              "           0.67267,     0.67367,     0.67467,     0.67568,     0.67668,     0.67768,     0.67868,     0.67968,     0.68068,     0.68168,     0.68268,     0.68368,     0.68468,     0.68569,     0.68669,     0.68769,     0.68869,     0.68969,     0.69069,     0.69169,     0.69269,     0.69369,     0.69469,      0.6957,\n",
              "            0.6967,      0.6977,      0.6987,      0.6997,      0.7007,      0.7017,      0.7027,      0.7037,      0.7047,     0.70571,     0.70671,     0.70771,     0.70871,     0.70971,     0.71071,     0.71171,     0.71271,     0.71371,     0.71471,     0.71572,     0.71672,     0.71772,     0.71872,     0.71972,\n",
              "           0.72072,     0.72172,     0.72272,     0.72372,     0.72472,     0.72573,     0.72673,     0.72773,     0.72873,     0.72973,     0.73073,     0.73173,     0.73273,     0.73373,     0.73473,     0.73574,     0.73674,     0.73774,     0.73874,     0.73974,     0.74074,     0.74174,     0.74274,     0.74374,\n",
              "           0.74474,     0.74575,     0.74675,     0.74775,     0.74875,     0.74975,     0.75075,     0.75175,     0.75275,     0.75375,     0.75475,     0.75576,     0.75676,     0.75776,     0.75876,     0.75976,     0.76076,     0.76176,     0.76276,     0.76376,     0.76476,     0.76577,     0.76677,     0.76777,\n",
              "           0.76877,     0.76977,     0.77077,     0.77177,     0.77277,     0.77377,     0.77477,     0.77578,     0.77678,     0.77778,     0.77878,     0.77978,     0.78078,     0.78178,     0.78278,     0.78378,     0.78478,     0.78579,     0.78679,     0.78779,     0.78879,     0.78979,     0.79079,     0.79179,\n",
              "           0.79279,     0.79379,     0.79479,      0.7958,      0.7968,      0.7978,      0.7988,      0.7998,      0.8008,      0.8018,      0.8028,      0.8038,      0.8048,     0.80581,     0.80681,     0.80781,     0.80881,     0.80981,     0.81081,     0.81181,     0.81281,     0.81381,     0.81481,     0.81582,\n",
              "           0.81682,     0.81782,     0.81882,     0.81982,     0.82082,     0.82182,     0.82282,     0.82382,     0.82482,     0.82583,     0.82683,     0.82783,     0.82883,     0.82983,     0.83083,     0.83183,     0.83283,     0.83383,     0.83483,     0.83584,     0.83684,     0.83784,     0.83884,     0.83984,\n",
              "           0.84084,     0.84184,     0.84284,     0.84384,     0.84484,     0.84585,     0.84685,     0.84785,     0.84885,     0.84985,     0.85085,     0.85185,     0.85285,     0.85385,     0.85485,     0.85586,     0.85686,     0.85786,     0.85886,     0.85986,     0.86086,     0.86186,     0.86286,     0.86386,\n",
              "           0.86486,     0.86587,     0.86687,     0.86787,     0.86887,     0.86987,     0.87087,     0.87187,     0.87287,     0.87387,     0.87487,     0.87588,     0.87688,     0.87788,     0.87888,     0.87988,     0.88088,     0.88188,     0.88288,     0.88388,     0.88488,     0.88589,     0.88689,     0.88789,\n",
              "           0.88889,     0.88989,     0.89089,     0.89189,     0.89289,     0.89389,     0.89489,      0.8959,      0.8969,      0.8979,      0.8989,      0.8999,      0.9009,      0.9019,      0.9029,      0.9039,      0.9049,     0.90591,     0.90691,     0.90791,     0.90891,     0.90991,     0.91091,     0.91191,\n",
              "           0.91291,     0.91391,     0.91491,     0.91592,     0.91692,     0.91792,     0.91892,     0.91992,     0.92092,     0.92192,     0.92292,     0.92392,     0.92492,     0.92593,     0.92693,     0.92793,     0.92893,     0.92993,     0.93093,     0.93193,     0.93293,     0.93393,     0.93493,     0.93594,\n",
              "           0.93694,     0.93794,     0.93894,     0.93994,     0.94094,     0.94194,     0.94294,     0.94394,     0.94494,     0.94595,     0.94695,     0.94795,     0.94895,     0.94995,     0.95095,     0.95195,     0.95295,     0.95395,     0.95495,     0.95596,     0.95696,     0.95796,     0.95896,     0.95996,\n",
              "           0.96096,     0.96196,     0.96296,     0.96396,     0.96496,     0.96597,     0.96697,     0.96797,     0.96897,     0.96997,     0.97097,     0.97197,     0.97297,     0.97397,     0.97497,     0.97598,     0.97698,     0.97798,     0.97898,     0.97998,     0.98098,     0.98198,     0.98298,     0.98398,\n",
              "           0.98498,     0.98599,     0.98699,     0.98799,     0.98899,     0.98999,     0.99099,     0.99199,     0.99299,     0.99399,     0.99499,       0.996,       0.997,       0.998,       0.999,           1]), array([[   0.068639,    0.068639,    0.068639, ...,           0,           0,           0],\n",
              "       [    0.24099,     0.24099,     0.24099, ...,           0,           0,           0],\n",
              "       [    0.12213,     0.12213,     0.12213, ...,           0,           0,           0]]), 'Confidence', 'F1'], [array([          0,    0.001001,    0.002002,    0.003003,    0.004004,    0.005005,    0.006006,    0.007007,    0.008008,    0.009009,     0.01001,    0.011011,    0.012012,    0.013013,    0.014014,    0.015015,    0.016016,    0.017017,    0.018018,    0.019019,     0.02002,    0.021021,    0.022022,    0.023023,\n",
              "          0.024024,    0.025025,    0.026026,    0.027027,    0.028028,    0.029029,     0.03003,    0.031031,    0.032032,    0.033033,    0.034034,    0.035035,    0.036036,    0.037037,    0.038038,    0.039039,     0.04004,    0.041041,    0.042042,    0.043043,    0.044044,    0.045045,    0.046046,    0.047047,\n",
              "          0.048048,    0.049049,     0.05005,    0.051051,    0.052052,    0.053053,    0.054054,    0.055055,    0.056056,    0.057057,    0.058058,    0.059059,     0.06006,    0.061061,    0.062062,    0.063063,    0.064064,    0.065065,    0.066066,    0.067067,    0.068068,    0.069069,     0.07007,    0.071071,\n",
              "          0.072072,    0.073073,    0.074074,    0.075075,    0.076076,    0.077077,    0.078078,    0.079079,     0.08008,    0.081081,    0.082082,    0.083083,    0.084084,    0.085085,    0.086086,    0.087087,    0.088088,    0.089089,     0.09009,    0.091091,    0.092092,    0.093093,    0.094094,    0.095095,\n",
              "          0.096096,    0.097097,    0.098098,    0.099099,      0.1001,      0.1011,      0.1021,      0.1031,      0.1041,     0.10511,     0.10611,     0.10711,     0.10811,     0.10911,     0.11011,     0.11111,     0.11211,     0.11311,     0.11411,     0.11512,     0.11612,     0.11712,     0.11812,     0.11912,\n",
              "           0.12012,     0.12112,     0.12212,     0.12312,     0.12412,     0.12513,     0.12613,     0.12713,     0.12813,     0.12913,     0.13013,     0.13113,     0.13213,     0.13313,     0.13413,     0.13514,     0.13614,     0.13714,     0.13814,     0.13914,     0.14014,     0.14114,     0.14214,     0.14314,\n",
              "           0.14414,     0.14515,     0.14615,     0.14715,     0.14815,     0.14915,     0.15015,     0.15115,     0.15215,     0.15315,     0.15415,     0.15516,     0.15616,     0.15716,     0.15816,     0.15916,     0.16016,     0.16116,     0.16216,     0.16316,     0.16416,     0.16517,     0.16617,     0.16717,\n",
              "           0.16817,     0.16917,     0.17017,     0.17117,     0.17217,     0.17317,     0.17417,     0.17518,     0.17618,     0.17718,     0.17818,     0.17918,     0.18018,     0.18118,     0.18218,     0.18318,     0.18418,     0.18519,     0.18619,     0.18719,     0.18819,     0.18919,     0.19019,     0.19119,\n",
              "           0.19219,     0.19319,     0.19419,      0.1952,      0.1962,      0.1972,      0.1982,      0.1992,      0.2002,      0.2012,      0.2022,      0.2032,      0.2042,     0.20521,     0.20621,     0.20721,     0.20821,     0.20921,     0.21021,     0.21121,     0.21221,     0.21321,     0.21421,     0.21522,\n",
              "           0.21622,     0.21722,     0.21822,     0.21922,     0.22022,     0.22122,     0.22222,     0.22322,     0.22422,     0.22523,     0.22623,     0.22723,     0.22823,     0.22923,     0.23023,     0.23123,     0.23223,     0.23323,     0.23423,     0.23524,     0.23624,     0.23724,     0.23824,     0.23924,\n",
              "           0.24024,     0.24124,     0.24224,     0.24324,     0.24424,     0.24525,     0.24625,     0.24725,     0.24825,     0.24925,     0.25025,     0.25125,     0.25225,     0.25325,     0.25425,     0.25526,     0.25626,     0.25726,     0.25826,     0.25926,     0.26026,     0.26126,     0.26226,     0.26326,\n",
              "           0.26426,     0.26527,     0.26627,     0.26727,     0.26827,     0.26927,     0.27027,     0.27127,     0.27227,     0.27327,     0.27427,     0.27528,     0.27628,     0.27728,     0.27828,     0.27928,     0.28028,     0.28128,     0.28228,     0.28328,     0.28428,     0.28529,     0.28629,     0.28729,\n",
              "           0.28829,     0.28929,     0.29029,     0.29129,     0.29229,     0.29329,     0.29429,      0.2953,      0.2963,      0.2973,      0.2983,      0.2993,      0.3003,      0.3013,      0.3023,      0.3033,      0.3043,     0.30531,     0.30631,     0.30731,     0.30831,     0.30931,     0.31031,     0.31131,\n",
              "           0.31231,     0.31331,     0.31431,     0.31532,     0.31632,     0.31732,     0.31832,     0.31932,     0.32032,     0.32132,     0.32232,     0.32332,     0.32432,     0.32533,     0.32633,     0.32733,     0.32833,     0.32933,     0.33033,     0.33133,     0.33233,     0.33333,     0.33433,     0.33534,\n",
              "           0.33634,     0.33734,     0.33834,     0.33934,     0.34034,     0.34134,     0.34234,     0.34334,     0.34434,     0.34535,     0.34635,     0.34735,     0.34835,     0.34935,     0.35035,     0.35135,     0.35235,     0.35335,     0.35435,     0.35536,     0.35636,     0.35736,     0.35836,     0.35936,\n",
              "           0.36036,     0.36136,     0.36236,     0.36336,     0.36436,     0.36537,     0.36637,     0.36737,     0.36837,     0.36937,     0.37037,     0.37137,     0.37237,     0.37337,     0.37437,     0.37538,     0.37638,     0.37738,     0.37838,     0.37938,     0.38038,     0.38138,     0.38238,     0.38338,\n",
              "           0.38438,     0.38539,     0.38639,     0.38739,     0.38839,     0.38939,     0.39039,     0.39139,     0.39239,     0.39339,     0.39439,      0.3954,      0.3964,      0.3974,      0.3984,      0.3994,      0.4004,      0.4014,      0.4024,      0.4034,      0.4044,     0.40541,     0.40641,     0.40741,\n",
              "           0.40841,     0.40941,     0.41041,     0.41141,     0.41241,     0.41341,     0.41441,     0.41542,     0.41642,     0.41742,     0.41842,     0.41942,     0.42042,     0.42142,     0.42242,     0.42342,     0.42442,     0.42543,     0.42643,     0.42743,     0.42843,     0.42943,     0.43043,     0.43143,\n",
              "           0.43243,     0.43343,     0.43443,     0.43544,     0.43644,     0.43744,     0.43844,     0.43944,     0.44044,     0.44144,     0.44244,     0.44344,     0.44444,     0.44545,     0.44645,     0.44745,     0.44845,     0.44945,     0.45045,     0.45145,     0.45245,     0.45345,     0.45445,     0.45546,\n",
              "           0.45646,     0.45746,     0.45846,     0.45946,     0.46046,     0.46146,     0.46246,     0.46346,     0.46446,     0.46547,     0.46647,     0.46747,     0.46847,     0.46947,     0.47047,     0.47147,     0.47247,     0.47347,     0.47447,     0.47548,     0.47648,     0.47748,     0.47848,     0.47948,\n",
              "           0.48048,     0.48148,     0.48248,     0.48348,     0.48448,     0.48549,     0.48649,     0.48749,     0.48849,     0.48949,     0.49049,     0.49149,     0.49249,     0.49349,     0.49449,      0.4955,      0.4965,      0.4975,      0.4985,      0.4995,      0.5005,      0.5015,      0.5025,      0.5035,\n",
              "            0.5045,     0.50551,     0.50651,     0.50751,     0.50851,     0.50951,     0.51051,     0.51151,     0.51251,     0.51351,     0.51451,     0.51552,     0.51652,     0.51752,     0.51852,     0.51952,     0.52052,     0.52152,     0.52252,     0.52352,     0.52452,     0.52553,     0.52653,     0.52753,\n",
              "           0.52853,     0.52953,     0.53053,     0.53153,     0.53253,     0.53353,     0.53453,     0.53554,     0.53654,     0.53754,     0.53854,     0.53954,     0.54054,     0.54154,     0.54254,     0.54354,     0.54454,     0.54555,     0.54655,     0.54755,     0.54855,     0.54955,     0.55055,     0.55155,\n",
              "           0.55255,     0.55355,     0.55455,     0.55556,     0.55656,     0.55756,     0.55856,     0.55956,     0.56056,     0.56156,     0.56256,     0.56356,     0.56456,     0.56557,     0.56657,     0.56757,     0.56857,     0.56957,     0.57057,     0.57157,     0.57257,     0.57357,     0.57457,     0.57558,\n",
              "           0.57658,     0.57758,     0.57858,     0.57958,     0.58058,     0.58158,     0.58258,     0.58358,     0.58458,     0.58559,     0.58659,     0.58759,     0.58859,     0.58959,     0.59059,     0.59159,     0.59259,     0.59359,     0.59459,      0.5956,      0.5966,      0.5976,      0.5986,      0.5996,\n",
              "            0.6006,      0.6016,      0.6026,      0.6036,      0.6046,     0.60561,     0.60661,     0.60761,     0.60861,     0.60961,     0.61061,     0.61161,     0.61261,     0.61361,     0.61461,     0.61562,     0.61662,     0.61762,     0.61862,     0.61962,     0.62062,     0.62162,     0.62262,     0.62362,\n",
              "           0.62462,     0.62563,     0.62663,     0.62763,     0.62863,     0.62963,     0.63063,     0.63163,     0.63263,     0.63363,     0.63463,     0.63564,     0.63664,     0.63764,     0.63864,     0.63964,     0.64064,     0.64164,     0.64264,     0.64364,     0.64464,     0.64565,     0.64665,     0.64765,\n",
              "           0.64865,     0.64965,     0.65065,     0.65165,     0.65265,     0.65365,     0.65465,     0.65566,     0.65666,     0.65766,     0.65866,     0.65966,     0.66066,     0.66166,     0.66266,     0.66366,     0.66466,     0.66567,     0.66667,     0.66767,     0.66867,     0.66967,     0.67067,     0.67167,\n",
              "           0.67267,     0.67367,     0.67467,     0.67568,     0.67668,     0.67768,     0.67868,     0.67968,     0.68068,     0.68168,     0.68268,     0.68368,     0.68468,     0.68569,     0.68669,     0.68769,     0.68869,     0.68969,     0.69069,     0.69169,     0.69269,     0.69369,     0.69469,      0.6957,\n",
              "            0.6967,      0.6977,      0.6987,      0.6997,      0.7007,      0.7017,      0.7027,      0.7037,      0.7047,     0.70571,     0.70671,     0.70771,     0.70871,     0.70971,     0.71071,     0.71171,     0.71271,     0.71371,     0.71471,     0.71572,     0.71672,     0.71772,     0.71872,     0.71972,\n",
              "           0.72072,     0.72172,     0.72272,     0.72372,     0.72472,     0.72573,     0.72673,     0.72773,     0.72873,     0.72973,     0.73073,     0.73173,     0.73273,     0.73373,     0.73473,     0.73574,     0.73674,     0.73774,     0.73874,     0.73974,     0.74074,     0.74174,     0.74274,     0.74374,\n",
              "           0.74474,     0.74575,     0.74675,     0.74775,     0.74875,     0.74975,     0.75075,     0.75175,     0.75275,     0.75375,     0.75475,     0.75576,     0.75676,     0.75776,     0.75876,     0.75976,     0.76076,     0.76176,     0.76276,     0.76376,     0.76476,     0.76577,     0.76677,     0.76777,\n",
              "           0.76877,     0.76977,     0.77077,     0.77177,     0.77277,     0.77377,     0.77477,     0.77578,     0.77678,     0.77778,     0.77878,     0.77978,     0.78078,     0.78178,     0.78278,     0.78378,     0.78478,     0.78579,     0.78679,     0.78779,     0.78879,     0.78979,     0.79079,     0.79179,\n",
              "           0.79279,     0.79379,     0.79479,      0.7958,      0.7968,      0.7978,      0.7988,      0.7998,      0.8008,      0.8018,      0.8028,      0.8038,      0.8048,     0.80581,     0.80681,     0.80781,     0.80881,     0.80981,     0.81081,     0.81181,     0.81281,     0.81381,     0.81481,     0.81582,\n",
              "           0.81682,     0.81782,     0.81882,     0.81982,     0.82082,     0.82182,     0.82282,     0.82382,     0.82482,     0.82583,     0.82683,     0.82783,     0.82883,     0.82983,     0.83083,     0.83183,     0.83283,     0.83383,     0.83483,     0.83584,     0.83684,     0.83784,     0.83884,     0.83984,\n",
              "           0.84084,     0.84184,     0.84284,     0.84384,     0.84484,     0.84585,     0.84685,     0.84785,     0.84885,     0.84985,     0.85085,     0.85185,     0.85285,     0.85385,     0.85485,     0.85586,     0.85686,     0.85786,     0.85886,     0.85986,     0.86086,     0.86186,     0.86286,     0.86386,\n",
              "           0.86486,     0.86587,     0.86687,     0.86787,     0.86887,     0.86987,     0.87087,     0.87187,     0.87287,     0.87387,     0.87487,     0.87588,     0.87688,     0.87788,     0.87888,     0.87988,     0.88088,     0.88188,     0.88288,     0.88388,     0.88488,     0.88589,     0.88689,     0.88789,\n",
              "           0.88889,     0.88989,     0.89089,     0.89189,     0.89289,     0.89389,     0.89489,      0.8959,      0.8969,      0.8979,      0.8989,      0.8999,      0.9009,      0.9019,      0.9029,      0.9039,      0.9049,     0.90591,     0.90691,     0.90791,     0.90891,     0.90991,     0.91091,     0.91191,\n",
              "           0.91291,     0.91391,     0.91491,     0.91592,     0.91692,     0.91792,     0.91892,     0.91992,     0.92092,     0.92192,     0.92292,     0.92392,     0.92492,     0.92593,     0.92693,     0.92793,     0.92893,     0.92993,     0.93093,     0.93193,     0.93293,     0.93393,     0.93493,     0.93594,\n",
              "           0.93694,     0.93794,     0.93894,     0.93994,     0.94094,     0.94194,     0.94294,     0.94394,     0.94494,     0.94595,     0.94695,     0.94795,     0.94895,     0.94995,     0.95095,     0.95195,     0.95295,     0.95395,     0.95495,     0.95596,     0.95696,     0.95796,     0.95896,     0.95996,\n",
              "           0.96096,     0.96196,     0.96296,     0.96396,     0.96496,     0.96597,     0.96697,     0.96797,     0.96897,     0.96997,     0.97097,     0.97197,     0.97297,     0.97397,     0.97497,     0.97598,     0.97698,     0.97798,     0.97898,     0.97998,     0.98098,     0.98198,     0.98298,     0.98398,\n",
              "           0.98498,     0.98599,     0.98699,     0.98799,     0.98899,     0.98999,     0.99099,     0.99199,     0.99299,     0.99399,     0.99499,       0.996,       0.997,       0.998,       0.999,           1]), array([[   0.035583,    0.035583,    0.035583, ...,           1,           1,           1],\n",
              "       [    0.13759,     0.13759,     0.13759, ...,           1,           1,           1],\n",
              "       [   0.065254,    0.065254,    0.065254, ...,           1,           1,           1]]), 'Confidence', 'Precision'], [array([          0,    0.001001,    0.002002,    0.003003,    0.004004,    0.005005,    0.006006,    0.007007,    0.008008,    0.009009,     0.01001,    0.011011,    0.012012,    0.013013,    0.014014,    0.015015,    0.016016,    0.017017,    0.018018,    0.019019,     0.02002,    0.021021,    0.022022,    0.023023,\n",
              "          0.024024,    0.025025,    0.026026,    0.027027,    0.028028,    0.029029,     0.03003,    0.031031,    0.032032,    0.033033,    0.034034,    0.035035,    0.036036,    0.037037,    0.038038,    0.039039,     0.04004,    0.041041,    0.042042,    0.043043,    0.044044,    0.045045,    0.046046,    0.047047,\n",
              "          0.048048,    0.049049,     0.05005,    0.051051,    0.052052,    0.053053,    0.054054,    0.055055,    0.056056,    0.057057,    0.058058,    0.059059,     0.06006,    0.061061,    0.062062,    0.063063,    0.064064,    0.065065,    0.066066,    0.067067,    0.068068,    0.069069,     0.07007,    0.071071,\n",
              "          0.072072,    0.073073,    0.074074,    0.075075,    0.076076,    0.077077,    0.078078,    0.079079,     0.08008,    0.081081,    0.082082,    0.083083,    0.084084,    0.085085,    0.086086,    0.087087,    0.088088,    0.089089,     0.09009,    0.091091,    0.092092,    0.093093,    0.094094,    0.095095,\n",
              "          0.096096,    0.097097,    0.098098,    0.099099,      0.1001,      0.1011,      0.1021,      0.1031,      0.1041,     0.10511,     0.10611,     0.10711,     0.10811,     0.10911,     0.11011,     0.11111,     0.11211,     0.11311,     0.11411,     0.11512,     0.11612,     0.11712,     0.11812,     0.11912,\n",
              "           0.12012,     0.12112,     0.12212,     0.12312,     0.12412,     0.12513,     0.12613,     0.12713,     0.12813,     0.12913,     0.13013,     0.13113,     0.13213,     0.13313,     0.13413,     0.13514,     0.13614,     0.13714,     0.13814,     0.13914,     0.14014,     0.14114,     0.14214,     0.14314,\n",
              "           0.14414,     0.14515,     0.14615,     0.14715,     0.14815,     0.14915,     0.15015,     0.15115,     0.15215,     0.15315,     0.15415,     0.15516,     0.15616,     0.15716,     0.15816,     0.15916,     0.16016,     0.16116,     0.16216,     0.16316,     0.16416,     0.16517,     0.16617,     0.16717,\n",
              "           0.16817,     0.16917,     0.17017,     0.17117,     0.17217,     0.17317,     0.17417,     0.17518,     0.17618,     0.17718,     0.17818,     0.17918,     0.18018,     0.18118,     0.18218,     0.18318,     0.18418,     0.18519,     0.18619,     0.18719,     0.18819,     0.18919,     0.19019,     0.19119,\n",
              "           0.19219,     0.19319,     0.19419,      0.1952,      0.1962,      0.1972,      0.1982,      0.1992,      0.2002,      0.2012,      0.2022,      0.2032,      0.2042,     0.20521,     0.20621,     0.20721,     0.20821,     0.20921,     0.21021,     0.21121,     0.21221,     0.21321,     0.21421,     0.21522,\n",
              "           0.21622,     0.21722,     0.21822,     0.21922,     0.22022,     0.22122,     0.22222,     0.22322,     0.22422,     0.22523,     0.22623,     0.22723,     0.22823,     0.22923,     0.23023,     0.23123,     0.23223,     0.23323,     0.23423,     0.23524,     0.23624,     0.23724,     0.23824,     0.23924,\n",
              "           0.24024,     0.24124,     0.24224,     0.24324,     0.24424,     0.24525,     0.24625,     0.24725,     0.24825,     0.24925,     0.25025,     0.25125,     0.25225,     0.25325,     0.25425,     0.25526,     0.25626,     0.25726,     0.25826,     0.25926,     0.26026,     0.26126,     0.26226,     0.26326,\n",
              "           0.26426,     0.26527,     0.26627,     0.26727,     0.26827,     0.26927,     0.27027,     0.27127,     0.27227,     0.27327,     0.27427,     0.27528,     0.27628,     0.27728,     0.27828,     0.27928,     0.28028,     0.28128,     0.28228,     0.28328,     0.28428,     0.28529,     0.28629,     0.28729,\n",
              "           0.28829,     0.28929,     0.29029,     0.29129,     0.29229,     0.29329,     0.29429,      0.2953,      0.2963,      0.2973,      0.2983,      0.2993,      0.3003,      0.3013,      0.3023,      0.3033,      0.3043,     0.30531,     0.30631,     0.30731,     0.30831,     0.30931,     0.31031,     0.31131,\n",
              "           0.31231,     0.31331,     0.31431,     0.31532,     0.31632,     0.31732,     0.31832,     0.31932,     0.32032,     0.32132,     0.32232,     0.32332,     0.32432,     0.32533,     0.32633,     0.32733,     0.32833,     0.32933,     0.33033,     0.33133,     0.33233,     0.33333,     0.33433,     0.33534,\n",
              "           0.33634,     0.33734,     0.33834,     0.33934,     0.34034,     0.34134,     0.34234,     0.34334,     0.34434,     0.34535,     0.34635,     0.34735,     0.34835,     0.34935,     0.35035,     0.35135,     0.35235,     0.35335,     0.35435,     0.35536,     0.35636,     0.35736,     0.35836,     0.35936,\n",
              "           0.36036,     0.36136,     0.36236,     0.36336,     0.36436,     0.36537,     0.36637,     0.36737,     0.36837,     0.36937,     0.37037,     0.37137,     0.37237,     0.37337,     0.37437,     0.37538,     0.37638,     0.37738,     0.37838,     0.37938,     0.38038,     0.38138,     0.38238,     0.38338,\n",
              "           0.38438,     0.38539,     0.38639,     0.38739,     0.38839,     0.38939,     0.39039,     0.39139,     0.39239,     0.39339,     0.39439,      0.3954,      0.3964,      0.3974,      0.3984,      0.3994,      0.4004,      0.4014,      0.4024,      0.4034,      0.4044,     0.40541,     0.40641,     0.40741,\n",
              "           0.40841,     0.40941,     0.41041,     0.41141,     0.41241,     0.41341,     0.41441,     0.41542,     0.41642,     0.41742,     0.41842,     0.41942,     0.42042,     0.42142,     0.42242,     0.42342,     0.42442,     0.42543,     0.42643,     0.42743,     0.42843,     0.42943,     0.43043,     0.43143,\n",
              "           0.43243,     0.43343,     0.43443,     0.43544,     0.43644,     0.43744,     0.43844,     0.43944,     0.44044,     0.44144,     0.44244,     0.44344,     0.44444,     0.44545,     0.44645,     0.44745,     0.44845,     0.44945,     0.45045,     0.45145,     0.45245,     0.45345,     0.45445,     0.45546,\n",
              "           0.45646,     0.45746,     0.45846,     0.45946,     0.46046,     0.46146,     0.46246,     0.46346,     0.46446,     0.46547,     0.46647,     0.46747,     0.46847,     0.46947,     0.47047,     0.47147,     0.47247,     0.47347,     0.47447,     0.47548,     0.47648,     0.47748,     0.47848,     0.47948,\n",
              "           0.48048,     0.48148,     0.48248,     0.48348,     0.48448,     0.48549,     0.48649,     0.48749,     0.48849,     0.48949,     0.49049,     0.49149,     0.49249,     0.49349,     0.49449,      0.4955,      0.4965,      0.4975,      0.4985,      0.4995,      0.5005,      0.5015,      0.5025,      0.5035,\n",
              "            0.5045,     0.50551,     0.50651,     0.50751,     0.50851,     0.50951,     0.51051,     0.51151,     0.51251,     0.51351,     0.51451,     0.51552,     0.51652,     0.51752,     0.51852,     0.51952,     0.52052,     0.52152,     0.52252,     0.52352,     0.52452,     0.52553,     0.52653,     0.52753,\n",
              "           0.52853,     0.52953,     0.53053,     0.53153,     0.53253,     0.53353,     0.53453,     0.53554,     0.53654,     0.53754,     0.53854,     0.53954,     0.54054,     0.54154,     0.54254,     0.54354,     0.54454,     0.54555,     0.54655,     0.54755,     0.54855,     0.54955,     0.55055,     0.55155,\n",
              "           0.55255,     0.55355,     0.55455,     0.55556,     0.55656,     0.55756,     0.55856,     0.55956,     0.56056,     0.56156,     0.56256,     0.56356,     0.56456,     0.56557,     0.56657,     0.56757,     0.56857,     0.56957,     0.57057,     0.57157,     0.57257,     0.57357,     0.57457,     0.57558,\n",
              "           0.57658,     0.57758,     0.57858,     0.57958,     0.58058,     0.58158,     0.58258,     0.58358,     0.58458,     0.58559,     0.58659,     0.58759,     0.58859,     0.58959,     0.59059,     0.59159,     0.59259,     0.59359,     0.59459,      0.5956,      0.5966,      0.5976,      0.5986,      0.5996,\n",
              "            0.6006,      0.6016,      0.6026,      0.6036,      0.6046,     0.60561,     0.60661,     0.60761,     0.60861,     0.60961,     0.61061,     0.61161,     0.61261,     0.61361,     0.61461,     0.61562,     0.61662,     0.61762,     0.61862,     0.61962,     0.62062,     0.62162,     0.62262,     0.62362,\n",
              "           0.62462,     0.62563,     0.62663,     0.62763,     0.62863,     0.62963,     0.63063,     0.63163,     0.63263,     0.63363,     0.63463,     0.63564,     0.63664,     0.63764,     0.63864,     0.63964,     0.64064,     0.64164,     0.64264,     0.64364,     0.64464,     0.64565,     0.64665,     0.64765,\n",
              "           0.64865,     0.64965,     0.65065,     0.65165,     0.65265,     0.65365,     0.65465,     0.65566,     0.65666,     0.65766,     0.65866,     0.65966,     0.66066,     0.66166,     0.66266,     0.66366,     0.66466,     0.66567,     0.66667,     0.66767,     0.66867,     0.66967,     0.67067,     0.67167,\n",
              "           0.67267,     0.67367,     0.67467,     0.67568,     0.67668,     0.67768,     0.67868,     0.67968,     0.68068,     0.68168,     0.68268,     0.68368,     0.68468,     0.68569,     0.68669,     0.68769,     0.68869,     0.68969,     0.69069,     0.69169,     0.69269,     0.69369,     0.69469,      0.6957,\n",
              "            0.6967,      0.6977,      0.6987,      0.6997,      0.7007,      0.7017,      0.7027,      0.7037,      0.7047,     0.70571,     0.70671,     0.70771,     0.70871,     0.70971,     0.71071,     0.71171,     0.71271,     0.71371,     0.71471,     0.71572,     0.71672,     0.71772,     0.71872,     0.71972,\n",
              "           0.72072,     0.72172,     0.72272,     0.72372,     0.72472,     0.72573,     0.72673,     0.72773,     0.72873,     0.72973,     0.73073,     0.73173,     0.73273,     0.73373,     0.73473,     0.73574,     0.73674,     0.73774,     0.73874,     0.73974,     0.74074,     0.74174,     0.74274,     0.74374,\n",
              "           0.74474,     0.74575,     0.74675,     0.74775,     0.74875,     0.74975,     0.75075,     0.75175,     0.75275,     0.75375,     0.75475,     0.75576,     0.75676,     0.75776,     0.75876,     0.75976,     0.76076,     0.76176,     0.76276,     0.76376,     0.76476,     0.76577,     0.76677,     0.76777,\n",
              "           0.76877,     0.76977,     0.77077,     0.77177,     0.77277,     0.77377,     0.77477,     0.77578,     0.77678,     0.77778,     0.77878,     0.77978,     0.78078,     0.78178,     0.78278,     0.78378,     0.78478,     0.78579,     0.78679,     0.78779,     0.78879,     0.78979,     0.79079,     0.79179,\n",
              "           0.79279,     0.79379,     0.79479,      0.7958,      0.7968,      0.7978,      0.7988,      0.7998,      0.8008,      0.8018,      0.8028,      0.8038,      0.8048,     0.80581,     0.80681,     0.80781,     0.80881,     0.80981,     0.81081,     0.81181,     0.81281,     0.81381,     0.81481,     0.81582,\n",
              "           0.81682,     0.81782,     0.81882,     0.81982,     0.82082,     0.82182,     0.82282,     0.82382,     0.82482,     0.82583,     0.82683,     0.82783,     0.82883,     0.82983,     0.83083,     0.83183,     0.83283,     0.83383,     0.83483,     0.83584,     0.83684,     0.83784,     0.83884,     0.83984,\n",
              "           0.84084,     0.84184,     0.84284,     0.84384,     0.84484,     0.84585,     0.84685,     0.84785,     0.84885,     0.84985,     0.85085,     0.85185,     0.85285,     0.85385,     0.85485,     0.85586,     0.85686,     0.85786,     0.85886,     0.85986,     0.86086,     0.86186,     0.86286,     0.86386,\n",
              "           0.86486,     0.86587,     0.86687,     0.86787,     0.86887,     0.86987,     0.87087,     0.87187,     0.87287,     0.87387,     0.87487,     0.87588,     0.87688,     0.87788,     0.87888,     0.87988,     0.88088,     0.88188,     0.88288,     0.88388,     0.88488,     0.88589,     0.88689,     0.88789,\n",
              "           0.88889,     0.88989,     0.89089,     0.89189,     0.89289,     0.89389,     0.89489,      0.8959,      0.8969,      0.8979,      0.8989,      0.8999,      0.9009,      0.9019,      0.9029,      0.9039,      0.9049,     0.90591,     0.90691,     0.90791,     0.90891,     0.90991,     0.91091,     0.91191,\n",
              "           0.91291,     0.91391,     0.91491,     0.91592,     0.91692,     0.91792,     0.91892,     0.91992,     0.92092,     0.92192,     0.92292,     0.92392,     0.92492,     0.92593,     0.92693,     0.92793,     0.92893,     0.92993,     0.93093,     0.93193,     0.93293,     0.93393,     0.93493,     0.93594,\n",
              "           0.93694,     0.93794,     0.93894,     0.93994,     0.94094,     0.94194,     0.94294,     0.94394,     0.94494,     0.94595,     0.94695,     0.94795,     0.94895,     0.94995,     0.95095,     0.95195,     0.95295,     0.95395,     0.95495,     0.95596,     0.95696,     0.95796,     0.95896,     0.95996,\n",
              "           0.96096,     0.96196,     0.96296,     0.96396,     0.96496,     0.96597,     0.96697,     0.96797,     0.96897,     0.96997,     0.97097,     0.97197,     0.97297,     0.97397,     0.97497,     0.97598,     0.97698,     0.97798,     0.97898,     0.97998,     0.98098,     0.98198,     0.98298,     0.98398,\n",
              "           0.98498,     0.98599,     0.98699,     0.98799,     0.98899,     0.98999,     0.99099,     0.99199,     0.99299,     0.99399,     0.99499,       0.996,       0.997,       0.998,       0.999,           1]), array([[    0.96667,     0.96667,     0.96667, ...,           0,           0,           0],\n",
              "       [       0.97,        0.97,        0.97, ...,           0,           0,           0],\n",
              "       [    0.95062,     0.95062,     0.95062, ...,           0,           0,           0]]), 'Confidence', 'Recall']]\n",
              "fitness: np.float64(0.660481603806119)\n",
              "keys: ['metrics/precision(B)', 'metrics/recall(B)', 'metrics/mAP50(B)', 'metrics/mAP50-95(B)']\n",
              "maps: array([    0.62871,     0.58388,     0.71556])\n",
              "names: {0: 'chair', 1: 'customer', 2: 'table'}\n",
              "nt_per_class: array([ 30, 100,  81])\n",
              "nt_per_image: array([9, 9, 9])\n",
              "results_dict: {'metrics/precision(B)': np.float64(0.8509840489434385), 'metrics/recall(B)': np.float64(0.7414055176137081), 'metrics/mAP50(B)': np.float64(0.8203855045461078), 'metrics/mAP50-95(B)': np.float64(0.6427145037238979), 'fitness': np.float64(0.660481603806119)}\n",
              "save_dir: PosixPath('runs/detect/rf_yolov8_customer_table_chair')\n",
              "speed: {'preprocess': 0.267606888895797, 'inference': 1.9002253333408385, 'loss': 0.0010984444366436542, 'postprocess': 1.636071666666794}\n",
              "stats: {'tp': [], 'conf': [], 'pred_cls': [], 'target_cls': [], 'target_img': []}\n",
              "task: 'detect'"
            ]
          },
          "metadata": {},
          "execution_count": 4
        }
      ],
      "source": [
        "# Install YOLOv8\n",
        "!pip install ultralytics --upgrade\n",
        "!pip install roboflow\n",
        "\n",
        "from roboflow import Roboflow\n",
        "rf = Roboflow(api_key=\"wDkXkq1p6HgQkEouDCMQ\")\n",
        "project = rf.workspace(\"asilbek-o8cxr\").project(\"restauranttest\")\n",
        "version = project.version(1)\n",
        "dataset = version.download(\"yolov8\")\n",
        "\n",
        "from ultralytics import YOLO\n",
        "\n",
        "# Load a pre-trained YOLOv8 model\n",
        "model = YOLO(\"yolov8n.pt\")  # or yolov8s.pt, yolov8m.pt, etc.\n",
        "\n",
        "# Train on your Roboflow dataset\n",
        "model.train(\n",
        "    data=f\"{dataset.location}/data.yaml\",  # Uses the Roboflow-exported data.yaml\n",
        "    epochs=50,\n",
        "    imgsz=640,\n",
        "    batch=16,\n",
        "    name='rf_yolov8_customer_table_chair'\n",
        ")\n"
      ]
    },
    {
      "cell_type": "code",
      "source": [
        "from google.colab import files\n",
        "uploaded = files.upload()  # Choose your .mp4 or .avi video\n"
      ],
      "metadata": {
        "colab": {
          "base_uri": "https://localhost:8080/",
          "height": 110
        },
        "id": "qVtR4IMX_b7T",
        "outputId": "769495aa-3897-4795-e43d-29b85436b331"
      },
      "execution_count": 8,
      "outputs": [
        {
          "output_type": "display_data",
          "data": {
            "text/plain": [
              "<IPython.core.display.HTML object>"
            ],
            "text/html": [
              "\n",
              "     <input type=\"file\" id=\"files-33ec7ace-7a29-45eb-810c-921bcbe4cb12\" name=\"files[]\" multiple disabled\n",
              "        style=\"border:none\" />\n",
              "     <output id=\"result-33ec7ace-7a29-45eb-810c-921bcbe4cb12\">\n",
              "      Upload widget is only available when the cell has been executed in the\n",
              "      current browser session. Please rerun this cell to enable.\n",
              "      </output>\n",
              "      <script>// Copyright 2017 Google LLC\n",
              "//\n",
              "// Licensed under the Apache License, Version 2.0 (the \"License\");\n",
              "// you may not use this file except in compliance with the License.\n",
              "// You may obtain a copy of the License at\n",
              "//\n",
              "//      http://www.apache.org/licenses/LICENSE-2.0\n",
              "//\n",
              "// Unless required by applicable law or agreed to in writing, software\n",
              "// distributed under the License is distributed on an \"AS IS\" BASIS,\n",
              "// WITHOUT WARRANTIES OR CONDITIONS OF ANY KIND, either express or implied.\n",
              "// See the License for the specific language governing permissions and\n",
              "// limitations under the License.\n",
              "\n",
              "/**\n",
              " * @fileoverview Helpers for google.colab Python module.\n",
              " */\n",
              "(function(scope) {\n",
              "function span(text, styleAttributes = {}) {\n",
              "  const element = document.createElement('span');\n",
              "  element.textContent = text;\n",
              "  for (const key of Object.keys(styleAttributes)) {\n",
              "    element.style[key] = styleAttributes[key];\n",
              "  }\n",
              "  return element;\n",
              "}\n",
              "\n",
              "// Max number of bytes which will be uploaded at a time.\n",
              "const MAX_PAYLOAD_SIZE = 100 * 1024;\n",
              "\n",
              "function _uploadFiles(inputId, outputId) {\n",
              "  const steps = uploadFilesStep(inputId, outputId);\n",
              "  const outputElement = document.getElementById(outputId);\n",
              "  // Cache steps on the outputElement to make it available for the next call\n",
              "  // to uploadFilesContinue from Python.\n",
              "  outputElement.steps = steps;\n",
              "\n",
              "  return _uploadFilesContinue(outputId);\n",
              "}\n",
              "\n",
              "// This is roughly an async generator (not supported in the browser yet),\n",
              "// where there are multiple asynchronous steps and the Python side is going\n",
              "// to poll for completion of each step.\n",
              "// This uses a Promise to block the python side on completion of each step,\n",
              "// then passes the result of the previous step as the input to the next step.\n",
              "function _uploadFilesContinue(outputId) {\n",
              "  const outputElement = document.getElementById(outputId);\n",
              "  const steps = outputElement.steps;\n",
              "\n",
              "  const next = steps.next(outputElement.lastPromiseValue);\n",
              "  return Promise.resolve(next.value.promise).then((value) => {\n",
              "    // Cache the last promise value to make it available to the next\n",
              "    // step of the generator.\n",
              "    outputElement.lastPromiseValue = value;\n",
              "    return next.value.response;\n",
              "  });\n",
              "}\n",
              "\n",
              "/**\n",
              " * Generator function which is called between each async step of the upload\n",
              " * process.\n",
              " * @param {string} inputId Element ID of the input file picker element.\n",
              " * @param {string} outputId Element ID of the output display.\n",
              " * @return {!Iterable<!Object>} Iterable of next steps.\n",
              " */\n",
              "function* uploadFilesStep(inputId, outputId) {\n",
              "  const inputElement = document.getElementById(inputId);\n",
              "  inputElement.disabled = false;\n",
              "\n",
              "  const outputElement = document.getElementById(outputId);\n",
              "  outputElement.innerHTML = '';\n",
              "\n",
              "  const pickedPromise = new Promise((resolve) => {\n",
              "    inputElement.addEventListener('change', (e) => {\n",
              "      resolve(e.target.files);\n",
              "    });\n",
              "  });\n",
              "\n",
              "  const cancel = document.createElement('button');\n",
              "  inputElement.parentElement.appendChild(cancel);\n",
              "  cancel.textContent = 'Cancel upload';\n",
              "  const cancelPromise = new Promise((resolve) => {\n",
              "    cancel.onclick = () => {\n",
              "      resolve(null);\n",
              "    };\n",
              "  });\n",
              "\n",
              "  // Wait for the user to pick the files.\n",
              "  const files = yield {\n",
              "    promise: Promise.race([pickedPromise, cancelPromise]),\n",
              "    response: {\n",
              "      action: 'starting',\n",
              "    }\n",
              "  };\n",
              "\n",
              "  cancel.remove();\n",
              "\n",
              "  // Disable the input element since further picks are not allowed.\n",
              "  inputElement.disabled = true;\n",
              "\n",
              "  if (!files) {\n",
              "    return {\n",
              "      response: {\n",
              "        action: 'complete',\n",
              "      }\n",
              "    };\n",
              "  }\n",
              "\n",
              "  for (const file of files) {\n",
              "    const li = document.createElement('li');\n",
              "    li.append(span(file.name, {fontWeight: 'bold'}));\n",
              "    li.append(span(\n",
              "        `(${file.type || 'n/a'}) - ${file.size} bytes, ` +\n",
              "        `last modified: ${\n",
              "            file.lastModifiedDate ? file.lastModifiedDate.toLocaleDateString() :\n",
              "                                    'n/a'} - `));\n",
              "    const percent = span('0% done');\n",
              "    li.appendChild(percent);\n",
              "\n",
              "    outputElement.appendChild(li);\n",
              "\n",
              "    const fileDataPromise = new Promise((resolve) => {\n",
              "      const reader = new FileReader();\n",
              "      reader.onload = (e) => {\n",
              "        resolve(e.target.result);\n",
              "      };\n",
              "      reader.readAsArrayBuffer(file);\n",
              "    });\n",
              "    // Wait for the data to be ready.\n",
              "    let fileData = yield {\n",
              "      promise: fileDataPromise,\n",
              "      response: {\n",
              "        action: 'continue',\n",
              "      }\n",
              "    };\n",
              "\n",
              "    // Use a chunked sending to avoid message size limits. See b/62115660.\n",
              "    let position = 0;\n",
              "    do {\n",
              "      const length = Math.min(fileData.byteLength - position, MAX_PAYLOAD_SIZE);\n",
              "      const chunk = new Uint8Array(fileData, position, length);\n",
              "      position += length;\n",
              "\n",
              "      const base64 = btoa(String.fromCharCode.apply(null, chunk));\n",
              "      yield {\n",
              "        response: {\n",
              "          action: 'append',\n",
              "          file: file.name,\n",
              "          data: base64,\n",
              "        },\n",
              "      };\n",
              "\n",
              "      let percentDone = fileData.byteLength === 0 ?\n",
              "          100 :\n",
              "          Math.round((position / fileData.byteLength) * 100);\n",
              "      percent.textContent = `${percentDone}% done`;\n",
              "\n",
              "    } while (position < fileData.byteLength);\n",
              "  }\n",
              "\n",
              "  // All done.\n",
              "  yield {\n",
              "    response: {\n",
              "      action: 'complete',\n",
              "    }\n",
              "  };\n",
              "}\n",
              "\n",
              "scope.google = scope.google || {};\n",
              "scope.google.colab = scope.google.colab || {};\n",
              "scope.google.colab._files = {\n",
              "  _uploadFiles,\n",
              "  _uploadFilesContinue,\n",
              "};\n",
              "})(self);\n",
              "</script> "
            ]
          },
          "metadata": {}
        },
        {
          "output_type": "stream",
          "name": "stdout",
          "text": [
            "Saving Security camera inside Pepper Grill restaurant.mp4 to Security camera inside Pepper Grill restaurant.mp4\n"
          ]
        }
      ]
    },
    {
      "cell_type": "code",
      "source": [
        "from ultralytics import YOLO\n",
        "\n",
        "# Load your trained model\n",
        "model = YOLO(\"runs/detect/rf_yolov8_customer_table_chair/weights/best.pt\")\n",
        "\n",
        "# Inference on video\n",
        "results = model.predict(\n",
        "    source=\"Security camera inside Pepper Grill restaurant.mp4\",   # your uploaded video\n",
        "    save=True,                 # saves result to file\n",
        "    conf=0.4,                  # confidence threshold (adjust if needed)\n",
        "    iou=0.5,                   # IoU threshold\n",
        "    show_labels=True,         # show labels\n",
        "    show_conf=True             # show confidence scores\n",
        ")\n"
      ],
      "metadata": {
        "colab": {
          "base_uri": "https://localhost:8080/"
        },
        "id": "6ts-Fa8RDOd_",
        "outputId": "c3536b1d-6f02-40a7-fd9e-a1fe04078257"
      },
      "execution_count": 11,
      "outputs": [
        {
          "output_type": "stream",
          "name": "stdout",
          "text": [
            "\n",
            "WARNING ⚠️ \n",
            "inference results will accumulate in RAM unless `stream=True` is passed, causing potential out-of-memory\n",
            "errors for large sources or long-running streams and videos. See https://docs.ultralytics.com/modes/predict/ for help.\n",
            "\n",
            "Example:\n",
            "    results = model(source=..., stream=True)  # generator of Results objects\n",
            "    for r in results:\n",
            "        boxes = r.boxes  # Boxes object for bbox outputs\n",
            "        masks = r.masks  # Masks object for segment masks outputs\n",
            "        probs = r.probs  # Class probabilities for classification outputs\n",
            "\n",
            "video 1/1 (frame 1/1501) /content/Security camera inside Pepper Grill restaurant.mp4: 384x640 (no detections), 36.3ms\n",
            "video 1/1 (frame 2/1501) /content/Security camera inside Pepper Grill restaurant.mp4: 384x640 (no detections), 8.1ms\n",
            "video 1/1 (frame 3/1501) /content/Security camera inside Pepper Grill restaurant.mp4: 384x640 (no detections), 6.9ms\n",
            "video 1/1 (frame 4/1501) /content/Security camera inside Pepper Grill restaurant.mp4: 384x640 (no detections), 10.2ms\n",
            "video 1/1 (frame 5/1501) /content/Security camera inside Pepper Grill restaurant.mp4: 384x640 (no detections), 8.5ms\n",
            "video 1/1 (frame 6/1501) /content/Security camera inside Pepper Grill restaurant.mp4: 384x640 (no detections), 7.6ms\n",
            "video 1/1 (frame 7/1501) /content/Security camera inside Pepper Grill restaurant.mp4: 384x640 (no detections), 7.0ms\n",
            "video 1/1 (frame 8/1501) /content/Security camera inside Pepper Grill restaurant.mp4: 384x640 (no detections), 10.6ms\n",
            "video 1/1 (frame 9/1501) /content/Security camera inside Pepper Grill restaurant.mp4: 384x640 (no detections), 7.9ms\n",
            "video 1/1 (frame 10/1501) /content/Security camera inside Pepper Grill restaurant.mp4: 384x640 (no detections), 8.2ms\n",
            "video 1/1 (frame 11/1501) /content/Security camera inside Pepper Grill restaurant.mp4: 384x640 (no detections), 7.7ms\n",
            "video 1/1 (frame 12/1501) /content/Security camera inside Pepper Grill restaurant.mp4: 384x640 (no detections), 8.4ms\n",
            "video 1/1 (frame 13/1501) /content/Security camera inside Pepper Grill restaurant.mp4: 384x640 (no detections), 7.9ms\n",
            "video 1/1 (frame 14/1501) /content/Security camera inside Pepper Grill restaurant.mp4: 384x640 (no detections), 8.5ms\n",
            "video 1/1 (frame 15/1501) /content/Security camera inside Pepper Grill restaurant.mp4: 384x640 (no detections), 15.1ms\n",
            "video 1/1 (frame 16/1501) /content/Security camera inside Pepper Grill restaurant.mp4: 384x640 (no detections), 8.1ms\n",
            "video 1/1 (frame 17/1501) /content/Security camera inside Pepper Grill restaurant.mp4: 384x640 (no detections), 8.7ms\n",
            "video 1/1 (frame 18/1501) /content/Security camera inside Pepper Grill restaurant.mp4: 384x640 (no detections), 7.5ms\n",
            "video 1/1 (frame 19/1501) /content/Security camera inside Pepper Grill restaurant.mp4: 384x640 (no detections), 7.5ms\n",
            "video 1/1 (frame 20/1501) /content/Security camera inside Pepper Grill restaurant.mp4: 384x640 (no detections), 7.5ms\n",
            "video 1/1 (frame 21/1501) /content/Security camera inside Pepper Grill restaurant.mp4: 384x640 (no detections), 7.6ms\n",
            "video 1/1 (frame 22/1501) /content/Security camera inside Pepper Grill restaurant.mp4: 384x640 (no detections), 6.8ms\n",
            "video 1/1 (frame 23/1501) /content/Security camera inside Pepper Grill restaurant.mp4: 384x640 (no detections), 8.2ms\n",
            "video 1/1 (frame 24/1501) /content/Security camera inside Pepper Grill restaurant.mp4: 384x640 (no detections), 8.6ms\n",
            "video 1/1 (frame 25/1501) /content/Security camera inside Pepper Grill restaurant.mp4: 384x640 (no detections), 9.6ms\n",
            "video 1/1 (frame 26/1501) /content/Security camera inside Pepper Grill restaurant.mp4: 384x640 (no detections), 6.9ms\n",
            "video 1/1 (frame 27/1501) /content/Security camera inside Pepper Grill restaurant.mp4: 384x640 (no detections), 8.6ms\n",
            "video 1/1 (frame 28/1501) /content/Security camera inside Pepper Grill restaurant.mp4: 384x640 (no detections), 6.7ms\n",
            "video 1/1 (frame 29/1501) /content/Security camera inside Pepper Grill restaurant.mp4: 384x640 (no detections), 8.0ms\n",
            "video 1/1 (frame 30/1501) /content/Security camera inside Pepper Grill restaurant.mp4: 384x640 (no detections), 6.7ms\n",
            "video 1/1 (frame 31/1501) /content/Security camera inside Pepper Grill restaurant.mp4: 384x640 (no detections), 8.6ms\n",
            "video 1/1 (frame 32/1501) /content/Security camera inside Pepper Grill restaurant.mp4: 384x640 (no detections), 7.4ms\n",
            "video 1/1 (frame 33/1501) /content/Security camera inside Pepper Grill restaurant.mp4: 384x640 (no detections), 7.6ms\n",
            "video 1/1 (frame 34/1501) /content/Security camera inside Pepper Grill restaurant.mp4: 384x640 (no detections), 7.0ms\n",
            "video 1/1 (frame 35/1501) /content/Security camera inside Pepper Grill restaurant.mp4: 384x640 (no detections), 8.0ms\n",
            "video 1/1 (frame 36/1501) /content/Security camera inside Pepper Grill restaurant.mp4: 384x640 (no detections), 7.1ms\n",
            "video 1/1 (frame 37/1501) /content/Security camera inside Pepper Grill restaurant.mp4: 384x640 (no detections), 8.6ms\n",
            "video 1/1 (frame 38/1501) /content/Security camera inside Pepper Grill restaurant.mp4: 384x640 (no detections), 7.2ms\n",
            "video 1/1 (frame 39/1501) /content/Security camera inside Pepper Grill restaurant.mp4: 384x640 (no detections), 7.7ms\n",
            "video 1/1 (frame 40/1501) /content/Security camera inside Pepper Grill restaurant.mp4: 384x640 (no detections), 6.8ms\n",
            "video 1/1 (frame 41/1501) /content/Security camera inside Pepper Grill restaurant.mp4: 384x640 (no detections), 8.1ms\n",
            "video 1/1 (frame 42/1501) /content/Security camera inside Pepper Grill restaurant.mp4: 384x640 (no detections), 7.0ms\n",
            "video 1/1 (frame 43/1501) /content/Security camera inside Pepper Grill restaurant.mp4: 384x640 (no detections), 11.0ms\n",
            "video 1/1 (frame 44/1501) /content/Security camera inside Pepper Grill restaurant.mp4: 384x640 (no detections), 6.5ms\n",
            "video 1/1 (frame 45/1501) /content/Security camera inside Pepper Grill restaurant.mp4: 384x640 (no detections), 8.0ms\n",
            "video 1/1 (frame 46/1501) /content/Security camera inside Pepper Grill restaurant.mp4: 384x640 (no detections), 7.1ms\n",
            "video 1/1 (frame 47/1501) /content/Security camera inside Pepper Grill restaurant.mp4: 384x640 (no detections), 7.3ms\n",
            "video 1/1 (frame 48/1501) /content/Security camera inside Pepper Grill restaurant.mp4: 384x640 (no detections), 9.2ms\n",
            "video 1/1 (frame 49/1501) /content/Security camera inside Pepper Grill restaurant.mp4: 384x640 (no detections), 7.1ms\n",
            "video 1/1 (frame 50/1501) /content/Security camera inside Pepper Grill restaurant.mp4: 384x640 (no detections), 8.0ms\n",
            "video 1/1 (frame 51/1501) /content/Security camera inside Pepper Grill restaurant.mp4: 384x640 (no detections), 7.1ms\n",
            "video 1/1 (frame 52/1501) /content/Security camera inside Pepper Grill restaurant.mp4: 384x640 (no detections), 7.5ms\n",
            "video 1/1 (frame 53/1501) /content/Security camera inside Pepper Grill restaurant.mp4: 384x640 (no detections), 8.4ms\n",
            "video 1/1 (frame 54/1501) /content/Security camera inside Pepper Grill restaurant.mp4: 384x640 (no detections), 8.0ms\n",
            "video 1/1 (frame 55/1501) /content/Security camera inside Pepper Grill restaurant.mp4: 384x640 (no detections), 7.6ms\n",
            "video 1/1 (frame 56/1501) /content/Security camera inside Pepper Grill restaurant.mp4: 384x640 (no detections), 10.9ms\n",
            "video 1/1 (frame 57/1501) /content/Security camera inside Pepper Grill restaurant.mp4: 384x640 (no detections), 7.1ms\n",
            "video 1/1 (frame 58/1501) /content/Security camera inside Pepper Grill restaurant.mp4: 384x640 (no detections), 7.6ms\n",
            "video 1/1 (frame 59/1501) /content/Security camera inside Pepper Grill restaurant.mp4: 384x640 (no detections), 8.2ms\n",
            "video 1/1 (frame 60/1501) /content/Security camera inside Pepper Grill restaurant.mp4: 384x640 (no detections), 6.9ms\n",
            "video 1/1 (frame 61/1501) /content/Security camera inside Pepper Grill restaurant.mp4: 384x640 (no detections), 7.9ms\n",
            "video 1/1 (frame 62/1501) /content/Security camera inside Pepper Grill restaurant.mp4: 384x640 (no detections), 7.1ms\n",
            "video 1/1 (frame 63/1501) /content/Security camera inside Pepper Grill restaurant.mp4: 384x640 (no detections), 9.4ms\n",
            "video 1/1 (frame 64/1501) /content/Security camera inside Pepper Grill restaurant.mp4: 384x640 (no detections), 8.3ms\n",
            "video 1/1 (frame 65/1501) /content/Security camera inside Pepper Grill restaurant.mp4: 384x640 (no detections), 6.9ms\n",
            "video 1/1 (frame 66/1501) /content/Security camera inside Pepper Grill restaurant.mp4: 384x640 (no detections), 7.1ms\n",
            "video 1/1 (frame 67/1501) /content/Security camera inside Pepper Grill restaurant.mp4: 384x640 (no detections), 7.3ms\n",
            "video 1/1 (frame 68/1501) /content/Security camera inside Pepper Grill restaurant.mp4: 384x640 (no detections), 8.2ms\n",
            "video 1/1 (frame 69/1501) /content/Security camera inside Pepper Grill restaurant.mp4: 384x640 (no detections), 7.5ms\n",
            "video 1/1 (frame 70/1501) /content/Security camera inside Pepper Grill restaurant.mp4: 384x640 (no detections), 6.8ms\n",
            "video 1/1 (frame 71/1501) /content/Security camera inside Pepper Grill restaurant.mp4: 384x640 (no detections), 7.8ms\n",
            "video 1/1 (frame 72/1501) /content/Security camera inside Pepper Grill restaurant.mp4: 384x640 (no detections), 7.1ms\n",
            "video 1/1 (frame 73/1501) /content/Security camera inside Pepper Grill restaurant.mp4: 384x640 (no detections), 7.5ms\n",
            "video 1/1 (frame 74/1501) /content/Security camera inside Pepper Grill restaurant.mp4: 384x640 (no detections), 6.5ms\n",
            "video 1/1 (frame 75/1501) /content/Security camera inside Pepper Grill restaurant.mp4: 384x640 (no detections), 7.9ms\n",
            "video 1/1 (frame 76/1501) /content/Security camera inside Pepper Grill restaurant.mp4: 384x640 (no detections), 7.0ms\n",
            "video 1/1 (frame 77/1501) /content/Security camera inside Pepper Grill restaurant.mp4: 384x640 (no detections), 7.8ms\n",
            "video 1/1 (frame 78/1501) /content/Security camera inside Pepper Grill restaurant.mp4: 384x640 (no detections), 6.6ms\n",
            "video 1/1 (frame 79/1501) /content/Security camera inside Pepper Grill restaurant.mp4: 384x640 (no detections), 7.9ms\n",
            "video 1/1 (frame 80/1501) /content/Security camera inside Pepper Grill restaurant.mp4: 384x640 (no detections), 6.7ms\n",
            "video 1/1 (frame 81/1501) /content/Security camera inside Pepper Grill restaurant.mp4: 384x640 (no detections), 7.8ms\n",
            "video 1/1 (frame 82/1501) /content/Security camera inside Pepper Grill restaurant.mp4: 384x640 (no detections), 7.4ms\n",
            "video 1/1 (frame 83/1501) /content/Security camera inside Pepper Grill restaurant.mp4: 384x640 (no detections), 8.4ms\n",
            "video 1/1 (frame 84/1501) /content/Security camera inside Pepper Grill restaurant.mp4: 384x640 (no detections), 6.6ms\n",
            "video 1/1 (frame 85/1501) /content/Security camera inside Pepper Grill restaurant.mp4: 384x640 (no detections), 7.7ms\n",
            "video 1/1 (frame 86/1501) /content/Security camera inside Pepper Grill restaurant.mp4: 384x640 (no detections), 6.6ms\n",
            "video 1/1 (frame 87/1501) /content/Security camera inside Pepper Grill restaurant.mp4: 384x640 (no detections), 10.2ms\n",
            "video 1/1 (frame 88/1501) /content/Security camera inside Pepper Grill restaurant.mp4: 384x640 (no detections), 6.6ms\n",
            "video 1/1 (frame 89/1501) /content/Security camera inside Pepper Grill restaurant.mp4: 384x640 (no detections), 8.4ms\n",
            "video 1/1 (frame 90/1501) /content/Security camera inside Pepper Grill restaurant.mp4: 384x640 (no detections), 6.8ms\n",
            "video 1/1 (frame 91/1501) /content/Security camera inside Pepper Grill restaurant.mp4: 384x640 (no detections), 6.5ms\n",
            "video 1/1 (frame 92/1501) /content/Security camera inside Pepper Grill restaurant.mp4: 384x640 (no detections), 7.7ms\n",
            "video 1/1 (frame 93/1501) /content/Security camera inside Pepper Grill restaurant.mp4: 384x640 (no detections), 6.6ms\n",
            "video 1/1 (frame 94/1501) /content/Security camera inside Pepper Grill restaurant.mp4: 384x640 (no detections), 6.9ms\n",
            "video 1/1 (frame 95/1501) /content/Security camera inside Pepper Grill restaurant.mp4: 384x640 (no detections), 6.7ms\n",
            "video 1/1 (frame 96/1501) /content/Security camera inside Pepper Grill restaurant.mp4: 384x640 (no detections), 7.0ms\n",
            "video 1/1 (frame 97/1501) /content/Security camera inside Pepper Grill restaurant.mp4: 384x640 (no detections), 14.7ms\n",
            "video 1/1 (frame 98/1501) /content/Security camera inside Pepper Grill restaurant.mp4: 384x640 (no detections), 6.4ms\n",
            "video 1/1 (frame 99/1501) /content/Security camera inside Pepper Grill restaurant.mp4: 384x640 (no detections), 6.8ms\n",
            "video 1/1 (frame 100/1501) /content/Security camera inside Pepper Grill restaurant.mp4: 384x640 (no detections), 6.6ms\n",
            "video 1/1 (frame 101/1501) /content/Security camera inside Pepper Grill restaurant.mp4: 384x640 (no detections), 6.3ms\n",
            "video 1/1 (frame 102/1501) /content/Security camera inside Pepper Grill restaurant.mp4: 384x640 (no detections), 6.4ms\n",
            "video 1/1 (frame 103/1501) /content/Security camera inside Pepper Grill restaurant.mp4: 384x640 (no detections), 8.0ms\n",
            "video 1/1 (frame 104/1501) /content/Security camera inside Pepper Grill restaurant.mp4: 384x640 (no detections), 7.9ms\n",
            "video 1/1 (frame 105/1501) /content/Security camera inside Pepper Grill restaurant.mp4: 384x640 (no detections), 6.5ms\n",
            "video 1/1 (frame 106/1501) /content/Security camera inside Pepper Grill restaurant.mp4: 384x640 (no detections), 7.2ms\n",
            "video 1/1 (frame 107/1501) /content/Security camera inside Pepper Grill restaurant.mp4: 384x640 (no detections), 7.3ms\n",
            "video 1/1 (frame 108/1501) /content/Security camera inside Pepper Grill restaurant.mp4: 384x640 (no detections), 6.7ms\n",
            "video 1/1 (frame 109/1501) /content/Security camera inside Pepper Grill restaurant.mp4: 384x640 (no detections), 8.4ms\n",
            "video 1/1 (frame 110/1501) /content/Security camera inside Pepper Grill restaurant.mp4: 384x640 (no detections), 7.9ms\n",
            "video 1/1 (frame 111/1501) /content/Security camera inside Pepper Grill restaurant.mp4: 384x640 5 chairs, 3 customers, 6 tables, 7.2ms\n",
            "video 1/1 (frame 112/1501) /content/Security camera inside Pepper Grill restaurant.mp4: 384x640 5 chairs, 3 customers, 6 tables, 7.5ms\n",
            "video 1/1 (frame 113/1501) /content/Security camera inside Pepper Grill restaurant.mp4: 384x640 4 chairs, 3 customers, 6 tables, 7.2ms\n",
            "video 1/1 (frame 114/1501) /content/Security camera inside Pepper Grill restaurant.mp4: 384x640 4 chairs, 3 customers, 6 tables, 7.9ms\n",
            "video 1/1 (frame 115/1501) /content/Security camera inside Pepper Grill restaurant.mp4: 384x640 4 chairs, 3 customers, 6 tables, 6.7ms\n",
            "video 1/1 (frame 116/1501) /content/Security camera inside Pepper Grill restaurant.mp4: 384x640 4 chairs, 4 customers, 7 tables, 7.0ms\n",
            "video 1/1 (frame 117/1501) /content/Security camera inside Pepper Grill restaurant.mp4: 384x640 4 chairs, 4 customers, 6 tables, 7.3ms\n",
            "video 1/1 (frame 118/1501) /content/Security camera inside Pepper Grill restaurant.mp4: 384x640 4 chairs, 4 customers, 7 tables, 9.5ms\n",
            "video 1/1 (frame 119/1501) /content/Security camera inside Pepper Grill restaurant.mp4: 384x640 4 chairs, 4 customers, 7 tables, 8.9ms\n",
            "video 1/1 (frame 120/1501) /content/Security camera inside Pepper Grill restaurant.mp4: 384x640 4 chairs, 3 customers, 6 tables, 7.7ms\n",
            "video 1/1 (frame 121/1501) /content/Security camera inside Pepper Grill restaurant.mp4: 384x640 4 chairs, 3 customers, 6 tables, 6.5ms\n",
            "video 1/1 (frame 122/1501) /content/Security camera inside Pepper Grill restaurant.mp4: 384x640 4 chairs, 3 customers, 6 tables, 7.3ms\n",
            "video 1/1 (frame 123/1501) /content/Security camera inside Pepper Grill restaurant.mp4: 384x640 4 chairs, 4 customers, 7 tables, 6.5ms\n",
            "video 1/1 (frame 124/1501) /content/Security camera inside Pepper Grill restaurant.mp4: 384x640 4 chairs, 3 customers, 6 tables, 6.9ms\n",
            "video 1/1 (frame 125/1501) /content/Security camera inside Pepper Grill restaurant.mp4: 384x640 4 chairs, 4 customers, 7 tables, 6.5ms\n",
            "video 1/1 (frame 126/1501) /content/Security camera inside Pepper Grill restaurant.mp4: 384x640 4 chairs, 4 customers, 7 tables, 8.0ms\n",
            "video 1/1 (frame 127/1501) /content/Security camera inside Pepper Grill restaurant.mp4: 384x640 4 chairs, 3 customers, 7 tables, 7.7ms\n",
            "video 1/1 (frame 128/1501) /content/Security camera inside Pepper Grill restaurant.mp4: 384x640 4 chairs, 3 customers, 7 tables, 6.6ms\n",
            "video 1/1 (frame 129/1501) /content/Security camera inside Pepper Grill restaurant.mp4: 384x640 4 chairs, 3 customers, 7 tables, 8.2ms\n",
            "video 1/1 (frame 130/1501) /content/Security camera inside Pepper Grill restaurant.mp4: 384x640 4 chairs, 3 customers, 7 tables, 8.5ms\n",
            "video 1/1 (frame 131/1501) /content/Security camera inside Pepper Grill restaurant.mp4: 384x640 4 chairs, 3 customers, 7 tables, 10.5ms\n",
            "video 1/1 (frame 132/1501) /content/Security camera inside Pepper Grill restaurant.mp4: 384x640 4 chairs, 4 customers, 7 tables, 7.3ms\n",
            "video 1/1 (frame 133/1501) /content/Security camera inside Pepper Grill restaurant.mp4: 384x640 4 chairs, 4 customers, 7 tables, 6.6ms\n",
            "video 1/1 (frame 134/1501) /content/Security camera inside Pepper Grill restaurant.mp4: 384x640 4 chairs, 4 customers, 7 tables, 7.7ms\n",
            "video 1/1 (frame 135/1501) /content/Security camera inside Pepper Grill restaurant.mp4: 384x640 4 chairs, 4 customers, 7 tables, 7.7ms\n",
            "video 1/1 (frame 136/1501) /content/Security camera inside Pepper Grill restaurant.mp4: 384x640 4 chairs, 4 customers, 7 tables, 7.1ms\n",
            "video 1/1 (frame 137/1501) /content/Security camera inside Pepper Grill restaurant.mp4: 384x640 4 chairs, 4 customers, 7 tables, 6.9ms\n",
            "video 1/1 (frame 138/1501) /content/Security camera inside Pepper Grill restaurant.mp4: 384x640 4 chairs, 4 customers, 7 tables, 6.9ms\n",
            "video 1/1 (frame 139/1501) /content/Security camera inside Pepper Grill restaurant.mp4: 384x640 4 chairs, 4 customers, 7 tables, 6.7ms\n",
            "video 1/1 (frame 140/1501) /content/Security camera inside Pepper Grill restaurant.mp4: 384x640 4 chairs, 4 customers, 6 tables, 7.0ms\n",
            "video 1/1 (frame 141/1501) /content/Security camera inside Pepper Grill restaurant.mp4: 384x640 4 chairs, 4 customers, 6 tables, 6.9ms\n",
            "video 1/1 (frame 142/1501) /content/Security camera inside Pepper Grill restaurant.mp4: 384x640 4 chairs, 4 customers, 6 tables, 7.7ms\n",
            "video 1/1 (frame 143/1501) /content/Security camera inside Pepper Grill restaurant.mp4: 384x640 4 chairs, 4 customers, 6 tables, 7.7ms\n",
            "video 1/1 (frame 144/1501) /content/Security camera inside Pepper Grill restaurant.mp4: 384x640 4 chairs, 4 customers, 6 tables, 7.0ms\n",
            "video 1/1 (frame 145/1501) /content/Security camera inside Pepper Grill restaurant.mp4: 384x640 4 chairs, 4 customers, 6 tables, 6.9ms\n",
            "video 1/1 (frame 146/1501) /content/Security camera inside Pepper Grill restaurant.mp4: 384x640 4 chairs, 4 customers, 6 tables, 6.8ms\n",
            "video 1/1 (frame 147/1501) /content/Security camera inside Pepper Grill restaurant.mp4: 384x640 4 chairs, 4 customers, 6 tables, 7.1ms\n",
            "video 1/1 (frame 148/1501) /content/Security camera inside Pepper Grill restaurant.mp4: 384x640 4 chairs, 4 customers, 6 tables, 8.3ms\n",
            "video 1/1 (frame 149/1501) /content/Security camera inside Pepper Grill restaurant.mp4: 384x640 4 chairs, 4 customers, 6 tables, 6.7ms\n",
            "video 1/1 (frame 150/1501) /content/Security camera inside Pepper Grill restaurant.mp4: 384x640 4 chairs, 4 customers, 6 tables, 8.7ms\n",
            "video 1/1 (frame 151/1501) /content/Security camera inside Pepper Grill restaurant.mp4: 384x640 4 chairs, 4 customers, 7 tables, 6.4ms\n",
            "video 1/1 (frame 152/1501) /content/Security camera inside Pepper Grill restaurant.mp4: 384x640 5 chairs, 4 customers, 7 tables, 6.8ms\n",
            "video 1/1 (frame 153/1501) /content/Security camera inside Pepper Grill restaurant.mp4: 384x640 5 chairs, 4 customers, 7 tables, 6.5ms\n",
            "video 1/1 (frame 154/1501) /content/Security camera inside Pepper Grill restaurant.mp4: 384x640 5 chairs, 4 customers, 7 tables, 7.1ms\n",
            "video 1/1 (frame 155/1501) /content/Security camera inside Pepper Grill restaurant.mp4: 384x640 5 chairs, 4 customers, 7 tables, 6.4ms\n",
            "video 1/1 (frame 156/1501) /content/Security camera inside Pepper Grill restaurant.mp4: 384x640 5 chairs, 4 customers, 6 tables, 6.6ms\n",
            "video 1/1 (frame 157/1501) /content/Security camera inside Pepper Grill restaurant.mp4: 384x640 4 chairs, 4 customers, 7 tables, 7.2ms\n",
            "video 1/1 (frame 158/1501) /content/Security camera inside Pepper Grill restaurant.mp4: 384x640 5 chairs, 4 customers, 7 tables, 8.4ms\n",
            "video 1/1 (frame 159/1501) /content/Security camera inside Pepper Grill restaurant.mp4: 384x640 5 chairs, 4 customers, 7 tables, 7.8ms\n",
            "video 1/1 (frame 160/1501) /content/Security camera inside Pepper Grill restaurant.mp4: 384x640 5 chairs, 4 customers, 6 tables, 8.9ms\n",
            "video 1/1 (frame 161/1501) /content/Security camera inside Pepper Grill restaurant.mp4: 384x640 5 chairs, 4 customers, 6 tables, 6.8ms\n",
            "video 1/1 (frame 162/1501) /content/Security camera inside Pepper Grill restaurant.mp4: 384x640 5 chairs, 4 customers, 6 tables, 12.7ms\n",
            "video 1/1 (frame 163/1501) /content/Security camera inside Pepper Grill restaurant.mp4: 384x640 5 chairs, 4 customers, 6 tables, 6.4ms\n",
            "video 1/1 (frame 164/1501) /content/Security camera inside Pepper Grill restaurant.mp4: 384x640 5 chairs, 4 customers, 6 tables, 6.6ms\n",
            "video 1/1 (frame 165/1501) /content/Security camera inside Pepper Grill restaurant.mp4: 384x640 5 chairs, 4 customers, 6 tables, 7.6ms\n",
            "video 1/1 (frame 166/1501) /content/Security camera inside Pepper Grill restaurant.mp4: 384x640 5 chairs, 4 customers, 6 tables, 7.1ms\n",
            "video 1/1 (frame 167/1501) /content/Security camera inside Pepper Grill restaurant.mp4: 384x640 5 chairs, 4 customers, 6 tables, 7.0ms\n",
            "video 1/1 (frame 168/1501) /content/Security camera inside Pepper Grill restaurant.mp4: 384x640 5 chairs, 4 customers, 6 tables, 6.6ms\n",
            "video 1/1 (frame 169/1501) /content/Security camera inside Pepper Grill restaurant.mp4: 384x640 5 chairs, 4 customers, 6 tables, 10.5ms\n",
            "video 1/1 (frame 170/1501) /content/Security camera inside Pepper Grill restaurant.mp4: 384x640 5 chairs, 4 customers, 6 tables, 6.9ms\n",
            "video 1/1 (frame 171/1501) /content/Security camera inside Pepper Grill restaurant.mp4: 384x640 5 chairs, 4 customers, 6 tables, 7.6ms\n",
            "video 1/1 (frame 172/1501) /content/Security camera inside Pepper Grill restaurant.mp4: 384x640 5 chairs, 4 customers, 6 tables, 6.7ms\n",
            "video 1/1 (frame 173/1501) /content/Security camera inside Pepper Grill restaurant.mp4: 384x640 5 chairs, 4 customers, 6 tables, 7.8ms\n",
            "video 1/1 (frame 174/1501) /content/Security camera inside Pepper Grill restaurant.mp4: 384x640 5 chairs, 4 customers, 6 tables, 8.7ms\n",
            "video 1/1 (frame 175/1501) /content/Security camera inside Pepper Grill restaurant.mp4: 384x640 5 chairs, 4 customers, 6 tables, 9.5ms\n",
            "video 1/1 (frame 176/1501) /content/Security camera inside Pepper Grill restaurant.mp4: 384x640 5 chairs, 4 customers, 6 tables, 6.8ms\n",
            "video 1/1 (frame 177/1501) /content/Security camera inside Pepper Grill restaurant.mp4: 384x640 5 chairs, 4 customers, 6 tables, 7.6ms\n",
            "video 1/1 (frame 178/1501) /content/Security camera inside Pepper Grill restaurant.mp4: 384x640 5 chairs, 4 customers, 6 tables, 7.0ms\n",
            "video 1/1 (frame 179/1501) /content/Security camera inside Pepper Grill restaurant.mp4: 384x640 5 chairs, 4 customers, 6 tables, 7.6ms\n",
            "video 1/1 (frame 180/1501) /content/Security camera inside Pepper Grill restaurant.mp4: 384x640 5 chairs, 4 customers, 6 tables, 6.6ms\n",
            "video 1/1 (frame 181/1501) /content/Security camera inside Pepper Grill restaurant.mp4: 384x640 5 chairs, 4 customers, 6 tables, 6.7ms\n",
            "video 1/1 (frame 182/1501) /content/Security camera inside Pepper Grill restaurant.mp4: 384x640 5 chairs, 4 customers, 6 tables, 13.7ms\n",
            "video 1/1 (frame 183/1501) /content/Security camera inside Pepper Grill restaurant.mp4: 384x640 5 chairs, 4 customers, 6 tables, 6.3ms\n",
            "video 1/1 (frame 184/1501) /content/Security camera inside Pepper Grill restaurant.mp4: 384x640 5 chairs, 4 customers, 6 tables, 6.3ms\n",
            "video 1/1 (frame 185/1501) /content/Security camera inside Pepper Grill restaurant.mp4: 384x640 5 chairs, 4 customers, 6 tables, 6.7ms\n",
            "video 1/1 (frame 186/1501) /content/Security camera inside Pepper Grill restaurant.mp4: 384x640 5 chairs, 4 customers, 6 tables, 8.1ms\n",
            "video 1/1 (frame 187/1501) /content/Security camera inside Pepper Grill restaurant.mp4: 384x640 5 chairs, 4 customers, 6 tables, 7.4ms\n",
            "video 1/1 (frame 188/1501) /content/Security camera inside Pepper Grill restaurant.mp4: 384x640 5 chairs, 4 customers, 6 tables, 6.5ms\n",
            "video 1/1 (frame 189/1501) /content/Security camera inside Pepper Grill restaurant.mp4: 384x640 5 chairs, 4 customers, 6 tables, 6.5ms\n",
            "video 1/1 (frame 190/1501) /content/Security camera inside Pepper Grill restaurant.mp4: 384x640 5 chairs, 4 customers, 6 tables, 6.9ms\n",
            "video 1/1 (frame 191/1501) /content/Security camera inside Pepper Grill restaurant.mp4: 384x640 5 chairs, 4 customers, 6 tables, 6.3ms\n",
            "video 1/1 (frame 192/1501) /content/Security camera inside Pepper Grill restaurant.mp4: 384x640 5 chairs, 4 customers, 6 tables, 6.6ms\n",
            "video 1/1 (frame 193/1501) /content/Security camera inside Pepper Grill restaurant.mp4: 384x640 5 chairs, 4 customers, 6 tables, 6.4ms\n",
            "video 1/1 (frame 194/1501) /content/Security camera inside Pepper Grill restaurant.mp4: 384x640 5 chairs, 4 customers, 7 tables, 6.7ms\n",
            "video 1/1 (frame 195/1501) /content/Security camera inside Pepper Grill restaurant.mp4: 384x640 5 chairs, 4 customers, 7 tables, 6.3ms\n",
            "video 1/1 (frame 196/1501) /content/Security camera inside Pepper Grill restaurant.mp4: 384x640 5 chairs, 4 customers, 7 tables, 7.1ms\n",
            "video 1/1 (frame 197/1501) /content/Security camera inside Pepper Grill restaurant.mp4: 384x640 5 chairs, 4 customers, 7 tables, 6.3ms\n",
            "video 1/1 (frame 198/1501) /content/Security camera inside Pepper Grill restaurant.mp4: 384x640 5 chairs, 4 customers, 7 tables, 6.5ms\n",
            "video 1/1 (frame 199/1501) /content/Security camera inside Pepper Grill restaurant.mp4: 384x640 5 chairs, 4 customers, 7 tables, 8.6ms\n",
            "video 1/1 (frame 200/1501) /content/Security camera inside Pepper Grill restaurant.mp4: 384x640 5 chairs, 4 customers, 6 tables, 8.9ms\n",
            "video 1/1 (frame 201/1501) /content/Security camera inside Pepper Grill restaurant.mp4: 384x640 5 chairs, 4 customers, 7 tables, 7.1ms\n",
            "video 1/1 (frame 202/1501) /content/Security camera inside Pepper Grill restaurant.mp4: 384x640 5 chairs, 4 customers, 6 tables, 7.0ms\n",
            "video 1/1 (frame 203/1501) /content/Security camera inside Pepper Grill restaurant.mp4: 384x640 5 chairs, 4 customers, 6 tables, 6.6ms\n",
            "video 1/1 (frame 204/1501) /content/Security camera inside Pepper Grill restaurant.mp4: 384x640 5 chairs, 4 customers, 6 tables, 6.4ms\n",
            "video 1/1 (frame 205/1501) /content/Security camera inside Pepper Grill restaurant.mp4: 384x640 5 chairs, 4 customers, 6 tables, 6.6ms\n",
            "video 1/1 (frame 206/1501) /content/Security camera inside Pepper Grill restaurant.mp4: 384x640 5 chairs, 4 customers, 7 tables, 6.8ms\n",
            "video 1/1 (frame 207/1501) /content/Security camera inside Pepper Grill restaurant.mp4: 384x640 5 chairs, 4 customers, 7 tables, 6.6ms\n",
            "video 1/1 (frame 208/1501) /content/Security camera inside Pepper Grill restaurant.mp4: 384x640 5 chairs, 4 customers, 7 tables, 7.6ms\n",
            "video 1/1 (frame 209/1501) /content/Security camera inside Pepper Grill restaurant.mp4: 384x640 5 chairs, 4 customers, 7 tables, 7.0ms\n",
            "video 1/1 (frame 210/1501) /content/Security camera inside Pepper Grill restaurant.mp4: 384x640 5 chairs, 4 customers, 7 tables, 6.9ms\n",
            "video 1/1 (frame 211/1501) /content/Security camera inside Pepper Grill restaurant.mp4: 384x640 5 chairs, 4 customers, 7 tables, 7.4ms\n",
            "video 1/1 (frame 212/1501) /content/Security camera inside Pepper Grill restaurant.mp4: 384x640 5 chairs, 4 customers, 7 tables, 6.7ms\n",
            "video 1/1 (frame 213/1501) /content/Security camera inside Pepper Grill restaurant.mp4: 384x640 5 chairs, 4 customers, 7 tables, 6.6ms\n",
            "video 1/1 (frame 214/1501) /content/Security camera inside Pepper Grill restaurant.mp4: 384x640 5 chairs, 4 customers, 7 tables, 9.7ms\n",
            "video 1/1 (frame 215/1501) /content/Security camera inside Pepper Grill restaurant.mp4: 384x640 5 chairs, 4 customers, 7 tables, 6.5ms\n",
            "video 1/1 (frame 216/1501) /content/Security camera inside Pepper Grill restaurant.mp4: 384x640 5 chairs, 4 customers, 7 tables, 8.1ms\n",
            "video 1/1 (frame 217/1501) /content/Security camera inside Pepper Grill restaurant.mp4: 384x640 5 chairs, 4 customers, 7 tables, 7.2ms\n",
            "video 1/1 (frame 218/1501) /content/Security camera inside Pepper Grill restaurant.mp4: 384x640 5 chairs, 4 customers, 6 tables, 7.9ms\n",
            "video 1/1 (frame 219/1501) /content/Security camera inside Pepper Grill restaurant.mp4: 384x640 5 chairs, 4 customers, 6 tables, 7.7ms\n",
            "video 1/1 (frame 220/1501) /content/Security camera inside Pepper Grill restaurant.mp4: 384x640 5 chairs, 4 customers, 6 tables, 8.5ms\n",
            "video 1/1 (frame 221/1501) /content/Security camera inside Pepper Grill restaurant.mp4: 384x640 5 chairs, 4 customers, 6 tables, 7.2ms\n",
            "video 1/1 (frame 222/1501) /content/Security camera inside Pepper Grill restaurant.mp4: 384x640 5 chairs, 4 customers, 6 tables, 7.3ms\n",
            "video 1/1 (frame 223/1501) /content/Security camera inside Pepper Grill restaurant.mp4: 384x640 5 chairs, 4 customers, 6 tables, 6.6ms\n",
            "video 1/1 (frame 224/1501) /content/Security camera inside Pepper Grill restaurant.mp4: 384x640 5 chairs, 4 customers, 6 tables, 11.8ms\n",
            "video 1/1 (frame 225/1501) /content/Security camera inside Pepper Grill restaurant.mp4: 384x640 5 chairs, 4 customers, 6 tables, 7.7ms\n",
            "video 1/1 (frame 226/1501) /content/Security camera inside Pepper Grill restaurant.mp4: 384x640 5 chairs, 4 customers, 6 tables, 9.2ms\n",
            "video 1/1 (frame 227/1501) /content/Security camera inside Pepper Grill restaurant.mp4: 384x640 5 chairs, 4 customers, 6 tables, 8.3ms\n",
            "video 1/1 (frame 228/1501) /content/Security camera inside Pepper Grill restaurant.mp4: 384x640 5 chairs, 4 customers, 6 tables, 7.5ms\n",
            "video 1/1 (frame 229/1501) /content/Security camera inside Pepper Grill restaurant.mp4: 384x640 5 chairs, 4 customers, 6 tables, 6.6ms\n",
            "video 1/1 (frame 230/1501) /content/Security camera inside Pepper Grill restaurant.mp4: 384x640 5 chairs, 4 customers, 6 tables, 6.7ms\n",
            "video 1/1 (frame 231/1501) /content/Security camera inside Pepper Grill restaurant.mp4: 384x640 5 chairs, 4 customers, 6 tables, 6.5ms\n",
            "video 1/1 (frame 232/1501) /content/Security camera inside Pepper Grill restaurant.mp4: 384x640 5 chairs, 4 customers, 6 tables, 6.4ms\n",
            "video 1/1 (frame 233/1501) /content/Security camera inside Pepper Grill restaurant.mp4: 384x640 5 chairs, 4 customers, 6 tables, 6.7ms\n",
            "video 1/1 (frame 234/1501) /content/Security camera inside Pepper Grill restaurant.mp4: 384x640 5 chairs, 4 customers, 6 tables, 8.3ms\n",
            "video 1/1 (frame 235/1501) /content/Security camera inside Pepper Grill restaurant.mp4: 384x640 5 chairs, 4 customers, 6 tables, 6.8ms\n",
            "video 1/1 (frame 236/1501) /content/Security camera inside Pepper Grill restaurant.mp4: 384x640 5 chairs, 5 customers, 7 tables, 7.8ms\n",
            "video 1/1 (frame 237/1501) /content/Security camera inside Pepper Grill restaurant.mp4: 384x640 5 chairs, 4 customers, 7 tables, 9.9ms\n",
            "video 1/1 (frame 238/1501) /content/Security camera inside Pepper Grill restaurant.mp4: 384x640 5 chairs, 4 customers, 7 tables, 7.2ms\n",
            "video 1/1 (frame 239/1501) /content/Security camera inside Pepper Grill restaurant.mp4: 384x640 5 chairs, 4 customers, 7 tables, 7.0ms\n",
            "video 1/1 (frame 240/1501) /content/Security camera inside Pepper Grill restaurant.mp4: 384x640 5 chairs, 4 customers, 7 tables, 7.8ms\n",
            "video 1/1 (frame 241/1501) /content/Security camera inside Pepper Grill restaurant.mp4: 384x640 5 chairs, 4 customers, 7 tables, 6.5ms\n",
            "video 1/1 (frame 242/1501) /content/Security camera inside Pepper Grill restaurant.mp4: 384x640 5 chairs, 4 customers, 7 tables, 7.4ms\n",
            "video 1/1 (frame 243/1501) /content/Security camera inside Pepper Grill restaurant.mp4: 384x640 5 chairs, 4 customers, 7 tables, 6.4ms\n",
            "video 1/1 (frame 244/1501) /content/Security camera inside Pepper Grill restaurant.mp4: 384x640 5 chairs, 4 customers, 7 tables, 7.7ms\n",
            "video 1/1 (frame 245/1501) /content/Security camera inside Pepper Grill restaurant.mp4: 384x640 5 chairs, 4 customers, 7 tables, 7.1ms\n",
            "video 1/1 (frame 246/1501) /content/Security camera inside Pepper Grill restaurant.mp4: 384x640 5 chairs, 4 customers, 7 tables, 11.2ms\n",
            "video 1/1 (frame 247/1501) /content/Security camera inside Pepper Grill restaurant.mp4: 384x640 5 chairs, 4 customers, 7 tables, 8.8ms\n",
            "video 1/1 (frame 248/1501) /content/Security camera inside Pepper Grill restaurant.mp4: 384x640 5 chairs, 4 customers, 7 tables, 12.2ms\n",
            "video 1/1 (frame 249/1501) /content/Security camera inside Pepper Grill restaurant.mp4: 384x640 5 chairs, 4 customers, 7 tables, 10.6ms\n",
            "video 1/1 (frame 250/1501) /content/Security camera inside Pepper Grill restaurant.mp4: 384x640 5 chairs, 5 customers, 8 tables, 8.9ms\n",
            "video 1/1 (frame 251/1501) /content/Security camera inside Pepper Grill restaurant.mp4: 384x640 5 chairs, 5 customers, 8 tables, 14.7ms\n",
            "video 1/1 (frame 252/1501) /content/Security camera inside Pepper Grill restaurant.mp4: 384x640 5 chairs, 5 customers, 8 tables, 12.4ms\n",
            "video 1/1 (frame 253/1501) /content/Security camera inside Pepper Grill restaurant.mp4: 384x640 5 chairs, 5 customers, 7 tables, 16.0ms\n",
            "video 1/1 (frame 254/1501) /content/Security camera inside Pepper Grill restaurant.mp4: 384x640 5 chairs, 4 customers, 7 tables, 10.2ms\n",
            "video 1/1 (frame 255/1501) /content/Security camera inside Pepper Grill restaurant.mp4: 384x640 5 chairs, 4 customers, 7 tables, 8.3ms\n",
            "video 1/1 (frame 256/1501) /content/Security camera inside Pepper Grill restaurant.mp4: 384x640 5 chairs, 5 customers, 8 tables, 10.0ms\n",
            "video 1/1 (frame 257/1501) /content/Security camera inside Pepper Grill restaurant.mp4: 384x640 5 chairs, 5 customers, 8 tables, 8.2ms\n",
            "video 1/1 (frame 258/1501) /content/Security camera inside Pepper Grill restaurant.mp4: 384x640 5 chairs, 5 customers, 7 tables, 9.5ms\n",
            "video 1/1 (frame 259/1501) /content/Security camera inside Pepper Grill restaurant.mp4: 384x640 5 chairs, 4 customers, 7 tables, 9.1ms\n",
            "video 1/1 (frame 260/1501) /content/Security camera inside Pepper Grill restaurant.mp4: 384x640 5 chairs, 4 customers, 6 tables, 9.5ms\n",
            "video 1/1 (frame 261/1501) /content/Security camera inside Pepper Grill restaurant.mp4: 384x640 5 chairs, 4 customers, 6 tables, 9.1ms\n",
            "video 1/1 (frame 262/1501) /content/Security camera inside Pepper Grill restaurant.mp4: 384x640 5 chairs, 4 customers, 6 tables, 11.4ms\n",
            "video 1/1 (frame 263/1501) /content/Security camera inside Pepper Grill restaurant.mp4: 384x640 5 chairs, 5 customers, 6 tables, 8.7ms\n",
            "video 1/1 (frame 264/1501) /content/Security camera inside Pepper Grill restaurant.mp4: 384x640 5 chairs, 5 customers, 6 tables, 10.0ms\n",
            "video 1/1 (frame 265/1501) /content/Security camera inside Pepper Grill restaurant.mp4: 384x640 5 chairs, 5 customers, 6 tables, 8.5ms\n",
            "video 1/1 (frame 266/1501) /content/Security camera inside Pepper Grill restaurant.mp4: 384x640 5 chairs, 5 customers, 7 tables, 10.0ms\n",
            "video 1/1 (frame 267/1501) /content/Security camera inside Pepper Grill restaurant.mp4: 384x640 5 chairs, 5 customers, 7 tables, 8.9ms\n",
            "video 1/1 (frame 268/1501) /content/Security camera inside Pepper Grill restaurant.mp4: 384x640 5 chairs, 5 customers, 7 tables, 16.2ms\n",
            "video 1/1 (frame 269/1501) /content/Security camera inside Pepper Grill restaurant.mp4: 384x640 5 chairs, 5 customers, 7 tables, 8.8ms\n",
            "video 1/1 (frame 270/1501) /content/Security camera inside Pepper Grill restaurant.mp4: 384x640 5 chairs, 5 customers, 7 tables, 8.3ms\n",
            "video 1/1 (frame 271/1501) /content/Security camera inside Pepper Grill restaurant.mp4: 384x640 5 chairs, 4 customers, 6 tables, 8.1ms\n",
            "video 1/1 (frame 272/1501) /content/Security camera inside Pepper Grill restaurant.mp4: 384x640 5 chairs, 5 customers, 6 tables, 8.1ms\n",
            "video 1/1 (frame 273/1501) /content/Security camera inside Pepper Grill restaurant.mp4: 384x640 5 chairs, 5 customers, 7 tables, 13.4ms\n",
            "video 1/1 (frame 274/1501) /content/Security camera inside Pepper Grill restaurant.mp4: 384x640 5 chairs, 5 customers, 7 tables, 8.2ms\n",
            "video 1/1 (frame 275/1501) /content/Security camera inside Pepper Grill restaurant.mp4: 384x640 5 chairs, 5 customers, 7 tables, 8.1ms\n",
            "video 1/1 (frame 276/1501) /content/Security camera inside Pepper Grill restaurant.mp4: 384x640 5 chairs, 5 customers, 7 tables, 8.1ms\n",
            "video 1/1 (frame 277/1501) /content/Security camera inside Pepper Grill restaurant.mp4: 384x640 5 chairs, 5 customers, 7 tables, 8.0ms\n",
            "video 1/1 (frame 278/1501) /content/Security camera inside Pepper Grill restaurant.mp4: 384x640 5 chairs, 4 customers, 7 tables, 7.9ms\n",
            "video 1/1 (frame 279/1501) /content/Security camera inside Pepper Grill restaurant.mp4: 384x640 5 chairs, 5 customers, 7 tables, 13.1ms\n",
            "video 1/1 (frame 280/1501) /content/Security camera inside Pepper Grill restaurant.mp4: 384x640 5 chairs, 4 customers, 7 tables, 12.3ms\n",
            "video 1/1 (frame 281/1501) /content/Security camera inside Pepper Grill restaurant.mp4: 384x640 5 chairs, 4 customers, 7 tables, 10.8ms\n",
            "video 1/1 (frame 282/1501) /content/Security camera inside Pepper Grill restaurant.mp4: 384x640 5 chairs, 4 customers, 7 tables, 13.4ms\n",
            "video 1/1 (frame 283/1501) /content/Security camera inside Pepper Grill restaurant.mp4: 384x640 5 chairs, 4 customers, 7 tables, 9.2ms\n",
            "video 1/1 (frame 284/1501) /content/Security camera inside Pepper Grill restaurant.mp4: 384x640 5 chairs, 4 customers, 7 tables, 11.0ms\n",
            "video 1/1 (frame 285/1501) /content/Security camera inside Pepper Grill restaurant.mp4: 384x640 5 chairs, 4 customers, 7 tables, 9.8ms\n",
            "video 1/1 (frame 286/1501) /content/Security camera inside Pepper Grill restaurant.mp4: 384x640 5 chairs, 4 customers, 7 tables, 11.0ms\n",
            "video 1/1 (frame 287/1501) /content/Security camera inside Pepper Grill restaurant.mp4: 384x640 5 chairs, 4 customers, 7 tables, 12.2ms\n",
            "video 1/1 (frame 288/1501) /content/Security camera inside Pepper Grill restaurant.mp4: 384x640 5 chairs, 4 customers, 7 tables, 11.9ms\n",
            "video 1/1 (frame 289/1501) /content/Security camera inside Pepper Grill restaurant.mp4: 384x640 5 chairs, 4 customers, 7 tables, 12.4ms\n",
            "video 1/1 (frame 290/1501) /content/Security camera inside Pepper Grill restaurant.mp4: 384x640 5 chairs, 4 customers, 7 tables, 11.1ms\n",
            "video 1/1 (frame 291/1501) /content/Security camera inside Pepper Grill restaurant.mp4: 384x640 5 chairs, 4 customers, 7 tables, 11.6ms\n",
            "video 1/1 (frame 292/1501) /content/Security camera inside Pepper Grill restaurant.mp4: 384x640 5 chairs, 4 customers, 7 tables, 15.0ms\n",
            "video 1/1 (frame 293/1501) /content/Security camera inside Pepper Grill restaurant.mp4: 384x640 5 chairs, 4 customers, 7 tables, 12.7ms\n",
            "video 1/1 (frame 294/1501) /content/Security camera inside Pepper Grill restaurant.mp4: 384x640 5 chairs, 4 customers, 7 tables, 20.6ms\n",
            "video 1/1 (frame 295/1501) /content/Security camera inside Pepper Grill restaurant.mp4: 384x640 5 chairs, 4 customers, 7 tables, 7.0ms\n",
            "video 1/1 (frame 296/1501) /content/Security camera inside Pepper Grill restaurant.mp4: 384x640 4 chairs, 4 customers, 7 tables, 6.4ms\n",
            "video 1/1 (frame 297/1501) /content/Security camera inside Pepper Grill restaurant.mp4: 384x640 4 chairs, 4 customers, 7 tables, 6.4ms\n",
            "video 1/1 (frame 298/1501) /content/Security camera inside Pepper Grill restaurant.mp4: 384x640 4 chairs, 4 customers, 7 tables, 8.5ms\n",
            "video 1/1 (frame 299/1501) /content/Security camera inside Pepper Grill restaurant.mp4: 384x640 4 chairs, 4 customers, 7 tables, 6.5ms\n",
            "video 1/1 (frame 300/1501) /content/Security camera inside Pepper Grill restaurant.mp4: 384x640 4 chairs, 4 customers, 7 tables, 6.6ms\n",
            "video 1/1 (frame 301/1501) /content/Security camera inside Pepper Grill restaurant.mp4: 384x640 4 chairs, 4 customers, 7 tables, 13.3ms\n",
            "video 1/1 (frame 302/1501) /content/Security camera inside Pepper Grill restaurant.mp4: 384x640 4 chairs, 4 customers, 7 tables, 8.0ms\n",
            "video 1/1 (frame 303/1501) /content/Security camera inside Pepper Grill restaurant.mp4: 384x640 4 chairs, 4 customers, 7 tables, 8.0ms\n",
            "video 1/1 (frame 304/1501) /content/Security camera inside Pepper Grill restaurant.mp4: 384x640 4 chairs, 4 customers, 7 tables, 6.7ms\n",
            "video 1/1 (frame 305/1501) /content/Security camera inside Pepper Grill restaurant.mp4: 384x640 4 chairs, 4 customers, 7 tables, 7.6ms\n",
            "video 1/1 (frame 306/1501) /content/Security camera inside Pepper Grill restaurant.mp4: 384x640 4 chairs, 4 customers, 7 tables, 6.3ms\n",
            "video 1/1 (frame 307/1501) /content/Security camera inside Pepper Grill restaurant.mp4: 384x640 4 chairs, 4 customers, 7 tables, 9.4ms\n",
            "video 1/1 (frame 308/1501) /content/Security camera inside Pepper Grill restaurant.mp4: 384x640 4 chairs, 4 customers, 7 tables, 7.6ms\n",
            "video 1/1 (frame 309/1501) /content/Security camera inside Pepper Grill restaurant.mp4: 384x640 4 chairs, 4 customers, 7 tables, 6.5ms\n",
            "video 1/1 (frame 310/1501) /content/Security camera inside Pepper Grill restaurant.mp4: 384x640 4 chairs, 4 customers, 7 tables, 7.2ms\n",
            "video 1/1 (frame 311/1501) /content/Security camera inside Pepper Grill restaurant.mp4: 384x640 4 chairs, 4 customers, 7 tables, 7.1ms\n",
            "video 1/1 (frame 312/1501) /content/Security camera inside Pepper Grill restaurant.mp4: 384x640 4 chairs, 4 customers, 7 tables, 6.3ms\n",
            "video 1/1 (frame 313/1501) /content/Security camera inside Pepper Grill restaurant.mp4: 384x640 4 chairs, 4 customers, 7 tables, 6.7ms\n",
            "video 1/1 (frame 314/1501) /content/Security camera inside Pepper Grill restaurant.mp4: 384x640 4 chairs, 4 customers, 7 tables, 8.5ms\n",
            "video 1/1 (frame 315/1501) /content/Security camera inside Pepper Grill restaurant.mp4: 384x640 4 chairs, 4 customers, 7 tables, 7.8ms\n",
            "video 1/1 (frame 316/1501) /content/Security camera inside Pepper Grill restaurant.mp4: 384x640 4 chairs, 4 customers, 7 tables, 6.9ms\n",
            "video 1/1 (frame 317/1501) /content/Security camera inside Pepper Grill restaurant.mp4: 384x640 4 chairs, 4 customers, 7 tables, 7.0ms\n",
            "video 1/1 (frame 318/1501) /content/Security camera inside Pepper Grill restaurant.mp4: 384x640 4 chairs, 4 customers, 7 tables, 6.7ms\n",
            "video 1/1 (frame 319/1501) /content/Security camera inside Pepper Grill restaurant.mp4: 384x640 4 chairs, 4 customers, 7 tables, 8.6ms\n",
            "video 1/1 (frame 320/1501) /content/Security camera inside Pepper Grill restaurant.mp4: 384x640 4 chairs, 4 customers, 7 tables, 10.9ms\n",
            "video 1/1 (frame 321/1501) /content/Security camera inside Pepper Grill restaurant.mp4: 384x640 4 chairs, 4 customers, 7 tables, 7.9ms\n",
            "video 1/1 (frame 322/1501) /content/Security camera inside Pepper Grill restaurant.mp4: 384x640 4 chairs, 4 customers, 7 tables, 6.5ms\n",
            "video 1/1 (frame 323/1501) /content/Security camera inside Pepper Grill restaurant.mp4: 384x640 4 chairs, 4 customers, 7 tables, 6.6ms\n",
            "video 1/1 (frame 324/1501) /content/Security camera inside Pepper Grill restaurant.mp4: 384x640 4 chairs, 4 customers, 7 tables, 8.7ms\n",
            "video 1/1 (frame 325/1501) /content/Security camera inside Pepper Grill restaurant.mp4: 384x640 4 chairs, 4 customers, 7 tables, 9.6ms\n",
            "video 1/1 (frame 326/1501) /content/Security camera inside Pepper Grill restaurant.mp4: 384x640 4 chairs, 4 customers, 7 tables, 6.8ms\n",
            "video 1/1 (frame 327/1501) /content/Security camera inside Pepper Grill restaurant.mp4: 384x640 4 chairs, 4 customers, 7 tables, 7.3ms\n",
            "video 1/1 (frame 328/1501) /content/Security camera inside Pepper Grill restaurant.mp4: 384x640 4 chairs, 4 customers, 7 tables, 6.6ms\n",
            "video 1/1 (frame 329/1501) /content/Security camera inside Pepper Grill restaurant.mp4: 384x640 4 chairs, 4 customers, 7 tables, 6.6ms\n",
            "video 1/1 (frame 330/1501) /content/Security camera inside Pepper Grill restaurant.mp4: 384x640 4 chairs, 4 customers, 7 tables, 6.4ms\n",
            "video 1/1 (frame 331/1501) /content/Security camera inside Pepper Grill restaurant.mp4: 384x640 4 chairs, 4 customers, 7 tables, 7.2ms\n",
            "video 1/1 (frame 332/1501) /content/Security camera inside Pepper Grill restaurant.mp4: 384x640 4 chairs, 4 customers, 7 tables, 7.5ms\n",
            "video 1/1 (frame 333/1501) /content/Security camera inside Pepper Grill restaurant.mp4: 384x640 4 chairs, 4 customers, 7 tables, 9.1ms\n",
            "video 1/1 (frame 334/1501) /content/Security camera inside Pepper Grill restaurant.mp4: 384x640 4 chairs, 4 customers, 7 tables, 7.0ms\n",
            "video 1/1 (frame 335/1501) /content/Security camera inside Pepper Grill restaurant.mp4: 384x640 4 chairs, 4 customers, 7 tables, 6.8ms\n",
            "video 1/1 (frame 336/1501) /content/Security camera inside Pepper Grill restaurant.mp4: 384x640 4 chairs, 4 customers, 7 tables, 6.3ms\n",
            "video 1/1 (frame 337/1501) /content/Security camera inside Pepper Grill restaurant.mp4: 384x640 4 chairs, 4 customers, 7 tables, 9.1ms\n",
            "video 1/1 (frame 338/1501) /content/Security camera inside Pepper Grill restaurant.mp4: 384x640 4 chairs, 4 customers, 7 tables, 8.0ms\n",
            "video 1/1 (frame 339/1501) /content/Security camera inside Pepper Grill restaurant.mp4: 384x640 4 chairs, 4 customers, 7 tables, 7.5ms\n",
            "video 1/1 (frame 340/1501) /content/Security camera inside Pepper Grill restaurant.mp4: 384x640 4 chairs, 4 customers, 7 tables, 6.9ms\n",
            "video 1/1 (frame 341/1501) /content/Security camera inside Pepper Grill restaurant.mp4: 384x640 4 chairs, 4 customers, 7 tables, 6.9ms\n",
            "video 1/1 (frame 342/1501) /content/Security camera inside Pepper Grill restaurant.mp4: 384x640 4 chairs, 4 customers, 7 tables, 6.3ms\n",
            "video 1/1 (frame 343/1501) /content/Security camera inside Pepper Grill restaurant.mp4: 384x640 4 chairs, 4 customers, 7 tables, 6.4ms\n",
            "video 1/1 (frame 344/1501) /content/Security camera inside Pepper Grill restaurant.mp4: 384x640 4 chairs, 4 customers, 7 tables, 6.6ms\n",
            "video 1/1 (frame 345/1501) /content/Security camera inside Pepper Grill restaurant.mp4: 384x640 4 chairs, 4 customers, 7 tables, 6.5ms\n",
            "video 1/1 (frame 346/1501) /content/Security camera inside Pepper Grill restaurant.mp4: 384x640 4 chairs, 4 customers, 7 tables, 6.9ms\n",
            "video 1/1 (frame 347/1501) /content/Security camera inside Pepper Grill restaurant.mp4: 384x640 4 chairs, 4 customers, 7 tables, 9.8ms\n",
            "video 1/1 (frame 348/1501) /content/Security camera inside Pepper Grill restaurant.mp4: 384x640 4 chairs, 4 customers, 7 tables, 6.9ms\n",
            "video 1/1 (frame 349/1501) /content/Security camera inside Pepper Grill restaurant.mp4: 384x640 5 chairs, 4 customers, 7 tables, 6.7ms\n",
            "video 1/1 (frame 350/1501) /content/Security camera inside Pepper Grill restaurant.mp4: 384x640 5 chairs, 4 customers, 7 tables, 7.0ms\n",
            "video 1/1 (frame 351/1501) /content/Security camera inside Pepper Grill restaurant.mp4: 384x640 4 chairs, 4 customers, 7 tables, 6.8ms\n",
            "video 1/1 (frame 352/1501) /content/Security camera inside Pepper Grill restaurant.mp4: 384x640 4 chairs, 4 customers, 7 tables, 6.5ms\n",
            "video 1/1 (frame 353/1501) /content/Security camera inside Pepper Grill restaurant.mp4: 384x640 4 chairs, 4 customers, 7 tables, 7.2ms\n",
            "video 1/1 (frame 354/1501) /content/Security camera inside Pepper Grill restaurant.mp4: 384x640 4 chairs, 4 customers, 7 tables, 8.4ms\n",
            "video 1/1 (frame 355/1501) /content/Security camera inside Pepper Grill restaurant.mp4: 384x640 4 chairs, 4 customers, 7 tables, 14.1ms\n",
            "video 1/1 (frame 356/1501) /content/Security camera inside Pepper Grill restaurant.mp4: 384x640 4 chairs, 3 customers, 7 tables, 7.0ms\n",
            "video 1/1 (frame 357/1501) /content/Security camera inside Pepper Grill restaurant.mp4: 384x640 4 chairs, 3 customers, 7 tables, 7.9ms\n",
            "video 1/1 (frame 358/1501) /content/Security camera inside Pepper Grill restaurant.mp4: 384x640 4 chairs, 3 customers, 7 tables, 6.3ms\n",
            "video 1/1 (frame 359/1501) /content/Security camera inside Pepper Grill restaurant.mp4: 384x640 4 chairs, 3 customers, 7 tables, 7.8ms\n",
            "video 1/1 (frame 360/1501) /content/Security camera inside Pepper Grill restaurant.mp4: 384x640 4 chairs, 3 customers, 7 tables, 6.3ms\n",
            "video 1/1 (frame 361/1501) /content/Security camera inside Pepper Grill restaurant.mp4: 384x640 4 chairs, 3 customers, 7 tables, 6.4ms\n",
            "video 1/1 (frame 362/1501) /content/Security camera inside Pepper Grill restaurant.mp4: 384x640 4 chairs, 3 customers, 7 tables, 7.6ms\n",
            "video 1/1 (frame 363/1501) /content/Security camera inside Pepper Grill restaurant.mp4: 384x640 4 chairs, 4 customers, 7 tables, 6.4ms\n",
            "video 1/1 (frame 364/1501) /content/Security camera inside Pepper Grill restaurant.mp4: 384x640 4 chairs, 4 customers, 7 tables, 9.3ms\n",
            "video 1/1 (frame 365/1501) /content/Security camera inside Pepper Grill restaurant.mp4: 384x640 4 chairs, 4 customers, 7 tables, 7.0ms\n",
            "video 1/1 (frame 366/1501) /content/Security camera inside Pepper Grill restaurant.mp4: 384x640 4 chairs, 4 customers, 7 tables, 6.9ms\n",
            "video 1/1 (frame 367/1501) /content/Security camera inside Pepper Grill restaurant.mp4: 384x640 4 chairs, 4 customers, 7 tables, 6.4ms\n",
            "video 1/1 (frame 368/1501) /content/Security camera inside Pepper Grill restaurant.mp4: 384x640 4 chairs, 4 customers, 7 tables, 6.7ms\n",
            "video 1/1 (frame 369/1501) /content/Security camera inside Pepper Grill restaurant.mp4: 384x640 4 chairs, 4 customers, 7 tables, 6.3ms\n",
            "video 1/1 (frame 370/1501) /content/Security camera inside Pepper Grill restaurant.mp4: 384x640 5 chairs, 5 customers, 7 tables, 8.7ms\n",
            "video 1/1 (frame 371/1501) /content/Security camera inside Pepper Grill restaurant.mp4: 384x640 5 chairs, 5 customers, 7 tables, 7.9ms\n",
            "video 1/1 (frame 372/1501) /content/Security camera inside Pepper Grill restaurant.mp4: 384x640 5 chairs, 5 customers, 7 tables, 6.8ms\n",
            "video 1/1 (frame 373/1501) /content/Security camera inside Pepper Grill restaurant.mp4: 384x640 5 chairs, 5 customers, 7 tables, 7.2ms\n",
            "video 1/1 (frame 374/1501) /content/Security camera inside Pepper Grill restaurant.mp4: 384x640 5 chairs, 5 customers, 7 tables, 6.8ms\n",
            "video 1/1 (frame 375/1501) /content/Security camera inside Pepper Grill restaurant.mp4: 384x640 5 chairs, 5 customers, 7 tables, 7.4ms\n",
            "video 1/1 (frame 376/1501) /content/Security camera inside Pepper Grill restaurant.mp4: 384x640 5 chairs, 4 customers, 7 tables, 6.5ms\n",
            "video 1/1 (frame 377/1501) /content/Security camera inside Pepper Grill restaurant.mp4: 384x640 5 chairs, 4 customers, 7 tables, 7.5ms\n",
            "video 1/1 (frame 378/1501) /content/Security camera inside Pepper Grill restaurant.mp4: 384x640 5 chairs, 4 customers, 7 tables, 7.3ms\n",
            "video 1/1 (frame 379/1501) /content/Security camera inside Pepper Grill restaurant.mp4: 384x640 4 chairs, 5 customers, 7 tables, 7.7ms\n",
            "video 1/1 (frame 380/1501) /content/Security camera inside Pepper Grill restaurant.mp4: 384x640 4 chairs, 5 customers, 7 tables, 7.5ms\n",
            "video 1/1 (frame 381/1501) /content/Security camera inside Pepper Grill restaurant.mp4: 384x640 4 chairs, 4 customers, 7 tables, 6.4ms\n",
            "video 1/1 (frame 382/1501) /content/Security camera inside Pepper Grill restaurant.mp4: 384x640 4 chairs, 3 customers, 7 tables, 7.4ms\n",
            "video 1/1 (frame 383/1501) /content/Security camera inside Pepper Grill restaurant.mp4: 384x640 4 chairs, 4 customers, 7 tables, 6.5ms\n",
            "video 1/1 (frame 384/1501) /content/Security camera inside Pepper Grill restaurant.mp4: 384x640 4 chairs, 4 customers, 7 tables, 7.5ms\n",
            "video 1/1 (frame 385/1501) /content/Security camera inside Pepper Grill restaurant.mp4: 384x640 4 chairs, 4 customers, 7 tables, 7.5ms\n",
            "video 1/1 (frame 386/1501) /content/Security camera inside Pepper Grill restaurant.mp4: 384x640 4 chairs, 5 customers, 7 tables, 15.2ms\n",
            "video 1/1 (frame 387/1501) /content/Security camera inside Pepper Grill restaurant.mp4: 384x640 4 chairs, 5 customers, 7 tables, 11.1ms\n",
            "video 1/1 (frame 388/1501) /content/Security camera inside Pepper Grill restaurant.mp4: 384x640 4 chairs, 4 customers, 7 tables, 6.9ms\n",
            "video 1/1 (frame 389/1501) /content/Security camera inside Pepper Grill restaurant.mp4: 384x640 4 chairs, 3 customers, 7 tables, 6.4ms\n",
            "video 1/1 (frame 390/1501) /content/Security camera inside Pepper Grill restaurant.mp4: 384x640 4 chairs, 3 customers, 7 tables, 7.1ms\n",
            "video 1/1 (frame 391/1501) /content/Security camera inside Pepper Grill restaurant.mp4: 384x640 4 chairs, 4 customers, 7 tables, 6.6ms\n",
            "video 1/1 (frame 392/1501) /content/Security camera inside Pepper Grill restaurant.mp4: 384x640 3 chairs, 4 customers, 7 tables, 7.1ms\n",
            "video 1/1 (frame 393/1501) /content/Security camera inside Pepper Grill restaurant.mp4: 384x640 3 chairs, 4 customers, 5 tables, 6.5ms\n",
            "video 1/1 (frame 394/1501) /content/Security camera inside Pepper Grill restaurant.mp4: 384x640 3 chairs, 4 customers, 5 tables, 6.5ms\n",
            "video 1/1 (frame 395/1501) /content/Security camera inside Pepper Grill restaurant.mp4: 384x640 3 chairs, 5 customers, 6 tables, 8.0ms\n",
            "video 1/1 (frame 396/1501) /content/Security camera inside Pepper Grill restaurant.mp4: 384x640 3 chairs, 5 customers, 6 tables, 9.8ms\n",
            "video 1/1 (frame 397/1501) /content/Security camera inside Pepper Grill restaurant.mp4: 384x640 3 chairs, 5 customers, 6 tables, 7.3ms\n",
            "video 1/1 (frame 398/1501) /content/Security camera inside Pepper Grill restaurant.mp4: 384x640 3 chairs, 5 customers, 5 tables, 6.8ms\n",
            "video 1/1 (frame 399/1501) /content/Security camera inside Pepper Grill restaurant.mp4: 384x640 3 chairs, 5 customers, 5 tables, 7.4ms\n",
            "video 1/1 (frame 400/1501) /content/Security camera inside Pepper Grill restaurant.mp4: 384x640 3 chairs, 5 customers, 5 tables, 6.6ms\n",
            "video 1/1 (frame 401/1501) /content/Security camera inside Pepper Grill restaurant.mp4: 384x640 3 chairs, 5 customers, 5 tables, 8.2ms\n",
            "video 1/1 (frame 402/1501) /content/Security camera inside Pepper Grill restaurant.mp4: 384x640 3 chairs, 5 customers, 5 tables, 6.6ms\n",
            "video 1/1 (frame 403/1501) /content/Security camera inside Pepper Grill restaurant.mp4: 384x640 3 chairs, 5 customers, 5 tables, 9.4ms\n",
            "video 1/1 (frame 404/1501) /content/Security camera inside Pepper Grill restaurant.mp4: 384x640 3 chairs, 4 customers, 5 tables, 7.1ms\n",
            "video 1/1 (frame 405/1501) /content/Security camera inside Pepper Grill restaurant.mp4: 384x640 3 chairs, 4 customers, 5 tables, 6.7ms\n",
            "video 1/1 (frame 406/1501) /content/Security camera inside Pepper Grill restaurant.mp4: 384x640 3 chairs, 5 customers, 5 tables, 8.3ms\n",
            "video 1/1 (frame 407/1501) /content/Security camera inside Pepper Grill restaurant.mp4: 384x640 3 chairs, 5 customers, 5 tables, 6.5ms\n",
            "video 1/1 (frame 408/1501) /content/Security camera inside Pepper Grill restaurant.mp4: 384x640 3 chairs, 5 customers, 5 tables, 7.6ms\n",
            "video 1/1 (frame 409/1501) /content/Security camera inside Pepper Grill restaurant.mp4: 384x640 3 chairs, 5 customers, 5 tables, 7.2ms\n",
            "video 1/1 (frame 410/1501) /content/Security camera inside Pepper Grill restaurant.mp4: 384x640 3 chairs, 5 customers, 5 tables, 9.8ms\n",
            "video 1/1 (frame 411/1501) /content/Security camera inside Pepper Grill restaurant.mp4: 384x640 3 chairs, 5 customers, 5 tables, 6.8ms\n",
            "video 1/1 (frame 412/1501) /content/Security camera inside Pepper Grill restaurant.mp4: 384x640 3 chairs, 5 customers, 5 tables, 8.1ms\n",
            "video 1/1 (frame 413/1501) /content/Security camera inside Pepper Grill restaurant.mp4: 384x640 3 chairs, 5 customers, 5 tables, 6.8ms\n",
            "video 1/1 (frame 414/1501) /content/Security camera inside Pepper Grill restaurant.mp4: 384x640 3 chairs, 5 customers, 5 tables, 8.2ms\n",
            "video 1/1 (frame 415/1501) /content/Security camera inside Pepper Grill restaurant.mp4: 384x640 3 chairs, 5 customers, 5 tables, 6.3ms\n",
            "video 1/1 (frame 416/1501) /content/Security camera inside Pepper Grill restaurant.mp4: 384x640 3 chairs, 4 customers, 5 tables, 7.0ms\n",
            "video 1/1 (frame 417/1501) /content/Security camera inside Pepper Grill restaurant.mp4: 384x640 3 chairs, 4 customers, 5 tables, 11.5ms\n",
            "video 1/1 (frame 418/1501) /content/Security camera inside Pepper Grill restaurant.mp4: 384x640 3 chairs, 5 customers, 5 tables, 8.0ms\n",
            "video 1/1 (frame 419/1501) /content/Security camera inside Pepper Grill restaurant.mp4: 384x640 3 chairs, 5 customers, 5 tables, 6.5ms\n",
            "video 1/1 (frame 420/1501) /content/Security camera inside Pepper Grill restaurant.mp4: 384x640 3 chairs, 5 customers, 5 tables, 11.4ms\n",
            "video 1/1 (frame 421/1501) /content/Security camera inside Pepper Grill restaurant.mp4: 384x640 3 chairs, 4 customers, 5 tables, 7.2ms\n",
            "video 1/1 (frame 422/1501) /content/Security camera inside Pepper Grill restaurant.mp4: 384x640 3 chairs, 4 customers, 6 tables, 6.9ms\n",
            "video 1/1 (frame 423/1501) /content/Security camera inside Pepper Grill restaurant.mp4: 384x640 3 chairs, 4 customers, 5 tables, 6.9ms\n",
            "video 1/1 (frame 424/1501) /content/Security camera inside Pepper Grill restaurant.mp4: 384x640 3 chairs, 5 customers, 5 tables, 7.5ms\n",
            "video 1/1 (frame 425/1501) /content/Security camera inside Pepper Grill restaurant.mp4: 384x640 3 chairs, 5 customers, 5 tables, 6.7ms\n",
            "video 1/1 (frame 426/1501) /content/Security camera inside Pepper Grill restaurant.mp4: 384x640 3 chairs, 5 customers, 5 tables, 6.7ms\n",
            "video 1/1 (frame 427/1501) /content/Security camera inside Pepper Grill restaurant.mp4: 384x640 3 chairs, 4 customers, 5 tables, 6.4ms\n",
            "video 1/1 (frame 428/1501) /content/Security camera inside Pepper Grill restaurant.mp4: 384x640 3 chairs, 4 customers, 5 tables, 6.3ms\n",
            "video 1/1 (frame 429/1501) /content/Security camera inside Pepper Grill restaurant.mp4: 384x640 3 chairs, 4 customers, 5 tables, 6.5ms\n",
            "video 1/1 (frame 430/1501) /content/Security camera inside Pepper Grill restaurant.mp4: 384x640 3 chairs, 4 customers, 5 tables, 6.6ms\n",
            "video 1/1 (frame 431/1501) /content/Security camera inside Pepper Grill restaurant.mp4: 384x640 3 chairs, 4 customers, 5 tables, 6.3ms\n",
            "video 1/1 (frame 432/1501) /content/Security camera inside Pepper Grill restaurant.mp4: 384x640 3 chairs, 4 customers, 5 tables, 6.4ms\n",
            "video 1/1 (frame 433/1501) /content/Security camera inside Pepper Grill restaurant.mp4: 384x640 3 chairs, 4 customers, 5 tables, 6.3ms\n",
            "video 1/1 (frame 434/1501) /content/Security camera inside Pepper Grill restaurant.mp4: 384x640 3 chairs, 4 customers, 6 tables, 6.9ms\n",
            "video 1/1 (frame 435/1501) /content/Security camera inside Pepper Grill restaurant.mp4: 384x640 3 chairs, 4 customers, 6 tables, 6.6ms\n",
            "video 1/1 (frame 436/1501) /content/Security camera inside Pepper Grill restaurant.mp4: 384x640 3 chairs, 4 customers, 6 tables, 8.2ms\n",
            "video 1/1 (frame 437/1501) /content/Security camera inside Pepper Grill restaurant.mp4: 384x640 3 chairs, 5 customers, 6 tables, 6.4ms\n",
            "video 1/1 (frame 438/1501) /content/Security camera inside Pepper Grill restaurant.mp4: 384x640 3 chairs, 5 customers, 6 tables, 6.3ms\n",
            "video 1/1 (frame 439/1501) /content/Security camera inside Pepper Grill restaurant.mp4: 384x640 3 chairs, 4 customers, 6 tables, 7.4ms\n",
            "video 1/1 (frame 440/1501) /content/Security camera inside Pepper Grill restaurant.mp4: 384x640 3 chairs, 4 customers, 6 tables, 6.7ms\n",
            "video 1/1 (frame 441/1501) /content/Security camera inside Pepper Grill restaurant.mp4: 384x640 3 chairs, 4 customers, 7 tables, 6.6ms\n",
            "video 1/1 (frame 442/1501) /content/Security camera inside Pepper Grill restaurant.mp4: 384x640 3 chairs, 4 customers, 7 tables, 6.7ms\n",
            "video 1/1 (frame 443/1501) /content/Security camera inside Pepper Grill restaurant.mp4: 384x640 3 chairs, 4 customers, 7 tables, 6.3ms\n",
            "video 1/1 (frame 444/1501) /content/Security camera inside Pepper Grill restaurant.mp4: 384x640 3 chairs, 4 customers, 7 tables, 9.8ms\n",
            "video 1/1 (frame 445/1501) /content/Security camera inside Pepper Grill restaurant.mp4: 384x640 3 chairs, 4 customers, 7 tables, 6.9ms\n",
            "video 1/1 (frame 446/1501) /content/Security camera inside Pepper Grill restaurant.mp4: 384x640 3 chairs, 4 customers, 7 tables, 6.7ms\n",
            "video 1/1 (frame 447/1501) /content/Security camera inside Pepper Grill restaurant.mp4: 384x640 3 chairs, 4 customers, 7 tables, 6.5ms\n",
            "video 1/1 (frame 448/1501) /content/Security camera inside Pepper Grill restaurant.mp4: 384x640 3 chairs, 4 customers, 7 tables, 8.0ms\n",
            "video 1/1 (frame 449/1501) /content/Security camera inside Pepper Grill restaurant.mp4: 384x640 3 chairs, 4 customers, 7 tables, 9.8ms\n",
            "video 1/1 (frame 450/1501) /content/Security camera inside Pepper Grill restaurant.mp4: 384x640 3 chairs, 4 customers, 7 tables, 7.9ms\n",
            "video 1/1 (frame 451/1501) /content/Security camera inside Pepper Grill restaurant.mp4: 384x640 3 chairs, 3 customers, 6 tables, 7.5ms\n",
            "video 1/1 (frame 452/1501) /content/Security camera inside Pepper Grill restaurant.mp4: 384x640 3 chairs, 3 customers, 6 tables, 12.1ms\n",
            "video 1/1 (frame 453/1501) /content/Security camera inside Pepper Grill restaurant.mp4: 384x640 3 chairs, 5 customers, 5 tables, 10.1ms\n",
            "video 1/1 (frame 454/1501) /content/Security camera inside Pepper Grill restaurant.mp4: 384x640 3 chairs, 5 customers, 5 tables, 10.3ms\n",
            "video 1/1 (frame 455/1501) /content/Security camera inside Pepper Grill restaurant.mp4: 384x640 3 chairs, 5 customers, 5 tables, 7.0ms\n",
            "video 1/1 (frame 456/1501) /content/Security camera inside Pepper Grill restaurant.mp4: 384x640 3 chairs, 5 customers, 5 tables, 6.9ms\n",
            "video 1/1 (frame 457/1501) /content/Security camera inside Pepper Grill restaurant.mp4: 384x640 3 chairs, 5 customers, 5 tables, 7.1ms\n",
            "video 1/1 (frame 458/1501) /content/Security camera inside Pepper Grill restaurant.mp4: 384x640 3 chairs, 5 customers, 5 tables, 8.6ms\n",
            "video 1/1 (frame 459/1501) /content/Security camera inside Pepper Grill restaurant.mp4: 384x640 3 chairs, 5 customers, 5 tables, 7.8ms\n",
            "video 1/1 (frame 460/1501) /content/Security camera inside Pepper Grill restaurant.mp4: 384x640 3 chairs, 5 customers, 5 tables, 6.9ms\n",
            "video 1/1 (frame 461/1501) /content/Security camera inside Pepper Grill restaurant.mp4: 384x640 3 chairs, 5 customers, 5 tables, 6.4ms\n",
            "video 1/1 (frame 462/1501) /content/Security camera inside Pepper Grill restaurant.mp4: 384x640 3 chairs, 5 customers, 5 tables, 8.3ms\n",
            "video 1/1 (frame 463/1501) /content/Security camera inside Pepper Grill restaurant.mp4: 384x640 3 chairs, 5 customers, 5 tables, 6.7ms\n",
            "video 1/1 (frame 464/1501) /content/Security camera inside Pepper Grill restaurant.mp4: 384x640 3 chairs, 4 customers, 6 tables, 6.8ms\n",
            "video 1/1 (frame 465/1501) /content/Security camera inside Pepper Grill restaurant.mp4: 384x640 3 chairs, 4 customers, 6 tables, 8.1ms\n",
            "video 1/1 (frame 466/1501) /content/Security camera inside Pepper Grill restaurant.mp4: 384x640 3 chairs, 4 customers, 7 tables, 8.7ms\n",
            "video 1/1 (frame 467/1501) /content/Security camera inside Pepper Grill restaurant.mp4: 384x640 3 chairs, 4 customers, 7 tables, 8.4ms\n",
            "video 1/1 (frame 468/1501) /content/Security camera inside Pepper Grill restaurant.mp4: 384x640 3 chairs, 4 customers, 6 tables, 6.7ms\n",
            "video 1/1 (frame 469/1501) /content/Security camera inside Pepper Grill restaurant.mp4: 384x640 3 chairs, 4 customers, 6 tables, 8.9ms\n",
            "video 1/1 (frame 470/1501) /content/Security camera inside Pepper Grill restaurant.mp4: 384x640 3 chairs, 4 customers, 6 tables, 6.6ms\n",
            "video 1/1 (frame 471/1501) /content/Security camera inside Pepper Grill restaurant.mp4: 384x640 3 chairs, 4 customers, 7 tables, 8.0ms\n",
            "video 1/1 (frame 472/1501) /content/Security camera inside Pepper Grill restaurant.mp4: 384x640 3 chairs, 4 customers, 7 tables, 7.6ms\n",
            "video 1/1 (frame 473/1501) /content/Security camera inside Pepper Grill restaurant.mp4: 384x640 3 chairs, 4 customers, 6 tables, 10.9ms\n",
            "video 1/1 (frame 474/1501) /content/Security camera inside Pepper Grill restaurant.mp4: 384x640 3 chairs, 4 customers, 6 tables, 6.7ms\n",
            "video 1/1 (frame 475/1501) /content/Security camera inside Pepper Grill restaurant.mp4: 384x640 3 chairs, 4 customers, 6 tables, 8.0ms\n",
            "video 1/1 (frame 476/1501) /content/Security camera inside Pepper Grill restaurant.mp4: 384x640 3 chairs, 3 customers, 7 tables, 7.2ms\n",
            "video 1/1 (frame 477/1501) /content/Security camera inside Pepper Grill restaurant.mp4: 384x640 3 chairs, 3 customers, 7 tables, 7.8ms\n",
            "video 1/1 (frame 478/1501) /content/Security camera inside Pepper Grill restaurant.mp4: 384x640 4 chairs, 3 customers, 5 tables, 12.4ms\n",
            "video 1/1 (frame 479/1501) /content/Security camera inside Pepper Grill restaurant.mp4: 384x640 3 chairs, 4 customers, 5 tables, 7.0ms\n",
            "video 1/1 (frame 480/1501) /content/Security camera inside Pepper Grill restaurant.mp4: 384x640 3 chairs, 3 customers, 5 tables, 7.5ms\n",
            "video 1/1 (frame 481/1501) /content/Security camera inside Pepper Grill restaurant.mp4: 384x640 3 chairs, 3 customers, 5 tables, 6.6ms\n",
            "video 1/1 (frame 482/1501) /content/Security camera inside Pepper Grill restaurant.mp4: 384x640 3 chairs, 3 customers, 5 tables, 7.7ms\n",
            "video 1/1 (frame 483/1501) /content/Security camera inside Pepper Grill restaurant.mp4: 384x640 3 chairs, 4 customers, 6 tables, 10.0ms\n",
            "video 1/1 (frame 484/1501) /content/Security camera inside Pepper Grill restaurant.mp4: 384x640 3 chairs, 4 customers, 6 tables, 8.2ms\n",
            "video 1/1 (frame 485/1501) /content/Security camera inside Pepper Grill restaurant.mp4: 384x640 3 chairs, 4 customers, 6 tables, 6.8ms\n",
            "video 1/1 (frame 486/1501) /content/Security camera inside Pepper Grill restaurant.mp4: 384x640 3 chairs, 4 customers, 6 tables, 6.5ms\n",
            "video 1/1 (frame 487/1501) /content/Security camera inside Pepper Grill restaurant.mp4: 384x640 3 chairs, 4 customers, 6 tables, 7.8ms\n",
            "video 1/1 (frame 488/1501) /content/Security camera inside Pepper Grill restaurant.mp4: 384x640 3 chairs, 3 customers, 7 tables, 6.7ms\n",
            "video 1/1 (frame 489/1501) /content/Security camera inside Pepper Grill restaurant.mp4: 384x640 4 chairs, 3 customers, 7 tables, 7.2ms\n",
            "video 1/1 (frame 490/1501) /content/Security camera inside Pepper Grill restaurant.mp4: 384x640 4 chairs, 3 customers, 7 tables, 6.5ms\n",
            "video 1/1 (frame 491/1501) /content/Security camera inside Pepper Grill restaurant.mp4: 384x640 4 chairs, 3 customers, 7 tables, 6.9ms\n",
            "video 1/1 (frame 492/1501) /content/Security camera inside Pepper Grill restaurant.mp4: 384x640 4 chairs, 3 customers, 7 tables, 7.1ms\n",
            "video 1/1 (frame 493/1501) /content/Security camera inside Pepper Grill restaurant.mp4: 384x640 4 chairs, 4 customers, 7 tables, 6.5ms\n",
            "video 1/1 (frame 494/1501) /content/Security camera inside Pepper Grill restaurant.mp4: 384x640 4 chairs, 4 customers, 7 tables, 6.7ms\n",
            "video 1/1 (frame 495/1501) /content/Security camera inside Pepper Grill restaurant.mp4: 384x640 4 chairs, 4 customers, 7 tables, 6.5ms\n",
            "video 1/1 (frame 496/1501) /content/Security camera inside Pepper Grill restaurant.mp4: 384x640 4 chairs, 3 customers, 7 tables, 6.7ms\n",
            "video 1/1 (frame 497/1501) /content/Security camera inside Pepper Grill restaurant.mp4: 384x640 4 chairs, 3 customers, 7 tables, 8.1ms\n",
            "video 1/1 (frame 498/1501) /content/Security camera inside Pepper Grill restaurant.mp4: 384x640 4 chairs, 3 customers, 7 tables, 6.8ms\n",
            "video 1/1 (frame 499/1501) /content/Security camera inside Pepper Grill restaurant.mp4: 384x640 4 chairs, 3 customers, 7 tables, 9.2ms\n",
            "video 1/1 (frame 500/1501) /content/Security camera inside Pepper Grill restaurant.mp4: 384x640 4 chairs, 3 customers, 7 tables, 6.6ms\n",
            "video 1/1 (frame 501/1501) /content/Security camera inside Pepper Grill restaurant.mp4: 384x640 5 chairs, 3 customers, 7 tables, 8.7ms\n",
            "video 1/1 (frame 502/1501) /content/Security camera inside Pepper Grill restaurant.mp4: 384x640 5 chairs, 3 customers, 7 tables, 6.8ms\n",
            "video 1/1 (frame 503/1501) /content/Security camera inside Pepper Grill restaurant.mp4: 384x640 4 chairs, 3 customers, 7 tables, 9.0ms\n",
            "video 1/1 (frame 504/1501) /content/Security camera inside Pepper Grill restaurant.mp4: 384x640 4 chairs, 3 customers, 7 tables, 7.1ms\n",
            "video 1/1 (frame 505/1501) /content/Security camera inside Pepper Grill restaurant.mp4: 384x640 4 chairs, 3 customers, 7 tables, 8.1ms\n",
            "video 1/1 (frame 506/1501) /content/Security camera inside Pepper Grill restaurant.mp4: 384x640 4 chairs, 4 customers, 7 tables, 6.5ms\n",
            "video 1/1 (frame 507/1501) /content/Security camera inside Pepper Grill restaurant.mp4: 384x640 4 chairs, 4 customers, 7 tables, 10.8ms\n",
            "video 1/1 (frame 508/1501) /content/Security camera inside Pepper Grill restaurant.mp4: 384x640 3 chairs, 4 customers, 7 tables, 6.5ms\n",
            "video 1/1 (frame 509/1501) /content/Security camera inside Pepper Grill restaurant.mp4: 384x640 3 chairs, 4 customers, 7 tables, 8.5ms\n",
            "video 1/1 (frame 510/1501) /content/Security camera inside Pepper Grill restaurant.mp4: 384x640 3 chairs, 4 customers, 7 tables, 6.9ms\n",
            "video 1/1 (frame 511/1501) /content/Security camera inside Pepper Grill restaurant.mp4: 384x640 3 chairs, 4 customers, 7 tables, 8.7ms\n",
            "video 1/1 (frame 512/1501) /content/Security camera inside Pepper Grill restaurant.mp4: 384x640 3 chairs, 4 customers, 7 tables, 6.7ms\n",
            "video 1/1 (frame 513/1501) /content/Security camera inside Pepper Grill restaurant.mp4: 384x640 3 chairs, 3 customers, 6 tables, 7.6ms\n",
            "video 1/1 (frame 514/1501) /content/Security camera inside Pepper Grill restaurant.mp4: 384x640 3 chairs, 3 customers, 6 tables, 9.1ms\n",
            "video 1/1 (frame 515/1501) /content/Security camera inside Pepper Grill restaurant.mp4: 384x640 3 chairs, 4 customers, 5 tables, 6.5ms\n",
            "video 1/1 (frame 516/1501) /content/Security camera inside Pepper Grill restaurant.mp4: 384x640 3 chairs, 4 customers, 5 tables, 7.8ms\n",
            "video 1/1 (frame 517/1501) /content/Security camera inside Pepper Grill restaurant.mp4: 384x640 4 chairs, 4 customers, 5 tables, 6.3ms\n",
            "video 1/1 (frame 518/1501) /content/Security camera inside Pepper Grill restaurant.mp4: 384x640 4 chairs, 4 customers, 5 tables, 8.4ms\n",
            "video 1/1 (frame 519/1501) /content/Security camera inside Pepper Grill restaurant.mp4: 384x640 4 chairs, 4 customers, 5 tables, 8.0ms\n",
            "video 1/1 (frame 520/1501) /content/Security camera inside Pepper Grill restaurant.mp4: 384x640 3 chairs, 3 customers, 5 tables, 8.9ms\n",
            "video 1/1 (frame 521/1501) /content/Security camera inside Pepper Grill restaurant.mp4: 384x640 3 chairs, 3 customers, 5 tables, 8.2ms\n",
            "video 1/1 (frame 522/1501) /content/Security camera inside Pepper Grill restaurant.mp4: 384x640 3 chairs, 3 customers, 5 tables, 8.6ms\n",
            "video 1/1 (frame 523/1501) /content/Security camera inside Pepper Grill restaurant.mp4: 384x640 3 chairs, 3 customers, 5 tables, 7.9ms\n",
            "video 1/1 (frame 524/1501) /content/Security camera inside Pepper Grill restaurant.mp4: 384x640 3 chairs, 5 customers, 5 tables, 7.8ms\n",
            "video 1/1 (frame 525/1501) /content/Security camera inside Pepper Grill restaurant.mp4: 384x640 3 chairs, 5 customers, 5 tables, 7.7ms\n",
            "video 1/1 (frame 526/1501) /content/Security camera inside Pepper Grill restaurant.mp4: 384x640 3 chairs, 5 customers, 5 tables, 11.2ms\n",
            "video 1/1 (frame 527/1501) /content/Security camera inside Pepper Grill restaurant.mp4: 384x640 4 chairs, 5 customers, 5 tables, 6.9ms\n",
            "video 1/1 (frame 528/1501) /content/Security camera inside Pepper Grill restaurant.mp4: 384x640 3 chairs, 4 customers, 5 tables, 6.6ms\n",
            "video 1/1 (frame 529/1501) /content/Security camera inside Pepper Grill restaurant.mp4: 384x640 4 chairs, 4 customers, 5 tables, 8.0ms\n",
            "video 1/1 (frame 530/1501) /content/Security camera inside Pepper Grill restaurant.mp4: 384x640 3 chairs, 4 customers, 5 tables, 7.2ms\n",
            "video 1/1 (frame 531/1501) /content/Security camera inside Pepper Grill restaurant.mp4: 384x640 4 chairs, 4 customers, 5 tables, 7.6ms\n",
            "video 1/1 (frame 532/1501) /content/Security camera inside Pepper Grill restaurant.mp4: 384x640 3 chairs, 4 customers, 5 tables, 7.2ms\n",
            "video 1/1 (frame 533/1501) /content/Security camera inside Pepper Grill restaurant.mp4: 384x640 4 chairs, 4 customers, 5 tables, 6.9ms\n",
            "video 1/1 (frame 534/1501) /content/Security camera inside Pepper Grill restaurant.mp4: 384x640 4 chairs, 4 customers, 5 tables, 7.6ms\n",
            "video 1/1 (frame 535/1501) /content/Security camera inside Pepper Grill restaurant.mp4: 384x640 4 chairs, 4 customers, 5 tables, 6.5ms\n",
            "video 1/1 (frame 536/1501) /content/Security camera inside Pepper Grill restaurant.mp4: 384x640 3 chairs, 4 customers, 5 tables, 6.8ms\n",
            "video 1/1 (frame 537/1501) /content/Security camera inside Pepper Grill restaurant.mp4: 384x640 3 chairs, 4 customers, 5 tables, 6.9ms\n",
            "video 1/1 (frame 538/1501) /content/Security camera inside Pepper Grill restaurant.mp4: 384x640 3 chairs, 4 customers, 5 tables, 7.0ms\n",
            "video 1/1 (frame 539/1501) /content/Security camera inside Pepper Grill restaurant.mp4: 384x640 3 chairs, 4 customers, 5 tables, 7.0ms\n",
            "video 1/1 (frame 540/1501) /content/Security camera inside Pepper Grill restaurant.mp4: 384x640 3 chairs, 4 customers, 6 tables, 15.9ms\n",
            "video 1/1 (frame 541/1501) /content/Security camera inside Pepper Grill restaurant.mp4: 384x640 3 chairs, 4 customers, 6 tables, 7.8ms\n",
            "video 1/1 (frame 542/1501) /content/Security camera inside Pepper Grill restaurant.mp4: 384x640 3 chairs, 4 customers, 6 tables, 6.9ms\n",
            "video 1/1 (frame 543/1501) /content/Security camera inside Pepper Grill restaurant.mp4: 384x640 3 chairs, 4 customers, 6 tables, 8.3ms\n",
            "video 1/1 (frame 544/1501) /content/Security camera inside Pepper Grill restaurant.mp4: 384x640 3 chairs, 4 customers, 6 tables, 7.7ms\n",
            "video 1/1 (frame 545/1501) /content/Security camera inside Pepper Grill restaurant.mp4: 384x640 3 chairs, 4 customers, 6 tables, 8.3ms\n",
            "video 1/1 (frame 546/1501) /content/Security camera inside Pepper Grill restaurant.mp4: 384x640 3 chairs, 4 customers, 6 tables, 6.5ms\n",
            "video 1/1 (frame 547/1501) /content/Security camera inside Pepper Grill restaurant.mp4: 384x640 3 chairs, 4 customers, 6 tables, 6.3ms\n",
            "video 1/1 (frame 548/1501) /content/Security camera inside Pepper Grill restaurant.mp4: 384x640 3 chairs, 5 customers, 7 tables, 6.9ms\n",
            "video 1/1 (frame 549/1501) /content/Security camera inside Pepper Grill restaurant.mp4: 384x640 3 chairs, 5 customers, 7 tables, 6.6ms\n",
            "video 1/1 (frame 550/1501) /content/Security camera inside Pepper Grill restaurant.mp4: 384x640 3 chairs, 4 customers, 7 tables, 6.6ms\n",
            "video 1/1 (frame 551/1501) /content/Security camera inside Pepper Grill restaurant.mp4: 384x640 3 chairs, 5 customers, 7 tables, 7.0ms\n",
            "video 1/1 (frame 552/1501) /content/Security camera inside Pepper Grill restaurant.mp4: 384x640 3 chairs, 5 customers, 7 tables, 7.6ms\n",
            "video 1/1 (frame 553/1501) /content/Security camera inside Pepper Grill restaurant.mp4: 384x640 3 chairs, 5 customers, 7 tables, 7.0ms\n",
            "video 1/1 (frame 554/1501) /content/Security camera inside Pepper Grill restaurant.mp4: 384x640 3 chairs, 5 customers, 6 tables, 6.8ms\n",
            "video 1/1 (frame 555/1501) /content/Security camera inside Pepper Grill restaurant.mp4: 384x640 3 chairs, 5 customers, 6 tables, 7.2ms\n",
            "video 1/1 (frame 556/1501) /content/Security camera inside Pepper Grill restaurant.mp4: 384x640 3 chairs, 5 customers, 6 tables, 6.8ms\n",
            "video 1/1 (frame 557/1501) /content/Security camera inside Pepper Grill restaurant.mp4: 384x640 3 chairs, 5 customers, 6 tables, 7.6ms\n",
            "video 1/1 (frame 558/1501) /content/Security camera inside Pepper Grill restaurant.mp4: 384x640 3 chairs, 5 customers, 5 tables, 7.2ms\n",
            "video 1/1 (frame 559/1501) /content/Security camera inside Pepper Grill restaurant.mp4: 384x640 3 chairs, 5 customers, 6 tables, 6.7ms\n",
            "video 1/1 (frame 560/1501) /content/Security camera inside Pepper Grill restaurant.mp4: 384x640 3 chairs, 5 customers, 5 tables, 6.7ms\n",
            "video 1/1 (frame 561/1501) /content/Security camera inside Pepper Grill restaurant.mp4: 384x640 3 chairs, 5 customers, 6 tables, 6.8ms\n",
            "video 1/1 (frame 562/1501) /content/Security camera inside Pepper Grill restaurant.mp4: 384x640 3 chairs, 5 customers, 6 tables, 7.1ms\n",
            "video 1/1 (frame 563/1501) /content/Security camera inside Pepper Grill restaurant.mp4: 384x640 3 chairs, 5 customers, 5 tables, 7.2ms\n",
            "video 1/1 (frame 564/1501) /content/Security camera inside Pepper Grill restaurant.mp4: 384x640 3 chairs, 5 customers, 6 tables, 7.1ms\n",
            "video 1/1 (frame 565/1501) /content/Security camera inside Pepper Grill restaurant.mp4: 384x640 3 chairs, 5 customers, 5 tables, 7.8ms\n",
            "video 1/1 (frame 566/1501) /content/Security camera inside Pepper Grill restaurant.mp4: 384x640 3 chairs, 5 customers, 5 tables, 8.6ms\n",
            "video 1/1 (frame 567/1501) /content/Security camera inside Pepper Grill restaurant.mp4: 384x640 3 chairs, 5 customers, 5 tables, 6.5ms\n",
            "video 1/1 (frame 568/1501) /content/Security camera inside Pepper Grill restaurant.mp4: 384x640 3 chairs, 5 customers, 5 tables, 8.0ms\n",
            "video 1/1 (frame 569/1501) /content/Security camera inside Pepper Grill restaurant.mp4: 384x640 3 chairs, 5 customers, 5 tables, 8.5ms\n",
            "video 1/1 (frame 570/1501) /content/Security camera inside Pepper Grill restaurant.mp4: 384x640 3 chairs, 6 customers, 5 tables, 7.0ms\n",
            "video 1/1 (frame 571/1501) /content/Security camera inside Pepper Grill restaurant.mp4: 384x640 3 chairs, 6 customers, 5 tables, 6.5ms\n",
            "video 1/1 (frame 572/1501) /content/Security camera inside Pepper Grill restaurant.mp4: 384x640 3 chairs, 6 customers, 5 tables, 6.4ms\n",
            "video 1/1 (frame 573/1501) /content/Security camera inside Pepper Grill restaurant.mp4: 384x640 3 chairs, 6 customers, 5 tables, 6.9ms\n",
            "video 1/1 (frame 574/1501) /content/Security camera inside Pepper Grill restaurant.mp4: 384x640 3 chairs, 6 customers, 5 tables, 6.7ms\n",
            "video 1/1 (frame 575/1501) /content/Security camera inside Pepper Grill restaurant.mp4: 384x640 3 chairs, 5 customers, 5 tables, 7.0ms\n",
            "video 1/1 (frame 576/1501) /content/Security camera inside Pepper Grill restaurant.mp4: 384x640 3 chairs, 5 customers, 5 tables, 7.1ms\n",
            "video 1/1 (frame 577/1501) /content/Security camera inside Pepper Grill restaurant.mp4: 384x640 3 chairs, 5 customers, 5 tables, 7.0ms\n",
            "video 1/1 (frame 578/1501) /content/Security camera inside Pepper Grill restaurant.mp4: 384x640 3 chairs, 5 customers, 5 tables, 6.6ms\n",
            "video 1/1 (frame 579/1501) /content/Security camera inside Pepper Grill restaurant.mp4: 384x640 3 chairs, 5 customers, 5 tables, 6.8ms\n",
            "video 1/1 (frame 580/1501) /content/Security camera inside Pepper Grill restaurant.mp4: 384x640 3 chairs, 5 customers, 5 tables, 6.7ms\n",
            "video 1/1 (frame 581/1501) /content/Security camera inside Pepper Grill restaurant.mp4: 384x640 3 chairs, 5 customers, 5 tables, 6.8ms\n",
            "video 1/1 (frame 582/1501) /content/Security camera inside Pepper Grill restaurant.mp4: 384x640 3 chairs, 5 customers, 5 tables, 6.6ms\n",
            "video 1/1 (frame 583/1501) /content/Security camera inside Pepper Grill restaurant.mp4: 384x640 3 chairs, 6 customers, 5 tables, 6.7ms\n",
            "video 1/1 (frame 584/1501) /content/Security camera inside Pepper Grill restaurant.mp4: 384x640 3 chairs, 6 customers, 5 tables, 10.1ms\n",
            "video 1/1 (frame 585/1501) /content/Security camera inside Pepper Grill restaurant.mp4: 384x640 3 chairs, 6 customers, 5 tables, 11.2ms\n",
            "video 1/1 (frame 586/1501) /content/Security camera inside Pepper Grill restaurant.mp4: 384x640 3 chairs, 6 customers, 5 tables, 8.0ms\n",
            "video 1/1 (frame 587/1501) /content/Security camera inside Pepper Grill restaurant.mp4: 384x640 3 chairs, 6 customers, 5 tables, 6.9ms\n",
            "video 1/1 (frame 588/1501) /content/Security camera inside Pepper Grill restaurant.mp4: 384x640 3 chairs, 5 customers, 6 tables, 8.0ms\n",
            "video 1/1 (frame 589/1501) /content/Security camera inside Pepper Grill restaurant.mp4: 384x640 3 chairs, 5 customers, 6 tables, 7.0ms\n",
            "video 1/1 (frame 590/1501) /content/Security camera inside Pepper Grill restaurant.mp4: 384x640 3 chairs, 5 customers, 6 tables, 12.3ms\n",
            "video 1/1 (frame 591/1501) /content/Security camera inside Pepper Grill restaurant.mp4: 384x640 3 chairs, 6 customers, 5 tables, 11.2ms\n",
            "video 1/1 (frame 592/1501) /content/Security camera inside Pepper Grill restaurant.mp4: 384x640 3 chairs, 6 customers, 5 tables, 12.5ms\n",
            "video 1/1 (frame 593/1501) /content/Security camera inside Pepper Grill restaurant.mp4: 384x640 2 chairs, 7 customers, 5 tables, 11.3ms\n",
            "video 1/1 (frame 594/1501) /content/Security camera inside Pepper Grill restaurant.mp4: 384x640 1 chair, 7 customers, 5 tables, 10.1ms\n",
            "video 1/1 (frame 595/1501) /content/Security camera inside Pepper Grill restaurant.mp4: 384x640 2 chairs, 7 customers, 5 tables, 12.0ms\n",
            "video 1/1 (frame 596/1501) /content/Security camera inside Pepper Grill restaurant.mp4: 384x640 3 chairs, 6 customers, 5 tables, 16.2ms\n",
            "video 1/1 (frame 597/1501) /content/Security camera inside Pepper Grill restaurant.mp4: 384x640 3 chairs, 6 customers, 5 tables, 16.0ms\n",
            "video 1/1 (frame 598/1501) /content/Security camera inside Pepper Grill restaurant.mp4: 384x640 3 chairs, 7 customers, 5 tables, 10.6ms\n",
            "video 1/1 (frame 599/1501) /content/Security camera inside Pepper Grill restaurant.mp4: 384x640 3 chairs, 7 customers, 5 tables, 8.6ms\n",
            "video 1/1 (frame 600/1501) /content/Security camera inside Pepper Grill restaurant.mp4: 384x640 3 chairs, 7 customers, 5 tables, 8.0ms\n",
            "video 1/1 (frame 601/1501) /content/Security camera inside Pepper Grill restaurant.mp4: 384x640 3 chairs, 6 customers, 5 tables, 13.0ms\n",
            "video 1/1 (frame 602/1501) /content/Security camera inside Pepper Grill restaurant.mp4: 384x640 3 chairs, 7 customers, 6 tables, 8.4ms\n",
            "video 1/1 (frame 603/1501) /content/Security camera inside Pepper Grill restaurant.mp4: 384x640 3 chairs, 6 customers, 5 tables, 9.8ms\n",
            "video 1/1 (frame 604/1501) /content/Security camera inside Pepper Grill restaurant.mp4: 384x640 3 chairs, 6 customers, 5 tables, 8.4ms\n",
            "video 1/1 (frame 605/1501) /content/Security camera inside Pepper Grill restaurant.mp4: 384x640 3 chairs, 6 customers, 5 tables, 8.3ms\n",
            "video 1/1 (frame 606/1501) /content/Security camera inside Pepper Grill restaurant.mp4: 384x640 3 chairs, 6 customers, 5 tables, 8.5ms\n",
            "video 1/1 (frame 607/1501) /content/Security camera inside Pepper Grill restaurant.mp4: 384x640 3 chairs, 6 customers, 5 tables, 8.7ms\n",
            "video 1/1 (frame 608/1501) /content/Security camera inside Pepper Grill restaurant.mp4: 384x640 3 chairs, 7 customers, 5 tables, 8.6ms\n",
            "video 1/1 (frame 609/1501) /content/Security camera inside Pepper Grill restaurant.mp4: 384x640 3 chairs, 7 customers, 5 tables, 9.3ms\n",
            "video 1/1 (frame 610/1501) /content/Security camera inside Pepper Grill restaurant.mp4: 384x640 3 chairs, 7 customers, 5 tables, 8.2ms\n",
            "video 1/1 (frame 611/1501) /content/Security camera inside Pepper Grill restaurant.mp4: 384x640 3 chairs, 7 customers, 5 tables, 10.5ms\n",
            "video 1/1 (frame 612/1501) /content/Security camera inside Pepper Grill restaurant.mp4: 384x640 3 chairs, 7 customers, 5 tables, 11.1ms\n",
            "video 1/1 (frame 613/1501) /content/Security camera inside Pepper Grill restaurant.mp4: 384x640 3 chairs, 7 customers, 5 tables, 9.1ms\n",
            "video 1/1 (frame 614/1501) /content/Security camera inside Pepper Grill restaurant.mp4: 384x640 3 chairs, 6 customers, 5 tables, 9.0ms\n",
            "video 1/1 (frame 615/1501) /content/Security camera inside Pepper Grill restaurant.mp4: 384x640 3 chairs, 5 customers, 5 tables, 10.2ms\n",
            "video 1/1 (frame 616/1501) /content/Security camera inside Pepper Grill restaurant.mp4: 384x640 2 chairs, 5 customers, 5 tables, 10.3ms\n",
            "video 1/1 (frame 617/1501) /content/Security camera inside Pepper Grill restaurant.mp4: 384x640 2 chairs, 5 customers, 5 tables, 8.0ms\n",
            "video 1/1 (frame 618/1501) /content/Security camera inside Pepper Grill restaurant.mp4: 384x640 2 chairs, 6 customers, 5 tables, 12.0ms\n",
            "video 1/1 (frame 619/1501) /content/Security camera inside Pepper Grill restaurant.mp4: 384x640 2 chairs, 6 customers, 5 tables, 12.2ms\n",
            "video 1/1 (frame 620/1501) /content/Security camera inside Pepper Grill restaurant.mp4: 384x640 2 chairs, 6 customers, 5 tables, 8.0ms\n",
            "video 1/1 (frame 621/1501) /content/Security camera inside Pepper Grill restaurant.mp4: 384x640 2 chairs, 6 customers, 5 tables, 8.7ms\n",
            "video 1/1 (frame 622/1501) /content/Security camera inside Pepper Grill restaurant.mp4: 384x640 2 chairs, 6 customers, 5 tables, 7.8ms\n",
            "video 1/1 (frame 623/1501) /content/Security camera inside Pepper Grill restaurant.mp4: 384x640 2 chairs, 6 customers, 5 tables, 11.6ms\n",
            "video 1/1 (frame 624/1501) /content/Security camera inside Pepper Grill restaurant.mp4: 384x640 2 chairs, 6 customers, 5 tables, 9.9ms\n",
            "video 1/1 (frame 625/1501) /content/Security camera inside Pepper Grill restaurant.mp4: 384x640 2 chairs, 6 customers, 5 tables, 11.8ms\n",
            "video 1/1 (frame 626/1501) /content/Security camera inside Pepper Grill restaurant.mp4: 384x640 2 chairs, 6 customers, 5 tables, 11.9ms\n",
            "video 1/1 (frame 627/1501) /content/Security camera inside Pepper Grill restaurant.mp4: 384x640 2 chairs, 6 customers, 5 tables, 10.6ms\n",
            "video 1/1 (frame 628/1501) /content/Security camera inside Pepper Grill restaurant.mp4: 384x640 2 chairs, 6 customers, 5 tables, 10.4ms\n",
            "video 1/1 (frame 629/1501) /content/Security camera inside Pepper Grill restaurant.mp4: 384x640 2 chairs, 6 customers, 5 tables, 11.4ms\n",
            "video 1/1 (frame 630/1501) /content/Security camera inside Pepper Grill restaurant.mp4: 384x640 2 chairs, 6 customers, 5 tables, 11.1ms\n",
            "video 1/1 (frame 631/1501) /content/Security camera inside Pepper Grill restaurant.mp4: 384x640 2 chairs, 6 customers, 5 tables, 12.1ms\n",
            "video 1/1 (frame 632/1501) /content/Security camera inside Pepper Grill restaurant.mp4: 384x640 2 chairs, 6 customers, 5 tables, 10.9ms\n",
            "video 1/1 (frame 633/1501) /content/Security camera inside Pepper Grill restaurant.mp4: 384x640 2 chairs, 5 customers, 5 tables, 12.9ms\n",
            "video 1/1 (frame 634/1501) /content/Security camera inside Pepper Grill restaurant.mp4: 384x640 2 chairs, 5 customers, 5 tables, 15.1ms\n",
            "video 1/1 (frame 635/1501) /content/Security camera inside Pepper Grill restaurant.mp4: 384x640 2 chairs, 5 customers, 5 tables, 12.0ms\n",
            "video 1/1 (frame 636/1501) /content/Security camera inside Pepper Grill restaurant.mp4: 384x640 2 chairs, 5 customers, 5 tables, 12.9ms\n",
            "video 1/1 (frame 637/1501) /content/Security camera inside Pepper Grill restaurant.mp4: 384x640 2 chairs, 5 customers, 5 tables, 12.5ms\n",
            "video 1/1 (frame 638/1501) /content/Security camera inside Pepper Grill restaurant.mp4: 384x640 1 chair, 5 customers, 5 tables, 12.9ms\n",
            "video 1/1 (frame 639/1501) /content/Security camera inside Pepper Grill restaurant.mp4: 384x640 1 chair, 5 customers, 5 tables, 12.2ms\n",
            "video 1/1 (frame 640/1501) /content/Security camera inside Pepper Grill restaurant.mp4: 384x640 1 chair, 5 customers, 5 tables, 6.8ms\n",
            "video 1/1 (frame 641/1501) /content/Security camera inside Pepper Grill restaurant.mp4: 384x640 1 chair, 5 customers, 5 tables, 7.8ms\n",
            "video 1/1 (frame 642/1501) /content/Security camera inside Pepper Grill restaurant.mp4: 384x640 1 chair, 5 customers, 5 tables, 7.6ms\n",
            "video 1/1 (frame 643/1501) /content/Security camera inside Pepper Grill restaurant.mp4: 384x640 1 chair, 5 customers, 5 tables, 6.3ms\n",
            "video 1/1 (frame 644/1501) /content/Security camera inside Pepper Grill restaurant.mp4: 384x640 1 chair, 4 customers, 5 tables, 8.7ms\n",
            "video 1/1 (frame 645/1501) /content/Security camera inside Pepper Grill restaurant.mp4: 384x640 1 chair, 4 customers, 5 tables, 6.6ms\n",
            "video 1/1 (frame 646/1501) /content/Security camera inside Pepper Grill restaurant.mp4: 384x640 1 chair, 5 customers, 5 tables, 9.0ms\n",
            "video 1/1 (frame 647/1501) /content/Security camera inside Pepper Grill restaurant.mp4: 384x640 1 chair, 5 customers, 5 tables, 7.0ms\n",
            "video 1/1 (frame 648/1501) /content/Security camera inside Pepper Grill restaurant.mp4: 384x640 1 chair, 5 customers, 5 tables, 6.8ms\n",
            "video 1/1 (frame 649/1501) /content/Security camera inside Pepper Grill restaurant.mp4: 384x640 1 chair, 5 customers, 5 tables, 7.0ms\n",
            "video 1/1 (frame 650/1501) /content/Security camera inside Pepper Grill restaurant.mp4: 384x640 1 chair, 5 customers, 5 tables, 8.3ms\n",
            "video 1/1 (frame 651/1501) /content/Security camera inside Pepper Grill restaurant.mp4: 384x640 1 chair, 5 customers, 5 tables, 8.4ms\n",
            "video 1/1 (frame 652/1501) /content/Security camera inside Pepper Grill restaurant.mp4: 384x640 1 chair, 5 customers, 5 tables, 8.5ms\n",
            "video 1/1 (frame 653/1501) /content/Security camera inside Pepper Grill restaurant.mp4: 384x640 1 chair, 5 customers, 5 tables, 6.4ms\n",
            "video 1/1 (frame 654/1501) /content/Security camera inside Pepper Grill restaurant.mp4: 384x640 1 chair, 5 customers, 5 tables, 9.5ms\n",
            "video 1/1 (frame 655/1501) /content/Security camera inside Pepper Grill restaurant.mp4: 384x640 1 chair, 5 customers, 5 tables, 6.7ms\n",
            "video 1/1 (frame 656/1501) /content/Security camera inside Pepper Grill restaurant.mp4: 384x640 2 chairs, 5 customers, 5 tables, 6.3ms\n",
            "video 1/1 (frame 657/1501) /content/Security camera inside Pepper Grill restaurant.mp4: 384x640 2 chairs, 5 customers, 5 tables, 6.6ms\n",
            "video 1/1 (frame 658/1501) /content/Security camera inside Pepper Grill restaurant.mp4: 384x640 1 chair, 5 customers, 5 tables, 8.8ms\n",
            "video 1/1 (frame 659/1501) /content/Security camera inside Pepper Grill restaurant.mp4: 384x640 1 chair, 5 customers, 5 tables, 6.8ms\n",
            "video 1/1 (frame 660/1501) /content/Security camera inside Pepper Grill restaurant.mp4: 384x640 2 chairs, 5 customers, 5 tables, 7.5ms\n",
            "video 1/1 (frame 661/1501) /content/Security camera inside Pepper Grill restaurant.mp4: 384x640 2 chairs, 5 customers, 5 tables, 9.4ms\n",
            "video 1/1 (frame 662/1501) /content/Security camera inside Pepper Grill restaurant.mp4: 384x640 2 chairs, 5 customers, 5 tables, 7.7ms\n",
            "video 1/1 (frame 663/1501) /content/Security camera inside Pepper Grill restaurant.mp4: 384x640 2 chairs, 5 customers, 5 tables, 8.8ms\n",
            "video 1/1 (frame 664/1501) /content/Security camera inside Pepper Grill restaurant.mp4: 384x640 2 chairs, 5 customers, 5 tables, 6.4ms\n",
            "video 1/1 (frame 665/1501) /content/Security camera inside Pepper Grill restaurant.mp4: 384x640 2 chairs, 5 customers, 5 tables, 9.9ms\n",
            "video 1/1 (frame 666/1501) /content/Security camera inside Pepper Grill restaurant.mp4: 384x640 2 chairs, 5 customers, 5 tables, 6.4ms\n",
            "video 1/1 (frame 667/1501) /content/Security camera inside Pepper Grill restaurant.mp4: 384x640 2 chairs, 4 customers, 5 tables, 7.6ms\n",
            "video 1/1 (frame 668/1501) /content/Security camera inside Pepper Grill restaurant.mp4: 384x640 2 chairs, 4 customers, 5 tables, 6.4ms\n",
            "video 1/1 (frame 669/1501) /content/Security camera inside Pepper Grill restaurant.mp4: 384x640 2 chairs, 4 customers, 5 tables, 9.0ms\n",
            "video 1/1 (frame 670/1501) /content/Security camera inside Pepper Grill restaurant.mp4: 384x640 2 chairs, 4 customers, 5 tables, 11.6ms\n",
            "video 1/1 (frame 671/1501) /content/Security camera inside Pepper Grill restaurant.mp4: 384x640 2 chairs, 4 customers, 5 tables, 7.3ms\n",
            "video 1/1 (frame 672/1501) /content/Security camera inside Pepper Grill restaurant.mp4: 384x640 2 chairs, 4 customers, 5 tables, 8.0ms\n",
            "video 1/1 (frame 673/1501) /content/Security camera inside Pepper Grill restaurant.mp4: 384x640 2 chairs, 4 customers, 5 tables, 7.2ms\n",
            "video 1/1 (frame 674/1501) /content/Security camera inside Pepper Grill restaurant.mp4: 384x640 2 chairs, 4 customers, 5 tables, 8.9ms\n",
            "video 1/1 (frame 675/1501) /content/Security camera inside Pepper Grill restaurant.mp4: 384x640 2 chairs, 4 customers, 5 tables, 6.3ms\n",
            "video 1/1 (frame 676/1501) /content/Security camera inside Pepper Grill restaurant.mp4: 384x640 2 chairs, 5 customers, 5 tables, 8.3ms\n",
            "video 1/1 (frame 677/1501) /content/Security camera inside Pepper Grill restaurant.mp4: 384x640 2 chairs, 5 customers, 5 tables, 8.4ms\n",
            "video 1/1 (frame 678/1501) /content/Security camera inside Pepper Grill restaurant.mp4: 384x640 2 chairs, 6 customers, 5 tables, 8.2ms\n",
            "video 1/1 (frame 679/1501) /content/Security camera inside Pepper Grill restaurant.mp4: 384x640 2 chairs, 6 customers, 5 tables, 7.1ms\n",
            "video 1/1 (frame 680/1501) /content/Security camera inside Pepper Grill restaurant.mp4: 384x640 2 chairs, 6 customers, 5 tables, 8.5ms\n",
            "video 1/1 (frame 681/1501) /content/Security camera inside Pepper Grill restaurant.mp4: 384x640 2 chairs, 5 customers, 5 tables, 9.0ms\n",
            "video 1/1 (frame 682/1501) /content/Security camera inside Pepper Grill restaurant.mp4: 384x640 2 chairs, 5 customers, 5 tables, 8.1ms\n",
            "video 1/1 (frame 683/1501) /content/Security camera inside Pepper Grill restaurant.mp4: 384x640 2 chairs, 4 customers, 5 tables, 7.5ms\n",
            "video 1/1 (frame 684/1501) /content/Security camera inside Pepper Grill restaurant.mp4: 384x640 2 chairs, 4 customers, 5 tables, 7.9ms\n",
            "video 1/1 (frame 685/1501) /content/Security camera inside Pepper Grill restaurant.mp4: 384x640 2 chairs, 4 customers, 5 tables, 7.9ms\n",
            "video 1/1 (frame 686/1501) /content/Security camera inside Pepper Grill restaurant.mp4: 384x640 2 chairs, 4 customers, 5 tables, 6.4ms\n",
            "video 1/1 (frame 687/1501) /content/Security camera inside Pepper Grill restaurant.mp4: 384x640 2 chairs, 4 customers, 5 tables, 7.0ms\n",
            "video 1/1 (frame 688/1501) /content/Security camera inside Pepper Grill restaurant.mp4: 384x640 2 chairs, 4 customers, 5 tables, 6.9ms\n",
            "video 1/1 (frame 689/1501) /content/Security camera inside Pepper Grill restaurant.mp4: 384x640 2 chairs, 4 customers, 5 tables, 6.8ms\n",
            "video 1/1 (frame 690/1501) /content/Security camera inside Pepper Grill restaurant.mp4: 384x640 2 chairs, 5 customers, 5 tables, 6.8ms\n",
            "video 1/1 (frame 691/1501) /content/Security camera inside Pepper Grill restaurant.mp4: 384x640 2 chairs, 5 customers, 5 tables, 6.7ms\n",
            "video 1/1 (frame 692/1501) /content/Security camera inside Pepper Grill restaurant.mp4: 384x640 2 chairs, 5 customers, 5 tables, 6.8ms\n",
            "video 1/1 (frame 693/1501) /content/Security camera inside Pepper Grill restaurant.mp4: 384x640 2 chairs, 4 customers, 5 tables, 6.8ms\n",
            "video 1/1 (frame 694/1501) /content/Security camera inside Pepper Grill restaurant.mp4: 384x640 2 chairs, 4 customers, 5 tables, 6.7ms\n",
            "video 1/1 (frame 695/1501) /content/Security camera inside Pepper Grill restaurant.mp4: 384x640 2 chairs, 5 customers, 5 tables, 9.5ms\n",
            "video 1/1 (frame 696/1501) /content/Security camera inside Pepper Grill restaurant.mp4: 384x640 2 chairs, 5 customers, 5 tables, 6.5ms\n",
            "video 1/1 (frame 697/1501) /content/Security camera inside Pepper Grill restaurant.mp4: 384x640 2 chairs, 5 customers, 5 tables, 7.2ms\n",
            "video 1/1 (frame 698/1501) /content/Security camera inside Pepper Grill restaurant.mp4: 384x640 2 chairs, 5 customers, 5 tables, 6.3ms\n",
            "video 1/1 (frame 699/1501) /content/Security camera inside Pepper Grill restaurant.mp4: 384x640 2 chairs, 5 customers, 5 tables, 6.9ms\n",
            "video 1/1 (frame 700/1501) /content/Security camera inside Pepper Grill restaurant.mp4: 384x640 2 chairs, 5 customers, 5 tables, 6.4ms\n",
            "video 1/1 (frame 701/1501) /content/Security camera inside Pepper Grill restaurant.mp4: 384x640 2 chairs, 5 customers, 5 tables, 10.4ms\n",
            "video 1/1 (frame 702/1501) /content/Security camera inside Pepper Grill restaurant.mp4: 384x640 2 chairs, 5 customers, 5 tables, 6.7ms\n",
            "video 1/1 (frame 703/1501) /content/Security camera inside Pepper Grill restaurant.mp4: 384x640 2 chairs, 5 customers, 5 tables, 7.2ms\n",
            "video 1/1 (frame 704/1501) /content/Security camera inside Pepper Grill restaurant.mp4: 384x640 2 chairs, 5 customers, 5 tables, 6.7ms\n",
            "video 1/1 (frame 705/1501) /content/Security camera inside Pepper Grill restaurant.mp4: 384x640 2 chairs, 5 customers, 5 tables, 7.6ms\n",
            "video 1/1 (frame 706/1501) /content/Security camera inside Pepper Grill restaurant.mp4: 384x640 2 chairs, 5 customers, 5 tables, 6.3ms\n",
            "video 1/1 (frame 707/1501) /content/Security camera inside Pepper Grill restaurant.mp4: 384x640 2 chairs, 5 customers, 5 tables, 6.5ms\n",
            "video 1/1 (frame 708/1501) /content/Security camera inside Pepper Grill restaurant.mp4: 384x640 2 chairs, 5 customers, 5 tables, 6.6ms\n",
            "video 1/1 (frame 709/1501) /content/Security camera inside Pepper Grill restaurant.mp4: 384x640 2 chairs, 5 customers, 5 tables, 6.7ms\n",
            "video 1/1 (frame 710/1501) /content/Security camera inside Pepper Grill restaurant.mp4: 384x640 2 chairs, 5 customers, 5 tables, 7.6ms\n",
            "video 1/1 (frame 711/1501) /content/Security camera inside Pepper Grill restaurant.mp4: 384x640 2 chairs, 5 customers, 5 tables, 7.1ms\n",
            "video 1/1 (frame 712/1501) /content/Security camera inside Pepper Grill restaurant.mp4: 384x640 2 chairs, 5 customers, 5 tables, 6.9ms\n",
            "video 1/1 (frame 713/1501) /content/Security camera inside Pepper Grill restaurant.mp4: 384x640 2 chairs, 5 customers, 5 tables, 7.9ms\n",
            "video 1/1 (frame 714/1501) /content/Security camera inside Pepper Grill restaurant.mp4: 384x640 2 chairs, 5 customers, 5 tables, 7.7ms\n",
            "video 1/1 (frame 715/1501) /content/Security camera inside Pepper Grill restaurant.mp4: 384x640 2 chairs, 5 customers, 5 tables, 8.6ms\n",
            "video 1/1 (frame 716/1501) /content/Security camera inside Pepper Grill restaurant.mp4: 384x640 2 chairs, 5 customers, 5 tables, 8.0ms\n",
            "video 1/1 (frame 717/1501) /content/Security camera inside Pepper Grill restaurant.mp4: 384x640 2 chairs, 5 customers, 5 tables, 7.9ms\n",
            "video 1/1 (frame 718/1501) /content/Security camera inside Pepper Grill restaurant.mp4: 384x640 2 chairs, 5 customers, 5 tables, 11.1ms\n",
            "video 1/1 (frame 719/1501) /content/Security camera inside Pepper Grill restaurant.mp4: 384x640 2 chairs, 5 customers, 5 tables, 7.9ms\n",
            "video 1/1 (frame 720/1501) /content/Security camera inside Pepper Grill restaurant.mp4: 384x640 2 chairs, 5 customers, 5 tables, 8.1ms\n",
            "video 1/1 (frame 721/1501) /content/Security camera inside Pepper Grill restaurant.mp4: 384x640 2 chairs, 5 customers, 5 tables, 6.7ms\n",
            "video 1/1 (frame 722/1501) /content/Security camera inside Pepper Grill restaurant.mp4: 384x640 2 chairs, 5 customers, 5 tables, 10.2ms\n",
            "video 1/1 (frame 723/1501) /content/Security camera inside Pepper Grill restaurant.mp4: 384x640 2 chairs, 6 customers, 5 tables, 6.9ms\n",
            "video 1/1 (frame 724/1501) /content/Security camera inside Pepper Grill restaurant.mp4: 384x640 2 chairs, 6 customers, 5 tables, 8.1ms\n",
            "video 1/1 (frame 725/1501) /content/Security camera inside Pepper Grill restaurant.mp4: 384x640 2 chairs, 5 customers, 5 tables, 8.3ms\n",
            "video 1/1 (frame 726/1501) /content/Security camera inside Pepper Grill restaurant.mp4: 384x640 2 chairs, 5 customers, 5 tables, 8.8ms\n",
            "video 1/1 (frame 727/1501) /content/Security camera inside Pepper Grill restaurant.mp4: 384x640 2 chairs, 5 customers, 5 tables, 9.1ms\n",
            "video 1/1 (frame 728/1501) /content/Security camera inside Pepper Grill restaurant.mp4: 384x640 2 chairs, 5 customers, 5 tables, 6.3ms\n",
            "video 1/1 (frame 729/1501) /content/Security camera inside Pepper Grill restaurant.mp4: 384x640 2 chairs, 5 customers, 5 tables, 7.9ms\n",
            "video 1/1 (frame 730/1501) /content/Security camera inside Pepper Grill restaurant.mp4: 384x640 2 chairs, 5 customers, 6 tables, 6.7ms\n",
            "video 1/1 (frame 731/1501) /content/Security camera inside Pepper Grill restaurant.mp4: 384x640 2 chairs, 5 customers, 6 tables, 6.5ms\n",
            "video 1/1 (frame 732/1501) /content/Security camera inside Pepper Grill restaurant.mp4: 384x640 2 chairs, 5 customers, 6 tables, 14.7ms\n",
            "video 1/1 (frame 733/1501) /content/Security camera inside Pepper Grill restaurant.mp4: 384x640 2 chairs, 5 customers, 5 tables, 6.5ms\n",
            "video 1/1 (frame 734/1501) /content/Security camera inside Pepper Grill restaurant.mp4: 384x640 2 chairs, 5 customers, 5 tables, 11.4ms\n",
            "video 1/1 (frame 735/1501) /content/Security camera inside Pepper Grill restaurant.mp4: 384x640 2 chairs, 5 customers, 5 tables, 6.8ms\n",
            "video 1/1 (frame 736/1501) /content/Security camera inside Pepper Grill restaurant.mp4: 384x640 2 chairs, 4 customers, 6 tables, 7.0ms\n",
            "video 1/1 (frame 737/1501) /content/Security camera inside Pepper Grill restaurant.mp4: 384x640 2 chairs, 4 customers, 6 tables, 6.9ms\n",
            "video 1/1 (frame 738/1501) /content/Security camera inside Pepper Grill restaurant.mp4: 384x640 2 chairs, 5 customers, 6 tables, 7.9ms\n",
            "video 1/1 (frame 739/1501) /content/Security camera inside Pepper Grill restaurant.mp4: 384x640 2 chairs, 5 customers, 6 tables, 6.7ms\n",
            "video 1/1 (frame 740/1501) /content/Security camera inside Pepper Grill restaurant.mp4: 384x640 2 chairs, 5 customers, 6 tables, 6.8ms\n",
            "video 1/1 (frame 741/1501) /content/Security camera inside Pepper Grill restaurant.mp4: 384x640 2 chairs, 5 customers, 6 tables, 8.4ms\n",
            "video 1/1 (frame 742/1501) /content/Security camera inside Pepper Grill restaurant.mp4: 384x640 2 chairs, 5 customers, 6 tables, 7.9ms\n",
            "video 1/1 (frame 743/1501) /content/Security camera inside Pepper Grill restaurant.mp4: 384x640 2 chairs, 5 customers, 7 tables, 9.6ms\n",
            "video 1/1 (frame 744/1501) /content/Security camera inside Pepper Grill restaurant.mp4: 384x640 2 chairs, 5 customers, 7 tables, 6.4ms\n",
            "video 1/1 (frame 745/1501) /content/Security camera inside Pepper Grill restaurant.mp4: 384x640 2 chairs, 4 customers, 7 tables, 7.8ms\n",
            "video 1/1 (frame 746/1501) /content/Security camera inside Pepper Grill restaurant.mp4: 384x640 2 chairs, 4 customers, 7 tables, 6.8ms\n",
            "video 1/1 (frame 747/1501) /content/Security camera inside Pepper Grill restaurant.mp4: 384x640 2 chairs, 4 customers, 7 tables, 6.6ms\n",
            "video 1/1 (frame 748/1501) /content/Security camera inside Pepper Grill restaurant.mp4: 384x640 2 chairs, 6 customers, 6 tables, 7.2ms\n",
            "video 1/1 (frame 749/1501) /content/Security camera inside Pepper Grill restaurant.mp4: 384x640 2 chairs, 6 customers, 6 tables, 9.6ms\n",
            "video 1/1 (frame 750/1501) /content/Security camera inside Pepper Grill restaurant.mp4: 384x640 2 chairs, 6 customers, 7 tables, 7.2ms\n",
            "video 1/1 (frame 751/1501) /content/Security camera inside Pepper Grill restaurant.mp4: 384x640 2 chairs, 6 customers, 7 tables, 7.2ms\n",
            "video 1/1 (frame 752/1501) /content/Security camera inside Pepper Grill restaurant.mp4: 384x640 2 chairs, 6 customers, 7 tables, 7.0ms\n",
            "video 1/1 (frame 753/1501) /content/Security camera inside Pepper Grill restaurant.mp4: 384x640 2 chairs, 6 customers, 7 tables, 7.0ms\n",
            "video 1/1 (frame 754/1501) /content/Security camera inside Pepper Grill restaurant.mp4: 384x640 2 chairs, 6 customers, 7 tables, 7.2ms\n",
            "video 1/1 (frame 755/1501) /content/Security camera inside Pepper Grill restaurant.mp4: 384x640 2 chairs, 6 customers, 7 tables, 6.5ms\n",
            "video 1/1 (frame 756/1501) /content/Security camera inside Pepper Grill restaurant.mp4: 384x640 2 chairs, 6 customers, 7 tables, 6.5ms\n",
            "video 1/1 (frame 757/1501) /content/Security camera inside Pepper Grill restaurant.mp4: 384x640 2 chairs, 6 customers, 5 tables, 6.5ms\n",
            "video 1/1 (frame 758/1501) /content/Security camera inside Pepper Grill restaurant.mp4: 384x640 2 chairs, 6 customers, 5 tables, 8.8ms\n",
            "video 1/1 (frame 759/1501) /content/Security camera inside Pepper Grill restaurant.mp4: 384x640 2 chairs, 6 customers, 5 tables, 9.6ms\n",
            "video 1/1 (frame 760/1501) /content/Security camera inside Pepper Grill restaurant.mp4: 384x640 2 chairs, 6 customers, 5 tables, 7.5ms\n",
            "video 1/1 (frame 761/1501) /content/Security camera inside Pepper Grill restaurant.mp4: 384x640 2 chairs, 6 customers, 5 tables, 7.8ms\n",
            "video 1/1 (frame 762/1501) /content/Security camera inside Pepper Grill restaurant.mp4: 384x640 2 chairs, 5 customers, 5 tables, 14.5ms\n",
            "video 1/1 (frame 763/1501) /content/Security camera inside Pepper Grill restaurant.mp4: 384x640 2 chairs, 5 customers, 5 tables, 7.1ms\n",
            "video 1/1 (frame 764/1501) /content/Security camera inside Pepper Grill restaurant.mp4: 384x640 2 chairs, 5 customers, 5 tables, 6.6ms\n",
            "video 1/1 (frame 765/1501) /content/Security camera inside Pepper Grill restaurant.mp4: 384x640 2 chairs, 5 customers, 5 tables, 7.0ms\n",
            "video 1/1 (frame 766/1501) /content/Security camera inside Pepper Grill restaurant.mp4: 384x640 2 chairs, 5 customers, 5 tables, 7.8ms\n",
            "video 1/1 (frame 767/1501) /content/Security camera inside Pepper Grill restaurant.mp4: 384x640 2 chairs, 5 customers, 5 tables, 7.1ms\n",
            "video 1/1 (frame 768/1501) /content/Security camera inside Pepper Grill restaurant.mp4: 384x640 2 chairs, 4 customers, 5 tables, 6.4ms\n",
            "video 1/1 (frame 769/1501) /content/Security camera inside Pepper Grill restaurant.mp4: 384x640 2 chairs, 4 customers, 5 tables, 7.5ms\n",
            "video 1/1 (frame 770/1501) /content/Security camera inside Pepper Grill restaurant.mp4: 384x640 2 chairs, 4 customers, 5 tables, 6.3ms\n",
            "video 1/1 (frame 771/1501) /content/Security camera inside Pepper Grill restaurant.mp4: 384x640 2 chairs, 5 customers, 6 tables, 6.8ms\n",
            "video 1/1 (frame 772/1501) /content/Security camera inside Pepper Grill restaurant.mp4: 384x640 2 chairs, 5 customers, 5 tables, 7.3ms\n",
            "video 1/1 (frame 773/1501) /content/Security camera inside Pepper Grill restaurant.mp4: 384x640 2 chairs, 5 customers, 5 tables, 7.7ms\n",
            "video 1/1 (frame 774/1501) /content/Security camera inside Pepper Grill restaurant.mp4: 384x640 2 chairs, 5 customers, 5 tables, 6.6ms\n",
            "video 1/1 (frame 775/1501) /content/Security camera inside Pepper Grill restaurant.mp4: 384x640 2 chairs, 4 customers, 6 tables, 6.9ms\n",
            "video 1/1 (frame 776/1501) /content/Security camera inside Pepper Grill restaurant.mp4: 384x640 2 chairs, 4 customers, 6 tables, 7.5ms\n",
            "video 1/1 (frame 777/1501) /content/Security camera inside Pepper Grill restaurant.mp4: 384x640 2 chairs, 4 customers, 6 tables, 6.7ms\n",
            "video 1/1 (frame 778/1501) /content/Security camera inside Pepper Grill restaurant.mp4: 384x640 2 chairs, 5 customers, 6 tables, 6.7ms\n",
            "video 1/1 (frame 779/1501) /content/Security camera inside Pepper Grill restaurant.mp4: 384x640 2 chairs, 5 customers, 6 tables, 6.6ms\n",
            "video 1/1 (frame 780/1501) /content/Security camera inside Pepper Grill restaurant.mp4: 384x640 2 chairs, 5 customers, 6 tables, 6.8ms\n",
            "video 1/1 (frame 781/1501) /content/Security camera inside Pepper Grill restaurant.mp4: 384x640 2 chairs, 5 customers, 6 tables, 6.8ms\n",
            "video 1/1 (frame 782/1501) /content/Security camera inside Pepper Grill restaurant.mp4: 384x640 2 chairs, 5 customers, 6 tables, 6.5ms\n",
            "video 1/1 (frame 783/1501) /content/Security camera inside Pepper Grill restaurant.mp4: 384x640 2 chairs, 5 customers, 6 tables, 10.4ms\n",
            "video 1/1 (frame 784/1501) /content/Security camera inside Pepper Grill restaurant.mp4: 384x640 2 chairs, 5 customers, 6 tables, 6.5ms\n",
            "video 1/1 (frame 785/1501) /content/Security camera inside Pepper Grill restaurant.mp4: 384x640 2 chairs, 5 customers, 6 tables, 9.2ms\n",
            "video 1/1 (frame 786/1501) /content/Security camera inside Pepper Grill restaurant.mp4: 384x640 2 chairs, 5 customers, 6 tables, 9.9ms\n",
            "video 1/1 (frame 787/1501) /content/Security camera inside Pepper Grill restaurant.mp4: 384x640 2 chairs, 5 customers, 6 tables, 7.9ms\n",
            "video 1/1 (frame 788/1501) /content/Security camera inside Pepper Grill restaurant.mp4: 384x640 2 chairs, 5 customers, 6 tables, 7.7ms\n",
            "video 1/1 (frame 789/1501) /content/Security camera inside Pepper Grill restaurant.mp4: 384x640 2 chairs, 5 customers, 6 tables, 6.7ms\n",
            "video 1/1 (frame 790/1501) /content/Security camera inside Pepper Grill restaurant.mp4: 384x640 2 chairs, 5 customers, 6 tables, 6.6ms\n",
            "video 1/1 (frame 791/1501) /content/Security camera inside Pepper Grill restaurant.mp4: 384x640 2 chairs, 5 customers, 6 tables, 8.6ms\n",
            "video 1/1 (frame 792/1501) /content/Security camera inside Pepper Grill restaurant.mp4: 384x640 2 chairs, 5 customers, 6 tables, 13.4ms\n",
            "video 1/1 (frame 793/1501) /content/Security camera inside Pepper Grill restaurant.mp4: 384x640 2 chairs, 5 customers, 6 tables, 10.2ms\n",
            "video 1/1 (frame 794/1501) /content/Security camera inside Pepper Grill restaurant.mp4: 384x640 2 chairs, 5 customers, 6 tables, 7.1ms\n",
            "video 1/1 (frame 795/1501) /content/Security camera inside Pepper Grill restaurant.mp4: 384x640 2 chairs, 5 customers, 6 tables, 8.7ms\n",
            "video 1/1 (frame 796/1501) /content/Security camera inside Pepper Grill restaurant.mp4: 384x640 2 chairs, 5 customers, 6 tables, 7.3ms\n",
            "video 1/1 (frame 797/1501) /content/Security camera inside Pepper Grill restaurant.mp4: 384x640 2 chairs, 5 customers, 6 tables, 8.9ms\n",
            "video 1/1 (frame 798/1501) /content/Security camera inside Pepper Grill restaurant.mp4: 384x640 1 chair, 4 customers, 6 tables, 7.9ms\n",
            "video 1/1 (frame 799/1501) /content/Security camera inside Pepper Grill restaurant.mp4: 384x640 2 chairs, 4 customers, 6 tables, 10.9ms\n",
            "video 1/1 (frame 800/1501) /content/Security camera inside Pepper Grill restaurant.mp4: 384x640 1 chair, 4 customers, 6 tables, 8.8ms\n",
            "video 1/1 (frame 801/1501) /content/Security camera inside Pepper Grill restaurant.mp4: 384x640 1 chair, 4 customers, 6 tables, 7.1ms\n",
            "video 1/1 (frame 802/1501) /content/Security camera inside Pepper Grill restaurant.mp4: 384x640 1 chair, 4 customers, 6 tables, 7.5ms\n",
            "video 1/1 (frame 803/1501) /content/Security camera inside Pepper Grill restaurant.mp4: 384x640 1 chair, 5 customers, 6 tables, 9.4ms\n",
            "video 1/1 (frame 804/1501) /content/Security camera inside Pepper Grill restaurant.mp4: 384x640 1 chair, 4 customers, 6 tables, 6.7ms\n",
            "video 1/1 (frame 805/1501) /content/Security camera inside Pepper Grill restaurant.mp4: 384x640 1 chair, 5 customers, 6 tables, 6.9ms\n",
            "video 1/1 (frame 806/1501) /content/Security camera inside Pepper Grill restaurant.mp4: 384x640 1 chair, 5 customers, 6 tables, 7.6ms\n",
            "video 1/1 (frame 807/1501) /content/Security camera inside Pepper Grill restaurant.mp4: 384x640 1 chair, 5 customers, 6 tables, 6.5ms\n",
            "video 1/1 (frame 808/1501) /content/Security camera inside Pepper Grill restaurant.mp4: 384x640 1 chair, 6 customers, 6 tables, 7.1ms\n",
            "video 1/1 (frame 809/1501) /content/Security camera inside Pepper Grill restaurant.mp4: 384x640 1 chair, 6 customers, 6 tables, 6.8ms\n",
            "video 1/1 (frame 810/1501) /content/Security camera inside Pepper Grill restaurant.mp4: 384x640 1 chair, 6 customers, 6 tables, 7.6ms\n",
            "video 1/1 (frame 811/1501) /content/Security camera inside Pepper Grill restaurant.mp4: 384x640 1 chair, 6 customers, 6 tables, 6.8ms\n",
            "video 1/1 (frame 812/1501) /content/Security camera inside Pepper Grill restaurant.mp4: 384x640 1 chair, 6 customers, 6 tables, 6.9ms\n",
            "video 1/1 (frame 813/1501) /content/Security camera inside Pepper Grill restaurant.mp4: 384x640 1 chair, 7 customers, 6 tables, 9.6ms\n",
            "video 1/1 (frame 814/1501) /content/Security camera inside Pepper Grill restaurant.mp4: 384x640 1 chair, 7 customers, 6 tables, 6.7ms\n",
            "video 1/1 (frame 815/1501) /content/Security camera inside Pepper Grill restaurant.mp4: 384x640 1 chair, 7 customers, 6 tables, 6.6ms\n",
            "video 1/1 (frame 816/1501) /content/Security camera inside Pepper Grill restaurant.mp4: 384x640 1 chair, 7 customers, 6 tables, 7.3ms\n",
            "video 1/1 (frame 817/1501) /content/Security camera inside Pepper Grill restaurant.mp4: 384x640 1 chair, 7 customers, 6 tables, 8.5ms\n",
            "video 1/1 (frame 818/1501) /content/Security camera inside Pepper Grill restaurant.mp4: 384x640 1 chair, 7 customers, 6 tables, 6.7ms\n",
            "video 1/1 (frame 819/1501) /content/Security camera inside Pepper Grill restaurant.mp4: 384x640 1 chair, 7 customers, 6 tables, 7.2ms\n",
            "video 1/1 (frame 820/1501) /content/Security camera inside Pepper Grill restaurant.mp4: 384x640 1 chair, 7 customers, 6 tables, 7.3ms\n",
            "video 1/1 (frame 821/1501) /content/Security camera inside Pepper Grill restaurant.mp4: 384x640 1 chair, 7 customers, 6 tables, 7.2ms\n",
            "video 1/1 (frame 822/1501) /content/Security camera inside Pepper Grill restaurant.mp4: 384x640 1 chair, 7 customers, 6 tables, 10.9ms\n",
            "video 1/1 (frame 823/1501) /content/Security camera inside Pepper Grill restaurant.mp4: 384x640 1 chair, 7 customers, 6 tables, 6.4ms\n",
            "video 1/1 (frame 824/1501) /content/Security camera inside Pepper Grill restaurant.mp4: 384x640 1 chair, 7 customers, 6 tables, 8.3ms\n",
            "video 1/1 (frame 825/1501) /content/Security camera inside Pepper Grill restaurant.mp4: 384x640 1 chair, 7 customers, 6 tables, 7.4ms\n",
            "video 1/1 (frame 826/1501) /content/Security camera inside Pepper Grill restaurant.mp4: 384x640 1 chair, 6 customers, 6 tables, 8.7ms\n",
            "video 1/1 (frame 827/1501) /content/Security camera inside Pepper Grill restaurant.mp4: 384x640 1 chair, 6 customers, 6 tables, 6.4ms\n",
            "video 1/1 (frame 828/1501) /content/Security camera inside Pepper Grill restaurant.mp4: 384x640 1 chair, 6 customers, 5 tables, 6.9ms\n",
            "video 1/1 (frame 829/1501) /content/Security camera inside Pepper Grill restaurant.mp4: 384x640 1 chair, 6 customers, 5 tables, 11.0ms\n",
            "video 1/1 (frame 830/1501) /content/Security camera inside Pepper Grill restaurant.mp4: 384x640 1 chair, 6 customers, 5 tables, 6.6ms\n",
            "video 1/1 (frame 831/1501) /content/Security camera inside Pepper Grill restaurant.mp4: 384x640 1 chair, 5 customers, 5 tables, 6.4ms\n",
            "video 1/1 (frame 832/1501) /content/Security camera inside Pepper Grill restaurant.mp4: 384x640 1 chair, 5 customers, 5 tables, 8.9ms\n",
            "video 1/1 (frame 833/1501) /content/Security camera inside Pepper Grill restaurant.mp4: 384x640 1 chair, 3 customers, 6 tables, 9.0ms\n",
            "video 1/1 (frame 834/1501) /content/Security camera inside Pepper Grill restaurant.mp4: 384x640 1 chair, 3 customers, 6 tables, 7.0ms\n",
            "video 1/1 (frame 835/1501) /content/Security camera inside Pepper Grill restaurant.mp4: 384x640 1 chair, 4 customers, 5 tables, 9.1ms\n",
            "video 1/1 (frame 836/1501) /content/Security camera inside Pepper Grill restaurant.mp4: 384x640 1 chair, 4 customers, 5 tables, 7.1ms\n",
            "video 1/1 (frame 837/1501) /content/Security camera inside Pepper Grill restaurant.mp4: 384x640 1 chair, 4 customers, 5 tables, 9.1ms\n",
            "video 1/1 (frame 838/1501) /content/Security camera inside Pepper Grill restaurant.mp4: 384x640 1 chair, 5 customers, 5 tables, 6.5ms\n",
            "video 1/1 (frame 839/1501) /content/Security camera inside Pepper Grill restaurant.mp4: 384x640 1 chair, 5 customers, 5 tables, 6.6ms\n",
            "video 1/1 (frame 840/1501) /content/Security camera inside Pepper Grill restaurant.mp4: 384x640 2 chairs, 5 customers, 5 tables, 10.4ms\n",
            "video 1/1 (frame 841/1501) /content/Security camera inside Pepper Grill restaurant.mp4: 384x640 2 chairs, 5 customers, 5 tables, 7.0ms\n",
            "video 1/1 (frame 842/1501) /content/Security camera inside Pepper Grill restaurant.mp4: 384x640 2 chairs, 5 customers, 5 tables, 8.2ms\n",
            "video 1/1 (frame 843/1501) /content/Security camera inside Pepper Grill restaurant.mp4: 384x640 2 chairs, 5 customers, 6 tables, 9.1ms\n",
            "video 1/1 (frame 844/1501) /content/Security camera inside Pepper Grill restaurant.mp4: 384x640 2 chairs, 5 customers, 6 tables, 7.3ms\n",
            "video 1/1 (frame 845/1501) /content/Security camera inside Pepper Grill restaurant.mp4: 384x640 2 chairs, 5 customers, 5 tables, 9.4ms\n",
            "video 1/1 (frame 846/1501) /content/Security camera inside Pepper Grill restaurant.mp4: 384x640 2 chairs, 5 customers, 6 tables, 6.9ms\n",
            "video 1/1 (frame 847/1501) /content/Security camera inside Pepper Grill restaurant.mp4: 384x640 2 chairs, 5 customers, 6 tables, 6.6ms\n",
            "video 1/1 (frame 848/1501) /content/Security camera inside Pepper Grill restaurant.mp4: 384x640 2 chairs, 5 customers, 6 tables, 6.6ms\n",
            "video 1/1 (frame 849/1501) /content/Security camera inside Pepper Grill restaurant.mp4: 384x640 2 chairs, 5 customers, 6 tables, 6.4ms\n",
            "video 1/1 (frame 850/1501) /content/Security camera inside Pepper Grill restaurant.mp4: 384x640 2 chairs, 6 customers, 6 tables, 6.6ms\n",
            "video 1/1 (frame 851/1501) /content/Security camera inside Pepper Grill restaurant.mp4: 384x640 2 chairs, 6 customers, 6 tables, 12.8ms\n",
            "video 1/1 (frame 852/1501) /content/Security camera inside Pepper Grill restaurant.mp4: 384x640 2 chairs, 6 customers, 6 tables, 6.6ms\n",
            "video 1/1 (frame 853/1501) /content/Security camera inside Pepper Grill restaurant.mp4: 384x640 2 chairs, 6 customers, 6 tables, 7.4ms\n",
            "video 1/1 (frame 854/1501) /content/Security camera inside Pepper Grill restaurant.mp4: 384x640 2 chairs, 6 customers, 6 tables, 7.4ms\n",
            "video 1/1 (frame 855/1501) /content/Security camera inside Pepper Grill restaurant.mp4: 384x640 2 chairs, 6 customers, 6 tables, 7.5ms\n",
            "video 1/1 (frame 856/1501) /content/Security camera inside Pepper Grill restaurant.mp4: 384x640 1 chair, 5 customers, 6 tables, 6.7ms\n",
            "video 1/1 (frame 857/1501) /content/Security camera inside Pepper Grill restaurant.mp4: 384x640 1 chair, 5 customers, 6 tables, 8.5ms\n",
            "video 1/1 (frame 858/1501) /content/Security camera inside Pepper Grill restaurant.mp4: 384x640 1 chair, 4 customers, 6 tables, 8.2ms\n",
            "video 1/1 (frame 859/1501) /content/Security camera inside Pepper Grill restaurant.mp4: 384x640 1 chair, 4 customers, 6 tables, 7.7ms\n",
            "video 1/1 (frame 860/1501) /content/Security camera inside Pepper Grill restaurant.mp4: 384x640 1 chair, 4 customers, 6 tables, 6.5ms\n",
            "video 1/1 (frame 861/1501) /content/Security camera inside Pepper Grill restaurant.mp4: 384x640 1 chair, 4 customers, 6 tables, 7.6ms\n",
            "video 1/1 (frame 862/1501) /content/Security camera inside Pepper Grill restaurant.mp4: 384x640 1 chair, 4 customers, 6 tables, 6.7ms\n",
            "video 1/1 (frame 863/1501) /content/Security camera inside Pepper Grill restaurant.mp4: 384x640 2 chairs, 4 customers, 6 tables, 7.7ms\n",
            "video 1/1 (frame 864/1501) /content/Security camera inside Pepper Grill restaurant.mp4: 384x640 2 chairs, 4 customers, 6 tables, 6.7ms\n",
            "video 1/1 (frame 865/1501) /content/Security camera inside Pepper Grill restaurant.mp4: 384x640 2 chairs, 5 customers, 6 tables, 8.4ms\n",
            "video 1/1 (frame 866/1501) /content/Security camera inside Pepper Grill restaurant.mp4: 384x640 2 chairs, 5 customers, 6 tables, 6.7ms\n",
            "video 1/1 (frame 867/1501) /content/Security camera inside Pepper Grill restaurant.mp4: 384x640 2 chairs, 5 customers, 6 tables, 8.8ms\n",
            "video 1/1 (frame 868/1501) /content/Security camera inside Pepper Grill restaurant.mp4: 384x640 2 chairs, 5 customers, 6 tables, 6.4ms\n",
            "video 1/1 (frame 869/1501) /content/Security camera inside Pepper Grill restaurant.mp4: 384x640 2 chairs, 5 customers, 6 tables, 9.6ms\n",
            "video 1/1 (frame 870/1501) /content/Security camera inside Pepper Grill restaurant.mp4: 384x640 2 chairs, 5 customers, 6 tables, 8.8ms\n",
            "video 1/1 (frame 871/1501) /content/Security camera inside Pepper Grill restaurant.mp4: 384x640 2 chairs, 5 customers, 6 tables, 9.7ms\n",
            "video 1/1 (frame 872/1501) /content/Security camera inside Pepper Grill restaurant.mp4: 384x640 2 chairs, 5 customers, 6 tables, 8.4ms\n",
            "video 1/1 (frame 873/1501) /content/Security camera inside Pepper Grill restaurant.mp4: 384x640 2 chairs, 4 customers, 6 tables, 8.0ms\n",
            "video 1/1 (frame 874/1501) /content/Security camera inside Pepper Grill restaurant.mp4: 384x640 2 chairs, 4 customers, 6 tables, 7.3ms\n",
            "video 1/1 (frame 875/1501) /content/Security camera inside Pepper Grill restaurant.mp4: 384x640 2 chairs, 5 customers, 5 tables, 8.4ms\n",
            "video 1/1 (frame 876/1501) /content/Security camera inside Pepper Grill restaurant.mp4: 384x640 2 chairs, 5 customers, 5 tables, 6.8ms\n",
            "video 1/1 (frame 877/1501) /content/Security camera inside Pepper Grill restaurant.mp4: 384x640 2 chairs, 5 customers, 5 tables, 8.1ms\n",
            "video 1/1 (frame 878/1501) /content/Security camera inside Pepper Grill restaurant.mp4: 384x640 2 chairs, 5 customers, 5 tables, 6.4ms\n",
            "video 1/1 (frame 879/1501) /content/Security camera inside Pepper Grill restaurant.mp4: 384x640 2 chairs, 5 customers, 5 tables, 7.4ms\n",
            "video 1/1 (frame 880/1501) /content/Security camera inside Pepper Grill restaurant.mp4: 384x640 2 chairs, 5 customers, 6 tables, 8.7ms\n",
            "video 1/1 (frame 881/1501) /content/Security camera inside Pepper Grill restaurant.mp4: 384x640 2 chairs, 5 customers, 6 tables, 7.2ms\n",
            "video 1/1 (frame 882/1501) /content/Security camera inside Pepper Grill restaurant.mp4: 384x640 2 chairs, 5 customers, 6 tables, 9.7ms\n",
            "video 1/1 (frame 883/1501) /content/Security camera inside Pepper Grill restaurant.mp4: 384x640 2 chairs, 5 customers, 6 tables, 8.1ms\n",
            "video 1/1 (frame 884/1501) /content/Security camera inside Pepper Grill restaurant.mp4: 384x640 2 chairs, 5 customers, 6 tables, 7.6ms\n",
            "video 1/1 (frame 885/1501) /content/Security camera inside Pepper Grill restaurant.mp4: 384x640 2 chairs, 5 customers, 6 tables, 6.9ms\n",
            "video 1/1 (frame 886/1501) /content/Security camera inside Pepper Grill restaurant.mp4: 384x640 2 chairs, 5 customers, 6 tables, 7.6ms\n",
            "video 1/1 (frame 887/1501) /content/Security camera inside Pepper Grill restaurant.mp4: 384x640 2 chairs, 5 customers, 6 tables, 8.3ms\n",
            "video 1/1 (frame 888/1501) /content/Security camera inside Pepper Grill restaurant.mp4: 384x640 2 chairs, 5 customers, 6 tables, 8.1ms\n",
            "video 1/1 (frame 889/1501) /content/Security camera inside Pepper Grill restaurant.mp4: 384x640 2 chairs, 5 customers, 6 tables, 6.9ms\n",
            "video 1/1 (frame 890/1501) /content/Security camera inside Pepper Grill restaurant.mp4: 384x640 2 chairs, 5 customers, 6 tables, 7.1ms\n",
            "video 1/1 (frame 891/1501) /content/Security camera inside Pepper Grill restaurant.mp4: 384x640 2 chairs, 5 customers, 6 tables, 6.8ms\n",
            "video 1/1 (frame 892/1501) /content/Security camera inside Pepper Grill restaurant.mp4: 384x640 2 chairs, 5 customers, 6 tables, 6.6ms\n",
            "video 1/1 (frame 893/1501) /content/Security camera inside Pepper Grill restaurant.mp4: 384x640 2 chairs, 5 customers, 5 tables, 10.7ms\n",
            "video 1/1 (frame 894/1501) /content/Security camera inside Pepper Grill restaurant.mp4: 384x640 2 chairs, 5 customers, 5 tables, 6.5ms\n",
            "video 1/1 (frame 895/1501) /content/Security camera inside Pepper Grill restaurant.mp4: 384x640 2 chairs, 5 customers, 6 tables, 7.8ms\n",
            "video 1/1 (frame 896/1501) /content/Security camera inside Pepper Grill restaurant.mp4: 384x640 2 chairs, 5 customers, 6 tables, 6.6ms\n",
            "video 1/1 (frame 897/1501) /content/Security camera inside Pepper Grill restaurant.mp4: 384x640 2 chairs, 5 customers, 6 tables, 8.2ms\n",
            "video 1/1 (frame 898/1501) /content/Security camera inside Pepper Grill restaurant.mp4: 384x640 2 chairs, 5 customers, 6 tables, 6.9ms\n",
            "video 1/1 (frame 899/1501) /content/Security camera inside Pepper Grill restaurant.mp4: 384x640 2 chairs, 5 customers, 6 tables, 8.5ms\n",
            "video 1/1 (frame 900/1501) /content/Security camera inside Pepper Grill restaurant.mp4: 384x640 2 chairs, 5 customers, 6 tables, 6.8ms\n",
            "video 1/1 (frame 901/1501) /content/Security camera inside Pepper Grill restaurant.mp4: 384x640 2 chairs, 5 customers, 6 tables, 8.6ms\n",
            "video 1/1 (frame 902/1501) /content/Security camera inside Pepper Grill restaurant.mp4: 384x640 2 chairs, 5 customers, 6 tables, 6.7ms\n",
            "video 1/1 (frame 903/1501) /content/Security camera inside Pepper Grill restaurant.mp4: 384x640 2 chairs, 5 customers, 6 tables, 6.6ms\n",
            "video 1/1 (frame 904/1501) /content/Security camera inside Pepper Grill restaurant.mp4: 384x640 2 chairs, 5 customers, 6 tables, 9.9ms\n",
            "video 1/1 (frame 905/1501) /content/Security camera inside Pepper Grill restaurant.mp4: 384x640 2 chairs, 4 customers, 6 tables, 6.4ms\n",
            "video 1/1 (frame 906/1501) /content/Security camera inside Pepper Grill restaurant.mp4: 384x640 2 chairs, 4 customers, 6 tables, 7.0ms\n",
            "video 1/1 (frame 907/1501) /content/Security camera inside Pepper Grill restaurant.mp4: 384x640 2 chairs, 4 customers, 6 tables, 7.4ms\n",
            "video 1/1 (frame 908/1501) /content/Security camera inside Pepper Grill restaurant.mp4: 384x640 2 chairs, 4 customers, 6 tables, 6.3ms\n",
            "video 1/1 (frame 909/1501) /content/Security camera inside Pepper Grill restaurant.mp4: 384x640 2 chairs, 4 customers, 6 tables, 6.6ms\n",
            "video 1/1 (frame 910/1501) /content/Security camera inside Pepper Grill restaurant.mp4: 384x640 2 chairs, 4 customers, 6 tables, 11.9ms\n",
            "video 1/1 (frame 911/1501) /content/Security camera inside Pepper Grill restaurant.mp4: 384x640 2 chairs, 4 customers, 6 tables, 6.6ms\n",
            "video 1/1 (frame 912/1501) /content/Security camera inside Pepper Grill restaurant.mp4: 384x640 2 chairs, 4 customers, 6 tables, 6.6ms\n",
            "video 1/1 (frame 913/1501) /content/Security camera inside Pepper Grill restaurant.mp4: 384x640 2 chairs, 4 customers, 6 tables, 7.1ms\n",
            "video 1/1 (frame 914/1501) /content/Security camera inside Pepper Grill restaurant.mp4: 384x640 2 chairs, 4 customers, 6 tables, 8.0ms\n",
            "video 1/1 (frame 915/1501) /content/Security camera inside Pepper Grill restaurant.mp4: 384x640 2 chairs, 4 customers, 6 tables, 7.4ms\n",
            "video 1/1 (frame 916/1501) /content/Security camera inside Pepper Grill restaurant.mp4: 384x640 2 chairs, 4 customers, 6 tables, 7.0ms\n",
            "video 1/1 (frame 917/1501) /content/Security camera inside Pepper Grill restaurant.mp4: 384x640 2 chairs, 4 customers, 6 tables, 6.5ms\n",
            "video 1/1 (frame 918/1501) /content/Security camera inside Pepper Grill restaurant.mp4: 384x640 2 chairs, 5 customers, 6 tables, 6.7ms\n",
            "video 1/1 (frame 919/1501) /content/Security camera inside Pepper Grill restaurant.mp4: 384x640 2 chairs, 5 customers, 6 tables, 6.9ms\n",
            "video 1/1 (frame 920/1501) /content/Security camera inside Pepper Grill restaurant.mp4: 384x640 2 chairs, 5 customers, 6 tables, 6.8ms\n",
            "video 1/1 (frame 921/1501) /content/Security camera inside Pepper Grill restaurant.mp4: 384x640 3 chairs, 4 customers, 6 tables, 6.7ms\n",
            "video 1/1 (frame 922/1501) /content/Security camera inside Pepper Grill restaurant.mp4: 384x640 3 chairs, 4 customers, 6 tables, 6.9ms\n",
            "video 1/1 (frame 923/1501) /content/Security camera inside Pepper Grill restaurant.mp4: 384x640 2 chairs, 4 customers, 6 tables, 7.2ms\n",
            "video 1/1 (frame 924/1501) /content/Security camera inside Pepper Grill restaurant.mp4: 384x640 2 chairs, 4 customers, 6 tables, 7.1ms\n",
            "video 1/1 (frame 925/1501) /content/Security camera inside Pepper Grill restaurant.mp4: 384x640 2 chairs, 4 customers, 6 tables, 6.6ms\n",
            "video 1/1 (frame 926/1501) /content/Security camera inside Pepper Grill restaurant.mp4: 384x640 2 chairs, 4 customers, 6 tables, 6.8ms\n",
            "video 1/1 (frame 927/1501) /content/Security camera inside Pepper Grill restaurant.mp4: 384x640 2 chairs, 4 customers, 6 tables, 6.8ms\n",
            "video 1/1 (frame 928/1501) /content/Security camera inside Pepper Grill restaurant.mp4: 384x640 2 chairs, 4 customers, 6 tables, 8.2ms\n",
            "video 1/1 (frame 929/1501) /content/Security camera inside Pepper Grill restaurant.mp4: 384x640 2 chairs, 4 customers, 6 tables, 7.7ms\n",
            "video 1/1 (frame 930/1501) /content/Security camera inside Pepper Grill restaurant.mp4: 384x640 2 chairs, 4 customers, 6 tables, 9.2ms\n",
            "video 1/1 (frame 931/1501) /content/Security camera inside Pepper Grill restaurant.mp4: 384x640 2 chairs, 4 customers, 6 tables, 11.7ms\n",
            "video 1/1 (frame 932/1501) /content/Security camera inside Pepper Grill restaurant.mp4: 384x640 2 chairs, 3 customers, 6 tables, 12.1ms\n",
            "video 1/1 (frame 933/1501) /content/Security camera inside Pepper Grill restaurant.mp4: 384x640 2 chairs, 3 customers, 6 tables, 14.1ms\n",
            "video 1/1 (frame 934/1501) /content/Security camera inside Pepper Grill restaurant.mp4: 384x640 2 chairs, 3 customers, 6 tables, 8.7ms\n",
            "video 1/1 (frame 935/1501) /content/Security camera inside Pepper Grill restaurant.mp4: 384x640 2 chairs, 4 customers, 6 tables, 11.6ms\n",
            "video 1/1 (frame 936/1501) /content/Security camera inside Pepper Grill restaurant.mp4: 384x640 2 chairs, 4 customers, 6 tables, 13.8ms\n",
            "video 1/1 (frame 937/1501) /content/Security camera inside Pepper Grill restaurant.mp4: 384x640 2 chairs, 4 customers, 6 tables, 13.3ms\n",
            "video 1/1 (frame 938/1501) /content/Security camera inside Pepper Grill restaurant.mp4: 384x640 2 chairs, 4 customers, 6 tables, 8.5ms\n",
            "video 1/1 (frame 939/1501) /content/Security camera inside Pepper Grill restaurant.mp4: 384x640 2 chairs, 4 customers, 6 tables, 13.9ms\n",
            "video 1/1 (frame 940/1501) /content/Security camera inside Pepper Grill restaurant.mp4: 384x640 2 chairs, 5 customers, 6 tables, 8.2ms\n",
            "video 1/1 (frame 941/1501) /content/Security camera inside Pepper Grill restaurant.mp4: 384x640 2 chairs, 5 customers, 6 tables, 13.5ms\n",
            "video 1/1 (frame 942/1501) /content/Security camera inside Pepper Grill restaurant.mp4: 384x640 2 chairs, 5 customers, 6 tables, 14.1ms\n",
            "video 1/1 (frame 943/1501) /content/Security camera inside Pepper Grill restaurant.mp4: 384x640 2 chairs, 5 customers, 6 tables, 8.6ms\n",
            "video 1/1 (frame 944/1501) /content/Security camera inside Pepper Grill restaurant.mp4: 384x640 2 chairs, 5 customers, 6 tables, 9.2ms\n",
            "video 1/1 (frame 945/1501) /content/Security camera inside Pepper Grill restaurant.mp4: 384x640 2 chairs, 5 customers, 6 tables, 9.4ms\n",
            "video 1/1 (frame 946/1501) /content/Security camera inside Pepper Grill restaurant.mp4: 384x640 2 chairs, 5 customers, 6 tables, 8.7ms\n",
            "video 1/1 (frame 947/1501) /content/Security camera inside Pepper Grill restaurant.mp4: 384x640 2 chairs, 5 customers, 6 tables, 14.4ms\n",
            "video 1/1 (frame 948/1501) /content/Security camera inside Pepper Grill restaurant.mp4: 384x640 2 chairs, 5 customers, 6 tables, 9.1ms\n",
            "video 1/1 (frame 949/1501) /content/Security camera inside Pepper Grill restaurant.mp4: 384x640 2 chairs, 5 customers, 6 tables, 8.3ms\n",
            "video 1/1 (frame 950/1501) /content/Security camera inside Pepper Grill restaurant.mp4: 384x640 2 chairs, 6 customers, 6 tables, 13.3ms\n",
            "video 1/1 (frame 951/1501) /content/Security camera inside Pepper Grill restaurant.mp4: 384x640 2 chairs, 6 customers, 6 tables, 8.9ms\n",
            "video 1/1 (frame 952/1501) /content/Security camera inside Pepper Grill restaurant.mp4: 384x640 2 chairs, 6 customers, 6 tables, 12.9ms\n",
            "video 1/1 (frame 953/1501) /content/Security camera inside Pepper Grill restaurant.mp4: 384x640 2 chairs, 5 customers, 6 tables, 11.4ms\n",
            "video 1/1 (frame 954/1501) /content/Security camera inside Pepper Grill restaurant.mp4: 384x640 2 chairs, 6 customers, 6 tables, 8.9ms\n",
            "video 1/1 (frame 955/1501) /content/Security camera inside Pepper Grill restaurant.mp4: 384x640 2 chairs, 7 customers, 6 tables, 8.2ms\n",
            "video 1/1 (frame 956/1501) /content/Security camera inside Pepper Grill restaurant.mp4: 384x640 2 chairs, 7 customers, 6 tables, 9.5ms\n",
            "video 1/1 (frame 957/1501) /content/Security camera inside Pepper Grill restaurant.mp4: 384x640 2 chairs, 7 customers, 6 tables, 8.1ms\n",
            "video 1/1 (frame 958/1501) /content/Security camera inside Pepper Grill restaurant.mp4: 384x640 1 chair, 6 customers, 6 tables, 12.4ms\n",
            "video 1/1 (frame 959/1501) /content/Security camera inside Pepper Grill restaurant.mp4: 384x640 1 chair, 6 customers, 6 tables, 10.6ms\n",
            "video 1/1 (frame 960/1501) /content/Security camera inside Pepper Grill restaurant.mp4: 384x640 1 chair, 6 customers, 6 tables, 11.1ms\n",
            "video 1/1 (frame 961/1501) /content/Security camera inside Pepper Grill restaurant.mp4: 384x640 1 chair, 6 customers, 6 tables, 8.0ms\n",
            "video 1/1 (frame 962/1501) /content/Security camera inside Pepper Grill restaurant.mp4: 384x640 1 chair, 5 customers, 6 tables, 8.3ms\n",
            "video 1/1 (frame 963/1501) /content/Security camera inside Pepper Grill restaurant.mp4: 384x640 1 chair, 5 customers, 6 tables, 8.1ms\n",
            "video 1/1 (frame 964/1501) /content/Security camera inside Pepper Grill restaurant.mp4: 384x640 1 chair, 5 customers, 6 tables, 10.4ms\n",
            "video 1/1 (frame 965/1501) /content/Security camera inside Pepper Grill restaurant.mp4: 384x640 2 chairs, 5 customers, 6 tables, 10.6ms\n",
            "video 1/1 (frame 966/1501) /content/Security camera inside Pepper Grill restaurant.mp4: 384x640 2 chairs, 5 customers, 6 tables, 13.9ms\n",
            "video 1/1 (frame 967/1501) /content/Security camera inside Pepper Grill restaurant.mp4: 384x640 2 chairs, 4 customers, 6 tables, 11.5ms\n",
            "video 1/1 (frame 968/1501) /content/Security camera inside Pepper Grill restaurant.mp4: 384x640 2 chairs, 4 customers, 6 tables, 13.6ms\n",
            "video 1/1 (frame 969/1501) /content/Security camera inside Pepper Grill restaurant.mp4: 384x640 2 chairs, 4 customers, 6 tables, 11.4ms\n",
            "video 1/1 (frame 970/1501) /content/Security camera inside Pepper Grill restaurant.mp4: 384x640 2 chairs, 4 customers, 6 tables, 12.7ms\n",
            "video 1/1 (frame 971/1501) /content/Security camera inside Pepper Grill restaurant.mp4: 384x640 2 chairs, 5 customers, 6 tables, 9.7ms\n",
            "video 1/1 (frame 972/1501) /content/Security camera inside Pepper Grill restaurant.mp4: 384x640 2 chairs, 5 customers, 6 tables, 12.8ms\n",
            "video 1/1 (frame 973/1501) /content/Security camera inside Pepper Grill restaurant.mp4: 384x640 2 chairs, 5 customers, 6 tables, 12.5ms\n",
            "video 1/1 (frame 974/1501) /content/Security camera inside Pepper Grill restaurant.mp4: 384x640 2 chairs, 5 customers, 6 tables, 14.0ms\n",
            "video 1/1 (frame 975/1501) /content/Security camera inside Pepper Grill restaurant.mp4: 384x640 2 chairs, 5 customers, 6 tables, 14.2ms\n",
            "video 1/1 (frame 976/1501) /content/Security camera inside Pepper Grill restaurant.mp4: 384x640 2 chairs, 5 customers, 6 tables, 11.4ms\n",
            "video 1/1 (frame 977/1501) /content/Security camera inside Pepper Grill restaurant.mp4: 384x640 2 chairs, 5 customers, 6 tables, 13.3ms\n",
            "video 1/1 (frame 978/1501) /content/Security camera inside Pepper Grill restaurant.mp4: 384x640 2 chairs, 5 customers, 6 tables, 11.6ms\n",
            "video 1/1 (frame 979/1501) /content/Security camera inside Pepper Grill restaurant.mp4: 384x640 2 chairs, 5 customers, 6 tables, 12.1ms\n",
            "video 1/1 (frame 980/1501) /content/Security camera inside Pepper Grill restaurant.mp4: 384x640 2 chairs, 6 customers, 6 tables, 18.4ms\n",
            "video 1/1 (frame 981/1501) /content/Security camera inside Pepper Grill restaurant.mp4: 384x640 2 chairs, 5 customers, 6 tables, 9.7ms\n",
            "video 1/1 (frame 982/1501) /content/Security camera inside Pepper Grill restaurant.mp4: 384x640 2 chairs, 5 customers, 6 tables, 8.3ms\n",
            "video 1/1 (frame 983/1501) /content/Security camera inside Pepper Grill restaurant.mp4: 384x640 2 chairs, 4 customers, 6 tables, 8.9ms\n",
            "video 1/1 (frame 984/1501) /content/Security camera inside Pepper Grill restaurant.mp4: 384x640 2 chairs, 4 customers, 6 tables, 6.9ms\n",
            "video 1/1 (frame 985/1501) /content/Security camera inside Pepper Grill restaurant.mp4: 384x640 1 chair, 4 customers, 6 tables, 6.4ms\n",
            "video 1/1 (frame 986/1501) /content/Security camera inside Pepper Grill restaurant.mp4: 384x640 1 chair, 4 customers, 6 tables, 10.4ms\n",
            "video 1/1 (frame 987/1501) /content/Security camera inside Pepper Grill restaurant.mp4: 384x640 1 chair, 5 customers, 6 tables, 8.0ms\n",
            "video 1/1 (frame 988/1501) /content/Security camera inside Pepper Grill restaurant.mp4: 384x640 2 chairs, 4 customers, 6 tables, 8.4ms\n",
            "video 1/1 (frame 989/1501) /content/Security camera inside Pepper Grill restaurant.mp4: 384x640 2 chairs, 4 customers, 6 tables, 8.0ms\n",
            "video 1/1 (frame 990/1501) /content/Security camera inside Pepper Grill restaurant.mp4: 384x640 1 chair, 4 customers, 6 tables, 6.4ms\n",
            "video 1/1 (frame 991/1501) /content/Security camera inside Pepper Grill restaurant.mp4: 384x640 1 chair, 4 customers, 6 tables, 6.4ms\n",
            "video 1/1 (frame 992/1501) /content/Security camera inside Pepper Grill restaurant.mp4: 384x640 1 chair, 5 customers, 6 tables, 6.4ms\n",
            "video 1/1 (frame 993/1501) /content/Security camera inside Pepper Grill restaurant.mp4: 384x640 2 chairs, 5 customers, 6 tables, 7.8ms\n",
            "video 1/1 (frame 994/1501) /content/Security camera inside Pepper Grill restaurant.mp4: 384x640 2 chairs, 4 customers, 6 tables, 7.6ms\n",
            "video 1/1 (frame 995/1501) /content/Security camera inside Pepper Grill restaurant.mp4: 384x640 1 chair, 4 customers, 6 tables, 6.4ms\n",
            "video 1/1 (frame 996/1501) /content/Security camera inside Pepper Grill restaurant.mp4: 384x640 1 chair, 4 customers, 7 tables, 6.7ms\n",
            "video 1/1 (frame 997/1501) /content/Security camera inside Pepper Grill restaurant.mp4: 384x640 2 chairs, 4 customers, 7 tables, 11.9ms\n",
            "video 1/1 (frame 998/1501) /content/Security camera inside Pepper Grill restaurant.mp4: 384x640 2 chairs, 4 customers, 7 tables, 7.9ms\n",
            "video 1/1 (frame 999/1501) /content/Security camera inside Pepper Grill restaurant.mp4: 384x640 2 chairs, 4 customers, 7 tables, 8.3ms\n",
            "video 1/1 (frame 1000/1501) /content/Security camera inside Pepper Grill restaurant.mp4: 384x640 2 chairs, 5 customers, 7 tables, 6.8ms\n",
            "video 1/1 (frame 1001/1501) /content/Security camera inside Pepper Grill restaurant.mp4: 384x640 2 chairs, 5 customers, 7 tables, 8.4ms\n",
            "video 1/1 (frame 1002/1501) /content/Security camera inside Pepper Grill restaurant.mp4: 384x640 2 chairs, 5 customers, 7 tables, 7.6ms\n",
            "video 1/1 (frame 1003/1501) /content/Security camera inside Pepper Grill restaurant.mp4: 384x640 2 chairs, 4 customers, 7 tables, 8.4ms\n",
            "video 1/1 (frame 1004/1501) /content/Security camera inside Pepper Grill restaurant.mp4: 384x640 2 chairs, 4 customers, 7 tables, 8.3ms\n",
            "video 1/1 (frame 1005/1501) /content/Security camera inside Pepper Grill restaurant.mp4: 384x640 2 chairs, 4 customers, 7 tables, 9.1ms\n",
            "video 1/1 (frame 1006/1501) /content/Security camera inside Pepper Grill restaurant.mp4: 384x640 2 chairs, 4 customers, 7 tables, 6.3ms\n",
            "video 1/1 (frame 1007/1501) /content/Security camera inside Pepper Grill restaurant.mp4: 384x640 2 chairs, 4 customers, 7 tables, 9.0ms\n",
            "video 1/1 (frame 1008/1501) /content/Security camera inside Pepper Grill restaurant.mp4: 384x640 2 chairs, 5 customers, 6 tables, 6.3ms\n",
            "video 1/1 (frame 1009/1501) /content/Security camera inside Pepper Grill restaurant.mp4: 384x640 2 chairs, 5 customers, 6 tables, 8.1ms\n",
            "video 1/1 (frame 1010/1501) /content/Security camera inside Pepper Grill restaurant.mp4: 384x640 3 chairs, 5 customers, 6 tables, 8.1ms\n",
            "video 1/1 (frame 1011/1501) /content/Security camera inside Pepper Grill restaurant.mp4: 384x640 3 chairs, 5 customers, 6 tables, 8.9ms\n",
            "video 1/1 (frame 1012/1501) /content/Security camera inside Pepper Grill restaurant.mp4: 384x640 3 chairs, 5 customers, 6 tables, 6.5ms\n",
            "video 1/1 (frame 1013/1501) /content/Security camera inside Pepper Grill restaurant.mp4: 384x640 3 chairs, 5 customers, 6 tables, 8.5ms\n",
            "video 1/1 (frame 1014/1501) /content/Security camera inside Pepper Grill restaurant.mp4: 384x640 3 chairs, 5 customers, 6 tables, 8.9ms\n",
            "video 1/1 (frame 1015/1501) /content/Security camera inside Pepper Grill restaurant.mp4: 384x640 3 chairs, 6 customers, 7 tables, 6.6ms\n",
            "video 1/1 (frame 1016/1501) /content/Security camera inside Pepper Grill restaurant.mp4: 384x640 3 chairs, 6 customers, 7 tables, 9.4ms\n",
            "video 1/1 (frame 1017/1501) /content/Security camera inside Pepper Grill restaurant.mp4: 384x640 3 chairs, 6 customers, 7 tables, 6.6ms\n",
            "video 1/1 (frame 1018/1501) /content/Security camera inside Pepper Grill restaurant.mp4: 384x640 3 chairs, 6 customers, 7 tables, 8.8ms\n",
            "video 1/1 (frame 1019/1501) /content/Security camera inside Pepper Grill restaurant.mp4: 384x640 3 chairs, 6 customers, 7 tables, 7.1ms\n",
            "video 1/1 (frame 1020/1501) /content/Security camera inside Pepper Grill restaurant.mp4: 384x640 3 chairs, 5 customers, 7 tables, 8.3ms\n",
            "video 1/1 (frame 1021/1501) /content/Security camera inside Pepper Grill restaurant.mp4: 384x640 3 chairs, 5 customers, 7 tables, 9.5ms\n",
            "video 1/1 (frame 1022/1501) /content/Security camera inside Pepper Grill restaurant.mp4: 384x640 3 chairs, 5 customers, 7 tables, 8.9ms\n",
            "video 1/1 (frame 1023/1501) /content/Security camera inside Pepper Grill restaurant.mp4: 384x640 3 chairs, 5 customers, 7 tables, 7.2ms\n",
            "video 1/1 (frame 1024/1501) /content/Security camera inside Pepper Grill restaurant.mp4: 384x640 3 chairs, 5 customers, 7 tables, 8.2ms\n",
            "video 1/1 (frame 1025/1501) /content/Security camera inside Pepper Grill restaurant.mp4: 384x640 3 chairs, 5 customers, 7 tables, 6.6ms\n",
            "video 1/1 (frame 1026/1501) /content/Security camera inside Pepper Grill restaurant.mp4: 384x640 3 chairs, 5 customers, 7 tables, 8.5ms\n",
            "video 1/1 (frame 1027/1501) /content/Security camera inside Pepper Grill restaurant.mp4: 384x640 3 chairs, 5 customers, 7 tables, 6.3ms\n",
            "video 1/1 (frame 1028/1501) /content/Security camera inside Pepper Grill restaurant.mp4: 384x640 3 chairs, 5 customers, 7 tables, 7.8ms\n",
            "video 1/1 (frame 1029/1501) /content/Security camera inside Pepper Grill restaurant.mp4: 384x640 3 chairs, 5 customers, 7 tables, 8.2ms\n",
            "video 1/1 (frame 1030/1501) /content/Security camera inside Pepper Grill restaurant.mp4: 384x640 3 chairs, 5 customers, 7 tables, 8.4ms\n",
            "video 1/1 (frame 1031/1501) /content/Security camera inside Pepper Grill restaurant.mp4: 384x640 3 chairs, 5 customers, 7 tables, 8.3ms\n",
            "video 1/1 (frame 1032/1501) /content/Security camera inside Pepper Grill restaurant.mp4: 384x640 3 chairs, 5 customers, 7 tables, 8.3ms\n",
            "video 1/1 (frame 1033/1501) /content/Security camera inside Pepper Grill restaurant.mp4: 384x640 3 chairs, 5 customers, 7 tables, 6.3ms\n",
            "video 1/1 (frame 1034/1501) /content/Security camera inside Pepper Grill restaurant.mp4: 384x640 3 chairs, 5 customers, 7 tables, 9.4ms\n",
            "video 1/1 (frame 1035/1501) /content/Security camera inside Pepper Grill restaurant.mp4: 384x640 3 chairs, 5 customers, 7 tables, 6.6ms\n",
            "video 1/1 (frame 1036/1501) /content/Security camera inside Pepper Grill restaurant.mp4: 384x640 3 chairs, 4 customers, 7 tables, 7.2ms\n",
            "video 1/1 (frame 1037/1501) /content/Security camera inside Pepper Grill restaurant.mp4: 384x640 3 chairs, 4 customers, 7 tables, 8.8ms\n",
            "video 1/1 (frame 1038/1501) /content/Security camera inside Pepper Grill restaurant.mp4: 384x640 3 chairs, 5 customers, 7 tables, 10.3ms\n",
            "video 1/1 (frame 1039/1501) /content/Security camera inside Pepper Grill restaurant.mp4: 384x640 3 chairs, 5 customers, 7 tables, 9.8ms\n",
            "video 1/1 (frame 1040/1501) /content/Security camera inside Pepper Grill restaurant.mp4: 384x640 3 chairs, 5 customers, 7 tables, 9.1ms\n",
            "video 1/1 (frame 1041/1501) /content/Security camera inside Pepper Grill restaurant.mp4: 384x640 3 chairs, 5 customers, 7 tables, 7.9ms\n",
            "video 1/1 (frame 1042/1501) /content/Security camera inside Pepper Grill restaurant.mp4: 384x640 3 chairs, 5 customers, 7 tables, 7.4ms\n",
            "video 1/1 (frame 1043/1501) /content/Security camera inside Pepper Grill restaurant.mp4: 384x640 3 chairs, 4 customers, 7 tables, 8.3ms\n",
            "video 1/1 (frame 1044/1501) /content/Security camera inside Pepper Grill restaurant.mp4: 384x640 3 chairs, 4 customers, 7 tables, 6.3ms\n",
            "video 1/1 (frame 1045/1501) /content/Security camera inside Pepper Grill restaurant.mp4: 384x640 3 chairs, 4 customers, 7 tables, 10.3ms\n",
            "video 1/1 (frame 1046/1501) /content/Security camera inside Pepper Grill restaurant.mp4: 384x640 3 chairs, 4 customers, 7 tables, 6.5ms\n",
            "video 1/1 (frame 1047/1501) /content/Security camera inside Pepper Grill restaurant.mp4: 384x640 3 chairs, 4 customers, 7 tables, 6.4ms\n",
            "video 1/1 (frame 1048/1501) /content/Security camera inside Pepper Grill restaurant.mp4: 384x640 3 chairs, 5 customers, 7 tables, 6.8ms\n",
            "video 1/1 (frame 1049/1501) /content/Security camera inside Pepper Grill restaurant.mp4: 384x640 3 chairs, 5 customers, 7 tables, 8.1ms\n",
            "video 1/1 (frame 1050/1501) /content/Security camera inside Pepper Grill restaurant.mp4: 384x640 3 chairs, 5 customers, 7 tables, 7.9ms\n",
            "video 1/1 (frame 1051/1501) /content/Security camera inside Pepper Grill restaurant.mp4: 384x640 3 chairs, 5 customers, 7 tables, 7.1ms\n",
            "video 1/1 (frame 1052/1501) /content/Security camera inside Pepper Grill restaurant.mp4: 384x640 3 chairs, 4 customers, 6 tables, 7.9ms\n",
            "video 1/1 (frame 1053/1501) /content/Security camera inside Pepper Grill restaurant.mp4: 384x640 3 chairs, 4 customers, 6 tables, 6.6ms\n",
            "video 1/1 (frame 1054/1501) /content/Security camera inside Pepper Grill restaurant.mp4: 384x640 3 chairs, 4 customers, 6 tables, 6.4ms\n",
            "video 1/1 (frame 1055/1501) /content/Security camera inside Pepper Grill restaurant.mp4: 384x640 3 chairs, 4 customers, 6 tables, 6.6ms\n",
            "video 1/1 (frame 1056/1501) /content/Security camera inside Pepper Grill restaurant.mp4: 384x640 3 chairs, 4 customers, 6 tables, 7.4ms\n",
            "video 1/1 (frame 1057/1501) /content/Security camera inside Pepper Grill restaurant.mp4: 384x640 3 chairs, 4 customers, 6 tables, 6.4ms\n",
            "video 1/1 (frame 1058/1501) /content/Security camera inside Pepper Grill restaurant.mp4: 384x640 3 chairs, 4 customers, 6 tables, 6.2ms\n",
            "video 1/1 (frame 1059/1501) /content/Security camera inside Pepper Grill restaurant.mp4: 384x640 3 chairs, 4 customers, 6 tables, 7.7ms\n",
            "video 1/1 (frame 1060/1501) /content/Security camera inside Pepper Grill restaurant.mp4: 384x640 3 chairs, 4 customers, 6 tables, 6.3ms\n",
            "video 1/1 (frame 1061/1501) /content/Security camera inside Pepper Grill restaurant.mp4: 384x640 3 chairs, 4 customers, 6 tables, 7.2ms\n",
            "video 1/1 (frame 1062/1501) /content/Security camera inside Pepper Grill restaurant.mp4: 384x640 3 chairs, 4 customers, 6 tables, 6.5ms\n",
            "video 1/1 (frame 1063/1501) /content/Security camera inside Pepper Grill restaurant.mp4: 384x640 2 chairs, 4 customers, 6 tables, 6.3ms\n",
            "video 1/1 (frame 1064/1501) /content/Security camera inside Pepper Grill restaurant.mp4: 384x640 2 chairs, 4 customers, 6 tables, 6.9ms\n",
            "video 1/1 (frame 1065/1501) /content/Security camera inside Pepper Grill restaurant.mp4: 384x640 2 chairs, 5 customers, 6 tables, 8.0ms\n",
            "video 1/1 (frame 1066/1501) /content/Security camera inside Pepper Grill restaurant.mp4: 384x640 2 chairs, 5 customers, 6 tables, 6.5ms\n",
            "video 1/1 (frame 1067/1501) /content/Security camera inside Pepper Grill restaurant.mp4: 384x640 2 chairs, 5 customers, 6 tables, 8.8ms\n",
            "video 1/1 (frame 1068/1501) /content/Security camera inside Pepper Grill restaurant.mp4: 384x640 2 chairs, 4 customers, 6 tables, 9.2ms\n",
            "video 1/1 (frame 1069/1501) /content/Security camera inside Pepper Grill restaurant.mp4: 384x640 2 chairs, 4 customers, 6 tables, 7.8ms\n",
            "video 1/1 (frame 1070/1501) /content/Security camera inside Pepper Grill restaurant.mp4: 384x640 2 chairs, 4 customers, 6 tables, 6.3ms\n",
            "video 1/1 (frame 1071/1501) /content/Security camera inside Pepper Grill restaurant.mp4: 384x640 2 chairs, 4 customers, 6 tables, 12.3ms\n",
            "video 1/1 (frame 1072/1501) /content/Security camera inside Pepper Grill restaurant.mp4: 384x640 2 chairs, 4 customers, 6 tables, 6.6ms\n",
            "video 1/1 (frame 1073/1501) /content/Security camera inside Pepper Grill restaurant.mp4: 384x640 2 chairs, 4 customers, 6 tables, 11.5ms\n",
            "video 1/1 (frame 1074/1501) /content/Security camera inside Pepper Grill restaurant.mp4: 384x640 2 chairs, 4 customers, 6 tables, 9.0ms\n",
            "video 1/1 (frame 1075/1501) /content/Security camera inside Pepper Grill restaurant.mp4: 384x640 2 chairs, 4 customers, 5 tables, 11.4ms\n",
            "video 1/1 (frame 1076/1501) /content/Security camera inside Pepper Grill restaurant.mp4: 384x640 2 chairs, 4 customers, 5 tables, 9.0ms\n",
            "video 1/1 (frame 1077/1501) /content/Security camera inside Pepper Grill restaurant.mp4: 384x640 2 chairs, 6 customers, 5 tables, 8.2ms\n",
            "video 1/1 (frame 1078/1501) /content/Security camera inside Pepper Grill restaurant.mp4: 384x640 2 chairs, 6 customers, 5 tables, 6.9ms\n",
            "video 1/1 (frame 1079/1501) /content/Security camera inside Pepper Grill restaurant.mp4: 384x640 2 chairs, 6 customers, 5 tables, 8.3ms\n",
            "video 1/1 (frame 1080/1501) /content/Security camera inside Pepper Grill restaurant.mp4: 384x640 2 chairs, 6 customers, 5 tables, 6.7ms\n",
            "video 1/1 (frame 1081/1501) /content/Security camera inside Pepper Grill restaurant.mp4: 384x640 2 chairs, 6 customers, 5 tables, 10.2ms\n",
            "video 1/1 (frame 1082/1501) /content/Security camera inside Pepper Grill restaurant.mp4: 384x640 2 chairs, 8 customers, 4 tables, 6.3ms\n",
            "video 1/1 (frame 1083/1501) /content/Security camera inside Pepper Grill restaurant.mp4: 384x640 2 chairs, 8 customers, 4 tables, 6.6ms\n",
            "video 1/1 (frame 1084/1501) /content/Security camera inside Pepper Grill restaurant.mp4: 384x640 2 chairs, 8 customers, 4 tables, 6.7ms\n",
            "video 1/1 (frame 1085/1501) /content/Security camera inside Pepper Grill restaurant.mp4: 384x640 2 chairs, 7 customers, 5 tables, 8.7ms\n",
            "video 1/1 (frame 1086/1501) /content/Security camera inside Pepper Grill restaurant.mp4: 384x640 2 chairs, 7 customers, 5 tables, 8.6ms\n",
            "video 1/1 (frame 1087/1501) /content/Security camera inside Pepper Grill restaurant.mp4: 384x640 2 chairs, 6 customers, 6 tables, 8.2ms\n",
            "video 1/1 (frame 1088/1501) /content/Security camera inside Pepper Grill restaurant.mp4: 384x640 2 chairs, 6 customers, 6 tables, 6.5ms\n",
            "video 1/1 (frame 1089/1501) /content/Security camera inside Pepper Grill restaurant.mp4: 384x640 1 chair, 6 customers, 6 tables, 7.2ms\n",
            "video 1/1 (frame 1090/1501) /content/Security camera inside Pepper Grill restaurant.mp4: 384x640 1 chair, 6 customers, 6 tables, 6.8ms\n",
            "video 1/1 (frame 1091/1501) /content/Security camera inside Pepper Grill restaurant.mp4: 384x640 1 chair, 6 customers, 6 tables, 6.9ms\n",
            "video 1/1 (frame 1092/1501) /content/Security camera inside Pepper Grill restaurant.mp4: 384x640 1 chair, 6 customers, 6 tables, 9.3ms\n",
            "video 1/1 (frame 1093/1501) /content/Security camera inside Pepper Grill restaurant.mp4: 384x640 1 chair, 6 customers, 6 tables, 6.6ms\n",
            "video 1/1 (frame 1094/1501) /content/Security camera inside Pepper Grill restaurant.mp4: 384x640 1 chair, 6 customers, 6 tables, 6.7ms\n",
            "video 1/1 (frame 1095/1501) /content/Security camera inside Pepper Grill restaurant.mp4: 384x640 1 chair, 6 customers, 6 tables, 6.8ms\n",
            "video 1/1 (frame 1096/1501) /content/Security camera inside Pepper Grill restaurant.mp4: 384x640 1 chair, 6 customers, 6 tables, 9.2ms\n",
            "video 1/1 (frame 1097/1501) /content/Security camera inside Pepper Grill restaurant.mp4: 384x640 1 chair, 6 customers, 6 tables, 6.8ms\n",
            "video 1/1 (frame 1098/1501) /content/Security camera inside Pepper Grill restaurant.mp4: 384x640 2 chairs, 5 customers, 6 tables, 8.2ms\n",
            "video 1/1 (frame 1099/1501) /content/Security camera inside Pepper Grill restaurant.mp4: 384x640 2 chairs, 6 customers, 6 tables, 6.6ms\n",
            "video 1/1 (frame 1100/1501) /content/Security camera inside Pepper Grill restaurant.mp4: 384x640 1 chair, 5 customers, 6 tables, 9.9ms\n",
            "video 1/1 (frame 1101/1501) /content/Security camera inside Pepper Grill restaurant.mp4: 384x640 1 chair, 5 customers, 6 tables, 7.0ms\n",
            "video 1/1 (frame 1102/1501) /content/Security camera inside Pepper Grill restaurant.mp4: 384x640 2 chairs, 5 customers, 6 tables, 6.6ms\n",
            "video 1/1 (frame 1103/1501) /content/Security camera inside Pepper Grill restaurant.mp4: 384x640 3 chairs, 5 customers, 6 tables, 8.9ms\n",
            "video 1/1 (frame 1104/1501) /content/Security camera inside Pepper Grill restaurant.mp4: 384x640 3 chairs, 5 customers, 6 tables, 6.6ms\n",
            "video 1/1 (frame 1105/1501) /content/Security camera inside Pepper Grill restaurant.mp4: 384x640 3 chairs, 6 customers, 6 tables, 6.6ms\n",
            "video 1/1 (frame 1106/1501) /content/Security camera inside Pepper Grill restaurant.mp4: 384x640 3 chairs, 5 customers, 6 tables, 6.6ms\n",
            "video 1/1 (frame 1107/1501) /content/Security camera inside Pepper Grill restaurant.mp4: 384x640 3 chairs, 5 customers, 5 tables, 8.6ms\n",
            "video 1/1 (frame 1108/1501) /content/Security camera inside Pepper Grill restaurant.mp4: 384x640 3 chairs, 5 customers, 5 tables, 8.3ms\n",
            "video 1/1 (frame 1109/1501) /content/Security camera inside Pepper Grill restaurant.mp4: 384x640 3 chairs, 5 customers, 5 tables, 6.6ms\n",
            "video 1/1 (frame 1110/1501) /content/Security camera inside Pepper Grill restaurant.mp4: 384x640 3 chairs, 5 customers, 5 tables, 8.6ms\n",
            "video 1/1 (frame 1111/1501) /content/Security camera inside Pepper Grill restaurant.mp4: 384x640 3 chairs, 5 customers, 5 tables, 10.6ms\n",
            "video 1/1 (frame 1112/1501) /content/Security camera inside Pepper Grill restaurant.mp4: 384x640 3 chairs, 5 customers, 6 tables, 8.5ms\n",
            "video 1/1 (frame 1113/1501) /content/Security camera inside Pepper Grill restaurant.mp4: 384x640 3 chairs, 5 customers, 6 tables, 6.6ms\n",
            "video 1/1 (frame 1114/1501) /content/Security camera inside Pepper Grill restaurant.mp4: 384x640 3 chairs, 5 customers, 6 tables, 10.6ms\n",
            "video 1/1 (frame 1115/1501) /content/Security camera inside Pepper Grill restaurant.mp4: 384x640 3 chairs, 5 customers, 6 tables, 7.6ms\n",
            "video 1/1 (frame 1116/1501) /content/Security camera inside Pepper Grill restaurant.mp4: 384x640 3 chairs, 5 customers, 6 tables, 10.6ms\n",
            "video 1/1 (frame 1117/1501) /content/Security camera inside Pepper Grill restaurant.mp4: 384x640 3 chairs, 6 customers, 6 tables, 10.6ms\n",
            "video 1/1 (frame 1118/1501) /content/Security camera inside Pepper Grill restaurant.mp4: 384x640 3 chairs, 6 customers, 6 tables, 6.6ms\n",
            "video 1/1 (frame 1119/1501) /content/Security camera inside Pepper Grill restaurant.mp4: 384x640 3 chairs, 6 customers, 6 tables, 6.6ms\n",
            "video 1/1 (frame 1120/1501) /content/Security camera inside Pepper Grill restaurant.mp4: 384x640 3 chairs, 6 customers, 6 tables, 6.9ms\n",
            "video 1/1 (frame 1121/1501) /content/Security camera inside Pepper Grill restaurant.mp4: 384x640 3 chairs, 6 customers, 6 tables, 8.6ms\n",
            "video 1/1 (frame 1122/1501) /content/Security camera inside Pepper Grill restaurant.mp4: 384x640 3 chairs, 6 customers, 6 tables, 7.1ms\n",
            "video 1/1 (frame 1123/1501) /content/Security camera inside Pepper Grill restaurant.mp4: 384x640 3 chairs, 6 customers, 6 tables, 8.0ms\n",
            "video 1/1 (frame 1124/1501) /content/Security camera inside Pepper Grill restaurant.mp4: 384x640 3 chairs, 6 customers, 6 tables, 7.7ms\n",
            "video 1/1 (frame 1125/1501) /content/Security camera inside Pepper Grill restaurant.mp4: 384x640 3 chairs, 6 customers, 7 tables, 8.0ms\n",
            "video 1/1 (frame 1126/1501) /content/Security camera inside Pepper Grill restaurant.mp4: 384x640 3 chairs, 6 customers, 7 tables, 10.1ms\n",
            "video 1/1 (frame 1127/1501) /content/Security camera inside Pepper Grill restaurant.mp4: 384x640 3 chairs, 6 customers, 7 tables, 8.2ms\n",
            "video 1/1 (frame 1128/1501) /content/Security camera inside Pepper Grill restaurant.mp4: 384x640 3 chairs, 6 customers, 7 tables, 9.0ms\n",
            "video 1/1 (frame 1129/1501) /content/Security camera inside Pepper Grill restaurant.mp4: 384x640 3 chairs, 6 customers, 7 tables, 9.3ms\n",
            "video 1/1 (frame 1130/1501) /content/Security camera inside Pepper Grill restaurant.mp4: 384x640 4 chairs, 5 customers, 7 tables, 8.8ms\n",
            "video 1/1 (frame 1131/1501) /content/Security camera inside Pepper Grill restaurant.mp4: 384x640 4 chairs, 5 customers, 7 tables, 8.7ms\n",
            "video 1/1 (frame 1132/1501) /content/Security camera inside Pepper Grill restaurant.mp4: 384x640 4 chairs, 5 customers, 7 tables, 7.5ms\n",
            "video 1/1 (frame 1133/1501) /content/Security camera inside Pepper Grill restaurant.mp4: 384x640 4 chairs, 6 customers, 7 tables, 12.3ms\n",
            "video 1/1 (frame 1134/1501) /content/Security camera inside Pepper Grill restaurant.mp4: 384x640 4 chairs, 6 customers, 7 tables, 11.2ms\n",
            "video 1/1 (frame 1135/1501) /content/Security camera inside Pepper Grill restaurant.mp4: 384x640 3 chairs, 7 customers, 6 tables, 6.9ms\n",
            "video 1/1 (frame 1136/1501) /content/Security camera inside Pepper Grill restaurant.mp4: 384x640 3 chairs, 7 customers, 6 tables, 6.5ms\n",
            "video 1/1 (frame 1137/1501) /content/Security camera inside Pepper Grill restaurant.mp4: 384x640 4 chairs, 5 customers, 6 tables, 6.8ms\n",
            "video 1/1 (frame 1138/1501) /content/Security camera inside Pepper Grill restaurant.mp4: 384x640 3 chairs, 5 customers, 6 tables, 9.3ms\n",
            "video 1/1 (frame 1139/1501) /content/Security camera inside Pepper Grill restaurant.mp4: 384x640 3 chairs, 5 customers, 6 tables, 7.3ms\n",
            "video 1/1 (frame 1140/1501) /content/Security camera inside Pepper Grill restaurant.mp4: 384x640 3 chairs, 5 customers, 5 tables, 6.5ms\n",
            "video 1/1 (frame 1141/1501) /content/Security camera inside Pepper Grill restaurant.mp4: 384x640 3 chairs, 5 customers, 5 tables, 8.3ms\n",
            "video 1/1 (frame 1142/1501) /content/Security camera inside Pepper Grill restaurant.mp4: 384x640 3 chairs, 5 customers, 5 tables, 9.3ms\n",
            "video 1/1 (frame 1143/1501) /content/Security camera inside Pepper Grill restaurant.mp4: 384x640 3 chairs, 5 customers, 5 tables, 6.4ms\n",
            "video 1/1 (frame 1144/1501) /content/Security camera inside Pepper Grill restaurant.mp4: 384x640 3 chairs, 5 customers, 5 tables, 7.7ms\n",
            "video 1/1 (frame 1145/1501) /content/Security camera inside Pepper Grill restaurant.mp4: 384x640 3 chairs, 5 customers, 5 tables, 6.5ms\n",
            "video 1/1 (frame 1146/1501) /content/Security camera inside Pepper Grill restaurant.mp4: 384x640 3 chairs, 5 customers, 5 tables, 8.8ms\n",
            "video 1/1 (frame 1147/1501) /content/Security camera inside Pepper Grill restaurant.mp4: 384x640 3 chairs, 5 customers, 5 tables, 6.6ms\n",
            "video 1/1 (frame 1148/1501) /content/Security camera inside Pepper Grill restaurant.mp4: 384x640 3 chairs, 5 customers, 5 tables, 9.2ms\n",
            "video 1/1 (frame 1149/1501) /content/Security camera inside Pepper Grill restaurant.mp4: 384x640 3 chairs, 4 customers, 5 tables, 6.6ms\n",
            "video 1/1 (frame 1150/1501) /content/Security camera inside Pepper Grill restaurant.mp4: 384x640 3 chairs, 4 customers, 5 tables, 8.7ms\n",
            "video 1/1 (frame 1151/1501) /content/Security camera inside Pepper Grill restaurant.mp4: 384x640 3 chairs, 4 customers, 5 tables, 6.6ms\n",
            "video 1/1 (frame 1152/1501) /content/Security camera inside Pepper Grill restaurant.mp4: 384x640 3 chairs, 4 customers, 5 tables, 8.8ms\n",
            "video 1/1 (frame 1153/1501) /content/Security camera inside Pepper Grill restaurant.mp4: 384x640 3 chairs, 4 customers, 5 tables, 6.3ms\n",
            "video 1/1 (frame 1154/1501) /content/Security camera inside Pepper Grill restaurant.mp4: 384x640 3 chairs, 4 customers, 5 tables, 7.4ms\n",
            "video 1/1 (frame 1155/1501) /content/Security camera inside Pepper Grill restaurant.mp4: 384x640 3 chairs, 4 customers, 5 tables, 6.3ms\n",
            "video 1/1 (frame 1156/1501) /content/Security camera inside Pepper Grill restaurant.mp4: 384x640 3 chairs, 4 customers, 5 tables, 6.4ms\n",
            "video 1/1 (frame 1157/1501) /content/Security camera inside Pepper Grill restaurant.mp4: 384x640 3 chairs, 4 customers, 5 tables, 6.4ms\n",
            "video 1/1 (frame 1158/1501) /content/Security camera inside Pepper Grill restaurant.mp4: 384x640 2 chairs, 4 customers, 5 tables, 6.5ms\n",
            "video 1/1 (frame 1159/1501) /content/Security camera inside Pepper Grill restaurant.mp4: 384x640 2 chairs, 4 customers, 5 tables, 14.6ms\n",
            "video 1/1 (frame 1160/1501) /content/Security camera inside Pepper Grill restaurant.mp4: 384x640 2 chairs, 4 customers, 5 tables, 7.9ms\n",
            "video 1/1 (frame 1161/1501) /content/Security camera inside Pepper Grill restaurant.mp4: 384x640 2 chairs, 4 customers, 5 tables, 8.2ms\n",
            "video 1/1 (frame 1162/1501) /content/Security camera inside Pepper Grill restaurant.mp4: 384x640 2 chairs, 4 customers, 5 tables, 9.4ms\n",
            "video 1/1 (frame 1163/1501) /content/Security camera inside Pepper Grill restaurant.mp4: 384x640 2 chairs, 4 customers, 5 tables, 8.0ms\n",
            "video 1/1 (frame 1164/1501) /content/Security camera inside Pepper Grill restaurant.mp4: 384x640 2 chairs, 4 customers, 5 tables, 7.3ms\n",
            "video 1/1 (frame 1165/1501) /content/Security camera inside Pepper Grill restaurant.mp4: 384x640 3 chairs, 4 customers, 5 tables, 6.9ms\n",
            "video 1/1 (frame 1166/1501) /content/Security camera inside Pepper Grill restaurant.mp4: 384x640 3 chairs, 4 customers, 5 tables, 7.7ms\n",
            "video 1/1 (frame 1167/1501) /content/Security camera inside Pepper Grill restaurant.mp4: 384x640 3 chairs, 4 customers, 5 tables, 8.3ms\n",
            "video 1/1 (frame 1168/1501) /content/Security camera inside Pepper Grill restaurant.mp4: 384x640 3 chairs, 4 customers, 5 tables, 6.7ms\n",
            "video 1/1 (frame 1169/1501) /content/Security camera inside Pepper Grill restaurant.mp4: 384x640 3 chairs, 4 customers, 5 tables, 6.5ms\n",
            "video 1/1 (frame 1170/1501) /content/Security camera inside Pepper Grill restaurant.mp4: 384x640 2 chairs, 5 customers, 5 tables, 8.9ms\n",
            "video 1/1 (frame 1171/1501) /content/Security camera inside Pepper Grill restaurant.mp4: 384x640 2 chairs, 5 customers, 5 tables, 6.7ms\n",
            "video 1/1 (frame 1172/1501) /content/Security camera inside Pepper Grill restaurant.mp4: 384x640 2 chairs, 5 customers, 5 tables, 9.7ms\n",
            "video 1/1 (frame 1173/1501) /content/Security camera inside Pepper Grill restaurant.mp4: 384x640 2 chairs, 5 customers, 5 tables, 6.4ms\n",
            "video 1/1 (frame 1174/1501) /content/Security camera inside Pepper Grill restaurant.mp4: 384x640 2 chairs, 5 customers, 5 tables, 6.6ms\n",
            "video 1/1 (frame 1175/1501) /content/Security camera inside Pepper Grill restaurant.mp4: 384x640 2 chairs, 5 customers, 5 tables, 7.3ms\n",
            "video 1/1 (frame 1176/1501) /content/Security camera inside Pepper Grill restaurant.mp4: 384x640 2 chairs, 5 customers, 5 tables, 6.3ms\n",
            "video 1/1 (frame 1177/1501) /content/Security camera inside Pepper Grill restaurant.mp4: 384x640 2 chairs, 5 customers, 5 tables, 6.8ms\n",
            "video 1/1 (frame 1178/1501) /content/Security camera inside Pepper Grill restaurant.mp4: 384x640 2 chairs, 5 customers, 5 tables, 7.2ms\n",
            "video 1/1 (frame 1179/1501) /content/Security camera inside Pepper Grill restaurant.mp4: 384x640 2 chairs, 5 customers, 5 tables, 6.5ms\n",
            "video 1/1 (frame 1180/1501) /content/Security camera inside Pepper Grill restaurant.mp4: 384x640 2 chairs, 5 customers, 5 tables, 6.4ms\n",
            "video 1/1 (frame 1181/1501) /content/Security camera inside Pepper Grill restaurant.mp4: 384x640 2 chairs, 5 customers, 5 tables, 8.2ms\n",
            "video 1/1 (frame 1182/1501) /content/Security camera inside Pepper Grill restaurant.mp4: 384x640 2 chairs, 5 customers, 5 tables, 7.5ms\n",
            "video 1/1 (frame 1183/1501) /content/Security camera inside Pepper Grill restaurant.mp4: 384x640 3 chairs, 6 customers, 5 tables, 8.4ms\n",
            "video 1/1 (frame 1184/1501) /content/Security camera inside Pepper Grill restaurant.mp4: 384x640 3 chairs, 6 customers, 5 tables, 6.4ms\n",
            "video 1/1 (frame 1185/1501) /content/Security camera inside Pepper Grill restaurant.mp4: 384x640 3 chairs, 5 customers, 5 tables, 6.3ms\n",
            "video 1/1 (frame 1186/1501) /content/Security camera inside Pepper Grill restaurant.mp4: 384x640 3 chairs, 5 customers, 5 tables, 7.8ms\n",
            "video 1/1 (frame 1187/1501) /content/Security camera inside Pepper Grill restaurant.mp4: 384x640 3 chairs, 5 customers, 5 tables, 6.5ms\n",
            "video 1/1 (frame 1188/1501) /content/Security camera inside Pepper Grill restaurant.mp4: 384x640 3 chairs, 5 customers, 5 tables, 6.7ms\n",
            "video 1/1 (frame 1189/1501) /content/Security camera inside Pepper Grill restaurant.mp4: 384x640 3 chairs, 5 customers, 5 tables, 13.3ms\n",
            "video 1/1 (frame 1190/1501) /content/Security camera inside Pepper Grill restaurant.mp4: 384x640 2 chairs, 5 customers, 5 tables, 9.1ms\n",
            "video 1/1 (frame 1191/1501) /content/Security camera inside Pepper Grill restaurant.mp4: 384x640 3 chairs, 5 customers, 5 tables, 6.4ms\n",
            "video 1/1 (frame 1192/1501) /content/Security camera inside Pepper Grill restaurant.mp4: 384x640 3 chairs, 5 customers, 5 tables, 7.2ms\n",
            "video 1/1 (frame 1193/1501) /content/Security camera inside Pepper Grill restaurant.mp4: 384x640 3 chairs, 5 customers, 5 tables, 9.1ms\n",
            "video 1/1 (frame 1194/1501) /content/Security camera inside Pepper Grill restaurant.mp4: 384x640 3 chairs, 5 customers, 5 tables, 11.3ms\n",
            "video 1/1 (frame 1195/1501) /content/Security camera inside Pepper Grill restaurant.mp4: 384x640 2 chairs, 6 customers, 5 tables, 6.3ms\n",
            "video 1/1 (frame 1196/1501) /content/Security camera inside Pepper Grill restaurant.mp4: 384x640 2 chairs, 6 customers, 5 tables, 7.7ms\n",
            "video 1/1 (frame 1197/1501) /content/Security camera inside Pepper Grill restaurant.mp4: 384x640 2 chairs, 6 customers, 5 tables, 6.5ms\n",
            "video 1/1 (frame 1198/1501) /content/Security camera inside Pepper Grill restaurant.mp4: 384x640 2 chairs, 6 customers, 5 tables, 8.3ms\n",
            "video 1/1 (frame 1199/1501) /content/Security camera inside Pepper Grill restaurant.mp4: 384x640 2 chairs, 6 customers, 5 tables, 7.2ms\n",
            "video 1/1 (frame 1200/1501) /content/Security camera inside Pepper Grill restaurant.mp4: 384x640 2 chairs, 6 customers, 5 tables, 6.6ms\n",
            "video 1/1 (frame 1201/1501) /content/Security camera inside Pepper Grill restaurant.mp4: 384x640 2 chairs, 6 customers, 5 tables, 6.8ms\n",
            "video 1/1 (frame 1202/1501) /content/Security camera inside Pepper Grill restaurant.mp4: 384x640 2 chairs, 8 customers, 5 tables, 6.8ms\n",
            "video 1/1 (frame 1203/1501) /content/Security camera inside Pepper Grill restaurant.mp4: 384x640 2 chairs, 8 customers, 5 tables, 6.6ms\n",
            "video 1/1 (frame 1204/1501) /content/Security camera inside Pepper Grill restaurant.mp4: 384x640 2 chairs, 8 customers, 5 tables, 8.1ms\n",
            "video 1/1 (frame 1205/1501) /content/Security camera inside Pepper Grill restaurant.mp4: 384x640 2 chairs, 6 customers, 5 tables, 6.4ms\n",
            "video 1/1 (frame 1206/1501) /content/Security camera inside Pepper Grill restaurant.mp4: 384x640 2 chairs, 6 customers, 5 tables, 7.1ms\n",
            "video 1/1 (frame 1207/1501) /content/Security camera inside Pepper Grill restaurant.mp4: 384x640 2 chairs, 7 customers, 5 tables, 6.4ms\n",
            "video 1/1 (frame 1208/1501) /content/Security camera inside Pepper Grill restaurant.mp4: 384x640 2 chairs, 7 customers, 5 tables, 6.5ms\n",
            "video 1/1 (frame 1209/1501) /content/Security camera inside Pepper Grill restaurant.mp4: 384x640 2 chairs, 7 customers, 5 tables, 7.1ms\n",
            "video 1/1 (frame 1210/1501) /content/Security camera inside Pepper Grill restaurant.mp4: 384x640 2 chairs, 7 customers, 5 tables, 7.1ms\n",
            "video 1/1 (frame 1211/1501) /content/Security camera inside Pepper Grill restaurant.mp4: 384x640 2 chairs, 7 customers, 5 tables, 6.6ms\n",
            "video 1/1 (frame 1212/1501) /content/Security camera inside Pepper Grill restaurant.mp4: 384x640 2 chairs, 7 customers, 5 tables, 7.1ms\n",
            "video 1/1 (frame 1213/1501) /content/Security camera inside Pepper Grill restaurant.mp4: 384x640 2 chairs, 7 customers, 5 tables, 8.3ms\n",
            "video 1/1 (frame 1214/1501) /content/Security camera inside Pepper Grill restaurant.mp4: 384x640 2 chairs, 7 customers, 5 tables, 9.8ms\n",
            "video 1/1 (frame 1215/1501) /content/Security camera inside Pepper Grill restaurant.mp4: 384x640 2 chairs, 6 customers, 5 tables, 6.5ms\n",
            "video 1/1 (frame 1216/1501) /content/Security camera inside Pepper Grill restaurant.mp4: 384x640 2 chairs, 6 customers, 5 tables, 6.6ms\n",
            "video 1/1 (frame 1217/1501) /content/Security camera inside Pepper Grill restaurant.mp4: 384x640 2 chairs, 6 customers, 5 tables, 11.5ms\n",
            "video 1/1 (frame 1218/1501) /content/Security camera inside Pepper Grill restaurant.mp4: 384x640 2 chairs, 7 customers, 5 tables, 8.0ms\n",
            "video 1/1 (frame 1219/1501) /content/Security camera inside Pepper Grill restaurant.mp4: 384x640 2 chairs, 7 customers, 5 tables, 13.7ms\n",
            "video 1/1 (frame 1220/1501) /content/Security camera inside Pepper Grill restaurant.mp4: 384x640 2 chairs, 7 customers, 5 tables, 7.3ms\n",
            "video 1/1 (frame 1221/1501) /content/Security camera inside Pepper Grill restaurant.mp4: 384x640 2 chairs, 7 customers, 5 tables, 8.2ms\n",
            "video 1/1 (frame 1222/1501) /content/Security camera inside Pepper Grill restaurant.mp4: 384x640 2 chairs, 7 customers, 5 tables, 7.9ms\n",
            "video 1/1 (frame 1223/1501) /content/Security camera inside Pepper Grill restaurant.mp4: 384x640 2 chairs, 7 customers, 5 tables, 7.5ms\n",
            "video 1/1 (frame 1224/1501) /content/Security camera inside Pepper Grill restaurant.mp4: 384x640 2 chairs, 7 customers, 5 tables, 9.0ms\n",
            "video 1/1 (frame 1225/1501) /content/Security camera inside Pepper Grill restaurant.mp4: 384x640 2 chairs, 7 customers, 5 tables, 6.6ms\n",
            "video 1/1 (frame 1226/1501) /content/Security camera inside Pepper Grill restaurant.mp4: 384x640 2 chairs, 7 customers, 5 tables, 6.7ms\n",
            "video 1/1 (frame 1227/1501) /content/Security camera inside Pepper Grill restaurant.mp4: 384x640 2 chairs, 7 customers, 5 tables, 7.0ms\n",
            "video 1/1 (frame 1228/1501) /content/Security camera inside Pepper Grill restaurant.mp4: 384x640 2 chairs, 7 customers, 5 tables, 6.5ms\n",
            "video 1/1 (frame 1229/1501) /content/Security camera inside Pepper Grill restaurant.mp4: 384x640 2 chairs, 7 customers, 5 tables, 8.1ms\n",
            "video 1/1 (frame 1230/1501) /content/Security camera inside Pepper Grill restaurant.mp4: 384x640 2 chairs, 7 customers, 5 tables, 7.5ms\n",
            "video 1/1 (frame 1231/1501) /content/Security camera inside Pepper Grill restaurant.mp4: 384x640 2 chairs, 7 customers, 5 tables, 6.9ms\n",
            "video 1/1 (frame 1232/1501) /content/Security camera inside Pepper Grill restaurant.mp4: 384x640 2 chairs, 8 customers, 5 tables, 6.5ms\n",
            "video 1/1 (frame 1233/1501) /content/Security camera inside Pepper Grill restaurant.mp4: 384x640 2 chairs, 8 customers, 5 tables, 6.8ms\n",
            "video 1/1 (frame 1234/1501) /content/Security camera inside Pepper Grill restaurant.mp4: 384x640 2 chairs, 8 customers, 5 tables, 6.9ms\n",
            "video 1/1 (frame 1235/1501) /content/Security camera inside Pepper Grill restaurant.mp4: 384x640 2 chairs, 7 customers, 5 tables, 6.2ms\n",
            "video 1/1 (frame 1236/1501) /content/Security camera inside Pepper Grill restaurant.mp4: 384x640 2 chairs, 7 customers, 5 tables, 6.3ms\n",
            "video 1/1 (frame 1237/1501) /content/Security camera inside Pepper Grill restaurant.mp4: 384x640 2 chairs, 6 customers, 5 tables, 8.3ms\n",
            "video 1/1 (frame 1238/1501) /content/Security camera inside Pepper Grill restaurant.mp4: 384x640 2 chairs, 7 customers, 5 tables, 7.4ms\n",
            "video 1/1 (frame 1239/1501) /content/Security camera inside Pepper Grill restaurant.mp4: 384x640 2 chairs, 7 customers, 5 tables, 9.5ms\n",
            "video 1/1 (frame 1240/1501) /content/Security camera inside Pepper Grill restaurant.mp4: 384x640 2 chairs, 7 customers, 5 tables, 9.3ms\n",
            "video 1/1 (frame 1241/1501) /content/Security camera inside Pepper Grill restaurant.mp4: 384x640 2 chairs, 7 customers, 5 tables, 8.1ms\n",
            "video 1/1 (frame 1242/1501) /content/Security camera inside Pepper Grill restaurant.mp4: 384x640 2 chairs, 7 customers, 5 tables, 10.9ms\n",
            "video 1/1 (frame 1243/1501) /content/Security camera inside Pepper Grill restaurant.mp4: 384x640 2 chairs, 7 customers, 5 tables, 12.1ms\n",
            "video 1/1 (frame 1244/1501) /content/Security camera inside Pepper Grill restaurant.mp4: 384x640 2 chairs, 7 customers, 5 tables, 6.7ms\n",
            "video 1/1 (frame 1245/1501) /content/Security camera inside Pepper Grill restaurant.mp4: 384x640 2 chairs, 7 customers, 5 tables, 11.0ms\n",
            "video 1/1 (frame 1246/1501) /content/Security camera inside Pepper Grill restaurant.mp4: 384x640 2 chairs, 7 customers, 5 tables, 6.6ms\n",
            "video 1/1 (frame 1247/1501) /content/Security camera inside Pepper Grill restaurant.mp4: 384x640 2 chairs, 7 customers, 5 tables, 10.5ms\n",
            "video 1/1 (frame 1248/1501) /content/Security camera inside Pepper Grill restaurant.mp4: 384x640 2 chairs, 6 customers, 5 tables, 8.6ms\n",
            "video 1/1 (frame 1249/1501) /content/Security camera inside Pepper Grill restaurant.mp4: 384x640 2 chairs, 6 customers, 5 tables, 8.2ms\n",
            "video 1/1 (frame 1250/1501) /content/Security camera inside Pepper Grill restaurant.mp4: 384x640 2 chairs, 7 customers, 4 tables, 8.6ms\n",
            "video 1/1 (frame 1251/1501) /content/Security camera inside Pepper Grill restaurant.mp4: 384x640 2 chairs, 7 customers, 5 tables, 11.2ms\n",
            "video 1/1 (frame 1252/1501) /content/Security camera inside Pepper Grill restaurant.mp4: 384x640 2 chairs, 7 customers, 5 tables, 6.5ms\n",
            "video 1/1 (frame 1253/1501) /content/Security camera inside Pepper Grill restaurant.mp4: 384x640 2 chairs, 7 customers, 5 tables, 7.1ms\n",
            "video 1/1 (frame 1254/1501) /content/Security camera inside Pepper Grill restaurant.mp4: 384x640 2 chairs, 7 customers, 5 tables, 8.0ms\n",
            "video 1/1 (frame 1255/1501) /content/Security camera inside Pepper Grill restaurant.mp4: 384x640 3 chairs, 6 customers, 5 tables, 9.7ms\n",
            "video 1/1 (frame 1256/1501) /content/Security camera inside Pepper Grill restaurant.mp4: 384x640 3 chairs, 6 customers, 5 tables, 8.3ms\n",
            "video 1/1 (frame 1257/1501) /content/Security camera inside Pepper Grill restaurant.mp4: 384x640 2 chairs, 4 customers, 5 tables, 7.0ms\n",
            "video 1/1 (frame 1258/1501) /content/Security camera inside Pepper Grill restaurant.mp4: 384x640 2 chairs, 4 customers, 5 tables, 8.1ms\n",
            "video 1/1 (frame 1259/1501) /content/Security camera inside Pepper Grill restaurant.mp4: 384x640 2 chairs, 4 customers, 5 tables, 6.9ms\n",
            "video 1/1 (frame 1260/1501) /content/Security camera inside Pepper Grill restaurant.mp4: 384x640 2 chairs, 4 customers, 4 tables, 7.9ms\n",
            "video 1/1 (frame 1261/1501) /content/Security camera inside Pepper Grill restaurant.mp4: 384x640 2 chairs, 4 customers, 4 tables, 6.7ms\n",
            "video 1/1 (frame 1262/1501) /content/Security camera inside Pepper Grill restaurant.mp4: 384x640 2 chairs, 5 customers, 4 tables, 10.7ms\n",
            "video 1/1 (frame 1263/1501) /content/Security camera inside Pepper Grill restaurant.mp4: 384x640 2 chairs, 6 customers, 4 tables, 6.3ms\n",
            "video 1/1 (frame 1264/1501) /content/Security camera inside Pepper Grill restaurant.mp4: 384x640 2 chairs, 6 customers, 4 tables, 10.0ms\n",
            "video 1/1 (frame 1265/1501) /content/Security camera inside Pepper Grill restaurant.mp4: 384x640 2 chairs, 7 customers, 4 tables, 6.9ms\n",
            "video 1/1 (frame 1266/1501) /content/Security camera inside Pepper Grill restaurant.mp4: 384x640 2 chairs, 7 customers, 4 tables, 6.4ms\n",
            "video 1/1 (frame 1267/1501) /content/Security camera inside Pepper Grill restaurant.mp4: 384x640 2 chairs, 7 customers, 4 tables, 9.8ms\n",
            "video 1/1 (frame 1268/1501) /content/Security camera inside Pepper Grill restaurant.mp4: 384x640 2 chairs, 7 customers, 5 tables, 8.8ms\n",
            "video 1/1 (frame 1269/1501) /content/Security camera inside Pepper Grill restaurant.mp4: 384x640 2 chairs, 7 customers, 5 tables, 10.4ms\n",
            "video 1/1 (frame 1270/1501) /content/Security camera inside Pepper Grill restaurant.mp4: 384x640 2 chairs, 7 customers, 5 tables, 11.0ms\n",
            "video 1/1 (frame 1271/1501) /content/Security camera inside Pepper Grill restaurant.mp4: 384x640 2 chairs, 7 customers, 5 tables, 12.6ms\n",
            "video 1/1 (frame 1272/1501) /content/Security camera inside Pepper Grill restaurant.mp4: 384x640 2 chairs, 7 customers, 5 tables, 9.0ms\n",
            "video 1/1 (frame 1273/1501) /content/Security camera inside Pepper Grill restaurant.mp4: 384x640 2 chairs, 8 customers, 5 tables, 8.6ms\n",
            "video 1/1 (frame 1274/1501) /content/Security camera inside Pepper Grill restaurant.mp4: 384x640 2 chairs, 8 customers, 5 tables, 12.9ms\n",
            "video 1/1 (frame 1275/1501) /content/Security camera inside Pepper Grill restaurant.mp4: 384x640 2 chairs, 8 customers, 6 tables, 12.2ms\n",
            "video 1/1 (frame 1276/1501) /content/Security camera inside Pepper Grill restaurant.mp4: 384x640 2 chairs, 8 customers, 6 tables, 14.4ms\n",
            "video 1/1 (frame 1277/1501) /content/Security camera inside Pepper Grill restaurant.mp4: 384x640 2 chairs, 8 customers, 6 tables, 14.0ms\n",
            "video 1/1 (frame 1278/1501) /content/Security camera inside Pepper Grill restaurant.mp4: 384x640 2 chairs, 7 customers, 6 tables, 11.3ms\n",
            "video 1/1 (frame 1279/1501) /content/Security camera inside Pepper Grill restaurant.mp4: 384x640 2 chairs, 7 customers, 6 tables, 10.0ms\n",
            "video 1/1 (frame 1280/1501) /content/Security camera inside Pepper Grill restaurant.mp4: 384x640 2 chairs, 7 customers, 6 tables, 10.6ms\n",
            "video 1/1 (frame 1281/1501) /content/Security camera inside Pepper Grill restaurant.mp4: 384x640 2 chairs, 7 customers, 6 tables, 8.3ms\n",
            "video 1/1 (frame 1282/1501) /content/Security camera inside Pepper Grill restaurant.mp4: 384x640 2 chairs, 7 customers, 6 tables, 11.0ms\n",
            "video 1/1 (frame 1283/1501) /content/Security camera inside Pepper Grill restaurant.mp4: 384x640 2 chairs, 7 customers, 6 tables, 8.3ms\n",
            "video 1/1 (frame 1284/1501) /content/Security camera inside Pepper Grill restaurant.mp4: 384x640 2 chairs, 7 customers, 6 tables, 8.4ms\n",
            "video 1/1 (frame 1285/1501) /content/Security camera inside Pepper Grill restaurant.mp4: 384x640 2 chairs, 7 customers, 5 tables, 8.3ms\n",
            "video 1/1 (frame 1286/1501) /content/Security camera inside Pepper Grill restaurant.mp4: 384x640 2 chairs, 7 customers, 5 tables, 8.7ms\n",
            "video 1/1 (frame 1287/1501) /content/Security camera inside Pepper Grill restaurant.mp4: 384x640 2 chairs, 7 customers, 5 tables, 8.3ms\n",
            "video 1/1 (frame 1288/1501) /content/Security camera inside Pepper Grill restaurant.mp4: 384x640 2 chairs, 7 customers, 5 tables, 8.7ms\n",
            "video 1/1 (frame 1289/1501) /content/Security camera inside Pepper Grill restaurant.mp4: 384x640 2 chairs, 7 customers, 5 tables, 8.7ms\n",
            "video 1/1 (frame 1290/1501) /content/Security camera inside Pepper Grill restaurant.mp4: 384x640 2 chairs, 7 customers, 5 tables, 8.7ms\n",
            "video 1/1 (frame 1291/1501) /content/Security camera inside Pepper Grill restaurant.mp4: 384x640 2 chairs, 7 customers, 5 tables, 9.2ms\n",
            "video 1/1 (frame 1292/1501) /content/Security camera inside Pepper Grill restaurant.mp4: 384x640 2 chairs, 7 customers, 5 tables, 10.1ms\n",
            "video 1/1 (frame 1293/1501) /content/Security camera inside Pepper Grill restaurant.mp4: 384x640 2 chairs, 7 customers, 5 tables, 7.9ms\n",
            "video 1/1 (frame 1294/1501) /content/Security camera inside Pepper Grill restaurant.mp4: 384x640 2 chairs, 6 customers, 5 tables, 8.0ms\n",
            "video 1/1 (frame 1295/1501) /content/Security camera inside Pepper Grill restaurant.mp4: 384x640 2 chairs, 6 customers, 5 tables, 10.7ms\n",
            "video 1/1 (frame 1296/1501) /content/Security camera inside Pepper Grill restaurant.mp4: 384x640 2 chairs, 6 customers, 5 tables, 8.1ms\n",
            "video 1/1 (frame 1297/1501) /content/Security camera inside Pepper Grill restaurant.mp4: 384x640 2 chairs, 7 customers, 5 tables, 9.3ms\n",
            "video 1/1 (frame 1298/1501) /content/Security camera inside Pepper Grill restaurant.mp4: 384x640 2 chairs, 7 customers, 5 tables, 8.0ms\n",
            "video 1/1 (frame 1299/1501) /content/Security camera inside Pepper Grill restaurant.mp4: 384x640 2 chairs, 6 customers, 5 tables, 7.8ms\n",
            "video 1/1 (frame 1300/1501) /content/Security camera inside Pepper Grill restaurant.mp4: 384x640 2 chairs, 6 customers, 5 tables, 12.3ms\n",
            "video 1/1 (frame 1301/1501) /content/Security camera inside Pepper Grill restaurant.mp4: 384x640 2 chairs, 6 customers, 5 tables, 9.6ms\n",
            "video 1/1 (frame 1302/1501) /content/Security camera inside Pepper Grill restaurant.mp4: 384x640 2 chairs, 6 customers, 5 tables, 8.1ms\n",
            "video 1/1 (frame 1303/1501) /content/Security camera inside Pepper Grill restaurant.mp4: 384x640 2 chairs, 7 customers, 5 tables, 7.9ms\n",
            "video 1/1 (frame 1304/1501) /content/Security camera inside Pepper Grill restaurant.mp4: 384x640 2 chairs, 7 customers, 5 tables, 11.4ms\n",
            "video 1/1 (frame 1305/1501) /content/Security camera inside Pepper Grill restaurant.mp4: 384x640 2 chairs, 7 customers, 5 tables, 12.7ms\n",
            "video 1/1 (frame 1306/1501) /content/Security camera inside Pepper Grill restaurant.mp4: 384x640 2 chairs, 7 customers, 5 tables, 10.1ms\n",
            "video 1/1 (frame 1307/1501) /content/Security camera inside Pepper Grill restaurant.mp4: 384x640 2 chairs, 7 customers, 5 tables, 11.2ms\n",
            "video 1/1 (frame 1308/1501) /content/Security camera inside Pepper Grill restaurant.mp4: 384x640 2 chairs, 6 customers, 5 tables, 14.5ms\n",
            "video 1/1 (frame 1309/1501) /content/Security camera inside Pepper Grill restaurant.mp4: 384x640 2 chairs, 6 customers, 5 tables, 8.1ms\n",
            "video 1/1 (frame 1310/1501) /content/Security camera inside Pepper Grill restaurant.mp4: 384x640 2 chairs, 5 customers, 5 tables, 10.4ms\n",
            "video 1/1 (frame 1311/1501) /content/Security camera inside Pepper Grill restaurant.mp4: 384x640 2 chairs, 5 customers, 5 tables, 13.8ms\n",
            "video 1/1 (frame 1312/1501) /content/Security camera inside Pepper Grill restaurant.mp4: 384x640 2 chairs, 5 customers, 5 tables, 16.8ms\n",
            "video 1/1 (frame 1313/1501) /content/Security camera inside Pepper Grill restaurant.mp4: 384x640 2 chairs, 5 customers, 5 tables, 14.3ms\n",
            "video 1/1 (frame 1314/1501) /content/Security camera inside Pepper Grill restaurant.mp4: 384x640 2 chairs, 5 customers, 5 tables, 8.8ms\n",
            "video 1/1 (frame 1315/1501) /content/Security camera inside Pepper Grill restaurant.mp4: 384x640 2 chairs, 7 customers, 5 tables, 10.9ms\n",
            "video 1/1 (frame 1316/1501) /content/Security camera inside Pepper Grill restaurant.mp4: 384x640 2 chairs, 7 customers, 5 tables, 14.7ms\n",
            "video 1/1 (frame 1317/1501) /content/Security camera inside Pepper Grill restaurant.mp4: 384x640 2 chairs, 7 customers, 5 tables, 13.1ms\n",
            "video 1/1 (frame 1318/1501) /content/Security camera inside Pepper Grill restaurant.mp4: 384x640 2 chairs, 7 customers, 5 tables, 13.3ms\n",
            "video 1/1 (frame 1319/1501) /content/Security camera inside Pepper Grill restaurant.mp4: 384x640 2 chairs, 7 customers, 6 tables, 12.1ms\n",
            "video 1/1 (frame 1320/1501) /content/Security camera inside Pepper Grill restaurant.mp4: 384x640 2 chairs, 7 customers, 6 tables, 9.8ms\n",
            "video 1/1 (frame 1321/1501) /content/Security camera inside Pepper Grill restaurant.mp4: 384x640 2 chairs, 7 customers, 6 tables, 7.8ms\n",
            "video 1/1 (frame 1322/1501) /content/Security camera inside Pepper Grill restaurant.mp4: 384x640 2 chairs, 6 customers, 6 tables, 6.6ms\n",
            "video 1/1 (frame 1323/1501) /content/Security camera inside Pepper Grill restaurant.mp4: 384x640 2 chairs, 6 customers, 6 tables, 10.3ms\n",
            "video 1/1 (frame 1324/1501) /content/Security camera inside Pepper Grill restaurant.mp4: 384x640 2 chairs, 6 customers, 6 tables, 7.2ms\n",
            "video 1/1 (frame 1325/1501) /content/Security camera inside Pepper Grill restaurant.mp4: 384x640 2 chairs, 6 customers, 6 tables, 6.8ms\n",
            "video 1/1 (frame 1326/1501) /content/Security camera inside Pepper Grill restaurant.mp4: 384x640 2 chairs, 6 customers, 6 tables, 6.4ms\n",
            "video 1/1 (frame 1327/1501) /content/Security camera inside Pepper Grill restaurant.mp4: 384x640 2 chairs, 6 customers, 6 tables, 9.3ms\n",
            "video 1/1 (frame 1328/1501) /content/Security camera inside Pepper Grill restaurant.mp4: 384x640 2 chairs, 6 customers, 6 tables, 6.5ms\n",
            "video 1/1 (frame 1329/1501) /content/Security camera inside Pepper Grill restaurant.mp4: 384x640 2 chairs, 5 customers, 6 tables, 6.4ms\n",
            "video 1/1 (frame 1330/1501) /content/Security camera inside Pepper Grill restaurant.mp4: 384x640 2 chairs, 5 customers, 6 tables, 6.3ms\n",
            "video 1/1 (frame 1331/1501) /content/Security camera inside Pepper Grill restaurant.mp4: 384x640 2 chairs, 5 customers, 6 tables, 8.4ms\n",
            "video 1/1 (frame 1332/1501) /content/Security camera inside Pepper Grill restaurant.mp4: 384x640 2 chairs, 5 customers, 6 tables, 6.7ms\n",
            "video 1/1 (frame 1333/1501) /content/Security camera inside Pepper Grill restaurant.mp4: 384x640 2 chairs, 6 customers, 6 tables, 8.7ms\n",
            "video 1/1 (frame 1334/1501) /content/Security camera inside Pepper Grill restaurant.mp4: 384x640 2 chairs, 6 customers, 6 tables, 6.8ms\n",
            "video 1/1 (frame 1335/1501) /content/Security camera inside Pepper Grill restaurant.mp4: 384x640 2 chairs, 6 customers, 6 tables, 7.3ms\n",
            "video 1/1 (frame 1336/1501) /content/Security camera inside Pepper Grill restaurant.mp4: 384x640 2 chairs, 6 customers, 6 tables, 6.4ms\n",
            "video 1/1 (frame 1337/1501) /content/Security camera inside Pepper Grill restaurant.mp4: 384x640 2 chairs, 6 customers, 6 tables, 7.0ms\n",
            "video 1/1 (frame 1338/1501) /content/Security camera inside Pepper Grill restaurant.mp4: 384x640 2 chairs, 5 customers, 6 tables, 7.3ms\n",
            "video 1/1 (frame 1339/1501) /content/Security camera inside Pepper Grill restaurant.mp4: 384x640 2 chairs, 5 customers, 6 tables, 9.4ms\n",
            "video 1/1 (frame 1340/1501) /content/Security camera inside Pepper Grill restaurant.mp4: 384x640 2 chairs, 5 customers, 6 tables, 8.2ms\n",
            "video 1/1 (frame 1341/1501) /content/Security camera inside Pepper Grill restaurant.mp4: 384x640 2 chairs, 5 customers, 6 tables, 6.6ms\n",
            "video 1/1 (frame 1342/1501) /content/Security camera inside Pepper Grill restaurant.mp4: 384x640 2 chairs, 5 customers, 6 tables, 8.2ms\n",
            "video 1/1 (frame 1343/1501) /content/Security camera inside Pepper Grill restaurant.mp4: 384x640 3 chairs, 5 customers, 6 tables, 7.2ms\n",
            "video 1/1 (frame 1344/1501) /content/Security camera inside Pepper Grill restaurant.mp4: 384x640 3 chairs, 5 customers, 6 tables, 10.3ms\n",
            "video 1/1 (frame 1345/1501) /content/Security camera inside Pepper Grill restaurant.mp4: 384x640 2 chairs, 5 customers, 6 tables, 7.0ms\n",
            "video 1/1 (frame 1346/1501) /content/Security camera inside Pepper Grill restaurant.mp4: 384x640 2 chairs, 5 customers, 6 tables, 7.1ms\n",
            "video 1/1 (frame 1347/1501) /content/Security camera inside Pepper Grill restaurant.mp4: 384x640 2 chairs, 5 customers, 6 tables, 8.3ms\n",
            "video 1/1 (frame 1348/1501) /content/Security camera inside Pepper Grill restaurant.mp4: 384x640 2 chairs, 4 customers, 6 tables, 8.1ms\n",
            "video 1/1 (frame 1349/1501) /content/Security camera inside Pepper Grill restaurant.mp4: 384x640 2 chairs, 4 customers, 6 tables, 8.5ms\n",
            "video 1/1 (frame 1350/1501) /content/Security camera inside Pepper Grill restaurant.mp4: 384x640 3 chairs, 4 customers, 6 tables, 7.1ms\n",
            "video 1/1 (frame 1351/1501) /content/Security camera inside Pepper Grill restaurant.mp4: 384x640 3 chairs, 4 customers, 6 tables, 7.0ms\n",
            "video 1/1 (frame 1352/1501) /content/Security camera inside Pepper Grill restaurant.mp4: 384x640 2 chairs, 4 customers, 6 tables, 6.9ms\n",
            "video 1/1 (frame 1353/1501) /content/Security camera inside Pepper Grill restaurant.mp4: 384x640 2 chairs, 4 customers, 6 tables, 6.8ms\n",
            "video 1/1 (frame 1354/1501) /content/Security camera inside Pepper Grill restaurant.mp4: 384x640 2 chairs, 4 customers, 6 tables, 8.4ms\n",
            "video 1/1 (frame 1355/1501) /content/Security camera inside Pepper Grill restaurant.mp4: 384x640 2 chairs, 4 customers, 6 tables, 7.4ms\n",
            "video 1/1 (frame 1356/1501) /content/Security camera inside Pepper Grill restaurant.mp4: 384x640 2 chairs, 4 customers, 6 tables, 6.5ms\n",
            "video 1/1 (frame 1357/1501) /content/Security camera inside Pepper Grill restaurant.mp4: 384x640 2 chairs, 4 customers, 6 tables, 6.2ms\n",
            "video 1/1 (frame 1358/1501) /content/Security camera inside Pepper Grill restaurant.mp4: 384x640 2 chairs, 4 customers, 6 tables, 7.9ms\n",
            "video 1/1 (frame 1359/1501) /content/Security camera inside Pepper Grill restaurant.mp4: 384x640 3 chairs, 4 customers, 6 tables, 6.6ms\n",
            "video 1/1 (frame 1360/1501) /content/Security camera inside Pepper Grill restaurant.mp4: 384x640 3 chairs, 4 customers, 6 tables, 6.3ms\n",
            "video 1/1 (frame 1361/1501) /content/Security camera inside Pepper Grill restaurant.mp4: 384x640 3 chairs, 4 customers, 6 tables, 8.6ms\n",
            "video 1/1 (frame 1362/1501) /content/Security camera inside Pepper Grill restaurant.mp4: 384x640 3 chairs, 4 customers, 6 tables, 6.5ms\n",
            "video 1/1 (frame 1363/1501) /content/Security camera inside Pepper Grill restaurant.mp4: 384x640 3 chairs, 4 customers, 5 tables, 6.4ms\n",
            "video 1/1 (frame 1364/1501) /content/Security camera inside Pepper Grill restaurant.mp4: 384x640 3 chairs, 4 customers, 5 tables, 7.2ms\n",
            "video 1/1 (frame 1365/1501) /content/Security camera inside Pepper Grill restaurant.mp4: 384x640 3 chairs, 4 customers, 5 tables, 6.3ms\n",
            "video 1/1 (frame 1366/1501) /content/Security camera inside Pepper Grill restaurant.mp4: 384x640 3 chairs, 4 customers, 5 tables, 7.8ms\n",
            "video 1/1 (frame 1367/1501) /content/Security camera inside Pepper Grill restaurant.mp4: 384x640 3 chairs, 4 customers, 5 tables, 6.6ms\n",
            "video 1/1 (frame 1368/1501) /content/Security camera inside Pepper Grill restaurant.mp4: 384x640 3 chairs, 4 customers, 5 tables, 8.4ms\n",
            "video 1/1 (frame 1369/1501) /content/Security camera inside Pepper Grill restaurant.mp4: 384x640 3 chairs, 4 customers, 5 tables, 9.4ms\n",
            "video 1/1 (frame 1370/1501) /content/Security camera inside Pepper Grill restaurant.mp4: 384x640 3 chairs, 4 customers, 5 tables, 6.3ms\n",
            "video 1/1 (frame 1371/1501) /content/Security camera inside Pepper Grill restaurant.mp4: 384x640 3 chairs, 4 customers, 5 tables, 7.0ms\n",
            "video 1/1 (frame 1372/1501) /content/Security camera inside Pepper Grill restaurant.mp4: 384x640 3 chairs, 4 customers, 5 tables, 7.1ms\n",
            "video 1/1 (frame 1373/1501) /content/Security camera inside Pepper Grill restaurant.mp4: 384x640 3 chairs, 4 customers, 5 tables, 8.2ms\n",
            "video 1/1 (frame 1374/1501) /content/Security camera inside Pepper Grill restaurant.mp4: 384x640 3 chairs, 4 customers, 5 tables, 6.7ms\n",
            "video 1/1 (frame 1375/1501) /content/Security camera inside Pepper Grill restaurant.mp4: 384x640 3 chairs, 4 customers, 5 tables, 7.5ms\n",
            "video 1/1 (frame 1376/1501) /content/Security camera inside Pepper Grill restaurant.mp4: 384x640 3 chairs, 4 customers, 5 tables, 6.6ms\n",
            "video 1/1 (frame 1377/1501) /content/Security camera inside Pepper Grill restaurant.mp4: 384x640 3 chairs, 5 customers, 5 tables, 6.7ms\n",
            "video 1/1 (frame 1378/1501) /content/Security camera inside Pepper Grill restaurant.mp4: 384x640 3 chairs, 5 customers, 5 tables, 6.5ms\n",
            "video 1/1 (frame 1379/1501) /content/Security camera inside Pepper Grill restaurant.mp4: 384x640 3 chairs, 5 customers, 5 tables, 7.9ms\n",
            "video 1/1 (frame 1380/1501) /content/Security camera inside Pepper Grill restaurant.mp4: 384x640 3 chairs, 5 customers, 5 tables, 6.4ms\n",
            "video 1/1 (frame 1381/1501) /content/Security camera inside Pepper Grill restaurant.mp4: 384x640 3 chairs, 5 customers, 5 tables, 6.6ms\n",
            "video 1/1 (frame 1382/1501) /content/Security camera inside Pepper Grill restaurant.mp4: 384x640 3 chairs, 5 customers, 5 tables, 7.3ms\n",
            "video 1/1 (frame 1383/1501) /content/Security camera inside Pepper Grill restaurant.mp4: 384x640 3 chairs, 5 customers, 5 tables, 7.2ms\n",
            "video 1/1 (frame 1384/1501) /content/Security camera inside Pepper Grill restaurant.mp4: 384x640 3 chairs, 5 customers, 6 tables, 7.7ms\n",
            "video 1/1 (frame 1385/1501) /content/Security camera inside Pepper Grill restaurant.mp4: 384x640 3 chairs, 5 customers, 6 tables, 6.5ms\n",
            "video 1/1 (frame 1386/1501) /content/Security camera inside Pepper Grill restaurant.mp4: 384x640 3 chairs, 5 customers, 5 tables, 10.4ms\n",
            "video 1/1 (frame 1387/1501) /content/Security camera inside Pepper Grill restaurant.mp4: 384x640 2 chairs, 4 customers, 6 tables, 6.7ms\n",
            "video 1/1 (frame 1388/1501) /content/Security camera inside Pepper Grill restaurant.mp4: 384x640 2 chairs, 4 customers, 7 tables, 11.0ms\n",
            "video 1/1 (frame 1389/1501) /content/Security camera inside Pepper Grill restaurant.mp4: 384x640 3 chairs, 6 customers, 6 tables, 6.7ms\n",
            "video 1/1 (frame 1390/1501) /content/Security camera inside Pepper Grill restaurant.mp4: 384x640 2 chairs, 6 customers, 6 tables, 10.4ms\n",
            "video 1/1 (frame 1391/1501) /content/Security camera inside Pepper Grill restaurant.mp4: 384x640 2 chairs, 6 customers, 6 tables, 8.5ms\n",
            "video 1/1 (frame 1392/1501) /content/Security camera inside Pepper Grill restaurant.mp4: 384x640 2 chairs, 6 customers, 6 tables, 12.4ms\n",
            "video 1/1 (frame 1393/1501) /content/Security camera inside Pepper Grill restaurant.mp4: 384x640 1 chair, 5 customers, 6 tables, 6.9ms\n",
            "video 1/1 (frame 1394/1501) /content/Security camera inside Pepper Grill restaurant.mp4: 384x640 1 chair, 6 customers, 6 tables, 9.0ms\n",
            "video 1/1 (frame 1395/1501) /content/Security camera inside Pepper Grill restaurant.mp4: 384x640 2 customers, 3 tables, 6.7ms\n",
            "video 1/1 (frame 1396/1501) /content/Security camera inside Pepper Grill restaurant.mp4: 384x640 (no detections), 18.4ms\n",
            "video 1/1 (frame 1397/1501) /content/Security camera inside Pepper Grill restaurant.mp4: 384x640 (no detections), 8.3ms\n",
            "video 1/1 (frame 1398/1501) /content/Security camera inside Pepper Grill restaurant.mp4: 384x640 (no detections), 7.3ms\n",
            "video 1/1 (frame 1399/1501) /content/Security camera inside Pepper Grill restaurant.mp4: 384x640 (no detections), 11.6ms\n",
            "video 1/1 (frame 1400/1501) /content/Security camera inside Pepper Grill restaurant.mp4: 384x640 (no detections), 8.5ms\n",
            "video 1/1 (frame 1401/1501) /content/Security camera inside Pepper Grill restaurant.mp4: 384x640 (no detections), 6.4ms\n",
            "video 1/1 (frame 1402/1501) /content/Security camera inside Pepper Grill restaurant.mp4: 384x640 (no detections), 8.8ms\n",
            "video 1/1 (frame 1403/1501) /content/Security camera inside Pepper Grill restaurant.mp4: 384x640 (no detections), 8.1ms\n",
            "video 1/1 (frame 1404/1501) /content/Security camera inside Pepper Grill restaurant.mp4: 384x640 (no detections), 8.8ms\n",
            "video 1/1 (frame 1405/1501) /content/Security camera inside Pepper Grill restaurant.mp4: 384x640 (no detections), 12.8ms\n",
            "video 1/1 (frame 1406/1501) /content/Security camera inside Pepper Grill restaurant.mp4: 384x640 (no detections), 9.7ms\n",
            "video 1/1 (frame 1407/1501) /content/Security camera inside Pepper Grill restaurant.mp4: 384x640 (no detections), 6.3ms\n",
            "video 1/1 (frame 1408/1501) /content/Security camera inside Pepper Grill restaurant.mp4: 384x640 (no detections), 9.3ms\n",
            "video 1/1 (frame 1409/1501) /content/Security camera inside Pepper Grill restaurant.mp4: 384x640 (no detections), 7.3ms\n",
            "video 1/1 (frame 1410/1501) /content/Security camera inside Pepper Grill restaurant.mp4: 384x640 (no detections), 8.8ms\n",
            "video 1/1 (frame 1411/1501) /content/Security camera inside Pepper Grill restaurant.mp4: 384x640 (no detections), 7.4ms\n",
            "video 1/1 (frame 1412/1501) /content/Security camera inside Pepper Grill restaurant.mp4: 384x640 (no detections), 7.4ms\n",
            "video 1/1 (frame 1413/1501) /content/Security camera inside Pepper Grill restaurant.mp4: 384x640 (no detections), 6.5ms\n",
            "video 1/1 (frame 1414/1501) /content/Security camera inside Pepper Grill restaurant.mp4: 384x640 (no detections), 9.3ms\n",
            "video 1/1 (frame 1415/1501) /content/Security camera inside Pepper Grill restaurant.mp4: 384x640 (no detections), 6.9ms\n",
            "video 1/1 (frame 1416/1501) /content/Security camera inside Pepper Grill restaurant.mp4: 384x640 (no detections), 6.6ms\n",
            "video 1/1 (frame 1417/1501) /content/Security camera inside Pepper Grill restaurant.mp4: 384x640 (no detections), 8.3ms\n",
            "video 1/1 (frame 1418/1501) /content/Security camera inside Pepper Grill restaurant.mp4: 384x640 (no detections), 6.8ms\n",
            "video 1/1 (frame 1419/1501) /content/Security camera inside Pepper Grill restaurant.mp4: 384x640 (no detections), 6.8ms\n",
            "video 1/1 (frame 1420/1501) /content/Security camera inside Pepper Grill restaurant.mp4: 384x640 (no detections), 7.8ms\n",
            "video 1/1 (frame 1421/1501) /content/Security camera inside Pepper Grill restaurant.mp4: 384x640 (no detections), 6.7ms\n",
            "video 1/1 (frame 1422/1501) /content/Security camera inside Pepper Grill restaurant.mp4: 384x640 (no detections), 9.9ms\n",
            "video 1/1 (frame 1423/1501) /content/Security camera inside Pepper Grill restaurant.mp4: 384x640 (no detections), 8.4ms\n",
            "video 1/1 (frame 1424/1501) /content/Security camera inside Pepper Grill restaurant.mp4: 384x640 (no detections), 6.8ms\n",
            "video 1/1 (frame 1425/1501) /content/Security camera inside Pepper Grill restaurant.mp4: 384x640 (no detections), 7.6ms\n",
            "video 1/1 (frame 1426/1501) /content/Security camera inside Pepper Grill restaurant.mp4: 384x640 (no detections), 8.5ms\n",
            "video 1/1 (frame 1427/1501) /content/Security camera inside Pepper Grill restaurant.mp4: 384x640 (no detections), 7.9ms\n",
            "video 1/1 (frame 1428/1501) /content/Security camera inside Pepper Grill restaurant.mp4: 384x640 (no detections), 7.4ms\n",
            "video 1/1 (frame 1429/1501) /content/Security camera inside Pepper Grill restaurant.mp4: 384x640 (no detections), 10.3ms\n",
            "video 1/1 (frame 1430/1501) /content/Security camera inside Pepper Grill restaurant.mp4: 384x640 (no detections), 9.1ms\n",
            "video 1/1 (frame 1431/1501) /content/Security camera inside Pepper Grill restaurant.mp4: 384x640 (no detections), 7.0ms\n",
            "video 1/1 (frame 1432/1501) /content/Security camera inside Pepper Grill restaurant.mp4: 384x640 (no detections), 10.2ms\n",
            "video 1/1 (frame 1433/1501) /content/Security camera inside Pepper Grill restaurant.mp4: 384x640 (no detections), 7.3ms\n",
            "video 1/1 (frame 1434/1501) /content/Security camera inside Pepper Grill restaurant.mp4: 384x640 (no detections), 8.9ms\n",
            "video 1/1 (frame 1435/1501) /content/Security camera inside Pepper Grill restaurant.mp4: 384x640 (no detections), 10.5ms\n",
            "video 1/1 (frame 1436/1501) /content/Security camera inside Pepper Grill restaurant.mp4: 384x640 (no detections), 6.7ms\n",
            "video 1/1 (frame 1437/1501) /content/Security camera inside Pepper Grill restaurant.mp4: 384x640 (no detections), 9.1ms\n",
            "video 1/1 (frame 1438/1501) /content/Security camera inside Pepper Grill restaurant.mp4: 384x640 (no detections), 6.4ms\n",
            "video 1/1 (frame 1439/1501) /content/Security camera inside Pepper Grill restaurant.mp4: 384x640 (no detections), 7.9ms\n",
            "video 1/1 (frame 1440/1501) /content/Security camera inside Pepper Grill restaurant.mp4: 384x640 (no detections), 9.3ms\n",
            "video 1/1 (frame 1441/1501) /content/Security camera inside Pepper Grill restaurant.mp4: 384x640 (no detections), 6.4ms\n",
            "video 1/1 (frame 1442/1501) /content/Security camera inside Pepper Grill restaurant.mp4: 384x640 (no detections), 7.1ms\n",
            "video 1/1 (frame 1443/1501) /content/Security camera inside Pepper Grill restaurant.mp4: 384x640 (no detections), 9.3ms\n",
            "video 1/1 (frame 1444/1501) /content/Security camera inside Pepper Grill restaurant.mp4: 384x640 (no detections), 6.5ms\n",
            "video 1/1 (frame 1445/1501) /content/Security camera inside Pepper Grill restaurant.mp4: 384x640 (no detections), 10.8ms\n",
            "video 1/1 (frame 1446/1501) /content/Security camera inside Pepper Grill restaurant.mp4: 384x640 (no detections), 10.2ms\n",
            "video 1/1 (frame 1447/1501) /content/Security camera inside Pepper Grill restaurant.mp4: 384x640 (no detections), 6.3ms\n",
            "video 1/1 (frame 1448/1501) /content/Security camera inside Pepper Grill restaurant.mp4: 384x640 (no detections), 8.1ms\n",
            "video 1/1 (frame 1449/1501) /content/Security camera inside Pepper Grill restaurant.mp4: 384x640 (no detections), 8.0ms\n",
            "video 1/1 (frame 1450/1501) /content/Security camera inside Pepper Grill restaurant.mp4: 384x640 (no detections), 6.7ms\n",
            "video 1/1 (frame 1451/1501) /content/Security camera inside Pepper Grill restaurant.mp4: 384x640 (no detections), 6.8ms\n",
            "video 1/1 (frame 1452/1501) /content/Security camera inside Pepper Grill restaurant.mp4: 384x640 (no detections), 7.7ms\n",
            "video 1/1 (frame 1453/1501) /content/Security camera inside Pepper Grill restaurant.mp4: 384x640 (no detections), 8.3ms\n",
            "video 1/1 (frame 1454/1501) /content/Security camera inside Pepper Grill restaurant.mp4: 384x640 (no detections), 6.6ms\n",
            "video 1/1 (frame 1455/1501) /content/Security camera inside Pepper Grill restaurant.mp4: 384x640 (no detections), 7.5ms\n",
            "video 1/1 (frame 1456/1501) /content/Security camera inside Pepper Grill restaurant.mp4: 384x640 (no detections), 6.6ms\n",
            "video 1/1 (frame 1457/1501) /content/Security camera inside Pepper Grill restaurant.mp4: 384x640 (no detections), 9.6ms\n",
            "video 1/1 (frame 1458/1501) /content/Security camera inside Pepper Grill restaurant.mp4: 384x640 (no detections), 7.0ms\n",
            "video 1/1 (frame 1459/1501) /content/Security camera inside Pepper Grill restaurant.mp4: 384x640 (no detections), 8.6ms\n",
            "video 1/1 (frame 1460/1501) /content/Security camera inside Pepper Grill restaurant.mp4: 384x640 (no detections), 7.1ms\n",
            "video 1/1 (frame 1461/1501) /content/Security camera inside Pepper Grill restaurant.mp4: 384x640 (no detections), 7.2ms\n",
            "video 1/1 (frame 1462/1501) /content/Security camera inside Pepper Grill restaurant.mp4: 384x640 (no detections), 7.0ms\n",
            "video 1/1 (frame 1463/1501) /content/Security camera inside Pepper Grill restaurant.mp4: 384x640 (no detections), 6.5ms\n",
            "video 1/1 (frame 1464/1501) /content/Security camera inside Pepper Grill restaurant.mp4: 384x640 (no detections), 7.7ms\n",
            "video 1/1 (frame 1465/1501) /content/Security camera inside Pepper Grill restaurant.mp4: 384x640 (no detections), 6.5ms\n",
            "video 1/1 (frame 1466/1501) /content/Security camera inside Pepper Grill restaurant.mp4: 384x640 (no detections), 8.5ms\n",
            "video 1/1 (frame 1467/1501) /content/Security camera inside Pepper Grill restaurant.mp4: 384x640 (no detections), 7.0ms\n",
            "video 1/1 (frame 1468/1501) /content/Security camera inside Pepper Grill restaurant.mp4: 384x640 (no detections), 8.6ms\n",
            "video 1/1 (frame 1469/1501) /content/Security camera inside Pepper Grill restaurant.mp4: 384x640 (no detections), 6.6ms\n",
            "video 1/1 (frame 1470/1501) /content/Security camera inside Pepper Grill restaurant.mp4: 384x640 (no detections), 9.8ms\n",
            "video 1/1 (frame 1471/1501) /content/Security camera inside Pepper Grill restaurant.mp4: 384x640 (no detections), 8.6ms\n",
            "video 1/1 (frame 1472/1501) /content/Security camera inside Pepper Grill restaurant.mp4: 384x640 (no detections), 7.5ms\n",
            "video 1/1 (frame 1473/1501) /content/Security camera inside Pepper Grill restaurant.mp4: 384x640 (no detections), 6.9ms\n",
            "video 1/1 (frame 1474/1501) /content/Security camera inside Pepper Grill restaurant.mp4: 384x640 (no detections), 9.4ms\n",
            "video 1/1 (frame 1475/1501) /content/Security camera inside Pepper Grill restaurant.mp4: 384x640 (no detections), 7.7ms\n",
            "video 1/1 (frame 1476/1501) /content/Security camera inside Pepper Grill restaurant.mp4: 384x640 (no detections), 7.0ms\n",
            "video 1/1 (frame 1477/1501) /content/Security camera inside Pepper Grill restaurant.mp4: 384x640 (no detections), 7.0ms\n",
            "video 1/1 (frame 1478/1501) /content/Security camera inside Pepper Grill restaurant.mp4: 384x640 (no detections), 8.1ms\n",
            "video 1/1 (frame 1479/1501) /content/Security camera inside Pepper Grill restaurant.mp4: 384x640 (no detections), 9.0ms\n",
            "video 1/1 (frame 1480/1501) /content/Security camera inside Pepper Grill restaurant.mp4: 384x640 (no detections), 9.1ms\n",
            "video 1/1 (frame 1481/1501) /content/Security camera inside Pepper Grill restaurant.mp4: 384x640 (no detections), 6.6ms\n",
            "video 1/1 (frame 1482/1501) /content/Security camera inside Pepper Grill restaurant.mp4: 384x640 (no detections), 7.2ms\n",
            "video 1/1 (frame 1483/1501) /content/Security camera inside Pepper Grill restaurant.mp4: 384x640 (no detections), 6.7ms\n",
            "video 1/1 (frame 1484/1501) /content/Security camera inside Pepper Grill restaurant.mp4: 384x640 (no detections), 9.4ms\n",
            "video 1/1 (frame 1485/1501) /content/Security camera inside Pepper Grill restaurant.mp4: 384x640 (no detections), 6.7ms\n",
            "video 1/1 (frame 1486/1501) /content/Security camera inside Pepper Grill restaurant.mp4: 384x640 (no detections), 12.5ms\n",
            "video 1/1 (frame 1487/1501) /content/Security camera inside Pepper Grill restaurant.mp4: 384x640 (no detections), 6.7ms\n",
            "video 1/1 (frame 1488/1501) /content/Security camera inside Pepper Grill restaurant.mp4: 384x640 (no detections), 7.3ms\n",
            "video 1/1 (frame 1489/1501) /content/Security camera inside Pepper Grill restaurant.mp4: 384x640 (no detections), 6.7ms\n",
            "video 1/1 (frame 1490/1501) /content/Security camera inside Pepper Grill restaurant.mp4: 384x640 (no detections), 7.2ms\n",
            "video 1/1 (frame 1491/1501) /content/Security camera inside Pepper Grill restaurant.mp4: 384x640 (no detections), 9.1ms\n",
            "video 1/1 (frame 1492/1501) /content/Security camera inside Pepper Grill restaurant.mp4: 384x640 (no detections), 6.6ms\n",
            "video 1/1 (frame 1493/1501) /content/Security camera inside Pepper Grill restaurant.mp4: 384x640 (no detections), 7.1ms\n",
            "video 1/1 (frame 1494/1501) /content/Security camera inside Pepper Grill restaurant.mp4: 384x640 (no detections), 7.2ms\n",
            "video 1/1 (frame 1495/1501) /content/Security camera inside Pepper Grill restaurant.mp4: 384x640 (no detections), 7.9ms\n",
            "video 1/1 (frame 1496/1501) /content/Security camera inside Pepper Grill restaurant.mp4: 384x640 (no detections), 7.2ms\n",
            "video 1/1 (frame 1497/1501) /content/Security camera inside Pepper Grill restaurant.mp4: 384x640 (no detections), 7.5ms\n",
            "video 1/1 (frame 1498/1501) /content/Security camera inside Pepper Grill restaurant.mp4: 384x640 (no detections), 6.8ms\n",
            "video 1/1 (frame 1499/1501) /content/Security camera inside Pepper Grill restaurant.mp4: 384x640 (no detections), 7.1ms\n",
            "video 1/1 (frame 1500/1501) /content/Security camera inside Pepper Grill restaurant.mp4: 384x640 (no detections), 8.0ms\n",
            "video 1/1 (frame 1501/1501) /content/Security camera inside Pepper Grill restaurant.mp4: 384x640 (no detections), 7.9ms\n",
            "Speed: 2.1ms preprocess, 8.1ms inference, 1.4ms postprocess per image at shape (1, 3, 384, 640)\n",
            "Results saved to \u001b[1mruns/detect/predict\u001b[0m\n"
          ]
        }
      ]
    },
    {
      "cell_type": "code",
      "source": [],
      "metadata": {
        "id": "RTROp2iLFs3K"
      },
      "execution_count": null,
      "outputs": []
    }
  ]
}